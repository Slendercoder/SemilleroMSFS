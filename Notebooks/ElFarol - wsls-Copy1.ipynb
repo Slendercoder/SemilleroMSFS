{
 "cells": [
  {
   "cell_type": "markdown",
   "metadata": {},
   "source": [
    "\n",
    "<table><tr>\n",
    "    <td><img src=\"imagenes/Macc.png\"/></td>\n",
    "    <td><p style=\"font-size:18pt\">Semillero de Modelación y Simulación de Fenómenos Sociales</p></td>\n",
    "</tr></table>\n",
    "\n",
    "<p align=\"right\" style=\"font-size:10pt\">Versión 2021-1</p>"
   ]
  },
  {
   "cell_type": "markdown",
   "metadata": {
    "colab_type": "text",
    "id": "rhcWf_uIbAsK"
   },
   "source": [
    "# Simulación del Modelo del bar El Farol\n",
    "\n",
    "## Descripción del juego iterativo\n",
    "\n",
    "En el presente modelo se tiene una población de $N$ individuos, quienes deben tomar la decisión de si acudirán o no al bar llamado \"El Farol\". Cada agente toma esta decisión de manera independiente a los demás, y todos lo hacen de manera simultánea. \n",
    "\n",
    "<table><tr>\n",
    "    <td><img src=\"imagenes/ElFarol1.jpeg\"/></td>\n",
    "    <td><img src=\"imagenes/ElFarol2.jpeg\"/></td>\n",
    "</tr></table>\n",
    "\n",
    "Si el total de acudientes supera un umbral $\\mu$, entonces El Farol se congestionará y los individuos que hayan ido no tendrán una buena experiencia (recompensa=-1). Por otro lado, si el total de los acudientes no supera este umbral, quienes hayan asistido podrán disfrutar de su estadía en el bar (recompensa=1). Adicionalmente, si un individuo no asiste al bar, será indiferente al estado de El Farol (recompensa=0). Cada agente intentará tomar la mejor decisión posible con respecto a asistir o no al bar. Esta situación se repetirá por un número $k$ de iteraciones. "
   ]
  },
  {
   "cell_type": "markdown",
   "metadata": {},
   "source": [
    "## Implementación en Python"
   ]
  },
  {
   "cell_type": "markdown",
   "metadata": {},
   "source": [
    "#### AGENTES \n",
    "\n",
    "Los agentes que se simularán tendrán 2 atributos:\n",
    "\n",
    "`estado`: Es la estrategia tomada por el agente y que puede ser ir al bar (1) o abstenerse de ir (0).\n",
    "\n",
    "`puntaje`: Puntaje obtenido. Hay tres posibilidades:\n",
    "\n",
    "- **1** Si fue y la proporción de agentes que fueron fue menor que el $\\mu $ determinado ($\\mu=0.5$).\n",
    "- **0**, si decidió no ir.\n",
    "- **-1**, si fue y la proporción de agentes que fueron fue mayor que el $\\mu$ determinado ($\\mu=0.5$).\n",
    "\n",
    "La impementación en Python de estos atributos tiene la característica siguiente. Cada atributo se almacena como una lista, la cual guarda la información correspondiente por cada ronda. Esto es, por ejemplo, `agente.estado[0]` es el estado del agente en la primera ronda.\n",
    "\n",
    "Los agentes tendrán 2 métodos:\n",
    "\n",
    "`toma_decision`(`modelo`, `parametros`): Es el método que le dice al agente qué estrategia seguir, la cual se decidirá de acuerdo al `modelo` seleccionado con los `parametros` dados.\n",
    "\n",
    "`imprime_agente(r)`: imprime los datos del agente en la ronda `r`."
   ]
  },
  {
   "cell_type": "code",
   "execution_count": 33,
   "metadata": {},
   "outputs": [],
   "source": [
    "import pandas as pd\n",
    "import seaborn as sns\n",
    "from random import uniform\n",
    "import matplotlib.pyplot as plt\n",
    "from scipy.stats import binom\n",
    "from scipy.optimize import minimize, Bounds\n",
    "from itertools import product"
   ]
  },
  {
   "cell_type": "code",
   "execution_count": 82,
   "metadata": {
    "colab": {},
    "colab_type": "code",
    "id": "I2YA5E0BbIBZ"
   },
   "outputs": [],
   "source": [
    "class Agente :\n",
    "    \n",
    "    def __init__(self, estados, puntajes, atractivos) :\n",
    "        self.estado = estados # lista\n",
    "        self.puntaje = puntajes # lista\n",
    "        self.atractivo = atractivos # lista\n",
    "        \n",
    "    def toma_decision(self, modelo='aleatorio', parametros=[0.5], DEB=False) :\n",
    "        '''\n",
    "        Se lanza un \"dado\" para decidir aleatoriamente si el agente va o no al bar\n",
    "        de acuerdo a si supera el umbral dado por el valor de para_ir\n",
    "        '''\n",
    "        atractivo=self.atractivo[-1] # Valor por defecto\n",
    "\n",
    "        # determina el valor de para_ir de acuerdo al modelo y sus parámetros\n",
    "        if modelo == 'aleatorio' :\n",
    "            atractivo=parametros[0]\n",
    "        \n",
    "        if modelo == 'rescorla-wagner' :\n",
    "            recompensa=(self.puntaje[-1]+1)/2\n",
    "            alfa=parametros[0]\n",
    "            atractivo=self.atractivo[-1]+alfa*(recompensa-self.atractivo[-1])\n",
    "\n",
    "        # Actualiza el atractivo del agente\n",
    "        self.atractivo.append(atractivo)\n",
    "        \n",
    "        # Lanza el dado\n",
    "        if uniform(0,1) < atractivo :\n",
    "            self.estado.append(1)\n",
    "        else :\n",
    "            self.estado.append(0)\n",
    "\n",
    "    def imprime_agente(self, ronda) :\n",
    "        try:\n",
    "            estado = self.estado[ronda]\n",
    "        except:\n",
    "            estado = \"nan\"\n",
    "        try:\n",
    "            puntaje = self.puntaje[ronda]\n",
    "        except:\n",
    "            puntaje = \"nan\"\n",
    "        try:\n",
    "            atractivo = self.atractivo[ronda]\n",
    "        except:\n",
    "            atractivo = \"nan\"\n",
    "\n",
    "        return \"Estado:{0}, Puntaje:{1}, Atractivo:{2}\".format(estado, puntaje, atractivo)\n",
    "            "
   ]
  },
  {
   "cell_type": "markdown",
   "metadata": {},
   "source": [
    "#### BAR\n",
    "\n",
    "El bar será un objeto con los siguientes atributos:\n",
    "\n",
    "`num_agentes`: cantidad de agentes que pueden ir al bar.\n",
    "\n",
    "`agentes`: agentes que pueden ir al bar.\n",
    "\n",
    "`umbral`: proporción de `agentes` que puede ir al bar para que la velada sea agradable.\n",
    "\n",
    "`num_iteraciones`: cantidad de rondas.\n",
    "\n",
    "`historia`: lista de la asistencia en todas las rondas pasadas.\n",
    "\n",
    "El bar tendrá los siguientes métodos:\n",
    "\n",
    "`calcular_asistencia()`: determina la cantidad de `agentes` que tomaron la decisión de ir al bar y actualiza la `historia`.\n",
    "\n",
    "`calcular_puntajes()`: determina los puntajes de los `agentes` de acuerdo a la asistencia y a las decisiones respectivas. \n",
    "\n",
    "`agentes_deciden()`: solicita a los agentes que tomen una decisión.\n",
    "\n",
    "`imprime_ronda(r)`: imprime la ronda `r`-ésima."
   ]
  },
  {
   "cell_type": "code",
   "execution_count": 87,
   "metadata": {},
   "outputs": [],
   "source": [
    "from random import randint, uniform\n",
    "import numpy as np\n",
    "\n",
    "class BarElFarol :\n",
    "    \n",
    "    def __init__(self, num_agentes, umbral, num_iteraciones, modelo='aleatorio', parametros=[.5]) :\n",
    "        self.num_agentes = num_agentes\n",
    "        self.umbral = umbral\n",
    "        self.num_iteraciones = num_iteraciones\n",
    "        self.historia = []\n",
    "        self.agentes = []\n",
    "        for i in range(self.num_agentes) :\n",
    "            if modelo == 'aleatorio' :\n",
    "                self.agentes.append(Agente([randint(0,1)], [], [parametros[0]]))        \n",
    "            if modelo == 'rescorla-wagner' :\n",
    "                self.agentes.append(Agente([randint(0,1)], [], [parametros[0], uniform(0,1)]))        \n",
    "            \n",
    "    def calcular_asistencia(self) :\n",
    "        asistencia = np.sum([a.estado[-1] for a in self.agentes])\n",
    "        self.historia.append(asistencia)\n",
    "\n",
    "    def calcular_puntajes(self) :\n",
    "        asistencia = self.historia[-1]/self.num_agentes\n",
    "        for a in self.agentes:\n",
    "            if a.estado[-1] == 1:\n",
    "                if asistencia > self.umbral:\n",
    "                    a.puntaje.append(-1)\n",
    "                else:\n",
    "                    a.puntaje.append(1)\n",
    "            else:\n",
    "                a.puntaje.append(0)\n",
    "\n",
    "    def agentes_deciden(self, modelo='aleatorio', parametros=[0.5], DEB=False) :\n",
    "        for a in self.agentes :\n",
    "            a.toma_decision(modelo, parametros, DEB=DEB)\n",
    "                \n",
    "    def imprime_ronda(self, ronda) :\n",
    "        try:\n",
    "            asistencia = self.historia[ronda]\n",
    "        except:\n",
    "            asistencia = \"nan\"\n",
    "        cadena = '='*30\n",
    "        cadena += f\"\\nRonda: {ronda} || Asistencia: {asistencia}\"\n",
    "        for a in self.agentes:\n",
    "            cadena += \"\\n\" + a.imprime_agente(ronda)\n",
    "        print(cadena)\n",
    "        \n",
    "    def guardar_pandas(self) :\n",
    "        dict = {}\n",
    "        ronda = []\n",
    "        agentes = []\n",
    "        estados = []\n",
    "        puntajes = []\n",
    "        atractivos = []\n",
    "        for i in range(len(self.agentes)):\n",
    "            a = self.agentes[i]\n",
    "            ronda += [x for x in range(1, len(a.estado))]\n",
    "            agentes += [i]*len(a.puntaje)\n",
    "            estados += a.estado[:-1]\n",
    "            puntajes += a.puntaje\n",
    "            atractivos += a.atractivo[:-1]\n",
    "        print(len(agentes), len(estados), len(puntajes), len(atractivos))\n",
    "        dict['round'] = ronda\n",
    "        dict['player'] = agentes\n",
    "        dict['choice'] = estados\n",
    "        dict['score'] = puntajes\n",
    "        dict['motivated'] = atractivos\n",
    "        return pd.DataFrame.from_dict(dict)"
   ]
  },
  {
   "cell_type": "markdown",
   "metadata": {},
   "source": [
    "Con las funciones anteriores estamos listos para hacer la simulación, definiendo los parámetros iniciales:"
   ]
  },
  {
   "cell_type": "code",
   "execution_count": 84,
   "metadata": {},
   "outputs": [],
   "source": [
    "def simulacion(modelo,parametros,num_agentes,umbral,num_iteraciones,Nsim=1) :\n",
    "    lista_dataframes = []\n",
    "    for n in range(Nsim):\n",
    "        bar=BarElFarol(\n",
    "            num_agentes, \n",
    "            umbral, \n",
    "            num_iteraciones, \n",
    "            modelo=modelo, \n",
    "            parametros=parametros\n",
    "        )        \n",
    "        for t in range(num_iteraciones) : \n",
    "            bar.calcular_asistencia()\n",
    "            bar.calcular_puntajes()\n",
    "            bar.agentes_deciden(modelo=modelo,parametros=parametros,DEB=False)\n",
    "        data = bar.guardar_pandas()\n",
    "        data.sort_values(by=['round', 'player'], inplace=True)\n",
    "        data['group'] = n\n",
    "        data=data[['group','round','player','choice','score','motivated']]\n",
    "        lista_dataframes.append(data)\n",
    "    return pd.concat(lista_dataframes)\n",
    "\n",
    "def visual(data_sim, data_obs) :\n",
    "    data = pd.concat([data_sim,data_obs])\n",
    "    attendance = pd.DataFrame(data.groupby(['source', 'group', 'round'])['choice'].sum().reset_index())\n",
    "    attendance.columns = ['source', 'group', 'round', 'attendance']\n",
    "    scores = pd.DataFrame(data.groupby(['source','group','player'])['score'].mean().reset_index())\n",
    "    fig,ax=plt.subplots(1,2,figsize=(8,4))\n",
    "    sns.lineplot('round', 'attendance', hue='source', data=attendance,ax=ax[0])\n",
    "    sns.boxplot(data=scores, y='score', x='source', ax=ax[1])\n",
    "    ax[0].set_title(\"Average attendance per round\")\n",
    "    ax[1].set_title(\"Distribution of average score\")\n",
    "    plt.tight_layout()"
   ]
  },
  {
   "cell_type": "code",
   "execution_count": 44,
   "metadata": {},
   "outputs": [],
   "source": [
    "num_agentes=100\n",
    "umbral=0.6\n",
    "num_iteraciones=100\n",
    "modelo='aleatorio'\n",
    "p = 0.6\n",
    "parametros = [p]"
   ]
  },
  {
   "cell_type": "code",
   "execution_count": 48,
   "metadata": {},
   "outputs": [
    {
     "data": {
      "text/html": [
       "<div>\n",
       "<style scoped>\n",
       "    .dataframe tbody tr th:only-of-type {\n",
       "        vertical-align: middle;\n",
       "    }\n",
       "\n",
       "    .dataframe tbody tr th {\n",
       "        vertical-align: top;\n",
       "    }\n",
       "\n",
       "    .dataframe thead th {\n",
       "        text-align: right;\n",
       "    }\n",
       "</style>\n",
       "<table border=\"1\" class=\"dataframe\">\n",
       "  <thead>\n",
       "    <tr style=\"text-align: right;\">\n",
       "      <th></th>\n",
       "      <th>group</th>\n",
       "      <th>round</th>\n",
       "      <th>player</th>\n",
       "      <th>choice</th>\n",
       "      <th>score</th>\n",
       "      <th>motivated</th>\n",
       "    </tr>\n",
       "  </thead>\n",
       "  <tbody>\n",
       "    <tr>\n",
       "      <th>0</th>\n",
       "      <td>0</td>\n",
       "      <td>1</td>\n",
       "      <td>0</td>\n",
       "      <td>0</td>\n",
       "      <td>0</td>\n",
       "      <td>0.6</td>\n",
       "    </tr>\n",
       "    <tr>\n",
       "      <th>100</th>\n",
       "      <td>0</td>\n",
       "      <td>1</td>\n",
       "      <td>1</td>\n",
       "      <td>1</td>\n",
       "      <td>1</td>\n",
       "      <td>0.6</td>\n",
       "    </tr>\n",
       "    <tr>\n",
       "      <th>200</th>\n",
       "      <td>0</td>\n",
       "      <td>1</td>\n",
       "      <td>2</td>\n",
       "      <td>0</td>\n",
       "      <td>0</td>\n",
       "      <td>0.6</td>\n",
       "    </tr>\n",
       "    <tr>\n",
       "      <th>300</th>\n",
       "      <td>0</td>\n",
       "      <td>1</td>\n",
       "      <td>3</td>\n",
       "      <td>0</td>\n",
       "      <td>0</td>\n",
       "      <td>0.6</td>\n",
       "    </tr>\n",
       "    <tr>\n",
       "      <th>400</th>\n",
       "      <td>0</td>\n",
       "      <td>1</td>\n",
       "      <td>4</td>\n",
       "      <td>1</td>\n",
       "      <td>1</td>\n",
       "      <td>0.6</td>\n",
       "    </tr>\n",
       "  </tbody>\n",
       "</table>\n",
       "</div>"
      ],
      "text/plain": [
       "     group  round  player  choice  score  motivated\n",
       "0        0      1       0       0      0        0.6\n",
       "100      0      1       1       1      1        0.6\n",
       "200      0      1       2       0      0        0.6\n",
       "300      0      1       3       0      0        0.6\n",
       "400      0      1       4       1      1        0.6"
      ]
     },
     "execution_count": 48,
     "metadata": {},
     "output_type": "execute_result"
    }
   ],
   "source": [
    "data_sim = simulacion(modelo,parametros,num_agentes,umbral,num_iteraciones,Nsim=100)\n",
    "data_sim.head()"
   ]
  },
  {
   "cell_type": "code",
   "execution_count": 47,
   "metadata": {},
   "outputs": [
    {
     "name": "stderr",
     "output_type": "stream",
     "text": [
      "/usr/local/lib/python3.9/site-packages/seaborn/_decorators.py:36: FutureWarning: Pass the following variables as keyword args: x, y. From version 0.12, the only valid positional argument will be `data`, and passing other arguments without an explicit keyword will result in an error or misinterpretation.\n",
      "  warnings.warn(\n"
     ]
    },
    {
     "data": {
      "text/plain": [
       "<AxesSubplot:xlabel='round', ylabel='attendance'>"
      ]
     },
     "execution_count": 47,
     "metadata": {},
     "output_type": "execute_result"
    },
    {
     "data": {
      "image/png": "[encoded data removed]",
      "text/plain": [
       "<Figure size 432x288 with 1 Axes>"
      ]
     },
     "metadata": {
      "needs_background": "light"
     },
     "output_type": "display_data"
    }
   ],
   "source": [
    "attendance = pd.DataFrame(data_sim.groupby(['group','round'])['choice'].sum().reset_index())\n",
    "attendance.columns = ['group','round','attendance'] \n",
    "sns.lineplot('round','attendance',data=attendance)"
   ]
  },
  {
   "cell_type": "code",
   "execution_count": 46,
   "metadata": {},
   "outputs": [],
   "source": [
    "data_sim.to_csv('random_agents.csv', index=False)"
   ]
  },
  {
   "cell_type": "code",
   "execution_count": 85,
   "metadata": {},
   "outputs": [],
   "source": [
    "num_agentes=100\n",
    "umbral=0.6\n",
    "num_iteraciones=100\n",
    "modelo='rescorla-wagner'\n",
    "p = 0.6\n",
    "alpha = 0.01\n",
    "parametros = [alpha]"
   ]
  },
  {
   "cell_type": "code",
   "execution_count": 88,
   "metadata": {},
   "outputs": [
    {
     "name": "stdout",
     "output_type": "stream",
     "text": [
      "10000 10000 10000 10100\n"
     ]
    },
    {
     "ename": "ValueError",
     "evalue": "arrays must all be same length",
     "output_type": "error",
     "traceback": [
      "\u001b[0;31m---------------------------------------------------------------------------\u001b[0m",
      "\u001b[0;31mValueError\u001b[0m                                Traceback (most recent call last)",
      "\u001b[0;32m<ipython-input-88-df17ff1921f8>\u001b[0m in \u001b[0;36m<module>\u001b[0;34m\u001b[0m\n\u001b[0;32m----> 1\u001b[0;31m \u001b[0mdata_sim\u001b[0m \u001b[0;34m=\u001b[0m \u001b[0msimulacion\u001b[0m\u001b[0;34m(\u001b[0m\u001b[0mmodelo\u001b[0m\u001b[0;34m,\u001b[0m\u001b[0mparametros\u001b[0m\u001b[0;34m,\u001b[0m\u001b[0mnum_agentes\u001b[0m\u001b[0;34m,\u001b[0m\u001b[0mumbral\u001b[0m\u001b[0;34m,\u001b[0m\u001b[0mnum_iteraciones\u001b[0m\u001b[0;34m,\u001b[0m\u001b[0mNsim\u001b[0m\u001b[0;34m=\u001b[0m\u001b[0;36m100\u001b[0m\u001b[0;34m)\u001b[0m\u001b[0;34m\u001b[0m\u001b[0;34m\u001b[0m\u001b[0m\n\u001b[0m\u001b[1;32m      2\u001b[0m \u001b[0mdata_sim\u001b[0m\u001b[0;34m.\u001b[0m\u001b[0mhead\u001b[0m\u001b[0;34m(\u001b[0m\u001b[0;34m)\u001b[0m\u001b[0;34m\u001b[0m\u001b[0;34m\u001b[0m\u001b[0m\n",
      "\u001b[0;32m<ipython-input-84-e659038e2f68>\u001b[0m in \u001b[0;36msimulacion\u001b[0;34m(modelo, parametros, num_agentes, umbral, num_iteraciones, Nsim)\u001b[0m\n\u001b[1;32m     13\u001b[0m             \u001b[0mbar\u001b[0m\u001b[0;34m.\u001b[0m\u001b[0mcalcular_puntajes\u001b[0m\u001b[0;34m(\u001b[0m\u001b[0;34m)\u001b[0m\u001b[0;34m\u001b[0m\u001b[0;34m\u001b[0m\u001b[0m\n\u001b[1;32m     14\u001b[0m             \u001b[0mbar\u001b[0m\u001b[0;34m.\u001b[0m\u001b[0magentes_deciden\u001b[0m\u001b[0;34m(\u001b[0m\u001b[0mmodelo\u001b[0m\u001b[0;34m=\u001b[0m\u001b[0mmodelo\u001b[0m\u001b[0;34m,\u001b[0m\u001b[0mparametros\u001b[0m\u001b[0;34m=\u001b[0m\u001b[0mparametros\u001b[0m\u001b[0;34m,\u001b[0m\u001b[0mDEB\u001b[0m\u001b[0;34m=\u001b[0m\u001b[0;32mFalse\u001b[0m\u001b[0;34m)\u001b[0m\u001b[0;34m\u001b[0m\u001b[0;34m\u001b[0m\u001b[0m\n\u001b[0;32m---> 15\u001b[0;31m         \u001b[0mdata\u001b[0m \u001b[0;34m=\u001b[0m \u001b[0mbar\u001b[0m\u001b[0;34m.\u001b[0m\u001b[0mguardar_pandas\u001b[0m\u001b[0;34m(\u001b[0m\u001b[0;34m)\u001b[0m\u001b[0;34m\u001b[0m\u001b[0;34m\u001b[0m\u001b[0m\n\u001b[0m\u001b[1;32m     16\u001b[0m         \u001b[0mdata\u001b[0m\u001b[0;34m.\u001b[0m\u001b[0msort_values\u001b[0m\u001b[0;34m(\u001b[0m\u001b[0mby\u001b[0m\u001b[0;34m=\u001b[0m\u001b[0;34m[\u001b[0m\u001b[0;34m'round'\u001b[0m\u001b[0;34m,\u001b[0m \u001b[0;34m'player'\u001b[0m\u001b[0;34m]\u001b[0m\u001b[0;34m,\u001b[0m \u001b[0minplace\u001b[0m\u001b[0;34m=\u001b[0m\u001b[0;32mTrue\u001b[0m\u001b[0;34m)\u001b[0m\u001b[0;34m\u001b[0m\u001b[0;34m\u001b[0m\u001b[0m\n\u001b[1;32m     17\u001b[0m         \u001b[0mdata\u001b[0m\u001b[0;34m[\u001b[0m\u001b[0;34m'group'\u001b[0m\u001b[0;34m]\u001b[0m \u001b[0;34m=\u001b[0m \u001b[0mn\u001b[0m\u001b[0;34m\u001b[0m\u001b[0;34m\u001b[0m\u001b[0m\n",
      "\u001b[0;32m<ipython-input-87-018475e96873>\u001b[0m in \u001b[0;36mguardar_pandas\u001b[0;34m(self)\u001b[0m\n\u001b[1;32m     66\u001b[0m         \u001b[0mdict\u001b[0m\u001b[0;34m[\u001b[0m\u001b[0;34m'score'\u001b[0m\u001b[0;34m]\u001b[0m \u001b[0;34m=\u001b[0m \u001b[0mpuntajes\u001b[0m\u001b[0;34m\u001b[0m\u001b[0;34m\u001b[0m\u001b[0m\n\u001b[1;32m     67\u001b[0m         \u001b[0mdict\u001b[0m\u001b[0;34m[\u001b[0m\u001b[0;34m'motivated'\u001b[0m\u001b[0;34m]\u001b[0m \u001b[0;34m=\u001b[0m \u001b[0matractivos\u001b[0m\u001b[0;34m\u001b[0m\u001b[0;34m\u001b[0m\u001b[0m\n\u001b[0;32m---> 68\u001b[0;31m         \u001b[0;32mreturn\u001b[0m \u001b[0mpd\u001b[0m\u001b[0;34m.\u001b[0m\u001b[0mDataFrame\u001b[0m\u001b[0;34m.\u001b[0m\u001b[0mfrom_dict\u001b[0m\u001b[0;34m(\u001b[0m\u001b[0mdict\u001b[0m\u001b[0;34m)\u001b[0m\u001b[0;34m\u001b[0m\u001b[0;34m\u001b[0m\u001b[0m\n\u001b[0m",
      "\u001b[0;32m/usr/local/lib/python3.9/site-packages/pandas/core/frame.py\u001b[0m in \u001b[0;36mfrom_dict\u001b[0;34m(cls, data, orient, dtype, columns)\u001b[0m\n\u001b[1;32m   1371\u001b[0m             \u001b[0;32mraise\u001b[0m \u001b[0mValueError\u001b[0m\u001b[0;34m(\u001b[0m\u001b[0;34m\"only recognize index or columns for orient\"\u001b[0m\u001b[0;34m)\u001b[0m\u001b[0;34m\u001b[0m\u001b[0;34m\u001b[0m\u001b[0m\n\u001b[1;32m   1372\u001b[0m \u001b[0;34m\u001b[0m\u001b[0m\n\u001b[0;32m-> 1373\u001b[0;31m         \u001b[0;32mreturn\u001b[0m \u001b[0mcls\u001b[0m\u001b[0;34m(\u001b[0m\u001b[0mdata\u001b[0m\u001b[0;34m,\u001b[0m \u001b[0mindex\u001b[0m\u001b[0;34m=\u001b[0m\u001b[0mindex\u001b[0m\u001b[0;34m,\u001b[0m \u001b[0mcolumns\u001b[0m\u001b[0;34m=\u001b[0m\u001b[0mcolumns\u001b[0m\u001b[0;34m,\u001b[0m \u001b[0mdtype\u001b[0m\u001b[0;34m=\u001b[0m\u001b[0mdtype\u001b[0m\u001b[0;34m)\u001b[0m\u001b[0;34m\u001b[0m\u001b[0;34m\u001b[0m\u001b[0m\n\u001b[0m\u001b[1;32m   1374\u001b[0m \u001b[0;34m\u001b[0m\u001b[0m\n\u001b[1;32m   1375\u001b[0m     def to_numpy(\n",
      "\u001b[0;32m/usr/local/lib/python3.9/site-packages/pandas/core/frame.py\u001b[0m in \u001b[0;36m__init__\u001b[0;34m(self, data, index, columns, dtype, copy)\u001b[0m\n\u001b[1;32m    527\u001b[0m \u001b[0;34m\u001b[0m\u001b[0m\n\u001b[1;32m    528\u001b[0m         \u001b[0;32melif\u001b[0m \u001b[0misinstance\u001b[0m\u001b[0;34m(\u001b[0m\u001b[0mdata\u001b[0m\u001b[0;34m,\u001b[0m \u001b[0mdict\u001b[0m\u001b[0;34m)\u001b[0m\u001b[0;34m:\u001b[0m\u001b[0;34m\u001b[0m\u001b[0;34m\u001b[0m\u001b[0m\n\u001b[0;32m--> 529\u001b[0;31m             \u001b[0mmgr\u001b[0m \u001b[0;34m=\u001b[0m \u001b[0minit_dict\u001b[0m\u001b[0;34m(\u001b[0m\u001b[0mdata\u001b[0m\u001b[0;34m,\u001b[0m \u001b[0mindex\u001b[0m\u001b[0;34m,\u001b[0m \u001b[0mcolumns\u001b[0m\u001b[0;34m,\u001b[0m \u001b[0mdtype\u001b[0m\u001b[0;34m=\u001b[0m\u001b[0mdtype\u001b[0m\u001b[0;34m)\u001b[0m\u001b[0;34m\u001b[0m\u001b[0;34m\u001b[0m\u001b[0m\n\u001b[0m\u001b[1;32m    530\u001b[0m         \u001b[0;32melif\u001b[0m \u001b[0misinstance\u001b[0m\u001b[0;34m(\u001b[0m\u001b[0mdata\u001b[0m\u001b[0;34m,\u001b[0m \u001b[0mma\u001b[0m\u001b[0;34m.\u001b[0m\u001b[0mMaskedArray\u001b[0m\u001b[0;34m)\u001b[0m\u001b[0;34m:\u001b[0m\u001b[0;34m\u001b[0m\u001b[0;34m\u001b[0m\u001b[0m\n\u001b[1;32m    531\u001b[0m             \u001b[0;32mimport\u001b[0m \u001b[0mnumpy\u001b[0m\u001b[0;34m.\u001b[0m\u001b[0mma\u001b[0m\u001b[0;34m.\u001b[0m\u001b[0mmrecords\u001b[0m \u001b[0;32mas\u001b[0m \u001b[0mmrecords\u001b[0m\u001b[0;34m\u001b[0m\u001b[0;34m\u001b[0m\u001b[0m\n",
      "\u001b[0;32m/usr/local/lib/python3.9/site-packages/pandas/core/internals/construction.py\u001b[0m in \u001b[0;36minit_dict\u001b[0;34m(data, index, columns, dtype)\u001b[0m\n\u001b[1;32m    285\u001b[0m             \u001b[0marr\u001b[0m \u001b[0;32mif\u001b[0m \u001b[0;32mnot\u001b[0m \u001b[0mis_datetime64tz_dtype\u001b[0m\u001b[0;34m(\u001b[0m\u001b[0marr\u001b[0m\u001b[0;34m)\u001b[0m \u001b[0;32melse\u001b[0m \u001b[0marr\u001b[0m\u001b[0;34m.\u001b[0m\u001b[0mcopy\u001b[0m\u001b[0;34m(\u001b[0m\u001b[0;34m)\u001b[0m \u001b[0;32mfor\u001b[0m \u001b[0marr\u001b[0m \u001b[0;32min\u001b[0m \u001b[0marrays\u001b[0m\u001b[0;34m\u001b[0m\u001b[0;34m\u001b[0m\u001b[0m\n\u001b[1;32m    286\u001b[0m         ]\n\u001b[0;32m--> 287\u001b[0;31m     \u001b[0;32mreturn\u001b[0m \u001b[0marrays_to_mgr\u001b[0m\u001b[0;34m(\u001b[0m\u001b[0marrays\u001b[0m\u001b[0;34m,\u001b[0m \u001b[0mdata_names\u001b[0m\u001b[0;34m,\u001b[0m \u001b[0mindex\u001b[0m\u001b[0;34m,\u001b[0m \u001b[0mcolumns\u001b[0m\u001b[0;34m,\u001b[0m \u001b[0mdtype\u001b[0m\u001b[0;34m=\u001b[0m\u001b[0mdtype\u001b[0m\u001b[0;34m)\u001b[0m\u001b[0;34m\u001b[0m\u001b[0;34m\u001b[0m\u001b[0m\n\u001b[0m\u001b[1;32m    288\u001b[0m \u001b[0;34m\u001b[0m\u001b[0m\n\u001b[1;32m    289\u001b[0m \u001b[0;34m\u001b[0m\u001b[0m\n",
      "\u001b[0;32m/usr/local/lib/python3.9/site-packages/pandas/core/internals/construction.py\u001b[0m in \u001b[0;36marrays_to_mgr\u001b[0;34m(arrays, arr_names, index, columns, dtype, verify_integrity)\u001b[0m\n\u001b[1;32m     78\u001b[0m         \u001b[0;31m# figure out the index, if necessary\u001b[0m\u001b[0;34m\u001b[0m\u001b[0;34m\u001b[0m\u001b[0;34m\u001b[0m\u001b[0m\n\u001b[1;32m     79\u001b[0m         \u001b[0;32mif\u001b[0m \u001b[0mindex\u001b[0m \u001b[0;32mis\u001b[0m \u001b[0;32mNone\u001b[0m\u001b[0;34m:\u001b[0m\u001b[0;34m\u001b[0m\u001b[0;34m\u001b[0m\u001b[0m\n\u001b[0;32m---> 80\u001b[0;31m             \u001b[0mindex\u001b[0m \u001b[0;34m=\u001b[0m \u001b[0mextract_index\u001b[0m\u001b[0;34m(\u001b[0m\u001b[0marrays\u001b[0m\u001b[0;34m)\u001b[0m\u001b[0;34m\u001b[0m\u001b[0;34m\u001b[0m\u001b[0m\n\u001b[0m\u001b[1;32m     81\u001b[0m         \u001b[0;32melse\u001b[0m\u001b[0;34m:\u001b[0m\u001b[0;34m\u001b[0m\u001b[0;34m\u001b[0m\u001b[0m\n\u001b[1;32m     82\u001b[0m             \u001b[0mindex\u001b[0m \u001b[0;34m=\u001b[0m \u001b[0mensure_index\u001b[0m\u001b[0;34m(\u001b[0m\u001b[0mindex\u001b[0m\u001b[0;34m)\u001b[0m\u001b[0;34m\u001b[0m\u001b[0;34m\u001b[0m\u001b[0m\n",
      "\u001b[0;32m/usr/local/lib/python3.9/site-packages/pandas/core/internals/construction.py\u001b[0m in \u001b[0;36mextract_index\u001b[0;34m(data)\u001b[0m\n\u001b[1;32m    399\u001b[0m             \u001b[0mlengths\u001b[0m \u001b[0;34m=\u001b[0m \u001b[0mlist\u001b[0m\u001b[0;34m(\u001b[0m\u001b[0mset\u001b[0m\u001b[0;34m(\u001b[0m\u001b[0mraw_lengths\u001b[0m\u001b[0;34m)\u001b[0m\u001b[0;34m)\u001b[0m\u001b[0;34m\u001b[0m\u001b[0;34m\u001b[0m\u001b[0m\n\u001b[1;32m    400\u001b[0m             \u001b[0;32mif\u001b[0m \u001b[0mlen\u001b[0m\u001b[0;34m(\u001b[0m\u001b[0mlengths\u001b[0m\u001b[0;34m)\u001b[0m \u001b[0;34m>\u001b[0m \u001b[0;36m1\u001b[0m\u001b[0;34m:\u001b[0m\u001b[0;34m\u001b[0m\u001b[0;34m\u001b[0m\u001b[0m\n\u001b[0;32m--> 401\u001b[0;31m                 \u001b[0;32mraise\u001b[0m \u001b[0mValueError\u001b[0m\u001b[0;34m(\u001b[0m\u001b[0;34m\"arrays must all be same length\"\u001b[0m\u001b[0;34m)\u001b[0m\u001b[0;34m\u001b[0m\u001b[0;34m\u001b[0m\u001b[0m\n\u001b[0m\u001b[1;32m    402\u001b[0m \u001b[0;34m\u001b[0m\u001b[0m\n\u001b[1;32m    403\u001b[0m             \u001b[0;32mif\u001b[0m \u001b[0mhave_dicts\u001b[0m\u001b[0;34m:\u001b[0m\u001b[0;34m\u001b[0m\u001b[0;34m\u001b[0m\u001b[0m\n",
      "\u001b[0;31mValueError\u001b[0m: arrays must all be same length"
     ]
    }
   ],
   "source": [
    "data_sim = simulacion(modelo,parametros,num_agentes,umbral,num_iteraciones,Nsim=100)\n",
    "data_sim.head()"
   ]
  },
  {
   "cell_type": "code",
   "execution_count": null,
   "metadata": {},
   "outputs": [],
   "source": [
    "attendance = pd.DataFrame(data_sim.groupby(['group','round'])['choice'].sum().reset_index())\n",
    "attendance.columns = ['group','round','attendance'] \n",
    "sns.lineplot('round','attendance',data=attendance)"
   ]
  }
 ],
 "metadata": {
  "colab": {
   "name": "Untitled0.ipynb",
   "provenance": []
  },
  "kernelspec": {
   "display_name": "Python 3",
   "language": "python",
   "name": "python3"
  },
  "language_info": {
   "codemirror_mode": {
    "name": "ipython",
    "version": 3
   },
   "file_extension": ".py",
   "mimetype": "text/x-python",
   "name": "python",
   "nbconvert_exporter": "python",
   "pygments_lexer": "ipython3",
   "version": "3.9.1"
  }
 },
 "nbformat": 4,
 "nbformat_minor": 1
}
