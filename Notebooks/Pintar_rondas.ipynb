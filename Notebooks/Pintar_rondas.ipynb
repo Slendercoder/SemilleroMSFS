{
 "cells": [
  {
   "cell_type": "code",
   "execution_count": 62,
   "metadata": {},
   "outputs": [],
   "source": [
    "import matplotlib.pyplot as plt\n",
    "import matplotlib.patches as patches\n",
    "from matplotlib.offsetbox import AnnotationBbox, OffsetImage, TextArea\n",
    "import pandas as pd\n",
    "from time import sleep\n",
    "from IPython.display import clear_output\n",
    "import os"
   ]
  },
  {
   "cell_type": "code",
   "execution_count": 14,
   "metadata": {},
   "outputs": [
    {
     "data": {
      "text/html": [
       "<div>\n",
       "<style scoped>\n",
       "    .dataframe tbody tr th:only-of-type {\n",
       "        vertical-align: middle;\n",
       "    }\n",
       "\n",
       "    .dataframe tbody tr th {\n",
       "        vertical-align: top;\n",
       "    }\n",
       "\n",
       "    .dataframe thead th {\n",
       "        text-align: right;\n",
       "    }\n",
       "</style>\n",
       "<table border=\"1\" class=\"dataframe\">\n",
       "  <thead>\n",
       "    <tr style=\"text-align: right;\">\n",
       "      <th></th>\n",
       "      <th>group</th>\n",
       "      <th>round</th>\n",
       "      <th>player</th>\n",
       "      <th>choice</th>\n",
       "      <th>attendance</th>\n",
       "      <th>score</th>\n",
       "      <th>ac_score</th>\n",
       "    </tr>\n",
       "  </thead>\n",
       "  <tbody>\n",
       "    <tr>\n",
       "      <th>0</th>\n",
       "      <td>Grupo-0001</td>\n",
       "      <td>1</td>\n",
       "      <td>jugador1a</td>\n",
       "      <td>1</td>\n",
       "      <td>2</td>\n",
       "      <td>-1</td>\n",
       "      <td>22</td>\n",
       "    </tr>\n",
       "    <tr>\n",
       "      <th>1</th>\n",
       "      <td>Grupo-0001</td>\n",
       "      <td>1</td>\n",
       "      <td>jugador2a</td>\n",
       "      <td>1</td>\n",
       "      <td>2</td>\n",
       "      <td>-1</td>\n",
       "      <td>22</td>\n",
       "    </tr>\n",
       "    <tr>\n",
       "      <th>2</th>\n",
       "      <td>Grupo-0001</td>\n",
       "      <td>2</td>\n",
       "      <td>jugador2a</td>\n",
       "      <td>1</td>\n",
       "      <td>1</td>\n",
       "      <td>1</td>\n",
       "      <td>22</td>\n",
       "    </tr>\n",
       "    <tr>\n",
       "      <th>3</th>\n",
       "      <td>Grupo-0001</td>\n",
       "      <td>2</td>\n",
       "      <td>jugador1a</td>\n",
       "      <td>0</td>\n",
       "      <td>1</td>\n",
       "      <td>0</td>\n",
       "      <td>22</td>\n",
       "    </tr>\n",
       "    <tr>\n",
       "      <th>4</th>\n",
       "      <td>Grupo-0001</td>\n",
       "      <td>3</td>\n",
       "      <td>jugador2a</td>\n",
       "      <td>0</td>\n",
       "      <td>1</td>\n",
       "      <td>0</td>\n",
       "      <td>22</td>\n",
       "    </tr>\n",
       "  </tbody>\n",
       "</table>\n",
       "</div>"
      ],
      "text/plain": [
       "        group  round     player  choice  attendance  score  ac_score\n",
       "0  Grupo-0001      1  jugador1a       1           2     -1        22\n",
       "1  Grupo-0001      1  jugador2a       1           2     -1        22\n",
       "2  Grupo-0001      2  jugador2a       1           1      1        22\n",
       "3  Grupo-0001      2  jugador1a       0           1      0        22\n",
       "4  Grupo-0001      3  jugador2a       0           1      0        22"
      ]
     },
     "execution_count": 14,
     "metadata": {},
     "output_type": "execute_result"
    }
   ],
   "source": [
    "data = pd.read_csv('performances.csv')\n",
    "data.head()"
   ]
  },
  {
   "cell_type": "code",
   "execution_count": 78,
   "metadata": {},
   "outputs": [],
   "source": [
    "def pintar_ronda(data,grupo,hasta_ronda,color='black'):\n",
    "    grupos = data['group'].unique().tolist()\n",
    "    datos = data.groupby('group').get_group(grupos[grupo])\n",
    "    jugadores = datos['player'].unique().tolist()\n",
    "    jugadas_pl1 = datos.groupby('player')['choice'].get_group(jugadores[0]).to_list()\n",
    "    jugadas_pl2 = datos.groupby('player')['choice'].get_group(jugadores[1]).to_list()\n",
    "    fig, axes = plt.subplots(figsize=(10,2))\n",
    "    step = 1/50\n",
    "    tangulos = []\n",
    "    for r in range(hasta_ronda):\n",
    "        if jugadas_pl1[r-1] == 1:\n",
    "            tangulos.append(\n",
    "                patches.Rectangle(\n",
    "                    (r*step,0.5),step,0.5,\n",
    "                    facecolor=color\n",
    "                )\n",
    "            )\n",
    "        else:\n",
    "            tangulos.append(\n",
    "                patches.Rectangle(\n",
    "                    (r*step,0.5),step,0.5,\n",
    "                    facecolor='white',\n",
    "                    edgecolor='gray'\n",
    "                )\n",
    "            )\n",
    "        if jugadas_pl2[r-1] == 1:\n",
    "            tangulos.append(\n",
    "                patches.Rectangle(\n",
    "                    (r*step,0),step,0.5,\n",
    "                    facecolor=color\n",
    "                )\n",
    "            )\n",
    "        else:\n",
    "            tangulos.append(\n",
    "                patches.Rectangle(\n",
    "                    (r*step,0),step,0.5,\n",
    "                    facecolor='white',\n",
    "                    edgecolor='gray'\n",
    "                )\n",
    "            )\n",
    "    for t in tangulos:\n",
    "        axes.add_patch(t)\n",
    "    axes.axis('off')\n",
    "    ruta = 'para_videos/' + str(grupos[grupo])\n",
    "    if hasta_ronda < 10:\n",
    "        ronda = '0' + str(hasta_ronda)\n",
    "    else:\n",
    "        ronda = str(hasta_ronda)\n",
    "    archivo = ruta + '/ronda' + ronda + '.png'\n",
    "    try:\n",
    "        os.makedirs(ruta)\n",
    "    except:\n",
    "        print('Oops')\n",
    "    plt.savefig(archivo)\n",
    "    plt.show()"
   ]
  },
  {
   "cell_type": "code",
   "execution_count": 79,
   "metadata": {},
   "outputs": [
    {
     "name": "stdout",
     "output_type": "stream",
     "text": [
      "Oops\n"
     ]
    },
    {
     "data": {
      "image/png": "[encoded data removed]",
      "text/plain": [
       "<Figure size 720x144 with 1 Axes>"
      ]
     },
     "metadata": {
      "needs_background": "light"
     },
     "output_type": "display_data"
    }
   ],
   "source": [
    "pintar_ronda(data,grupo=6,hasta_ronda=2)"
   ]
  },
  {
   "cell_type": "code",
   "execution_count": null,
   "metadata": {},
   "outputs": [],
   "source": []
  },
  {
   "cell_type": "code",
   "execution_count": null,
   "metadata": {},
   "outputs": [],
   "source": []
  },
  {
   "cell_type": "code",
   "execution_count": null,
   "metadata": {},
   "outputs": [],
   "source": []
  },
  {
   "cell_type": "code",
   "execution_count": null,
   "metadata": {},
   "outputs": [],
   "source": []
  },
  {
   "cell_type": "code",
   "execution_count": null,
   "metadata": {},
   "outputs": [],
   "source": []
  },
  {
   "cell_type": "code",
   "execution_count": null,
   "metadata": {},
   "outputs": [],
   "source": []
  },
  {
   "cell_type": "code",
   "execution_count": 38,
   "metadata": {},
   "outputs": [],
   "source": [
    "grupos = data['group'].unique().tolist()"
   ]
  },
  {
   "cell_type": "code",
   "execution_count": 39,
   "metadata": {},
   "outputs": [
    {
     "data": {
      "text/html": [
       "<div>\n",
       "<style scoped>\n",
       "    .dataframe tbody tr th:only-of-type {\n",
       "        vertical-align: middle;\n",
       "    }\n",
       "\n",
       "    .dataframe tbody tr th {\n",
       "        vertical-align: top;\n",
       "    }\n",
       "\n",
       "    .dataframe thead th {\n",
       "        text-align: right;\n",
       "    }\n",
       "</style>\n",
       "<table border=\"1\" class=\"dataframe\">\n",
       "  <thead>\n",
       "    <tr style=\"text-align: right;\">\n",
       "      <th></th>\n",
       "      <th>group</th>\n",
       "      <th>round</th>\n",
       "      <th>player</th>\n",
       "      <th>choice</th>\n",
       "      <th>attendance</th>\n",
       "      <th>score</th>\n",
       "      <th>ac_score</th>\n",
       "    </tr>\n",
       "  </thead>\n",
       "  <tbody>\n",
       "    <tr>\n",
       "      <th>600</th>\n",
       "      <td>Grupo-0012</td>\n",
       "      <td>1</td>\n",
       "      <td>jugador2b</td>\n",
       "      <td>1</td>\n",
       "      <td>2</td>\n",
       "      <td>-1</td>\n",
       "      <td>-8</td>\n",
       "    </tr>\n",
       "    <tr>\n",
       "      <th>601</th>\n",
       "      <td>Grupo-0012</td>\n",
       "      <td>1</td>\n",
       "      <td>jugador2c</td>\n",
       "      <td>1</td>\n",
       "      <td>2</td>\n",
       "      <td>-1</td>\n",
       "      <td>-4</td>\n",
       "    </tr>\n",
       "    <tr>\n",
       "      <th>602</th>\n",
       "      <td>Grupo-0012</td>\n",
       "      <td>2</td>\n",
       "      <td>jugador2c</td>\n",
       "      <td>1</td>\n",
       "      <td>1</td>\n",
       "      <td>1</td>\n",
       "      <td>-4</td>\n",
       "    </tr>\n",
       "    <tr>\n",
       "      <th>603</th>\n",
       "      <td>Grupo-0012</td>\n",
       "      <td>2</td>\n",
       "      <td>jugador2b</td>\n",
       "      <td>0</td>\n",
       "      <td>1</td>\n",
       "      <td>0</td>\n",
       "      <td>-8</td>\n",
       "    </tr>\n",
       "    <tr>\n",
       "      <th>604</th>\n",
       "      <td>Grupo-0012</td>\n",
       "      <td>3</td>\n",
       "      <td>jugador2b</td>\n",
       "      <td>1</td>\n",
       "      <td>1</td>\n",
       "      <td>1</td>\n",
       "      <td>-8</td>\n",
       "    </tr>\n",
       "  </tbody>\n",
       "</table>\n",
       "</div>"
      ],
      "text/plain": [
       "          group  round     player  choice  attendance  score  ac_score\n",
       "600  Grupo-0012      1  jugador2b       1           2     -1        -8\n",
       "601  Grupo-0012      1  jugador2c       1           2     -1        -4\n",
       "602  Grupo-0012      2  jugador2c       1           1      1        -4\n",
       "603  Grupo-0012      2  jugador2b       0           1      0        -8\n",
       "604  Grupo-0012      3  jugador2b       1           1      1        -8"
      ]
     },
     "execution_count": 39,
     "metadata": {},
     "output_type": "execute_result"
    }
   ],
   "source": [
    "df = data.groupby('group').get_group(grupos[6])\n",
    "df.head()"
   ]
  },
  {
   "cell_type": "code",
   "execution_count": 40,
   "metadata": {},
   "outputs": [
    {
     "data": {
      "text/html": [
       "<div>\n",
       "<style scoped>\n",
       "    .dataframe tbody tr th:only-of-type {\n",
       "        vertical-align: middle;\n",
       "    }\n",
       "\n",
       "    .dataframe tbody tr th {\n",
       "        vertical-align: top;\n",
       "    }\n",
       "\n",
       "    .dataframe thead th {\n",
       "        text-align: right;\n",
       "    }\n",
       "</style>\n",
       "<table border=\"1\" class=\"dataframe\">\n",
       "  <thead>\n",
       "    <tr style=\"text-align: right;\">\n",
       "      <th></th>\n",
       "      <th>player</th>\n",
       "      <th>score</th>\n",
       "    </tr>\n",
       "  </thead>\n",
       "  <tbody>\n",
       "    <tr>\n",
       "      <th>0</th>\n",
       "      <td>jugador2b</td>\n",
       "      <td>-8</td>\n",
       "    </tr>\n",
       "    <tr>\n",
       "      <th>1</th>\n",
       "      <td>jugador2c</td>\n",
       "      <td>-4</td>\n",
       "    </tr>\n",
       "  </tbody>\n",
       "</table>\n",
       "</div>"
      ],
      "text/plain": [
       "      player  score\n",
       "0  jugador2b     -8\n",
       "1  jugador2c     -4"
      ]
     },
     "execution_count": 40,
     "metadata": {},
     "output_type": "execute_result"
    }
   ],
   "source": [
    "df.groupby('player')['score'].sum().reset_index()"
   ]
  },
  {
   "cell_type": "code",
   "execution_count": 80,
   "metadata": {},
   "outputs": [
    {
     "name": "stdout",
     "output_type": "stream",
     "text": [
      "Oops\n"
     ]
    },
    {
     "data": {
      "image/png": "[encoded data removed]",
      "text/plain": [
       "<Figure size 720x144 with 1 Axes>"
      ]
     },
     "metadata": {
      "needs_background": "light"
     },
     "output_type": "display_data"
    }
   ],
   "source": [
    "for i in range(52):\n",
    "    pintar_ronda(data,grupo=6,hasta_ronda=i)\n",
    "    sleep(.5)\n",
    "    clear_output(wait=True)"
   ]
  },
  {
   "cell_type": "code",
   "execution_count": null,
   "metadata": {},
   "outputs": [],
   "source": []
  }
 ],
 "metadata": {
  "kernelspec": {
   "display_name": "Python 3",
   "language": "python",
   "name": "python3"
  },
  "language_info": {
   "codemirror_mode": {
    "name": "ipython",
    "version": 3
   },
   "file_extension": ".py",
   "mimetype": "text/x-python",
   "name": "python",
   "nbconvert_exporter": "python",
   "pygments_lexer": "ipython3",
   "version": "3.9.1"
  }
 },
 "nbformat": 4,
 "nbformat_minor": 4
}
