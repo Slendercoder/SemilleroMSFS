{
 "cells": [
  {
   "cell_type": "markdown",
   "metadata": {},
   "source": [
    "\n",
    "<table><tr>\n",
    "    <td><img src=\"imagenes/Macc.png\"/></td>\n",
    "    <td><p style=\"font-size:18pt\">Semillero de Modelación y Simulación de Fenómenos Sociales</p></td>\n",
    "</tr></table>\n",
    "\n",
    "<p align=\"right\" style=\"font-size:10pt\">Versión 2021-1</p>"
   ]
  },
  {
   "cell_type": "markdown",
   "metadata": {
    "colab_type": "text",
    "id": "rhcWf_uIbAsK"
   },
   "source": [
    "# Simulación del Modelo del bar El Farol\n",
    "\n",
    "## Descripción del juego iterativo\n",
    "\n",
    "En el presente modelo se tiene una población de $N$ individuos, quienes deben tomar la decisión de si acudirán o no al bar llamado \"El Farol\". Cada agente toma esta decisión de manera independiente a los demás, y todos lo hacen de manera simultánea. \n",
    "\n",
    "<table><tr>\n",
    "    <td><img src=\"imagenes/ElFarol1.jpeg\"/></td>\n",
    "    <td><img src=\"imagenes/ElFarol2.jpeg\"/></td>\n",
    "</tr></table>\n",
    "\n",
    "Si el total de acudientes supera un umbral $\\mu$, entonces El Farol se congestionará y los individuos que hayan ido no tendrán una buena experiencia (recompensa=-1). Por otro lado, si el total de los acudientes no supera este umbral, quienes hayan asistido podrán disfrutar de su estadía en el bar (recompensa=1). Adicionalmente, si un individuo no asiste al bar, será indiferente al estado de El Farol (recompensa=0). Cada agente intentará tomar la mejor decisión posible con respecto a asistir o no al bar. Esta situación se repetirá por un número $k$ de iteraciones. "
   ]
  },
  {
   "cell_type": "markdown",
   "metadata": {},
   "source": [
    "## Implementación en Python"
   ]
  },
  {
   "cell_type": "markdown",
   "metadata": {},
   "source": [
    "#### AGENTES \n",
    "\n",
    "Los agentes que se simularán tendrán 2 atributos:\n",
    "\n",
    "`estado`: Es la estrategia tomada por el agente y que puede ser ir al bar (1) o abstenerse de ir (0).\n",
    "\n",
    "`puntaje`: Puntaje obtenido. Hay tres posibilidades:\n",
    "\n",
    "- **1** Si fue y la proporción de agentes que fueron fue menor que el $\\mu $ determinado ($\\mu=0.5$).\n",
    "- **0**, si decidió no ir.\n",
    "- **-1**, si fue y la proporción de agentes que fueron fue mayor que el $\\mu$ determinado ($\\mu=0.5$).\n",
    "\n",
    "La impementación en Python de estos atributos tiene la característica siguiente. Cada atributo se almacena como una lista, la cual guarda la información correspondiente por cada ronda. Esto es, por ejemplo, `agente.estado[0]` es el estado del agente en la primera ronda.\n",
    "\n",
    "Los agentes tendrán 2 métodos:\n",
    "\n",
    "`toma_decision`(`modelo`, `parametros`): Es el método que le dice al agente qué estrategia seguir, la cual se decidirá de acuerdo al `modelo` seleccionado con los `parametros` dados.\n",
    "\n",
    "`imprime_agente(r)`: imprime los datos del agente en la ronda `r`."
   ]
  },
  {
   "cell_type": "code",
   "execution_count": 1,
   "metadata": {},
   "outputs": [],
   "source": [
    "import pandas as pd"
   ]
  },
  {
   "cell_type": "code",
   "execution_count": 57,
   "metadata": {
    "colab": {},
    "colab_type": "code",
    "id": "I2YA5E0BbIBZ"
   },
   "outputs": [],
   "source": [
    "from random import uniform\n",
    "\n",
    "def softmax(opciones, beta=0) :\n",
    "    opciones_softmax = [np.exp(beta*opcion) for opcion in opciones]\n",
    "    suma = np.sum(opciones_softmax)\n",
    "    return np.multiply(opciones_softmax, [1/suma]*len(opciones))\n",
    "\n",
    "class Agente :\n",
    "    \n",
    "    def __init__(self, estados, puntajes, atractivo) :\n",
    "        self.estado = estados # lista\n",
    "        self.puntaje = puntajes # lista\n",
    "        self.atractivo = atractivo\n",
    "        \n",
    "    def toma_decision(self, modelo='aleatorio', parametros=[0,0.5], DEB=False) :\n",
    "        '''\n",
    "        Se lanza un \"dado\" para decidir aleatoriamente si el agente va o no al bar\n",
    "        de acuerdo a si supera el umbral dado por el valor de para_ir\n",
    "        '''\n",
    "        atractivo=self.atractivo # Valor por defecto\n",
    "        beta=0\n",
    "\n",
    "        # determina el valor de para_ir de acuerdo al modelo y sus parámetros\n",
    "        if modelo == 'aleatorio' :\n",
    "            beta=parametros[0]\n",
    "            atractivo=parametros[1]\n",
    "        \n",
    "        if modelo == 'rescorla-wagner' :\n",
    "            beta=parametros[0]\n",
    "            recompensa=(self.puntaje[-1]+1)/2\n",
    "            alfa=parametros[1]\n",
    "            q0=parametros[2]\n",
    "            atractivo=self.atractivo+alfa*(recompensa-self.atractivo)\n",
    "            if DEB :\n",
    "                print(f\"atractivo anterior:{self.atractivo}; atractivo nuevo:{atractivo}\")\n",
    "            self.atractivo=atractivo\n",
    "\n",
    "        if modelo == 'win-stay-lose-shift' :\n",
    "            pass\n",
    "\n",
    "        # Softmax de atractivo\n",
    "        atractivo = softmax([atractivo,1-atractivo], beta)[0]\n",
    "        \n",
    "        # Lanza el dado\n",
    "        if uniform(0,1) < atractivo :\n",
    "            self.estado.append(1)\n",
    "        else :\n",
    "            self.estado.append(0)\n",
    "\n",
    "    def imprime_agente(self, ronda) :\n",
    "        try:\n",
    "            estado = self.estado[ronda]\n",
    "        except:\n",
    "            estado = \"nan\"\n",
    "        try:\n",
    "            puntaje = self.puntaje[ronda]\n",
    "        except:\n",
    "            puntaje = \"nan\"\n",
    "\n",
    "        return \"Estado:{0}, Puntaje:{1}\".format(estado, puntaje)\n",
    "            "
   ]
  },
  {
   "cell_type": "markdown",
   "metadata": {},
   "source": [
    "#### BAR\n",
    "\n",
    "El bar será un objeto con los siguientes atributos:\n",
    "\n",
    "`num_agentes`: cantidad de agentes que pueden ir al bar.\n",
    "\n",
    "`agentes`: agentes que pueden ir al bar.\n",
    "\n",
    "`umbral`: proporción de `agentes` que puede ir al bar para que la velada sea agradable.\n",
    "\n",
    "`num_iteraciones`: cantidad de rondas.\n",
    "\n",
    "`historia`: lista de la asistencia en todas las rondas pasadas.\n",
    "\n",
    "El bar tendrá los siguientes métodos:\n",
    "\n",
    "`calcular_asistencia()`: determina la cantidad de `agentes` que tomaron la decisión de ir al bar y actualiza la `historia`.\n",
    "\n",
    "`calcular_puntajes()`: determina los puntajes de los `agentes` de acuerdo a la asistencia y a las decisiones respectivas. \n",
    "\n",
    "`agentes_deciden()`: solicita a los agentes que tomen una decisión.\n",
    "\n",
    "`imprime_ronda(r)`: imprime la ronda `r`-ésima."
   ]
  },
  {
   "cell_type": "code",
   "execution_count": 58,
   "metadata": {},
   "outputs": [],
   "source": [
    "from random import randint \n",
    "import numpy as np\n",
    "\n",
    "class BarElFarol :\n",
    "    \n",
    "    def __init__(self, num_agentes, umbral, num_iteraciones, modelo='aleatorio', parametros=[.5]) :\n",
    "        self.num_agentes = num_agentes\n",
    "        self.umbral = umbral\n",
    "        self.num_iteraciones = num_iteraciones\n",
    "        self.historia = []\n",
    "        self.agentes = []\n",
    "        for i in range(self.num_agentes) :\n",
    "            if modelo == 'aleatorio' :\n",
    "                self.agentes.append(Agente([randint(0,1)], [], parametros[0]))        \n",
    "            if modelo == 'rescorla-wagner' :\n",
    "                self.agentes.append(Agente([randint(0,1)], [], parametros[1]))        \n",
    "            \n",
    "    def calcular_asistencia(self) :\n",
    "        asistencia = np.sum([a.estado[-1] for a in self.agentes])\n",
    "        self.historia.append(asistencia)\n",
    "\n",
    "    def calcular_puntajes(self) :\n",
    "        asistencia = self.historia[-1]/self.num_agentes\n",
    "        for a in self.agentes:\n",
    "            if a.estado[-1] == 1:\n",
    "                if asistencia > self.umbral:\n",
    "                    a.puntaje.append(-1)\n",
    "                else:\n",
    "                    a.puntaje.append(1)\n",
    "            else:\n",
    "                a.puntaje.append(0)\n",
    "\n",
    "    def agentes_deciden(self, modelo='aleatorio', parametros=[0.5], DEB=False) :\n",
    "        for a in self.agentes :\n",
    "            a.toma_decision(modelo, parametros, DEB=DEB)\n",
    "                \n",
    "    def imprime_ronda(self, ronda) :\n",
    "        try:\n",
    "            asistencia = self.historia[ronda]\n",
    "        except:\n",
    "            asistencia = \"nan\"\n",
    "        cadena = '='*30\n",
    "        cadena += f\"\\nRonda: {ronda} || Asistencia: {asistencia}\"\n",
    "        for a in self.agentes:\n",
    "            cadena += \"\\n\" + a.imprime_agente(ronda)\n",
    "        print(cadena)"
   ]
  },
  {
   "cell_type": "markdown",
   "metadata": {},
   "source": [
    "Con las funciones anteriores, estamos listos para hacer la simulación, definiendo los parámetros iniciales:"
   ]
  },
  {
   "cell_type": "code",
   "execution_count": 90,
   "metadata": {},
   "outputs": [],
   "source": [
    "num_agentes=100\n",
    "umbral=0.6\n",
    "num_iteraciones=100\n",
    "# modelo='aleatorio'\n",
    "# p = 0.5\n",
    "# parametros = [p]\n",
    "modelo='rescorla-wagner'\n",
    "beta=10000\n",
    "alfa=0.1\n",
    "q0=0.7\n",
    "parametros=[beta,alfa,q0]\n",
    "bar=BarElFarol(\n",
    "    num_agentes, \n",
    "    umbral, \n",
    "    num_iteraciones, \n",
    "    modelo=modelo, \n",
    "    parametros=parametros\n",
    ")\n",
    "#bar.imprime_ronda(0)"
   ]
  },
  {
   "cell_type": "code",
   "execution_count": 91,
   "metadata": {
    "scrolled": true
   },
   "outputs": [
    {
     "name": "stderr",
     "output_type": "stream",
     "text": [
      "<ipython-input-57-4f735cf62fc2>:4: RuntimeWarning: overflow encountered in exp\n",
      "  opciones_softmax = [np.exp(beta*opcion) for opcion in opciones]\n",
      "<ipython-input-57-4f735cf62fc2>:6: RuntimeWarning: invalid value encountered in multiply\n",
      "  return np.multiply(opciones_softmax, [1/suma]*len(opciones))\n"
     ]
    }
   ],
   "source": [
    "DEB=False\n",
    "for t in range(num_iteraciones) : \n",
    "    bar.calcular_asistencia()\n",
    "    bar.calcular_puntajes()\n",
    "    if DEB :\n",
    "        bar.imprime_ronda(t)\n",
    "    bar.agentes_deciden(modelo=modelo, parametros=parametros, DEB=DEB)\n"
   ]
  },
  {
   "cell_type": "code",
   "execution_count": 92,
   "metadata": {},
   "outputs": [
    {
     "data": {
      "text/plain": [
       "<AxesSubplot:>"
      ]
     },
     "execution_count": 92,
     "metadata": {},
     "output_type": "execute_result"
    },
    {
     "data": {
      "image/png": "[encoded data removed]",
      "text/plain": [
       "<Figure size 432x288 with 1 Axes>"
      ]
     },
     "metadata": {
      "needs_background": "light"
     },
     "output_type": "display_data"
    }
   ],
   "source": [
    "data = pd.DataFrame({'asistencia': bar.historia})\n",
    "data['asistencia'].plot()"
   ]
  },
  {
   "cell_type": "code",
   "execution_count": 95,
   "metadata": {},
   "outputs": [
    {
     "data": {
      "image/png": "[encoded data removed]",
      "text/plain": [
       "<Figure size 432x288 with 1 Axes>"
      ]
     },
     "metadata": {
      "needs_background": "light"
     },
     "output_type": "display_data"
    }
   ],
   "source": [
    "import matplotlib.pyplot as plt\n",
    "fig, ax = plt.subplots()\n",
    "\n",
    "for agente in bar.agentes:\n",
    "    y = agente.estado\n",
    "    x = list(range(len(y)))\n",
    "    ax = plt.scatter(x, y, alpha=0.5)\n",
    "\n",
    "plt.show()\n",
    "    "
   ]
  },
  {
   "cell_type": "code",
   "execution_count": null,
   "metadata": {},
   "outputs": [],
   "source": []
  }
 ],
 "metadata": {
  "colab": {
   "name": "Untitled0.ipynb",
   "provenance": []
  },
  "kernelspec": {
   "display_name": "Python 3",
   "language": "python",
   "name": "python3"
  },
  "language_info": {
   "codemirror_mode": {
    "name": "ipython",
    "version": 3
   },
   "file_extension": ".py",
   "mimetype": "text/x-python",
   "name": "python",
   "nbconvert_exporter": "python",
   "pygments_lexer": "ipython3",
   "version": "3.9.1"
  }
 },
 "nbformat": 4,
 "nbformat_minor": 1
}
