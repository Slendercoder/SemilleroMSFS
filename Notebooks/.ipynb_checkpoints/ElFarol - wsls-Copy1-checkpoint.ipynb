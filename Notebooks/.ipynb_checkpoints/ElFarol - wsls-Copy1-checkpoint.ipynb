{
 "cells": [
  {
   "cell_type": "markdown",
   "metadata": {},
   "source": [
    "\n",
    "<table><tr>\n",
    "    <td><img src=\"imagenes/Macc.png\"/></td>\n",
    "    <td><p style=\"font-size:18pt\">Semillero de Modelación y Simulación de Fenómenos Sociales</p></td>\n",
    "</tr></table>\n",
    "\n",
    "<p align=\"right\" style=\"font-size:10pt\">Versión 2021-1</p>"
   ]
  },
  {
   "cell_type": "markdown",
   "metadata": {
    "colab_type": "text",
    "id": "rhcWf_uIbAsK"
   },
   "source": [
    "# Simulación del Modelo del bar El Farol\n",
    "\n",
    "## Descripción del juego iterativo\n",
    "\n",
    "En el presente modelo se tiene una población de $N$ individuos, quienes deben tomar la decisión de si acudirán o no al bar llamado \"El Farol\". Cada agente toma esta decisión de manera independiente a los demás, y todos lo hacen de manera simultánea. \n",
    "\n",
    "<table><tr>\n",
    "    <td><img src=\"imagenes/ElFarol1.jpeg\"/></td>\n",
    "    <td><img src=\"imagenes/ElFarol2.jpeg\"/></td>\n",
    "</tr></table>\n",
    "\n",
    "Si el total de acudientes supera un umbral $\\mu$, entonces El Farol se congestionará y los individuos que hayan ido no tendrán una buena experiencia (recompensa=-1). Por otro lado, si el total de los acudientes no supera este umbral, quienes hayan asistido podrán disfrutar de su estadía en el bar (recompensa=1). Adicionalmente, si un individuo no asiste al bar, será indiferente al estado de El Farol (recompensa=0). Cada agente intentará tomar la mejor decisión posible con respecto a asistir o no al bar. Esta situación se repetirá por un número $k$ de iteraciones. "
   ]
  },
  {
   "cell_type": "markdown",
   "metadata": {},
   "source": [
    "## Implementación en Python"
   ]
  },
  {
   "cell_type": "markdown",
   "metadata": {},
   "source": [
    "#### AGENTES \n",
    "\n",
    "Los agentes que se simularán tendrán 2 atributos:\n",
    "\n",
    "`estado`: Es la estrategia tomada por el agente y que puede ser ir al bar (1) o abstenerse de ir (0).\n",
    "\n",
    "`puntaje`: Puntaje obtenido. Hay tres posibilidades:\n",
    "\n",
    "- **1** Si fue y la proporción de agentes que fueron fue menor que el $\\mu $ determinado ($\\mu=0.5$).\n",
    "- **0**, si decidió no ir.\n",
    "- **-1**, si fue y la proporción de agentes que fueron fue mayor que el $\\mu$ determinado ($\\mu=0.5$).\n",
    "\n",
    "La impementación en Python de estos atributos tiene la característica siguiente. Cada atributo se almacena como una lista, la cual guarda la información correspondiente por cada ronda. Esto es, por ejemplo, `agente.estado[0]` es el estado del agente en la primera ronda.\n",
    "\n",
    "Los agentes tendrán 2 métodos:\n",
    "\n",
    "`toma_decision`(`modelo`, `parametros`): Es el método que le dice al agente qué estrategia seguir, la cual se decidirá de acuerdo al `modelo` seleccionado con los `parametros` dados.\n",
    "\n",
    "`imprime_agente(r)`: imprime los datos del agente en la ronda `r`."
   ]
  },
  {
   "cell_type": "code",
   "execution_count": 1,
   "metadata": {},
   "outputs": [],
   "source": [
    "import pandas as pd\n",
    "import seaborn as sns\n",
    "from random import uniform\n",
    "import matplotlib.pyplot as plt\n",
    "from scipy.stats import binom\n",
    "from scipy.optimize import minimize, Bounds\n",
    "from itertools import product"
   ]
  },
  {
   "cell_type": "code",
   "execution_count": 2,
   "metadata": {
    "colab": {},
    "colab_type": "code",
    "id": "I2YA5E0BbIBZ"
   },
   "outputs": [],
   "source": [
    "def softmax(opciones, beta=0) :\n",
    "    opciones_softmax = [np.exp(beta*opcion) for opcion in opciones]\n",
    "    suma = np.sum(opciones_softmax)\n",
    "    return np.multiply(opciones_softmax, [1/suma]*len(opciones))\n",
    "\n",
    "class Agente :\n",
    "    \n",
    "    def __init__(self, estados, puntajes, atractivos) :\n",
    "        self.estado = estados # lista\n",
    "        self.puntaje = puntajes # lista\n",
    "        self.atractivo = atractivos # lista\n",
    "        \n",
    "    def toma_decision(self, modelo='aleatorio', parametros=[0,0.5], DEB=False) :\n",
    "        '''\n",
    "        Se lanza un \"dado\" para decidir aleatoriamente si el agente va o no al bar\n",
    "        de acuerdo a si supera el umbral dado por el valor de para_ir\n",
    "        '''\n",
    "        atractivo=self.atractivo[-1] # Valor por defecto\n",
    "        beta=0\n",
    "\n",
    "        # determina el valor de para_ir de acuerdo al modelo y sus parámetros\n",
    "        if modelo == 'aleatorio' :\n",
    "            beta=parametros[0]\n",
    "            atractivo=parametros[1]\n",
    "        \n",
    "        if modelo == 'rescorla-wagner' :\n",
    "            beta=parametros[0]\n",
    "            recompensa=(self.puntaje[-1]+1)/2\n",
    "            alfa=parametros[1]\n",
    "            q0=parametros[2]\n",
    "            atractivo=self.atractivo[-1]+alfa*(recompensa-self.atractivo[-1])\n",
    "\n",
    "        if modelo == 'win-stay-lose-shift' :\n",
    "            beta=parametros[0]\n",
    "            epsilon = parametros[1]\n",
    "            gamma = parametros[2]\n",
    "            if self.puntaje[-1] >= gamma :\n",
    "#                atractivo = 1 - epsilon/2\n",
    "                atractivo = max(self.atractivo[-1] - epsilon/2, 0)\n",
    "            else:\n",
    "#                atractivo = epsilon/2\n",
    "                atractivo = max((1 - self.atractivo[-1]) - epsilon/2, 0)\n",
    "\n",
    "        # Softmax de atractivo\n",
    "        if DEB :\n",
    "            print(\"Softmax:\", softmax([atractivo,1-atractivo], beta))\n",
    "        atractivo = softmax([atractivo,1-atractivo], beta)[0]\n",
    "        atractivo = round(atractivo, 2)\n",
    "        if DEB :\n",
    "            print(f\"atractivo anterior:{self.atractivo[-1]}; atractivo nuevo:{atractivo}\")\n",
    "\n",
    "        # Actualiza el atractivo del agente\n",
    "        self.atractivo.append(atractivo)\n",
    "\n",
    "        \n",
    "        # Lanza el dado\n",
    "        if uniform(0,1) < atractivo :\n",
    "            self.estado.append(1)\n",
    "        else :\n",
    "            self.estado.append(0)\n",
    "\n",
    "    def imprime_agente(self, ronda) :\n",
    "        try:\n",
    "            estado = self.estado[ronda]\n",
    "        except:\n",
    "            estado = \"nan\"\n",
    "        try:\n",
    "            puntaje = self.puntaje[ronda]\n",
    "        except:\n",
    "            puntaje = \"nan\"\n",
    "        try:\n",
    "            atractivo = self.atractivo[ronda]\n",
    "        except:\n",
    "            atractivo = \"nan\"\n",
    "\n",
    "        return \"Estado:{0}, Puntaje:{1}, Atractivo:{2}\".format(estado, puntaje, atractivo)\n",
    "            "
   ]
  },
  {
   "cell_type": "markdown",
   "metadata": {},
   "source": [
    "#### BAR\n",
    "\n",
    "El bar será un objeto con los siguientes atributos:\n",
    "\n",
    "`num_agentes`: cantidad de agentes que pueden ir al bar.\n",
    "\n",
    "`agentes`: agentes que pueden ir al bar.\n",
    "\n",
    "`umbral`: proporción de `agentes` que puede ir al bar para que la velada sea agradable.\n",
    "\n",
    "`num_iteraciones`: cantidad de rondas.\n",
    "\n",
    "`historia`: lista de la asistencia en todas las rondas pasadas.\n",
    "\n",
    "El bar tendrá los siguientes métodos:\n",
    "\n",
    "`calcular_asistencia()`: determina la cantidad de `agentes` que tomaron la decisión de ir al bar y actualiza la `historia`.\n",
    "\n",
    "`calcular_puntajes()`: determina los puntajes de los `agentes` de acuerdo a la asistencia y a las decisiones respectivas. \n",
    "\n",
    "`agentes_deciden()`: solicita a los agentes que tomen una decisión.\n",
    "\n",
    "`imprime_ronda(r)`: imprime la ronda `r`-ésima."
   ]
  },
  {
   "cell_type": "code",
   "execution_count": 3,
   "metadata": {},
   "outputs": [],
   "source": [
    "from random import randint \n",
    "import numpy as np\n",
    "\n",
    "class BarElFarol :\n",
    "    \n",
    "    def __init__(self, num_agentes, umbral, num_iteraciones, modelo='aleatorio', parametros=[.5]) :\n",
    "        self.num_agentes = num_agentes\n",
    "        self.umbral = umbral\n",
    "        self.num_iteraciones = num_iteraciones\n",
    "        self.historia = []\n",
    "        self.agentes = []\n",
    "        for i in range(self.num_agentes) :\n",
    "            if modelo == 'aleatorio' :\n",
    "                self.agentes.append(Agente([randint(0,1)], [], [parametros[0]]))        \n",
    "            if modelo == 'rescorla-wagner' :\n",
    "                self.agentes.append(Agente([randint(0,1)], [], [parametros[1]]))        \n",
    "            if modelo == 'win-stay-lose-shift' :\n",
    "#                self.agentes.append(Agente([randint(0,1)], [], uniform(0,1))) \n",
    "                aleatorio = randint(0,1)\n",
    "                self.agentes.append(Agente([aleatorio], [], [aleatorio])) \n",
    "            \n",
    "    def calcular_asistencia(self) :\n",
    "        asistencia = np.sum([a.estado[-1] for a in self.agentes])\n",
    "        self.historia.append(asistencia)\n",
    "\n",
    "    def calcular_puntajes(self) :\n",
    "        asistencia = self.historia[-1]/self.num_agentes\n",
    "        for a in self.agentes:\n",
    "            if a.estado[-1] == 1:\n",
    "                if asistencia > self.umbral:\n",
    "                    a.puntaje.append(-1)\n",
    "                else:\n",
    "                    a.puntaje.append(1)\n",
    "            else:\n",
    "                a.puntaje.append(0)\n",
    "\n",
    "    def agentes_deciden(self, modelo='aleatorio', parametros=[0.5], DEB=False) :\n",
    "        for a in self.agentes :\n",
    "            a.toma_decision(modelo, parametros, DEB=DEB)\n",
    "                \n",
    "    def imprime_ronda(self, ronda) :\n",
    "        try:\n",
    "            asistencia = self.historia[ronda]\n",
    "        except:\n",
    "            asistencia = \"nan\"\n",
    "        cadena = '='*30\n",
    "        cadena += f\"\\nRonda: {ronda} || Asistencia: {asistencia}\"\n",
    "        for a in self.agentes:\n",
    "            cadena += \"\\n\" + a.imprime_agente(ronda)\n",
    "        print(cadena)\n",
    "        \n",
    "    def guardar_pandas(self) :\n",
    "        dict = {}\n",
    "        ronda = []\n",
    "        agentes = []\n",
    "        estados = []\n",
    "        puntajes = []\n",
    "        atractivos = []\n",
    "        for i in range(len(self.agentes)):\n",
    "            a = self.agentes[i]\n",
    "            ronda += [x for x in range(1, len(a.estado))]\n",
    "            agentes += [i]*len(a.puntaje)\n",
    "            estados += a.estado[:-1]\n",
    "            puntajes += a.puntaje\n",
    "            atractivos += a.atractivo[:-1]\n",
    "#        print(len(agentes), len(estados), len(puntajes), len(atractivos))\n",
    "        dict['round'] = ronda\n",
    "        dict['player'] = agentes\n",
    "        dict['choice'] = estados\n",
    "        dict['score'] = puntajes\n",
    "        dict['motivated'] = atractivos\n",
    "        return pd.DataFrame.from_dict(dict)"
   ]
  },
  {
   "cell_type": "markdown",
   "metadata": {},
   "source": [
    "Con las funciones anteriores estamos listos para hacer la simulación, definiendo los parámetros iniciales:"
   ]
  },
  {
   "cell_type": "code",
   "execution_count": 4,
   "metadata": {},
   "outputs": [],
   "source": [
    "num_agentes=5\n",
    "umbral=0.6\n",
    "num_iteraciones=5\n",
    "# modelo='aleatorio'\n",
    "# p = 0.5\n",
    "# beta = 2\n",
    "# parametros = [beta,p]\n",
    "modelo='rescorla-wagner'\n",
    "beta=1\n",
    "alfa=0.1\n",
    "q0=0.7\n",
    "parametros=[beta,alfa,q0]\n",
    "#modelo='win-stay-lose-shift'\n",
    "#beta=100\n",
    "#epsilon=0\n",
    "#gamma=1\n",
    "#parametros=[beta,epsilon,gamma]\n",
    "\n",
    "bar=BarElFarol(\n",
    "    num_agentes, \n",
    "    umbral, \n",
    "    num_iteraciones, \n",
    "    modelo=modelo, \n",
    "    parametros=parametros\n",
    ")\n",
    "# bar.imprime_ronda(0)"
   ]
  },
  {
   "cell_type": "code",
   "execution_count": 5,
   "metadata": {
    "scrolled": false
   },
   "outputs": [],
   "source": [
    "DEB=False\n",
    "for t in range(num_iteraciones) : \n",
    "    bar.calcular_asistencia()\n",
    "    bar.calcular_puntajes()\n",
    "    if DEB :\n",
    "        bar.imprime_ronda(t)\n",
    "    bar.agentes_deciden(modelo=modelo, parametros=parametros, DEB=DEB)\n"
   ]
  },
  {
   "cell_type": "code",
   "execution_count": 6,
   "metadata": {},
   "outputs": [
    {
     "data": {
      "text/plain": [
       "<AxesSubplot:>"
      ]
     },
     "execution_count": 6,
     "metadata": {},
     "output_type": "execute_result"
    },
    {
     "data": {
      "image/png": "[encoded data removed]",
      "text/plain": [
       "<Figure size 432x288 with 1 Axes>"
      ]
     },
     "metadata": {
      "needs_background": "light"
     },
     "output_type": "display_data"
    }
   ],
   "source": [
    "data = pd.DataFrame({'asistencia': bar.historia})\n",
    "data['asistencia'].plot()"
   ]
  },
  {
   "cell_type": "markdown",
   "metadata": {},
   "source": [
    "---"
   ]
  },
  {
   "cell_type": "code",
   "execution_count": 7,
   "metadata": {},
   "outputs": [],
   "source": [
    "def simulacion(modelo,parametros,num_agentes,umbral,num_iteraciones,Nsim=1) :\n",
    "    lista_dataframes = []\n",
    "    for n in range(Nsim):\n",
    "        bar=BarElFarol(\n",
    "            num_agentes, \n",
    "            umbral, \n",
    "            num_iteraciones, \n",
    "            modelo=modelo, \n",
    "            parametros=parametros\n",
    "        )        \n",
    "        for t in range(num_iteraciones) : \n",
    "            bar.calcular_asistencia()\n",
    "            bar.calcular_puntajes()\n",
    "            bar.agentes_deciden(modelo=modelo,parametros=parametros,DEB=False)\n",
    "        data = bar.guardar_pandas()\n",
    "        data.sort_values(by=['round', 'player'], inplace=True)\n",
    "        data['group'] = n\n",
    "        data=data[['group','round','player','choice','score','motivated']]\n",
    "        lista_dataframes.append(data)\n",
    "    return pd.concat(lista_dataframes)\n",
    "\n",
    "def visual(data_sim, data_obs) :\n",
    "    data = pd.concat([data_sim,data_obs])\n",
    "    attendance = pd.DataFrame(data.groupby(['source', 'group', 'round'])['choice'].sum().reset_index())\n",
    "    attendance.columns = ['source', 'group', 'round', 'attendance']\n",
    "    scores = pd.DataFrame(data.groupby(['source','group','player'])['score'].mean().reset_index())\n",
    "    fig,ax=plt.subplots(1,2,figsize=(8,4))\n",
    "    sns.lineplot('round', 'attendance', hue='source', data=attendance,ax=ax[0])\n",
    "    sns.boxplot(data=scores, y='score', x='source', ax=ax[1])\n",
    "    ax[0].set_title(\"Average attendance per round\")\n",
    "    ax[1].set_title(\"Distribution of average score\")"
   ]
  },
  {
   "cell_type": "code",
   "execution_count": 8,
   "metadata": {},
   "outputs": [
    {
     "data": {
      "text/html": [
       "<div>\n",
       "<style scoped>\n",
       "    .dataframe tbody tr th:only-of-type {\n",
       "        vertical-align: middle;\n",
       "    }\n",
       "\n",
       "    .dataframe tbody tr th {\n",
       "        vertical-align: top;\n",
       "    }\n",
       "\n",
       "    .dataframe thead th {\n",
       "        text-align: right;\n",
       "    }\n",
       "</style>\n",
       "<table border=\"1\" class=\"dataframe\">\n",
       "  <thead>\n",
       "    <tr style=\"text-align: right;\">\n",
       "      <th></th>\n",
       "      <th>group</th>\n",
       "      <th>round</th>\n",
       "      <th>player</th>\n",
       "      <th>choice</th>\n",
       "      <th>score</th>\n",
       "      <th>motivated</th>\n",
       "    </tr>\n",
       "  </thead>\n",
       "  <tbody>\n",
       "    <tr>\n",
       "      <th>0</th>\n",
       "      <td>0</td>\n",
       "      <td>1</td>\n",
       "      <td>0</td>\n",
       "      <td>1</td>\n",
       "      <td>1</td>\n",
       "      <td>1.0</td>\n",
       "    </tr>\n",
       "    <tr>\n",
       "      <th>50</th>\n",
       "      <td>0</td>\n",
       "      <td>1</td>\n",
       "      <td>1</td>\n",
       "      <td>1</td>\n",
       "      <td>1</td>\n",
       "      <td>1.0</td>\n",
       "    </tr>\n",
       "    <tr>\n",
       "      <th>100</th>\n",
       "      <td>0</td>\n",
       "      <td>1</td>\n",
       "      <td>2</td>\n",
       "      <td>0</td>\n",
       "      <td>0</td>\n",
       "      <td>0.0</td>\n",
       "    </tr>\n",
       "    <tr>\n",
       "      <th>150</th>\n",
       "      <td>0</td>\n",
       "      <td>1</td>\n",
       "      <td>3</td>\n",
       "      <td>0</td>\n",
       "      <td>0</td>\n",
       "      <td>0.0</td>\n",
       "    </tr>\n",
       "    <tr>\n",
       "      <th>200</th>\n",
       "      <td>0</td>\n",
       "      <td>1</td>\n",
       "      <td>4</td>\n",
       "      <td>0</td>\n",
       "      <td>0</td>\n",
       "      <td>0.0</td>\n",
       "    </tr>\n",
       "  </tbody>\n",
       "</table>\n",
       "</div>"
      ],
      "text/plain": [
       "     group  round  player  choice  score  motivated\n",
       "0        0      1       0       1      1        1.0\n",
       "50       0      1       1       1      1        1.0\n",
       "100      0      1       2       0      0        0.0\n",
       "150      0      1       3       0      0        0.0\n",
       "200      0      1       4       0      0        0.0"
      ]
     },
     "execution_count": 8,
     "metadata": {},
     "output_type": "execute_result"
    }
   ],
   "source": [
    "modelo='win-stay-lose-shift'\n",
    "beta=1\n",
    "epsilon=0.1\n",
    "gamma=0\n",
    "parametros=[beta,epsilon,gamma]\n",
    "num_agentes=5\n",
    "umbral=0.6\n",
    "num_iteraciones=50\n",
    "data_sim = simulacion(modelo,parametros,num_agentes,umbral,num_iteraciones,Nsim=100)\n",
    "data_sim.head()"
   ]
  },
  {
   "cell_type": "code",
   "execution_count": 9,
   "metadata": {},
   "outputs": [
    {
     "name": "stderr",
     "output_type": "stream",
     "text": [
      "/usr/local/lib/python3.9/site-packages/seaborn/_decorators.py:36: FutureWarning: Pass the following variables as keyword args: x, y. From version 0.12, the only valid positional argument will be `data`, and passing other arguments without an explicit keyword will result in an error or misinterpretation.\n",
      "  warnings.warn(\n"
     ]
    },
    {
     "data": {
      "image/png": "[encoded data removed]",
      "text/plain": [
       "<Figure size 576x288 with 2 Axes>"
      ]
     },
     "metadata": {
      "needs_background": "light"
     },
     "output_type": "display_data"
    }
   ],
   "source": [
    "data_sim['source'] = modelo\n",
    "data_obs = pd.read_csv('observed.csv')\n",
    "data_obs['source'] = 'Human'\n",
    "visual(data_sim,data_obs)"
   ]
  },
  {
   "cell_type": "code",
   "execution_count": 4,
   "metadata": {},
   "outputs": [],
   "source": [
    "def obtener_frecuencias(data_sim) :  \n",
    "    data_sim['score_lag'] = data_sim.groupby(['group', 'player'])['score'].shift(1)\n",
    "    data_sim['motivated_lead'] = data_sim.groupby(['group', 'player'])['motivated'].shift(-1)\n",
    "    data_sim['choice_lead'] = data_sim.groupby(['group', 'player'])['choice'].shift(-1)\n",
    "    df = pd.DataFrame(data_sim.groupby(['score', 'motivated']).\n",
    "                      agg(attended=pd.NamedAgg(column=\"choice_lead\", aggfunc=\"sum\"),\n",
    "                          total=pd.NamedAgg(column=\"choice_lead\", aggfunc=\"count\"),\n",
    "#                          predicted=pd.NamedAgg(column=\"motivated_lead\", aggfunc=\"mean\")\n",
    "                         ).\n",
    "                      reset_index())\n",
    "    df['freq_attended'] = df['attended']/df['total']\n",
    "#    del df['attended']\n",
    "#    del df['total']\n",
    "    return df\n",
    "\n",
    "def predecir_motivacion(modelo, parametros, puntaje, atractivo_anterior) :\n",
    "    # determina el valor de para_ir de acuerdo al modelo y sus parámetros\n",
    "    if modelo == 'aleatorio' :\n",
    "        beta=parametros[0]\n",
    "        atractivo=parametros[1]\n",
    "        \n",
    "    if modelo == 'rescorla-wagner' :\n",
    "        beta=parametros[0]\n",
    "        recompensa=(puntaje+1)/2\n",
    "        alfa=parametros[1]\n",
    "        q0=parametros[2]\n",
    "        atractivo=atractivo_anterior+alfa*(recompensa-atractivo_anterior)\n",
    "\n",
    "    if modelo == 'win-stay-lose-shift' :\n",
    "        beta=parametros[0]\n",
    "        epsilon = parametros[1]\n",
    "        gamma = parametros[2]\n",
    "        if puntaje >= gamma :\n",
    "            atractivo = max(atractivo_anterior - epsilon/2, 0)\n",
    "        else:\n",
    "            atractivo = max((1 - atractivo_anterior) - epsilon/2, 0)\n",
    "\n",
    "    # Softmax de atractivo\n",
    "    atractivo = softmax([atractivo,1-atractivo], beta)[0]\n",
    "    atractivo = round(atractivo, 2)\n",
    "    return atractivo\n",
    "    \n",
    "def predecir(data,modelo,parametros) :\n",
    "#    print(\"predecir\")\n",
    "#    print(data.head())\n",
    "    data['predicted'] = data.apply(\n",
    "        lambda x: predecir_motivacion(\n",
    "            modelo, \n",
    "            parametros,\n",
    "            x['score'],\n",
    "            x['motivated']\n",
    "        ), axis=1)\n",
    "    return data\n",
    "\n",
    "def likelihood(data,modelo,parametros) :\n",
    "    data=predecir(data,modelo,parametros)\n",
    "    data['likelihood'] = data.apply(\n",
    "        lambda x: binom.pmf(\n",
    "            k=x['attended'],\n",
    "            n=x['total'],\n",
    "            p=x['predicted']\n",
    "        ), axis=1)\n",
    "    return data\n",
    "\n",
    "def deviance(parametros,data,modelo) :\n",
    "    data=likelihood(data,modelo,parametros)\n",
    "    return data['likelihood'].apply(lambda x: -2*np.log(x)).sum()\n",
    "    \n",
    "def optimizar(parametros,minimos,maximos,data,modelo):\n",
    "    x0 = np.array(parametros)\n",
    "    bounds = Bounds(minimos,maximos)\n",
    "#    print(\"Finding fitting parameters. Please wait...\")\n",
    "    res = minimize(\n",
    "        deviance,\n",
    "        x0,\n",
    "        args=(data,modelo),\n",
    "        method='trust-constr',\n",
    "#        method='Nelder-Mead',\n",
    "#        method='Newton-CG',\n",
    "        bounds=bounds,\n",
    "        options={'verbose':0}\n",
    "    )\n",
    "    return res\n",
    "\n",
    "def best_fit(minimos,maximos,df,modelo,N=10) :\n",
    "    best_pars=[np.nan]*len(minimos)\n",
    "    best_fit=10000\n",
    "    for k in range(N) :\n",
    "        randomp=[uniform(minimos[i],maximos[i]) for i in range(len(minimos))]\n",
    "        res=optimizar(randomp,minimos,maximos,df,modelo)\n",
    "        pars=[round(x,2) for x in res.x]\n",
    "        dev=res.fun\n",
    "        if dev < best_fit :\n",
    "            best_fit=dev\n",
    "            best_pars=pars\n",
    "    return best_pars, best_fit\n",
    "\n",
    "def model_recovery(modelo,vector_parametros) :\n",
    "    # Game parameters\n",
    "    num_agentes=5\n",
    "    umbral=0.6\n",
    "    num_iteraciones=50\n",
    "    lista_parametros=list(product(*vector_parametros))\n",
    "    parametros_recuperados=[]\n",
    "    asistencias=[]\n",
    "    puntajes_promedio=[]\n",
    "    for parametros in lista_parametros:\n",
    "        # Simulando\n",
    "        data_sim=simulacion(modelo,parametros,num_agentes,umbral,num_iteraciones,Nsim=100)\n",
    "        # Datos relevantes\n",
    "        asistencias.append(data_sim.groupby(['group','round'])['choice'].sum().mean())\n",
    "        puntajes_promedio.append(data_sim['score'].mean())\n",
    "        # Parameter fit\n",
    "        df=obtener_frecuencias(data_sim)\n",
    "        minimos=[0,0,-1]\n",
    "        maximos=[5,.5,1]\n",
    "        pars,dev=best_fit(minimos,maximos,df,modelo,N=10)\n",
    "        parametros_recuperados.append(pars)\n",
    "    return lista_parametros, parametros_recuperados, asistencias, puntajes_promedio"
   ]
  },
  {
   "cell_type": "markdown",
   "metadata": {},
   "source": [
    "### Ejercicio de recuperación de modelo\n",
    "\n",
    "Primero simulamos el modelo con unos parámetros dados:"
   ]
  },
  {
   "cell_type": "code",
   "execution_count": 123,
   "metadata": {},
   "outputs": [],
   "source": [
    "# Game parameters\n",
    "num_agentes=5\n",
    "umbral=0.6\n",
    "num_iteraciones=50\n",
    "\n",
    "# Simulate data\n",
    "modelo='win-stay-lose-shift'\n",
    "beta=1\n",
    "epsilon=0.1\n",
    "gamma=0\n",
    "parametros=[beta,epsilon,gamma]\n",
    "data_sim = simulacion(modelo,parametros,num_agentes,umbral,num_iteraciones,Nsim=100)\n",
    "#print(data_sim.head())"
   ]
  },
  {
   "cell_type": "code",
   "execution_count": 132,
   "metadata": {},
   "outputs": [
    {
     "data": {
      "text/html": [
       "<div>\n",
       "<style scoped>\n",
       "    .dataframe tbody tr th:only-of-type {\n",
       "        vertical-align: middle;\n",
       "    }\n",
       "\n",
       "    .dataframe tbody tr th {\n",
       "        vertical-align: top;\n",
       "    }\n",
       "\n",
       "    .dataframe thead th {\n",
       "        text-align: right;\n",
       "    }\n",
       "</style>\n",
       "<table border=\"1\" class=\"dataframe\">\n",
       "  <thead>\n",
       "    <tr style=\"text-align: right;\">\n",
       "      <th></th>\n",
       "      <th>score</th>\n",
       "      <th>motivated</th>\n",
       "      <th>attended</th>\n",
       "      <th>total</th>\n",
       "      <th>freq_attended</th>\n",
       "    </tr>\n",
       "  </thead>\n",
       "  <tbody>\n",
       "    <tr>\n",
       "      <th>0</th>\n",
       "      <td>-1</td>\n",
       "      <td>0.27</td>\n",
       "      <td>14.0</td>\n",
       "      <td>24</td>\n",
       "      <td>0.583333</td>\n",
       "    </tr>\n",
       "    <tr>\n",
       "      <th>1</th>\n",
       "      <td>-1</td>\n",
       "      <td>0.36</td>\n",
       "      <td>11.0</td>\n",
       "      <td>19</td>\n",
       "      <td>0.578947</td>\n",
       "    </tr>\n",
       "    <tr>\n",
       "      <th>2</th>\n",
       "      <td>-1</td>\n",
       "      <td>0.37</td>\n",
       "      <td>3.0</td>\n",
       "      <td>6</td>\n",
       "      <td>0.500000</td>\n",
       "    </tr>\n",
       "    <tr>\n",
       "      <th>3</th>\n",
       "      <td>-1</td>\n",
       "      <td>0.41</td>\n",
       "      <td>13.0</td>\n",
       "      <td>27</td>\n",
       "      <td>0.481481</td>\n",
       "    </tr>\n",
       "    <tr>\n",
       "      <th>4</th>\n",
       "      <td>-1</td>\n",
       "      <td>0.43</td>\n",
       "      <td>21.0</td>\n",
       "      <td>35</td>\n",
       "      <td>0.600000</td>\n",
       "    </tr>\n",
       "  </tbody>\n",
       "</table>\n",
       "</div>"
      ],
      "text/plain": [
       "   score  motivated  attended  total  freq_attended\n",
       "0     -1       0.27      14.0     24       0.583333\n",
       "1     -1       0.36      11.0     19       0.578947\n",
       "2     -1       0.37       3.0      6       0.500000\n",
       "3     -1       0.41      13.0     27       0.481481\n",
       "4     -1       0.43      21.0     35       0.600000"
      ]
     },
     "execution_count": 132,
     "metadata": {},
     "output_type": "execute_result"
    }
   ],
   "source": [
    "df = obtener_frecuencias(data_sim)\n",
    "df.head()"
   ]
  },
  {
   "cell_type": "code",
   "execution_count": 133,
   "metadata": {},
   "outputs": [
    {
     "data": {
      "text/html": [
       "<div>\n",
       "<style scoped>\n",
       "    .dataframe tbody tr th:only-of-type {\n",
       "        vertical-align: middle;\n",
       "    }\n",
       "\n",
       "    .dataframe tbody tr th {\n",
       "        vertical-align: top;\n",
       "    }\n",
       "\n",
       "    .dataframe thead th {\n",
       "        text-align: right;\n",
       "    }\n",
       "</style>\n",
       "<table border=\"1\" class=\"dataframe\">\n",
       "  <thead>\n",
       "    <tr style=\"text-align: right;\">\n",
       "      <th></th>\n",
       "      <th>score</th>\n",
       "      <th>motivated</th>\n",
       "      <th>attended</th>\n",
       "      <th>total</th>\n",
       "      <th>freq_attended</th>\n",
       "      <th>predicted</th>\n",
       "      <th>likelihood</th>\n",
       "    </tr>\n",
       "  </thead>\n",
       "  <tbody>\n",
       "    <tr>\n",
       "      <th>0</th>\n",
       "      <td>-1</td>\n",
       "      <td>0.27</td>\n",
       "      <td>14.0</td>\n",
       "      <td>24</td>\n",
       "      <td>0.583333</td>\n",
       "      <td>0.59</td>\n",
       "      <td>0.163043</td>\n",
       "    </tr>\n",
       "    <tr>\n",
       "      <th>1</th>\n",
       "      <td>-1</td>\n",
       "      <td>0.36</td>\n",
       "      <td>11.0</td>\n",
       "      <td>19</td>\n",
       "      <td>0.578947</td>\n",
       "      <td>0.54</td>\n",
       "      <td>0.172509</td>\n",
       "    </tr>\n",
       "    <tr>\n",
       "      <th>2</th>\n",
       "      <td>-1</td>\n",
       "      <td>0.37</td>\n",
       "      <td>3.0</td>\n",
       "      <td>6</td>\n",
       "      <td>0.500000</td>\n",
       "      <td>0.54</td>\n",
       "      <td>0.306538</td>\n",
       "    </tr>\n",
       "    <tr>\n",
       "      <th>3</th>\n",
       "      <td>-1</td>\n",
       "      <td>0.41</td>\n",
       "      <td>13.0</td>\n",
       "      <td>27</td>\n",
       "      <td>0.481481</td>\n",
       "      <td>0.52</td>\n",
       "      <td>0.140512</td>\n",
       "    </tr>\n",
       "    <tr>\n",
       "      <th>4</th>\n",
       "      <td>-1</td>\n",
       "      <td>0.43</td>\n",
       "      <td>21.0</td>\n",
       "      <td>35</td>\n",
       "      <td>0.600000</td>\n",
       "      <td>0.51</td>\n",
       "      <td>0.077126</td>\n",
       "    </tr>\n",
       "  </tbody>\n",
       "</table>\n",
       "</div>"
      ],
      "text/plain": [
       "   score  motivated  attended  total  freq_attended  predicted  likelihood\n",
       "0     -1       0.27      14.0     24       0.583333       0.59    0.163043\n",
       "1     -1       0.36      11.0     19       0.578947       0.54    0.172509\n",
       "2     -1       0.37       3.0      6       0.500000       0.54    0.306538\n",
       "3     -1       0.41      13.0     27       0.481481       0.52    0.140512\n",
       "4     -1       0.43      21.0     35       0.600000       0.51    0.077126"
      ]
     },
     "execution_count": 133,
     "metadata": {},
     "output_type": "execute_result"
    }
   ],
   "source": [
    "df=likelihood(df,modelo,parametros)\n",
    "df.head()"
   ]
  },
  {
   "cell_type": "code",
   "execution_count": 5,
   "metadata": {},
   "outputs": [
    {
     "name": "stderr",
     "output_type": "stream",
     "text": [
      "/usr/local/lib/python3.9/site-packages/seaborn/_decorators.py:36: FutureWarning: Pass the following variables as keyword args: x, y. From version 0.12, the only valid positional argument will be `data`, and passing other arguments without an explicit keyword will result in an error or misinterpretation.\n",
      "  warnings.warn(\n"
     ]
    },
    {
     "data": {
      "text/plain": [
       "<AxesSubplot:>"
      ]
     },
     "execution_count": 5,
     "metadata": {},
     "output_type": "execute_result"
    },
    {
     "data": {
      "image/png": "[encoded data removed]",
      "text/plain": [
       "<Figure size 432x288 with 1 Axes>"
      ]
     },
     "metadata": {
      "needs_background": "light"
     },
     "output_type": "display_data"
    }
   ],
   "source": [
    "n=24\n",
    "probs=[]\n",
    "ks=[]\n",
    "for k in range(n+1):\n",
    "    ks.append(k)\n",
    "    probs.append(binom.pmf(k=k,n=n,p=0.59))\n",
    "#    print(f\"k:{k}, prob:{probs[-1]}\")\n",
    "    \n",
    "sns.barplot(ks,probs)"
   ]
  },
  {
   "cell_type": "markdown",
   "metadata": {},
   "source": [
    "Ahora recuperamos los parámetros usando una función de verosimilitud:"
   ]
  },
  {
   "cell_type": "code",
   "execution_count": 168,
   "metadata": {},
   "outputs": [
    {
     "data": {
      "text/plain": [
       "331.2092835661681"
      ]
     },
     "execution_count": 168,
     "metadata": {},
     "output_type": "execute_result"
    }
   ],
   "source": [
    "deviance(parametros,df,modelo)"
   ]
  },
  {
   "cell_type": "code",
   "execution_count": 167,
   "metadata": {},
   "outputs": [
    {
     "name": "stderr",
     "output_type": "stream",
     "text": [
      "/usr/local/lib/python3.9/site-packages/scipy/optimize/_hessian_update_strategy.py:182: UserWarning: delta_grad == 0.0. Check if the approximated function is linear. If the function is linear better results can be obtained by defining the Hessian as zero instead of using quasi-Newton approximations.\n",
      "  warn('delta_grad == 0.0. Check if the approximated '\n"
     ]
    },
    {
     "name": "stdout",
     "output_type": "stream",
     "text": [
      "Parámetros originales:[1, 0.1, 0]\n",
      "Parámetros recuperados:[1.01, 0.14, -0.0]\n",
      "Dev: 362.722824458584\n"
     ]
    },
    {
     "data": {
      "text/plain": [
       "(-1.0, 5.0)"
      ]
     },
     "execution_count": 167,
     "metadata": {},
     "output_type": "execute_result"
    },
    {
     "data": {
      "image/png": "[encoded data removed]",
      "text/plain": [
       "<Figure size 432x288 with 1 Axes>"
      ]
     },
     "metadata": {
      "needs_background": "light"
     },
     "output_type": "display_data"
    }
   ],
   "source": [
    "minimos = [0,0,-1]\n",
    "maximos = [5,.5,1]\n",
    "randomp = [uniform(minimos[i],maximos[i]) for i in range(len(minimos))]\n",
    "res = optimizar(parametros,minimos,maximos,df,modelo)\n",
    "#res = optimizar(randomp,minimos,maximos,df,modelo)\n",
    "pars = [round(x,2) for x in res.x]\n",
    "\n",
    "# Results\n",
    "print(f\"Parámetros originales:{parametros}\")\n",
    "print(f\"Parámetros recuperados:{pars}\")\n",
    "print(f\"Dev: {res.fun}\")\n",
    "\n",
    "fig,ax=plt.subplots()\n",
    "sns.scatterplot(x=parametros, y=pars, ax=ax)\n",
    "ax.set_xlim([-1,5])\n",
    "ax.set_ylim([-1,5])\n"
   ]
  },
  {
   "cell_type": "code",
   "execution_count": 169,
   "metadata": {},
   "outputs": [
    {
     "name": "stderr",
     "output_type": "stream",
     "text": [
      "/usr/local/lib/python3.9/site-packages/scipy/optimize/_hessian_update_strategy.py:182: UserWarning: delta_grad == 0.0. Check if the approximated function is linear. If the function is linear better results can be obtained by defining the Hessian as zero instead of using quasi-Newton approximations.\n",
      "  warn('delta_grad == 0.0. Check if the approximated '\n",
      "/usr/local/lib/python3.9/site-packages/scipy/optimize/_numdiff.py:557: RuntimeWarning: invalid value encountered in subtract\n",
      "  df = fun(x) - f0\n",
      "/usr/local/lib/python3.9/site-packages/scipy/optimize/_trustregion_constr/equality_constrained_sqp.py:152: RuntimeWarning: invalid value encountered in double_scalars\n",
      "  actual_reduction = merit_function - merit_function_next\n"
     ]
    },
    {
     "name": "stdout",
     "output_type": "stream",
     "text": [
      "Parámetros originales:[1, 0.1, 0]\n",
      "Parámetros recuperados:[0.92, 0.11, -0.87]\n",
      "Min dev: 328.7872064605656\n"
     ]
    },
    {
     "data": {
      "text/plain": [
       "(-1.0, 5.0)"
      ]
     },
     "execution_count": 169,
     "metadata": {},
     "output_type": "execute_result"
    },
    {
     "data": {
      "image/png": "[encoded data removed]",
      "text/plain": [
       "<Figure size 432x288 with 1 Axes>"
      ]
     },
     "metadata": {
      "needs_background": "light"
     },
     "output_type": "display_data"
    }
   ],
   "source": [
    "minimos = [0,0,-1]\n",
    "maximos = [5,.5,1]\n",
    "\n",
    "df = obtener_frecuencias(data_sim)\n",
    "pars, dev = best_fit(minimos,maximos,df,modelo,N=100)\n",
    "\n",
    "# Results\n",
    "print(f\"Parámetros originales:{parametros}\")\n",
    "print(f\"Parámetros recuperados:{pars}\")\n",
    "print(f\"Min dev: {dev}\")\n",
    "\n",
    "fig,ax=plt.subplots()\n",
    "sns.scatterplot(x=parametros, y=pars, ax=ax)\n",
    "ax.set_xlim([-1,5])\n",
    "ax.set_ylim([-1,5])"
   ]
  },
  {
   "cell_type": "code",
   "execution_count": 17,
   "metadata": {
    "scrolled": false
   },
   "outputs": [
    {
     "name": "stderr",
     "output_type": "stream",
     "text": [
      "/usr/local/lib/python3.9/site-packages/scipy/optimize/_numdiff.py:557: RuntimeWarning: invalid value encountered in subtract\n",
      "  df = fun(x) - f0\n",
      "/usr/local/lib/python3.9/site-packages/scipy/optimize/_trustregion_constr/equality_constrained_sqp.py:152: RuntimeWarning: invalid value encountered in double_scalars\n",
      "  actual_reduction = merit_function - merit_function_next\n",
      "/usr/local/lib/python3.9/site-packages/scipy/optimize/_hessian_update_strategy.py:182: UserWarning: delta_grad == 0.0. Check if the approximated function is linear. If the function is linear better results can be obtained by defining the Hessian as zero instead of using quasi-Newton approximations.\n",
      "  warn('delta_grad == 0.0. Check if the approximated '\n"
     ]
    }
   ],
   "source": [
    "# Model recovery exercise\n",
    "modelo='win-stay-lose-shift'\n",
    "betas=[0,2,4,6]\n",
    "epsilones=[0,0.05,0.1,0.15]\n",
    "gammas=[-1,0,1]\n",
    "vector_parametros=[betas,epsilones,gammas]\n",
    "lista_parametros,parametros_recuperados,asistencias,puntajes_promedio=model_recovery(modelo,vector_parametros)\n",
    "\n"
   ]
  },
  {
   "cell_type": "code",
   "execution_count": 18,
   "metadata": {},
   "outputs": [
    {
     "data": {
      "image/png": "[encoded data removed]",
      "text/plain": [
       "<Figure size 864x216 with 8 Axes>"
      ]
     },
     "metadata": {
      "needs_background": "light"
     },
     "output_type": "display_data"
    }
   ],
   "source": [
    "u=sorted(list(set([p[0] for p in lista_parametros])))\n",
    "z=puntajes_promedio\n",
    "df=pd.DataFrame(columns=['beta','epsilon','gamma','av_score'])\n",
    "for i,pars in enumerate(lista_parametros):\n",
    "    df.loc[i]=[pars[0],pars[1],pars[2],z[i]]\n",
    "fig,axes=plt.subplots(1,len(u),figsize=(12,3))\n",
    "plt.tight_layout()\n",
    "for ax,i in zip(axes.flatten(), u):\n",
    "    df1=df[df['beta']==i].pivot('epsilon','gamma','av_score')\n",
    "    sns.heatmap(df1,ax=ax)\n",
    "    ax.set_title(i)"
   ]
  },
  {
   "cell_type": "code",
   "execution_count": 19,
   "metadata": {},
   "outputs": [
    {
     "name": "stderr",
     "output_type": "stream",
     "text": [
      "/usr/local/lib/python3.9/site-packages/seaborn/_decorators.py:36: FutureWarning: Pass the following variables as keyword args: x, y. From version 0.12, the only valid positional argument will be `data`, and passing other arguments without an explicit keyword will result in an error or misinterpretation.\n",
      "  warnings.warn(\n",
      "/usr/local/lib/python3.9/site-packages/seaborn/_decorators.py:36: FutureWarning: Pass the following variables as keyword args: x, y. From version 0.12, the only valid positional argument will be `data`, and passing other arguments without an explicit keyword will result in an error or misinterpretation.\n",
      "  warnings.warn(\n",
      "/usr/local/lib/python3.9/site-packages/seaborn/_decorators.py:36: FutureWarning: Pass the following variables as keyword args: x, y. From version 0.12, the only valid positional argument will be `data`, and passing other arguments without an explicit keyword will result in an error or misinterpretation.\n",
      "  warnings.warn(\n"
     ]
    },
    {
     "data": {
      "image/png": "[encoded data removed]",
      "text/plain": [
       "<Figure size 864x288 with 3 Axes>"
      ]
     },
     "metadata": {
      "needs_background": "light"
     },
     "output_type": "display_data"
    }
   ],
   "source": [
    "variables=['beta','epsilon','gamma']\n",
    "fig,axes=plt.subplots(1,3,figsize=(12,4))\n",
    "plt.tight_layout()\n",
    "for ax,var in zip(axes.flatten(), range(len(variables))):\n",
    "    recovery=[(lista_parametros[i][var], parametros_recuperados[i][var]) for i in range(len(lista_parametros))]\n",
    "    x=[r[0] for r in recovery]\n",
    "    y=[r[1] for r in recovery]\n",
    "    sns.scatterplot(x,y,ax=ax)\n",
    "    ax.set_title(variables[var])"
   ]
  },
  {
   "cell_type": "markdown",
   "metadata": {},
   "source": [
    "---\n",
    "\n",
    "Tratando de mejorar el recovery:\n",
    "\n",
    "* Fijar beta en 4 y ajustar fronteras\n",
    "* Aumentar la cantidad de iteraciones de la optimización a 100"
   ]
  },
  {
   "cell_type": "code",
   "execution_count": 29,
   "metadata": {},
   "outputs": [],
   "source": [
    "def model_recovery(modelo,vector_parametros) :\n",
    "    # Game parameters\n",
    "    num_agentes=5\n",
    "    umbral=0.6\n",
    "    num_iteraciones=50\n",
    "    lista_parametros=list(product(*vector_parametros))\n",
    "    parametros_recuperados=[]\n",
    "    asistencias=[]\n",
    "    puntajes_promedio=[]\n",
    "    for parametros in lista_parametros:\n",
    "        # Simulando\n",
    "        data_sim=simulacion(modelo,parametros,num_agentes,umbral,num_iteraciones,Nsim=100)\n",
    "        # Datos relevantes\n",
    "        asistencias.append(data_sim.groupby(['group','round'])['choice'].sum().mean())\n",
    "        puntajes_promedio.append(data_sim['score'].mean())\n",
    "        # Parameter fit\n",
    "        df=obtener_frecuencias(data_sim)\n",
    "        minimos=[3.9,0,-1.2]\n",
    "        maximos=[4.1,.2,1]\n",
    "        pars,dev=best_fit(minimos,maximos,df,modelo,N=100)\n",
    "        parametros_recuperados.append(pars)\n",
    "    return lista_parametros, parametros_recuperados, asistencias, puntajes_promedio"
   ]
  },
  {
   "cell_type": "code",
   "execution_count": 30,
   "metadata": {},
   "outputs": [
    {
     "name": "stderr",
     "output_type": "stream",
     "text": [
      "/usr/local/lib/python3.9/site-packages/scipy/optimize/_numdiff.py:557: RuntimeWarning: invalid value encountered in subtract\n",
      "  df = fun(x) - f0\n",
      "/usr/local/lib/python3.9/site-packages/scipy/optimize/_trustregion_constr/equality_constrained_sqp.py:152: RuntimeWarning: invalid value encountered in double_scalars\n",
      "  actual_reduction = merit_function - merit_function_next\n",
      "/usr/local/lib/python3.9/site-packages/scipy/optimize/_hessian_update_strategy.py:182: UserWarning: delta_grad == 0.0. Check if the approximated function is linear. If the function is linear better results can be obtained by defining the Hessian as zero instead of using quasi-Newton approximations.\n",
      "  warn('delta_grad == 0.0. Check if the approximated '\n"
     ]
    }
   ],
   "source": [
    "# Model recovery exercise\n",
    "modelo='win-stay-lose-shift'\n",
    "betas=[4]\n",
    "epsilones=[0,0.05,0.1,0.15]\n",
    "gammas=[-1,0,1]\n",
    "vector_parametros=[betas,epsilones,gammas]\n",
    "lista_parametros,parametros_recuperados,asistencias,puntajes_promedio=model_recovery(modelo,vector_parametros)\n",
    "\n"
   ]
  },
  {
   "cell_type": "code",
   "execution_count": 35,
   "metadata": {},
   "outputs": [
    {
     "name": "stderr",
     "output_type": "stream",
     "text": [
      "/usr/local/lib/python3.9/site-packages/seaborn/_decorators.py:36: FutureWarning: Pass the following variables as keyword args: x, y. From version 0.12, the only valid positional argument will be `data`, and passing other arguments without an explicit keyword will result in an error or misinterpretation.\n",
      "  warnings.warn(\n",
      "/usr/local/lib/python3.9/site-packages/seaborn/_decorators.py:36: FutureWarning: Pass the following variables as keyword args: x, y. From version 0.12, the only valid positional argument will be `data`, and passing other arguments without an explicit keyword will result in an error or misinterpretation.\n",
      "  warnings.warn(\n"
     ]
    },
    {
     "data": {
      "image/png": "[encoded data removed]",
      "text/plain": [
       "<Figure size 576x288 with 2 Axes>"
      ]
     },
     "metadata": {
      "needs_background": "light"
     },
     "output_type": "display_data"
    }
   ],
   "source": [
    "variables=['epsilon','gamma']\n",
    "fig,axes=plt.subplots(1,2,figsize=(8,4))\n",
    "plt.tight_layout()\n",
    "for ax,k in zip(axes.flatten(), range(len(variables))):\n",
    "    var=k+1\n",
    "    recovery=[(lista_parametros[i][var], parametros_recuperados[i][var]) for i in range(len(lista_parametros))]\n",
    "    x=[r[0] for r in recovery]\n",
    "    y=[r[1] for r in recovery]\n",
    "    sns.scatterplot(x,y,ax=ax)\n",
    "    ax.set_title(variables[var-1])"
   ]
  }
 ],
 "metadata": {
  "colab": {
   "name": "Untitled0.ipynb",
   "provenance": []
  },
  "kernelspec": {
   "display_name": "Python 3",
   "language": "python",
   "name": "python3"
  },
  "language_info": {
   "codemirror_mode": {
    "name": "ipython",
    "version": 3
   },
   "file_extension": ".py",
   "mimetype": "text/x-python",
   "name": "python",
   "nbconvert_exporter": "python",
   "pygments_lexer": "ipython3",
   "version": "3.9.1"
  }
 },
 "nbformat": 4,
 "nbformat_minor": 1
}
