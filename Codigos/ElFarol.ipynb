{
  "cells": [
    {
      "cell_type": "markdown",
      "metadata": {
        "id": "rhcWf_uIbAsK",
        "colab_type": "text"
      },
      "source": [
        "Simulación Modelo El Farol"
      ]
    },
    {
      "cell_type": "markdown",
      "metadata": {
        "id": "n4MuybMsbEZj",
        "colab_type": "text"
      },
      "source": [
        "En el presente modelo, se tiene una población de N individuos."
      ]
    },
    {
      "cell_type": "code",
      "metadata": {
        "id": "_XiMyVHaa_we",
        "colab_type": "code",
        "colab": {}
      },
      "source": [
        ""
      ],
      "execution_count": 0,
      "outputs": []
    },
    {
      "cell_type": "markdown",
      "metadata": {
        "id": "k3FvfX9JbGsq",
        "colab_type": "text"
      },
      "source": [
        "Miguel"
      ]
    },
    {
      "cell_type": "code",
      "metadata": {
        "id": "I2YA5E0BbIBZ",
        "colab_type": "code",
        "colab": {}
      },
      "source": [
        ""
      ],
      "execution_count": 0,
      "outputs": []
    },
    {
      "cell_type": "markdown",
      "metadata": {
        "id": "wJ39jjcYbI1V",
        "colab_type": "text"
      },
      "source": [
        "Juan Luis"
      ]
    },
    {
      "cell_type": "code",
      "metadata": {
        "id": "-3uUM9QUbK3-",
        "colab_type": "code",
        "colab": {}
      },
      "source": [
        ""
      ],
      "execution_count": 0,
      "outputs": []
    },
    {
      "cell_type": "markdown",
      "metadata": {
        "id": "1YlaeeLDbLkM",
        "colab_type": "text"
      },
      "source": [
        "Edgar"
      ]
    },
    {
      "cell_type": "code",
      "metadata": {
        "id": "73I5YcbubMeJ",
        "colab_type": "code",
        "colab": {}
      },
      "source": [
        ""
      ],
      "execution_count": 0,
      "outputs": []
    }
  ],
  "metadata": {
    "colab": {
      "name": "Untitled0.ipynb",
      "provenance": []
    },
    "kernelspec": {
      "name": "python3",
      "display_name": "Python 3"
    }
  },
  "nbformat": 4,
  "nbformat_minor": 0
}