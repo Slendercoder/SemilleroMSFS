{
  "nbformat": 4,
  "nbformat_minor": 0,
  "metadata": {
    "colab": {
      "name": "ElFarol.ipynb",
      "provenance": [],
      "collapsed_sections": []
    },
    "kernelspec": {
      "name": "python3",
      "display_name": "Python 3"
    }
  },
  "cells": [
    {
      "cell_type": "markdown",
      "metadata": {
        "id": "a28_AL_INm7I",
        "colab_type": "text"
      },
      "source": [
        "Simulación modelo El Farol"
      ]
    },
    {
      "cell_type": "markdown",
      "metadata": {
        "id": "uatLw0I7SEBi",
        "colab_type": "text"
      },
      "source": [
        "Nicolás"
      ]
    },
    {
      "cell_type": "code",
      "metadata": {
        "id": "gvuskJjuSFdx",
        "colab_type": "code",
        "colab": {}
      },
      "source": [
        ""
      ],
      "execution_count": 0,
      "outputs": []
    },
    {
      "cell_type": "markdown",
      "metadata": {
        "id": "8sMgHmhOSK1e",
        "colab_type": "text"
      },
      "source": [
        "Miguel\n"
      ]
    },
    {
      "cell_type": "code",
      "metadata": {
        "id": "QYJkdXhMSLho",
        "colab_type": "code",
        "colab": {}
      },
      "source": [
        ""
      ],
      "execution_count": 0,
      "outputs": []
    },
    {
      "cell_type": "markdown",
      "metadata": {
        "id": "-2BYosouSOm0",
        "colab_type": "text"
      },
      "source": [
        "Juan Luis"
      ]
    },
    {
      "cell_type": "code",
      "metadata": {
        "id": "PgD_yUPrSPh3",
        "colab_type": "code",
        "colab": {}
      },
      "source": [
        ""
      ],
      "execution_count": 0,
      "outputs": []
    },
    {
      "cell_type": "markdown",
      "metadata": {
        "id": "LNnwXGmbSRSG",
        "colab_type": "text"
      },
      "source": [
        "Edgar\n"
      ]
    },
    {
      "cell_type": "code",
      "metadata": {
        "id": "EKld6PCvSRpF",
        "colab_type": "code",
        "colab": {}
      },
      "source": [
        ""
      ],
      "execution_count": 0,
      "outputs": []
    }
  ]
}