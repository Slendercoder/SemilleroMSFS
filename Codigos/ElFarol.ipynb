{
  "cells": [
    {
      "cell_type": "markdown",
      "metadata": {
        "id": "a28_AL_INm7I",
        "colab_type": "text"
      },
      "source": [
        "Simulación modelo El Farol"
      ]
    },
    {
      "cell_type": "markdown",
      "metadata": {
        "id": "uatLw0I7SEBi",
        "colab_type": "text"
      },
      "source": [
        "En el siguiente modelo, se tiene una pooblación con N individuos, que toman decisiones a lo largo del tiempo. En cada iteración, los agentes deberán decidir si irán o no al bar El Farol."
      ]
    },
    {
      "cell_type": "code",
      "metadata": {
        "id": "gvuskJjuSFdx",
        "colab_type": "code",
        "colab": {}
      },
      "source": [
        ""
      ],
      "execution_count": 0,
      "outputs": []
    },
    {
      "cell_type": "markdown",
      "metadata": {
        "id": "8sMgHmhOSK1e",
        "colab_type": "text"
      },
      "source": [
        "Miguel\n"
      ]
    },
    {
      "cell_type": "code",
      "metadata": {
        "id": "QYJkdXhMSLho",
        "colab_type": "code",
        "colab": {}
      },
      "source": [
        ""
      ],
      "execution_count": 0,
      "outputs": []
    },
    {
      "cell_type": "markdown",
      "metadata": {
        "id": "-2BYosouSOm0",
        "colab_type": "text"
      },
      "source": [
        "Juan Luis"
      ]
    },
    {
      "cell_type": "code",
      "metadata": {
        "id": "PgD_yUPrSPh3",
        "colab_type": "code",
        "colab": {}
      },
      "source": [
        ""
      ],
      "execution_count": 0,
      "outputs": []
    },
    {
      "cell_type": "markdown",
      "metadata": {
        "id": "LNnwXGmbSRSG",
        "colab_type": "text"
      },
      "source": [
        "Edgar\n"
      ]
    },
    {
      "cell_type": "code",
      "metadata": {
        "id": "EKld6PCvSRpF",
        "colab_type": "code",
        "colab": {}
      },
      "source": [
        ""
      ],
      "execution_count": 0,
      "outputs": []
    }
  ],
  "metadata": {
    "colab": {
      "name": "ElFarol.ipynb",
      "provenance": [],
      "collapsed_sections": []
    },
    "kernelspec": {
      "name": "python3",
      "display_name": "Python 3"
    }
  },
  "nbformat": 4,
  "nbformat_minor": 0
}