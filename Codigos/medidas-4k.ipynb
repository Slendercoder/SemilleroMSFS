{
 "cells": [
  {
   "cell_type": "code",
   "execution_count": 28,
   "metadata": {},
   "outputs": [],
   "source": [
    "import pandas as pd\n",
    "import numpy as np\n",
    "import matplotlib.pyplot as plt\n",
    "import seaborn as sns"
   ]
  },
  {
   "cell_type": "code",
   "execution_count": 29,
   "metadata": {},
   "outputs": [],
   "source": [
    "names1=['Identificador','Numero_agentes','Tipo_red','Agente','Ronda','Estado','Puntaje','Politica','Parametro-0','Parametro-1','Politica_lag','Consistencia']\n",
    "data = pd.read_csv('simulacionesKregular4.csv',names=names1,header=None)"
   ]
  },
  {
   "cell_type": "code",
   "execution_count": 30,
   "metadata": {
    "tags": []
   },
   "outputs": [
    {
     "name": "stdout",
     "output_type": "stream",
     "text": [
      "(1133000, 12)\n"
     ]
    },
    {
     "data": {
      "text/html": [
       "<div>\n",
       "<style scoped>\n",
       "    .dataframe tbody tr th:only-of-type {\n",
       "        vertical-align: middle;\n",
       "    }\n",
       "\n",
       "    .dataframe tbody tr th {\n",
       "        vertical-align: top;\n",
       "    }\n",
       "\n",
       "    .dataframe thead th {\n",
       "        text-align: right;\n",
       "    }\n",
       "</style>\n",
       "<table border=\"1\" class=\"dataframe\">\n",
       "  <thead>\n",
       "    <tr style=\"text-align: right;\">\n",
       "      <th></th>\n",
       "      <th>Identificador</th>\n",
       "      <th>Numero_agentes</th>\n",
       "      <th>Tipo_red</th>\n",
       "      <th>Agente</th>\n",
       "      <th>Ronda</th>\n",
       "      <th>Estado</th>\n",
       "      <th>Puntaje</th>\n",
       "      <th>Politica</th>\n",
       "      <th>Parametro-0</th>\n",
       "      <th>Parametro-1</th>\n",
       "      <th>Politica_lag</th>\n",
       "      <th>Consistencia</th>\n",
       "    </tr>\n",
       "  </thead>\n",
       "  <tbody>\n",
       "    <tr>\n",
       "      <th>0</th>\n",
       "      <td>1200</td>\n",
       "      <td>5</td>\n",
       "      <td>Kregular</td>\n",
       "      <td>0</td>\n",
       "      <td>0</td>\n",
       "      <td>1</td>\n",
       "      <td>1</td>\n",
       "      <td>1</td>\n",
       "      <td>5</td>\n",
       "      <td>4</td>\n",
       "      <td>NaN</td>\n",
       "      <td>NaN</td>\n",
       "    </tr>\n",
       "    <tr>\n",
       "      <th>1</th>\n",
       "      <td>1200</td>\n",
       "      <td>5</td>\n",
       "      <td>Kregular</td>\n",
       "      <td>0</td>\n",
       "      <td>10</td>\n",
       "      <td>0</td>\n",
       "      <td>0</td>\n",
       "      <td>1</td>\n",
       "      <td>5</td>\n",
       "      <td>4</td>\n",
       "      <td>1.0</td>\n",
       "      <td>1.0</td>\n",
       "    </tr>\n",
       "    <tr>\n",
       "      <th>2</th>\n",
       "      <td>1200</td>\n",
       "      <td>5</td>\n",
       "      <td>Kregular</td>\n",
       "      <td>0</td>\n",
       "      <td>20</td>\n",
       "      <td>0</td>\n",
       "      <td>0</td>\n",
       "      <td>1</td>\n",
       "      <td>5</td>\n",
       "      <td>4</td>\n",
       "      <td>1.0</td>\n",
       "      <td>1.0</td>\n",
       "    </tr>\n",
       "    <tr>\n",
       "      <th>3</th>\n",
       "      <td>1200</td>\n",
       "      <td>5</td>\n",
       "      <td>Kregular</td>\n",
       "      <td>0</td>\n",
       "      <td>30</td>\n",
       "      <td>0</td>\n",
       "      <td>0</td>\n",
       "      <td>1</td>\n",
       "      <td>5</td>\n",
       "      <td>4</td>\n",
       "      <td>1.0</td>\n",
       "      <td>1.0</td>\n",
       "    </tr>\n",
       "    <tr>\n",
       "      <th>4</th>\n",
       "      <td>1200</td>\n",
       "      <td>5</td>\n",
       "      <td>Kregular</td>\n",
       "      <td>0</td>\n",
       "      <td>40</td>\n",
       "      <td>0</td>\n",
       "      <td>0</td>\n",
       "      <td>1</td>\n",
       "      <td>5</td>\n",
       "      <td>4</td>\n",
       "      <td>1.0</td>\n",
       "      <td>1.0</td>\n",
       "    </tr>\n",
       "  </tbody>\n",
       "</table>\n",
       "</div>"
      ],
      "text/plain": [
       "   Identificador  Numero_agentes  Tipo_red  Agente  Ronda  Estado  Puntaje  \\\n",
       "0           1200               5  Kregular       0      0       1        1   \n",
       "1           1200               5  Kregular       0     10       0        0   \n",
       "2           1200               5  Kregular       0     20       0        0   \n",
       "3           1200               5  Kregular       0     30       0        0   \n",
       "4           1200               5  Kregular       0     40       0        0   \n",
       "\n",
       "   Politica  Parametro-0  Parametro-1  Politica_lag  Consistencia  \n",
       "0         1            5            4           NaN           NaN  \n",
       "1         1            5            4           1.0           1.0  \n",
       "2         1            5            4           1.0           1.0  \n",
       "3         1            5            4           1.0           1.0  \n",
       "4         1            5            4           1.0           1.0  "
      ]
     },
     "execution_count": 30,
     "metadata": {},
     "output_type": "execute_result"
    }
   ],
   "source": [
    "print(data.shape)\n",
    "data.head()"
   ]
  },
  {
   "cell_type": "code",
   "execution_count": 31,
   "metadata": {},
   "outputs": [],
   "source": [
    "data_full = data.query('Tipo_red==\"Kregular\"').copy()"
   ]
  },
  {
   "cell_type": "code",
   "execution_count": 32,
   "metadata": {},
   "outputs": [
    {
     "data": {
      "text/plain": [
       "array([   5,    6,   10,   11,  101, 1000])"
      ]
     },
     "execution_count": 32,
     "metadata": {},
     "output_type": "execute_result"
    }
   ],
   "source": [
    "data_full.Numero_agentes.unique()"
   ]
  },
  {
   "cell_type": "code",
   "execution_count": 33,
   "metadata": {},
   "outputs": [
    {
     "data": {
      "text/plain": [
       "Numero_agentes\n",
       "5       100\n",
       "6       100\n",
       "10      100\n",
       "11      100\n",
       "101     100\n",
       "1000    100\n",
       "Name: Identificador, dtype: int64"
      ]
     },
     "execution_count": 33,
     "metadata": {},
     "output_type": "execute_result"
    }
   ],
   "source": [
    "experimentos = data_full.groupby('Numero_agentes')['Identificador'].unique()\n",
    "experimentos = experimentos.apply(len)\n",
    "experimentos"
   ]
  },
  {
   "cell_type": "markdown",
   "metadata": {},
   "source": [
    "Medida de asistencia óptima al bar El Farol:\n",
    "\n",
    "Es un número entre 0 y 1, donde 1 significa que en todas las rondas, la asistencia al bar fue de 0.5; 0 significa que o bien la asistencia en todas las rondas fue 0 o 1.\n",
    "\n",
    "$$ 1 - 2*\\sqrt{\\frac{\\sum_{r}(Asistencia_{r} - 0.5)^2}{R}}$$"
   ]
  },
  {
   "cell_type": "code",
   "execution_count": 34,
   "metadata": {},
   "outputs": [
    {
     "data": {
      "text/html": [
       "<div>\n",
       "<style scoped>\n",
       "    .dataframe tbody tr th:only-of-type {\n",
       "        vertical-align: middle;\n",
       "    }\n",
       "\n",
       "    .dataframe tbody tr th {\n",
       "        vertical-align: top;\n",
       "    }\n",
       "\n",
       "    .dataframe thead th {\n",
       "        text-align: right;\n",
       "    }\n",
       "</style>\n",
       "<table border=\"1\" class=\"dataframe\">\n",
       "  <thead>\n",
       "    <tr style=\"text-align: right;\">\n",
       "      <th></th>\n",
       "      <th>Numero_agentes</th>\n",
       "      <th>Identificador</th>\n",
       "      <th>Ronda</th>\n",
       "      <th>Asistencia_total</th>\n",
       "      <th>Asistencia</th>\n",
       "      <th>diferencia_con_umbral</th>\n",
       "    </tr>\n",
       "  </thead>\n",
       "  <tbody>\n",
       "    <tr>\n",
       "      <th>0</th>\n",
       "      <td>5</td>\n",
       "      <td>1200</td>\n",
       "      <td>0</td>\n",
       "      <td>1</td>\n",
       "      <td>0.2</td>\n",
       "      <td>0.09</td>\n",
       "    </tr>\n",
       "    <tr>\n",
       "      <th>1</th>\n",
       "      <td>5</td>\n",
       "      <td>1200</td>\n",
       "      <td>10</td>\n",
       "      <td>3</td>\n",
       "      <td>0.6</td>\n",
       "      <td>0.01</td>\n",
       "    </tr>\n",
       "    <tr>\n",
       "      <th>2</th>\n",
       "      <td>5</td>\n",
       "      <td>1200</td>\n",
       "      <td>20</td>\n",
       "      <td>3</td>\n",
       "      <td>0.6</td>\n",
       "      <td>0.01</td>\n",
       "    </tr>\n",
       "    <tr>\n",
       "      <th>3</th>\n",
       "      <td>5</td>\n",
       "      <td>1200</td>\n",
       "      <td>30</td>\n",
       "      <td>3</td>\n",
       "      <td>0.6</td>\n",
       "      <td>0.01</td>\n",
       "    </tr>\n",
       "    <tr>\n",
       "      <th>4</th>\n",
       "      <td>5</td>\n",
       "      <td>1200</td>\n",
       "      <td>40</td>\n",
       "      <td>3</td>\n",
       "      <td>0.6</td>\n",
       "      <td>0.01</td>\n",
       "    </tr>\n",
       "  </tbody>\n",
       "</table>\n",
       "</div>"
      ],
      "text/plain": [
       "   Numero_agentes  Identificador  Ronda  Asistencia_total  Asistencia  \\\n",
       "0               5           1200      0                 1         0.2   \n",
       "1               5           1200     10                 3         0.6   \n",
       "2               5           1200     20                 3         0.6   \n",
       "3               5           1200     30                 3         0.6   \n",
       "4               5           1200     40                 3         0.6   \n",
       "\n",
       "   diferencia_con_umbral  \n",
       "0                   0.09  \n",
       "1                   0.01  \n",
       "2                   0.01  \n",
       "3                   0.01  \n",
       "4                   0.01  "
      ]
     },
     "execution_count": 34,
     "metadata": {},
     "output_type": "execute_result"
    }
   ],
   "source": [
    "aux = data_full.groupby(['Numero_agentes', 'Identificador', 'Ronda'])['Estado']\\\n",
    "    .sum().reset_index()\n",
    "aux.columns = ['Numero_agentes',\n",
    "               'Identificador',\n",
    "               'Ronda', \n",
    "               'Asistencia_total']\n",
    "\n",
    "# Proporción de asistencia\n",
    "aux['Asistencia'] = aux['Asistencia_total']/aux['Numero_agentes']\n",
    "# Distancia al cuadrado entre proporción de asistencia y 0.5\n",
    "aux['diferencia_con_umbral'] = (aux['Asistencia'] - 0.5)*(aux['Asistencia'] - 0.5)\n",
    "aux.head()"
   ]
  },
  {
   "cell_type": "code",
   "execution_count": 35,
   "metadata": {},
   "outputs": [
    {
     "data": {
      "text/plain": [
       "91"
      ]
     },
     "execution_count": 35,
     "metadata": {},
     "output_type": "execute_result"
    }
   ],
   "source": [
    "num_rondas = aux.Ronda.max() + 1\n",
    "num_rondas"
   ]
  },
  {
   "cell_type": "code",
   "execution_count": 36,
   "metadata": {},
   "outputs": [
    {
     "data": {
      "text/html": [
       "<div>\n",
       "<style scoped>\n",
       "    .dataframe tbody tr th:only-of-type {\n",
       "        vertical-align: middle;\n",
       "    }\n",
       "\n",
       "    .dataframe tbody tr th {\n",
       "        vertical-align: top;\n",
       "    }\n",
       "\n",
       "    .dataframe thead th {\n",
       "        text-align: right;\n",
       "    }\n",
       "</style>\n",
       "<table border=\"1\" class=\"dataframe\">\n",
       "  <thead>\n",
       "    <tr style=\"text-align: right;\">\n",
       "      <th></th>\n",
       "      <th>Numero_agentes</th>\n",
       "      <th>Identificador</th>\n",
       "      <th>diferencia_con_umbral</th>\n",
       "      <th>Asistencia_optima</th>\n",
       "    </tr>\n",
       "  </thead>\n",
       "  <tbody>\n",
       "    <tr>\n",
       "      <th>0</th>\n",
       "      <td>5</td>\n",
       "      <td>1200</td>\n",
       "      <td>0.18</td>\n",
       "      <td>0.911050</td>\n",
       "    </tr>\n",
       "    <tr>\n",
       "      <th>1</th>\n",
       "      <td>5</td>\n",
       "      <td>1201</td>\n",
       "      <td>0.82</td>\n",
       "      <td>0.810148</td>\n",
       "    </tr>\n",
       "    <tr>\n",
       "      <th>2</th>\n",
       "      <td>5</td>\n",
       "      <td>1202</td>\n",
       "      <td>0.18</td>\n",
       "      <td>0.911050</td>\n",
       "    </tr>\n",
       "    <tr>\n",
       "      <th>3</th>\n",
       "      <td>5</td>\n",
       "      <td>1203</td>\n",
       "      <td>2.26</td>\n",
       "      <td>0.684816</td>\n",
       "    </tr>\n",
       "    <tr>\n",
       "      <th>4</th>\n",
       "      <td>5</td>\n",
       "      <td>1204</td>\n",
       "      <td>2.34</td>\n",
       "      <td>0.679287</td>\n",
       "    </tr>\n",
       "  </tbody>\n",
       "</table>\n",
       "</div>"
      ],
      "text/plain": [
       "   Numero_agentes  Identificador  diferencia_con_umbral  Asistencia_optima\n",
       "0               5           1200                   0.18           0.911050\n",
       "1               5           1201                   0.82           0.810148\n",
       "2               5           1202                   0.18           0.911050\n",
       "3               5           1203                   2.26           0.684816\n",
       "4               5           1204                   2.34           0.679287"
      ]
     },
     "execution_count": 36,
     "metadata": {},
     "output_type": "execute_result"
    }
   ],
   "source": [
    "df = aux.groupby(['Numero_agentes', 'Identificador'])['diferencia_con_umbral'].sum().reset_index()\n",
    "df['Asistencia_optima'] = df['diferencia_con_umbral']/num_rondas\n",
    "df['Asistencia_optima'] = 1 - 2 * np.sqrt(df['Asistencia_optima'])\n",
    "df.head()"
   ]
  },
  {
   "cell_type": "code",
   "execution_count": 37,
   "metadata": {
    "scrolled": true
   },
   "outputs": [
    {
     "data": {
      "text/plain": [
       "count    600.000000\n",
       "mean       0.839610\n",
       "std        0.123222\n",
       "min        0.668503\n",
       "25%        0.685370\n",
       "50%        0.874206\n",
       "75%        0.959568\n",
       "max        1.000000\n",
       "Name: Asistencia_optima, dtype: float64"
      ]
     },
     "execution_count": 37,
     "metadata": {},
     "output_type": "execute_result"
    }
   ],
   "source": [
    "df['Asistencia_optima'].describe()"
   ]
  },
  {
   "cell_type": "code",
   "execution_count": 62,
   "metadata": {},
   "outputs": [
    {
     "data": {
      "image/png": "[encoded data removed]",
      "text/plain": [
       "<Figure size 720x720 with 6 Axes>"
      ]
     },
     "metadata": {
      "needs_background": "light"
     },
     "output_type": "display_data"
    }
   ],
   "source": [
    "fig = plt.figure(figsize=(10,10))\n",
    "contador = 1\n",
    "for n,grp in df.groupby('Numero_agentes'):\n",
    "    ax = fig.add_subplot(2,3,contador)\n",
    "    grp['Asistencia_optima'].hist(bins = 20)\n",
    "    ax.set_title('Numero de agentes '+str(n))\n",
    "    contador += 1\n",
    "    ax.set_xlim([0.5,1])\n",
    "    ax.set_xlabel('Asistencia óptima')\n",
    "    ax.set_ylabel('Frecuencia')"
   ]
  },
  {
   "cell_type": "code",
   "execution_count": 39,
   "metadata": {},
   "outputs": [
    {
     "data": {
      "text/plain": [
       "Text(0, 0.5, 'Promedio asistencia óptima\\nsobre 100 simulaciones')"
      ]
     },
     "execution_count": 39,
     "metadata": {},
     "output_type": "execute_result"
    },
    {
     "data": {
      "image/png": "[encoded data removed]",
      "text/plain": [
       "<Figure size 720x360 with 1 Axes>"
      ]
     },
     "metadata": {
      "needs_background": "light"
     },
     "output_type": "display_data"
    }
   ],
   "source": [
    "fig = plt.subplots(figsize=(10,5))\n",
    "sns.lineplot(x=df['Numero_agentes'], y=df['Asistencia_optima'])\n",
    "plt.xlabel('Número de agentes')\n",
    "plt.ylabel('Promedio asistencia óptima\\nsobre 100 simulaciones')"
   ]
  },
  {
   "cell_type": "markdown",
   "metadata": {},
   "source": [
    "Medida de recompensa total:\n",
    "\n",
    "$$\\frac{\\sum_{a, r} recompensa(a, r)}{A*R}$$"
   ]
  },
  {
   "cell_type": "code",
   "execution_count": 50,
   "metadata": {},
   "outputs": [
    {
     "data": {
      "text/plain": [
       "count    600.000000\n",
       "mean      -0.022852\n",
       "std        0.048038\n",
       "min       -0.109890\n",
       "25%       -0.073352\n",
       "50%       -0.006593\n",
       "75%        0.007861\n",
       "max        0.054945\n",
       "Name: Puntaje promedio, dtype: float64"
      ]
     },
     "execution_count": 50,
     "metadata": {},
     "output_type": "execute_result"
    }
   ],
   "source": [
    "data_recomp = data.groupby(['Numero_agentes', 'Identificador'])[\"Puntaje\"].sum().reset_index()\n",
    "data_recomp[\"Puntaje promedio\"]=data_recomp[\"Puntaje\"]/(num_rondas*data_recomp[\"Numero_agentes\"])\n",
    "data_recomp['Puntaje promedio'].describe()\n"
   ]
  },
  {
   "cell_type": "code",
   "execution_count": 51,
   "metadata": {},
   "outputs": [
    {
     "data": {
      "text/plain": [
       "Text(0, 0.5, 'Promedio puntaje \\nsobre 100 simulaciones')"
      ]
     },
     "execution_count": 51,
     "metadata": {},
     "output_type": "execute_result"
    },
    {
     "data": {
      "image/png": "[encoded data removed]",
      "text/plain": [
       "<Figure size 720x360 with 1 Axes>"
      ]
     },
     "metadata": {
      "needs_background": "light"
     },
     "output_type": "display_data"
    }
   ],
   "source": [
    "fig = plt.subplots(figsize=(10,5))\n",
    "sns.lineplot(x=data_recomp['Numero_agentes'], y=data_recomp['Puntaje promedio'])\n",
    "plt.xlabel('Número de agentes')\n",
    "plt.ylabel('Promedio puntaje \\nsobre 100 simulaciones')"
   ]
  },
  {
   "cell_type": "markdown",
   "metadata": {},
   "source": [
    "Medida de equidad en al distribución de recursos:\n",
    "\n",
    "Índice de Gini:\n",
    "$X_{j}$ : Puntaje acumulado del agente $j$  \n",
    "$$N+1-2\\frac{\\sum_{i=1}^N\\sum_{j=1}^i X_{j}}{\\sum_{k=1}^N X_{k}}$$"
   ]
  },
  {
   "cell_type": "code",
   "execution_count": 42,
   "metadata": {},
   "outputs": [],
   "source": [
    "def gini(x):\n",
    "        # The rest of the code requires numpy arrays.\n",
    "        x = np.asarray(x) #convierte x en un vector\n",
    "        sorted_x = np.sort(x) #los organiza de menor a mayor\n",
    "        n = len(x) #tamaño del vector x\n",
    "        cumx = np.cumsum(sorted_x, dtype=float)# va haciendo la suma acumulativa\n",
    "        gini = (n + 1 - 2 * np.sum(cumx) / cumx[-1]) / n #esta es una formula muy rara, esta en alternate expression de Wikipedia\n",
    "        pe_line = np.linspace(start=0.0, stop=1.0, num=len(cumx))\n",
    "        area_under_lorenz = np.trapz(y=cumx, dx=1/len(cumx)) #area de la suma acumulada, zona azul\n",
    "        area_under_pe = np.trapz(y=pe_line, dx=1/len(cumx)) #area de la linea perfecta, caso perfecto\n",
    "        cumx=cumx/cumx[-1] #normalizando para que se vea en la grafica bien\n",
    "        # The above formula, with all weights equal to 1 simplifies to:\n",
    "        return gini, pe_line,area_under_lorenz,area_under_pe,cumx"
   ]
  },
  {
   "cell_type": "code",
   "execution_count": 43,
   "metadata": {
    "tags": []
   },
   "outputs": [
    {
     "data": {
      "image/png": "[encoded data removed]",
      "text/plain": [
       "<Figure size 432x288 with 1 Axes>"
      ]
     },
     "metadata": {
      "needs_background": "light"
     },
     "output_type": "display_data"
    }
   ],
   "source": [
    "gini, pe_line,area_under_lorenz,area_under_pe,cumx = gini([1,1,0,0])\n",
    "from matplotlib import pyplot as plt\n",
    "\n",
    "plt.plot(pe_line, cumx, label='Curva Lorenz')\n",
    "plt.plot(pe_line, pe_line, label='Igualdad Perfecto')\n",
    "plt.fill_between(pe_line, cumx)\n",
    "plt.title('Gini: {}'.format(gini), fontsize=20)\n",
    "plt.ylabel('Porcentaje de acumulación', fontsize=15)\n",
    "plt.xlabel('Quintiles de ingreso (Menor a mayor)', fontsize=15)\n",
    "plt.legend()\n",
    "plt.tight_layout()\n",
    "plt.show()"
   ]
  },
  {
   "cell_type": "code",
   "execution_count": 65,
   "metadata": {},
   "outputs": [],
   "source": [
    "def gini1(x):\n",
    "    x = np.asarray(x) \n",
    "    sorted_x = np.sort(x) \n",
    "    n = len(x) \n",
    "    cumx = np.cumsum(sorted_x, dtype=float)\n",
    "    try:\n",
    "        gini = (n + 1 - 2 * np.sum(cumx) / cumx[-1]) / n\n",
    "    except:\n",
    "        gini = 0\n",
    "    return np.round(gini,3)"
   ]
  },
  {
   "cell_type": "code",
   "execution_count": 66,
   "metadata": {},
   "outputs": [
    {
     "data": {
      "text/html": [
       "<div>\n",
       "<style scoped>\n",
       "    .dataframe tbody tr th:only-of-type {\n",
       "        vertical-align: middle;\n",
       "    }\n",
       "\n",
       "    .dataframe tbody tr th {\n",
       "        vertical-align: top;\n",
       "    }\n",
       "\n",
       "    .dataframe thead th {\n",
       "        text-align: right;\n",
       "    }\n",
       "</style>\n",
       "<table border=\"1\" class=\"dataframe\">\n",
       "  <thead>\n",
       "    <tr style=\"text-align: right;\">\n",
       "      <th></th>\n",
       "      <th>Numero_agentes</th>\n",
       "      <th>Identificador</th>\n",
       "      <th>Agente</th>\n",
       "      <th>Puntaje normalizado</th>\n",
       "    </tr>\n",
       "  </thead>\n",
       "  <tbody>\n",
       "    <tr>\n",
       "      <th>0</th>\n",
       "      <td>5</td>\n",
       "      <td>1200</td>\n",
       "      <td>0</td>\n",
       "      <td>11</td>\n",
       "    </tr>\n",
       "    <tr>\n",
       "      <th>1</th>\n",
       "      <td>5</td>\n",
       "      <td>1200</td>\n",
       "      <td>1</td>\n",
       "      <td>1</td>\n",
       "    </tr>\n",
       "    <tr>\n",
       "      <th>2</th>\n",
       "      <td>5</td>\n",
       "      <td>1200</td>\n",
       "      <td>2</td>\n",
       "      <td>1</td>\n",
       "    </tr>\n",
       "    <tr>\n",
       "      <th>3</th>\n",
       "      <td>5</td>\n",
       "      <td>1200</td>\n",
       "      <td>3</td>\n",
       "      <td>1</td>\n",
       "    </tr>\n",
       "    <tr>\n",
       "      <th>4</th>\n",
       "      <td>5</td>\n",
       "      <td>1200</td>\n",
       "      <td>4</td>\n",
       "      <td>10</td>\n",
       "    </tr>\n",
       "  </tbody>\n",
       "</table>\n",
       "</div>"
      ],
      "text/plain": [
       "   Numero_agentes  Identificador  Agente  Puntaje normalizado\n",
       "0               5           1200       0                   11\n",
       "1               5           1200       1                    1\n",
       "2               5           1200       2                    1\n",
       "3               5           1200       3                    1\n",
       "4               5           1200       4                   10"
      ]
     },
     "execution_count": 66,
     "metadata": {},
     "output_type": "execute_result"
    }
   ],
   "source": [
    "data_aux = data.copy()\n",
    "data_aux['Puntaje normalizado'] = data_aux['Puntaje'] + 1\n",
    "data_aux = data_aux.groupby(['Numero_agentes', 'Identificador', 'Agente'])['Puntaje normalizado'].sum().reset_index()\n",
    "data_aux.head()"
   ]
  },
  {
   "cell_type": "code",
   "execution_count": 67,
   "metadata": {},
   "outputs": [
    {
     "name": "stderr",
     "output_type": "stream",
     "text": [
      "/usr/local/lib/python3.7/site-packages/ipykernel_launcher.py:7: RuntimeWarning: invalid value encountered in double_scalars\n",
      "  import sys\n"
     ]
    },
    {
     "data": {
      "text/html": [
       "<div>\n",
       "<style scoped>\n",
       "    .dataframe tbody tr th:only-of-type {\n",
       "        vertical-align: middle;\n",
       "    }\n",
       "\n",
       "    .dataframe tbody tr th {\n",
       "        vertical-align: top;\n",
       "    }\n",
       "\n",
       "    .dataframe thead th {\n",
       "        text-align: right;\n",
       "    }\n",
       "</style>\n",
       "<table border=\"1\" class=\"dataframe\">\n",
       "  <thead>\n",
       "    <tr style=\"text-align: right;\">\n",
       "      <th></th>\n",
       "      <th>Numero_agentes</th>\n",
       "      <th>Identificador</th>\n",
       "      <th>Agente</th>\n",
       "      <th>Puntaje normalizado</th>\n",
       "      <th>Gini</th>\n",
       "    </tr>\n",
       "  </thead>\n",
       "  <tbody>\n",
       "    <tr>\n",
       "      <th>0</th>\n",
       "      <td>5</td>\n",
       "      <td>1200</td>\n",
       "      <td>0</td>\n",
       "      <td>11</td>\n",
       "      <td>0.483</td>\n",
       "    </tr>\n",
       "    <tr>\n",
       "      <th>1</th>\n",
       "      <td>5</td>\n",
       "      <td>1200</td>\n",
       "      <td>1</td>\n",
       "      <td>1</td>\n",
       "      <td>0.483</td>\n",
       "    </tr>\n",
       "    <tr>\n",
       "      <th>2</th>\n",
       "      <td>5</td>\n",
       "      <td>1200</td>\n",
       "      <td>2</td>\n",
       "      <td>1</td>\n",
       "      <td>0.483</td>\n",
       "    </tr>\n",
       "    <tr>\n",
       "      <th>3</th>\n",
       "      <td>5</td>\n",
       "      <td>1200</td>\n",
       "      <td>3</td>\n",
       "      <td>1</td>\n",
       "      <td>0.483</td>\n",
       "    </tr>\n",
       "    <tr>\n",
       "      <th>4</th>\n",
       "      <td>5</td>\n",
       "      <td>1200</td>\n",
       "      <td>4</td>\n",
       "      <td>10</td>\n",
       "      <td>0.483</td>\n",
       "    </tr>\n",
       "    <tr>\n",
       "      <th>...</th>\n",
       "      <td>...</td>\n",
       "      <td>...</td>\n",
       "      <td>...</td>\n",
       "      <td>...</td>\n",
       "      <td>...</td>\n",
       "    </tr>\n",
       "    <tr>\n",
       "      <th>113295</th>\n",
       "      <td>1000</td>\n",
       "      <td>1799</td>\n",
       "      <td>995</td>\n",
       "      <td>9</td>\n",
       "      <td>0.065</td>\n",
       "    </tr>\n",
       "    <tr>\n",
       "      <th>113296</th>\n",
       "      <td>1000</td>\n",
       "      <td>1799</td>\n",
       "      <td>996</td>\n",
       "      <td>10</td>\n",
       "      <td>0.065</td>\n",
       "    </tr>\n",
       "    <tr>\n",
       "      <th>113297</th>\n",
       "      <td>1000</td>\n",
       "      <td>1799</td>\n",
       "      <td>997</td>\n",
       "      <td>10</td>\n",
       "      <td>0.065</td>\n",
       "    </tr>\n",
       "    <tr>\n",
       "      <th>113298</th>\n",
       "      <td>1000</td>\n",
       "      <td>1799</td>\n",
       "      <td>998</td>\n",
       "      <td>11</td>\n",
       "      <td>0.065</td>\n",
       "    </tr>\n",
       "    <tr>\n",
       "      <th>113299</th>\n",
       "      <td>1000</td>\n",
       "      <td>1799</td>\n",
       "      <td>999</td>\n",
       "      <td>8</td>\n",
       "      <td>0.065</td>\n",
       "    </tr>\n",
       "  </tbody>\n",
       "</table>\n",
       "<p>113300 rows × 5 columns</p>\n",
       "</div>"
      ],
      "text/plain": [
       "        Numero_agentes  Identificador  Agente  Puntaje normalizado   Gini\n",
       "0                    5           1200       0                   11  0.483\n",
       "1                    5           1200       1                    1  0.483\n",
       "2                    5           1200       2                    1  0.483\n",
       "3                    5           1200       3                    1  0.483\n",
       "4                    5           1200       4                   10  0.483\n",
       "...                ...            ...     ...                  ...    ...\n",
       "113295            1000           1799     995                    9  0.065\n",
       "113296            1000           1799     996                   10  0.065\n",
       "113297            1000           1799     997                   10  0.065\n",
       "113298            1000           1799     998                   11  0.065\n",
       "113299            1000           1799     999                    8  0.065\n",
       "\n",
       "[113300 rows x 5 columns]"
      ]
     },
     "execution_count": 67,
     "metadata": {},
     "output_type": "execute_result"
    }
   ],
   "source": [
    "data_aux['Gini'] = data_aux.groupby(['Numero_agentes','Identificador'])['Puntaje normalizado'].transform(func = gini1)\n",
    "data_aux"
   ]
  },
  {
   "cell_type": "code",
   "execution_count": 68,
   "metadata": {},
   "outputs": [
    {
     "data": {
      "text/plain": [
       "(600, 3)"
      ]
     },
     "execution_count": 68,
     "metadata": {},
     "output_type": "execute_result"
    }
   ],
   "source": [
    "data_gini = data_aux.groupby(['Numero_agentes', 'Identificador']).agg({'Gini':'first'}).reset_index()\n",
    "data_gini.shape"
   ]
  },
  {
   "cell_type": "code",
   "execution_count": 69,
   "metadata": {},
   "outputs": [
    {
     "data": {
      "text/plain": [
       "False    598\n",
       "True       2\n",
       "Name: Gini, dtype: int64"
      ]
     },
     "execution_count": 69,
     "metadata": {},
     "output_type": "execute_result"
    }
   ],
   "source": [
    "data_gini['Gini'].isna().value_counts()"
   ]
  },
  {
   "cell_type": "code",
   "execution_count": 71,
   "metadata": {},
   "outputs": [
    {
     "data": {
      "image/png": "[encoded data removed]",
      "text/plain": [
       "<Figure size 720x720 with 6 Axes>"
      ]
     },
     "metadata": {
      "needs_background": "light"
     },
     "output_type": "display_data"
    }
   ],
   "source": [
    "fig = plt.figure(figsize=(10,10))\n",
    "contador = 1\n",
    "for n,grp in data_gini.groupby('Numero_agentes'):\n",
    "    ax = fig.add_subplot(2,3,contador)\n",
    "    grp['Gini'].hist(bins = 10)\n",
    "    ax.set_title('Numero de agentes '+str(n))\n",
    "    contador += 1\n",
    "    ax.set_xlim([0,1])\n",
    "    ax.set_xlabel('Indice Gini')\n",
    "    ax.set_ylabel('Frecuencia')"
   ]
  },
  {
   "cell_type": "markdown",
   "metadata": {},
   "source": [
    "Links:\n",
    "\n",
    "* https://stackoverflow.com/questions/31416664/python-gini-coefficient-calculation-using-numpy?noredirect=1&lq=1\n",
    "* https://stackoverflow.com/questions/48999542/more-efficient-weighted-gini-coefficient-in-python?noredirect=1&lq=1"
   ]
  },
  {
   "cell_type": "code",
   "execution_count": null,
   "metadata": {},
   "outputs": [],
   "source": []
  }
 ],
 "metadata": {
  "kernelspec": {
   "display_name": "Python 3",
   "language": "python",
   "name": "python3"
  },
  "language_info": {
   "codemirror_mode": {
    "name": "ipython",
    "version": 3
   },
   "file_extension": ".py",
   "mimetype": "text/x-python",
   "name": "python",
   "nbconvert_exporter": "python",
   "pygments_lexer": "ipython3",
   "version": "3.7.7"
  }
 },
 "nbformat": 4,
 "nbformat_minor": 4
}
