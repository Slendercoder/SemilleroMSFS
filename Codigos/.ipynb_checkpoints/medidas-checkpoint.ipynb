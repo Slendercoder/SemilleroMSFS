{
 "cells": [
  {
   "cell_type": "code",
   "execution_count": 1,
   "metadata": {},
   "outputs": [],
   "source": [
    "import pandas as pd\n",
    "import numpy as np\n",
    "import matplotlib.pyplot as plt\n",
    "import seaborn as sns"
   ]
  },
  {
   "cell_type": "code",
   "execution_count": 2,
   "metadata": {},
   "outputs": [],
   "source": [
    "data = pd.read_csv('simulacionesFull1.csv')\n",
    "#data = pd.read_csv('simulacionesFull1.csv', header = None, names = ['Identificador','Numero_agentes','Tipo_red','Agente','Ronda','Estado','Puntaje','Politica','Parametro-0','Parametro-1','Politica_lag','Consistencia'])"
   ]
  },
  {
   "cell_type": "code",
<<<<<<< HEAD
   "execution_count": 3,
=======
   "execution_count": 4,
>>>>>>> 385e2055146315286c62664b780881aa3ccdee3d
   "metadata": {
    "tags": []
   },
   "outputs": [
    {
     "name": "stdout",
     "output_type": "stream",
     "text": [
      "(1133000, 12)\n"
     ]
    },
    {
     "data": {
      "text/html": [
       "<div>\n",
       "<style scoped>\n",
       "    .dataframe tbody tr th:only-of-type {\n",
       "        vertical-align: middle;\n",
       "    }\n",
       "\n",
       "    .dataframe tbody tr th {\n",
       "        vertical-align: top;\n",
       "    }\n",
       "\n",
       "    .dataframe thead th {\n",
       "        text-align: right;\n",
       "    }\n",
       "</style>\n",
       "<table border=\"1\" class=\"dataframe\">\n",
       "  <thead>\n",
       "    <tr style=\"text-align: right;\">\n",
       "      <th></th>\n",
       "      <th>Identificador</th>\n",
       "      <th>Numero_agentes</th>\n",
       "      <th>Tipo_red</th>\n",
       "      <th>Agente</th>\n",
       "      <th>Ronda</th>\n",
       "      <th>Estado</th>\n",
       "      <th>Puntaje</th>\n",
       "      <th>Politica</th>\n",
       "      <th>Parametro-0</th>\n",
       "      <th>Parametro-1</th>\n",
       "      <th>Politica_lag</th>\n",
       "      <th>Consistencia</th>\n",
       "    </tr>\n",
       "  </thead>\n",
       "  <tbody>\n",
       "    <tr>\n",
       "      <th>0</th>\n",
       "      <td>0</td>\n",
       "      <td>5</td>\n",
       "      <td>Full</td>\n",
       "      <td>0</td>\n",
       "      <td>0</td>\n",
       "      <td>0</td>\n",
       "      <td>0</td>\n",
       "      <td>7</td>\n",
       "      <td>5</td>\n",
       "      <td>1</td>\n",
       "      <td>NaN</td>\n",
       "      <td>NaN</td>\n",
       "    </tr>\n",
       "    <tr>\n",
       "      <th>1</th>\n",
       "      <td>0</td>\n",
       "      <td>5</td>\n",
       "      <td>Full</td>\n",
       "      <td>0</td>\n",
       "      <td>10</td>\n",
       "      <td>1</td>\n",
       "      <td>-1</td>\n",
       "      <td>7</td>\n",
       "      <td>5</td>\n",
       "      <td>1</td>\n",
       "      <td>7.0</td>\n",
       "      <td>1.0</td>\n",
       "    </tr>\n",
       "    <tr>\n",
       "      <th>2</th>\n",
       "      <td>0</td>\n",
       "      <td>5</td>\n",
       "      <td>Full</td>\n",
       "      <td>0</td>\n",
       "      <td>20</td>\n",
       "      <td>1</td>\n",
       "      <td>-1</td>\n",
       "      <td>7</td>\n",
       "      <td>5</td>\n",
       "      <td>1</td>\n",
       "      <td>7.0</td>\n",
       "      <td>1.0</td>\n",
       "    </tr>\n",
       "    <tr>\n",
       "      <th>3</th>\n",
       "      <td>0</td>\n",
       "      <td>5</td>\n",
       "      <td>Full</td>\n",
       "      <td>0</td>\n",
       "      <td>30</td>\n",
       "      <td>1</td>\n",
       "      <td>-1</td>\n",
       "      <td>7</td>\n",
       "      <td>5</td>\n",
       "      <td>1</td>\n",
       "      <td>7.0</td>\n",
       "      <td>1.0</td>\n",
       "    </tr>\n",
       "    <tr>\n",
       "      <th>4</th>\n",
       "      <td>0</td>\n",
       "      <td>5</td>\n",
       "      <td>Full</td>\n",
       "      <td>0</td>\n",
       "      <td>40</td>\n",
       "      <td>1</td>\n",
       "      <td>-1</td>\n",
       "      <td>7</td>\n",
       "      <td>5</td>\n",
       "      <td>1</td>\n",
       "      <td>7.0</td>\n",
       "      <td>1.0</td>\n",
       "    </tr>\n",
       "  </tbody>\n",
       "</table>\n",
       "</div>"
      ],
      "text/plain": [
       "   Identificador  Numero_agentes Tipo_red  Agente  Ronda  Estado  Puntaje  \\\n",
       "0              0               5     Full       0      0       0        0   \n",
       "1              0               5     Full       0     10       1       -1   \n",
       "2              0               5     Full       0     20       1       -1   \n",
       "3              0               5     Full       0     30       1       -1   \n",
       "4              0               5     Full       0     40       1       -1   \n",
       "\n",
       "   Politica  Parametro-0  Parametro-1  Politica_lag  Consistencia  \n",
       "0         7            5            1           NaN           NaN  \n",
       "1         7            5            1           7.0           1.0  \n",
       "2         7            5            1           7.0           1.0  \n",
       "3         7            5            1           7.0           1.0  \n",
       "4         7            5            1           7.0           1.0  "
      ]
     },
<<<<<<< HEAD
     "execution_count": 3,
=======
     "execution_count": 4,
>>>>>>> 385e2055146315286c62664b780881aa3ccdee3d
     "metadata": {},
     "output_type": "execute_result"
    }
   ],
   "source": [
    "print(data.shape)\n",
    "data.head()"
   ]
  },
  {
   "cell_type": "code",
<<<<<<< HEAD
   "execution_count": 4,
=======
   "execution_count": 5,
>>>>>>> 385e2055146315286c62664b780881aa3ccdee3d
   "metadata": {},
   "outputs": [],
   "source": [
    "data_full = data.query('Tipo_red==\"Full\"').copy()"
   ]
  },
  {
   "cell_type": "code",
<<<<<<< HEAD
   "execution_count": 5,
=======
   "execution_count": 6,
>>>>>>> 385e2055146315286c62664b780881aa3ccdee3d
   "metadata": {},
   "outputs": [
    {
     "data": {
      "text/plain": [
       "array([   5,    6,   10,   11,  101, 1000])"
      ]
     },
<<<<<<< HEAD
     "execution_count": 5,
=======
     "execution_count": 6,
>>>>>>> 385e2055146315286c62664b780881aa3ccdee3d
     "metadata": {},
     "output_type": "execute_result"
    }
   ],
   "source": [
    "data_full.Numero_agentes.unique()"
   ]
  },
  {
   "cell_type": "code",
<<<<<<< HEAD
   "execution_count": 13,
=======
   "execution_count": 7,
>>>>>>> 385e2055146315286c62664b780881aa3ccdee3d
   "metadata": {},
   "outputs": [
    {
     "data": {
      "text/plain": [
       "Numero_agentes\n",
       "5       100\n",
       "6       100\n",
       "10      100\n",
       "11      100\n",
       "101     100\n",
       "1000    100\n",
       "Name: Identificador, dtype: int64"
      ]
     },
<<<<<<< HEAD
     "execution_count": 13,
=======
     "execution_count": 7,
>>>>>>> 385e2055146315286c62664b780881aa3ccdee3d
     "metadata": {},
     "output_type": "execute_result"
    }
   ],
   "source": [
    "experimentos = data_full.groupby('Numero_agentes')['Identificador'].unique()\n",
    "experimentos = experimentos.apply(len)\n",
    "experimentos"
   ]
  },
  {
   "cell_type": "markdown",
   "metadata": {},
   "source": [
    "Medida de asistencia óptima al bar El Farol:\n",
    "\n",
    "Es un número entre 0 y 1, donde 1 significa que en todas las rondas, la asistencia al bar fue de 0.5; 0 significa que o bien la asistencia en todas las rondas fue 0 o 1.\n",
    "\n",
    "$$ 1 - 2*\\sqrt{\\frac{\\sum_{r}(Asistencia_{r} - 0.5)^2}{R}}$$"
   ]
  },
  {
   "cell_type": "code",
<<<<<<< HEAD
   "execution_count": 14,
=======
   "execution_count": 8,
>>>>>>> 385e2055146315286c62664b780881aa3ccdee3d
   "metadata": {},
   "outputs": [
    {
     "data": {
      "text/html": [
       "<div>\n",
       "<style scoped>\n",
       "    .dataframe tbody tr th:only-of-type {\n",
       "        vertical-align: middle;\n",
       "    }\n",
       "\n",
       "    .dataframe tbody tr th {\n",
       "        vertical-align: top;\n",
       "    }\n",
       "\n",
       "    .dataframe thead th {\n",
       "        text-align: right;\n",
       "    }\n",
       "</style>\n",
       "<table border=\"1\" class=\"dataframe\">\n",
       "  <thead>\n",
       "    <tr style=\"text-align: right;\">\n",
       "      <th></th>\n",
       "      <th>Numero_agentes</th>\n",
       "      <th>Identificador</th>\n",
       "      <th>Ronda</th>\n",
       "      <th>Asistencia_total</th>\n",
       "      <th>Asistencia</th>\n",
       "      <th>diferencia_con_umbral</th>\n",
       "    </tr>\n",
       "  </thead>\n",
       "  <tbody>\n",
       "    <tr>\n",
       "      <th>0</th>\n",
       "      <td>5</td>\n",
       "      <td>0</td>\n",
       "      <td>0</td>\n",
       "      <td>1</td>\n",
       "      <td>0.2</td>\n",
       "      <td>0.09</td>\n",
       "    </tr>\n",
       "    <tr>\n",
       "      <th>1</th>\n",
       "      <td>5</td>\n",
       "      <td>0</td>\n",
       "      <td>10</td>\n",
       "      <td>5</td>\n",
       "      <td>1.0</td>\n",
       "      <td>0.25</td>\n",
       "    </tr>\n",
       "    <tr>\n",
       "      <th>2</th>\n",
       "      <td>5</td>\n",
       "      <td>0</td>\n",
       "      <td>20</td>\n",
       "      <td>5</td>\n",
       "      <td>1.0</td>\n",
       "      <td>0.25</td>\n",
       "    </tr>\n",
       "    <tr>\n",
       "      <th>3</th>\n",
       "      <td>5</td>\n",
       "      <td>0</td>\n",
       "      <td>30</td>\n",
       "      <td>5</td>\n",
       "      <td>1.0</td>\n",
       "      <td>0.25</td>\n",
       "    </tr>\n",
       "    <tr>\n",
       "      <th>4</th>\n",
       "      <td>5</td>\n",
       "      <td>0</td>\n",
       "      <td>40</td>\n",
       "      <td>5</td>\n",
       "      <td>1.0</td>\n",
       "      <td>0.25</td>\n",
       "    </tr>\n",
       "  </tbody>\n",
       "</table>\n",
       "</div>"
      ],
      "text/plain": [
       "   Numero_agentes  Identificador  Ronda  Asistencia_total  Asistencia  \\\n",
       "0               5              0      0                 1         0.2   \n",
       "1               5              0     10                 5         1.0   \n",
       "2               5              0     20                 5         1.0   \n",
       "3               5              0     30                 5         1.0   \n",
       "4               5              0     40                 5         1.0   \n",
       "\n",
       "   diferencia_con_umbral  \n",
       "0                   0.09  \n",
       "1                   0.25  \n",
       "2                   0.25  \n",
       "3                   0.25  \n",
       "4                   0.25  "
      ]
     },
<<<<<<< HEAD
     "execution_count": 14,
=======
     "execution_count": 8,
>>>>>>> 385e2055146315286c62664b780881aa3ccdee3d
     "metadata": {},
     "output_type": "execute_result"
    }
   ],
   "source": [
    "aux = data_full.groupby(['Numero_agentes', 'Identificador', 'Ronda'])['Estado']\\\n",
    "    .sum().reset_index()\n",
    "aux.columns = ['Numero_agentes',\n",
    "               'Identificador',\n",
    "               'Ronda', \n",
    "               'Asistencia_total']\n",
    "\n",
    "# Proporción de asistencia\n",
    "aux['Asistencia'] = aux['Asistencia_total']/aux['Numero_agentes']\n",
    "# Distancia al cuadrado entre proporción de asistencia y 0.5\n",
    "aux['diferencia_con_umbral'] = (aux['Asistencia'] - 0.5)*(aux['Asistencia'] - 0.5)\n",
    "aux.head()"
   ]
  },
  {
   "cell_type": "code",
<<<<<<< HEAD
   "execution_count": 15,
=======
   "execution_count": 9,
>>>>>>> 385e2055146315286c62664b780881aa3ccdee3d
   "metadata": {},
   "outputs": [
    {
     "data": {
      "text/plain": [
       "91"
      ]
     },
<<<<<<< HEAD
     "execution_count": 15,
=======
     "execution_count": 9,
>>>>>>> 385e2055146315286c62664b780881aa3ccdee3d
     "metadata": {},
     "output_type": "execute_result"
    }
   ],
   "source": [
    "num_rondas = aux.Ronda.max() + 1\n",
    "num_rondas"
   ]
  },
  {
   "cell_type": "code",
<<<<<<< HEAD
   "execution_count": 16,
   "metadata": {
    "scrolled": true
   },
=======
   "execution_count": 10,
   "metadata": {},
>>>>>>> 385e2055146315286c62664b780881aa3ccdee3d
   "outputs": [
    {
     "data": {
      "text/html": [
       "<div>\n",
       "<style scoped>\n",
       "    .dataframe tbody tr th:only-of-type {\n",
       "        vertical-align: middle;\n",
       "    }\n",
       "\n",
       "    .dataframe tbody tr th {\n",
       "        vertical-align: top;\n",
       "    }\n",
       "\n",
       "    .dataframe thead th {\n",
       "        text-align: right;\n",
       "    }\n",
       "</style>\n",
       "<table border=\"1\" class=\"dataframe\">\n",
       "  <thead>\n",
       "    <tr style=\"text-align: right;\">\n",
       "      <th></th>\n",
       "      <th>Numero_agentes</th>\n",
       "      <th>Identificador</th>\n",
       "      <th>diferencia_con_umbral</th>\n",
       "      <th>Asistencia_optima</th>\n",
       "    </tr>\n",
       "  </thead>\n",
       "  <tbody>\n",
       "    <tr>\n",
       "      <th>0</th>\n",
       "      <td>5</td>\n",
       "      <td>0</td>\n",
       "      <td>2.34</td>\n",
       "      <td>0.679287</td>\n",
       "    </tr>\n",
       "    <tr>\n",
       "      <th>1</th>\n",
       "      <td>5</td>\n",
       "      <td>1</td>\n",
       "      <td>2.26</td>\n",
       "      <td>0.684816</td>\n",
       "    </tr>\n",
       "    <tr>\n",
       "      <th>2</th>\n",
       "      <td>5</td>\n",
       "      <td>2</td>\n",
       "      <td>2.34</td>\n",
       "      <td>0.679287</td>\n",
       "    </tr>\n",
       "    <tr>\n",
       "      <th>3</th>\n",
       "      <td>5</td>\n",
       "      <td>3</td>\n",
       "      <td>0.10</td>\n",
       "      <td>0.933701</td>\n",
       "    </tr>\n",
       "    <tr>\n",
       "      <th>4</th>\n",
       "      <td>5</td>\n",
       "      <td>4</td>\n",
       "      <td>2.34</td>\n",
       "      <td>0.679287</td>\n",
       "    </tr>\n",
       "  </tbody>\n",
       "</table>\n",
       "</div>"
      ],
      "text/plain": [
       "   Numero_agentes  Identificador  diferencia_con_umbral  Asistencia_optima\n",
       "0               5              0                   2.34           0.679287\n",
       "1               5              1                   2.26           0.684816\n",
       "2               5              2                   2.34           0.679287\n",
       "3               5              3                   0.10           0.933701\n",
       "4               5              4                   2.34           0.679287"
      ]
     },
<<<<<<< HEAD
     "execution_count": 16,
=======
     "execution_count": 10,
>>>>>>> 385e2055146315286c62664b780881aa3ccdee3d
     "metadata": {},
     "output_type": "execute_result"
    }
   ],
   "source": [
    "df = aux.groupby(['Numero_agentes', 'Identificador'])['diferencia_con_umbral'].sum().reset_index()\n",
    "df['Asistencia_optima'] = df['diferencia_con_umbral']/num_rondas\n",
    "df['Asistencia_optima'] = 1 - 2 * np.sqrt(df['Asistencia_optima'])\n",
    "df.head()"
   ]
  },
  {
   "cell_type": "code",
<<<<<<< HEAD
   "execution_count": 17,
=======
   "execution_count": 11,
>>>>>>> 385e2055146315286c62664b780881aa3ccdee3d
   "metadata": {},
   "outputs": [
    {
     "data": {
      "text/plain": [
       "count    600.000000\n",
       "mean       0.773979\n",
       "std        0.114416\n",
       "min        0.668503\n",
       "25%        0.684816\n",
       "50%        0.685513\n",
       "75%        0.889501\n",
       "max        1.000000\n",
       "Name: Asistencia_optima, dtype: float64"
      ]
     },
<<<<<<< HEAD
     "execution_count": 17,
=======
     "execution_count": 11,
>>>>>>> 385e2055146315286c62664b780881aa3ccdee3d
     "metadata": {},
     "output_type": "execute_result"
    }
   ],
   "source": [
    "df['Asistencia_optima'].describe()"
   ]
  },
  {
   "cell_type": "code",
<<<<<<< HEAD
   "execution_count": 18,
=======
   "execution_count": 12,
>>>>>>> 385e2055146315286c62664b780881aa3ccdee3d
   "metadata": {},
   "outputs": [
    {
     "data": {
      "text/plain": [
       "(0.0, 1.0)"
      ]
     },
<<<<<<< HEAD
     "execution_count": 18,
=======
     "execution_count": 12,
>>>>>>> 385e2055146315286c62664b780881aa3ccdee3d
     "metadata": {},
     "output_type": "execute_result"
    },
    {
     "data": {
      "image/png": "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\n",
      "text/plain": [
       "<Figure size 432x288 with 1 Axes>"
      ]
     },
     "metadata": {
      "needs_background": "light"
     },
     "output_type": "display_data"
    }
   ],
   "source": [
    "df['Asistencia_optima'].hist(bins = 100)\n",
    "plt.xlabel('Asistencia óptima')\n",
    "plt.ylabel('Frecuencia')\n",
    "plt.xlim([0,1])"
   ]
  },
  {
   "cell_type": "code",
<<<<<<< HEAD
   "execution_count": 19,
=======
   "execution_count": 13,
>>>>>>> 385e2055146315286c62664b780881aa3ccdee3d
   "metadata": {},
   "outputs": [
    {
     "data": {
      "text/plain": [
       "Text(0, 0.5, 'Promedio asistencia óptima\\nsobre 100 simulaciones')"
      ]
     },
<<<<<<< HEAD
     "execution_count": 19,
=======
     "execution_count": 13,
>>>>>>> 385e2055146315286c62664b780881aa3ccdee3d
     "metadata": {},
     "output_type": "execute_result"
    },
    {
     "data": {
<<<<<<< HEAD
      "image/png": "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\n",
=======
      "image/png": "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\n",
>>>>>>> 385e2055146315286c62664b780881aa3ccdee3d
      "text/plain": [
       "<Figure size 720x360 with 1 Axes>"
      ]
     },
     "metadata": {
      "needs_background": "light"
     },
     "output_type": "display_data"
    }
   ],
   "source": [
    "fig = plt.subplots(figsize=(10,5))\n",
    "sns.lineplot(x=df['Numero_agentes'], y=df['Asistencia_optima'])\n",
    "plt.xlabel('Número de agentes')\n",
    "plt.ylabel('Promedio asistencia óptima\\nsobre 100 simulaciones')"
   ]
  },
  {
   "cell_type": "markdown",
   "metadata": {},
   "source": [
    "Medida de recompensa total:\n",
    "\n",
    "$$\\frac{\\sum_{a, r} recompensa(a, r)}{A*R}$$"
   ]
  },
  {
   "cell_type": "code",
<<<<<<< HEAD
   "execution_count": 24,
=======
   "execution_count": 14,
>>>>>>> 385e2055146315286c62664b780881aa3ccdee3d
   "metadata": {},
   "outputs": [
    {
     "data": {
<<<<<<< HEAD
      "text/plain": [
       "count    600.000000\n",
       "mean      -0.031917\n",
       "std        0.056074\n",
       "min       -0.108791\n",
       "25%       -0.093679\n",
       "50%       -0.007326\n",
       "75%        0.013462\n",
       "max        0.054945\n",
       "Name: Puntaje promedio, dtype: float64"
      ]
     },
     "execution_count": 24,
=======
      "text/html": [
       "<div>\n",
       "<style scoped>\n",
       "    .dataframe tbody tr th:only-of-type {\n",
       "        vertical-align: middle;\n",
       "    }\n",
       "\n",
       "    .dataframe tbody tr th {\n",
       "        vertical-align: top;\n",
       "    }\n",
       "\n",
       "    .dataframe thead th {\n",
       "        text-align: right;\n",
       "    }\n",
       "</style>\n",
       "<table border=\"1\" class=\"dataframe\">\n",
       "  <thead>\n",
       "    <tr style=\"text-align: right;\">\n",
       "      <th></th>\n",
       "      <th>Numero_agentes</th>\n",
       "      <th>Identificador</th>\n",
       "      <th>Ronda</th>\n",
       "      <th>Puntaje</th>\n",
       "    </tr>\n",
       "  </thead>\n",
       "  <tbody>\n",
       "    <tr>\n",
       "      <th>0</th>\n",
       "      <td>5</td>\n",
       "      <td>0</td>\n",
       "      <td>0</td>\n",
       "      <td>0.000000</td>\n",
       "    </tr>\n",
       "    <tr>\n",
       "      <th>1</th>\n",
       "      <td>5</td>\n",
       "      <td>0</td>\n",
       "      <td>1</td>\n",
       "      <td>0.001333</td>\n",
       "    </tr>\n",
       "    <tr>\n",
       "      <th>2</th>\n",
       "      <td>5</td>\n",
       "      <td>0</td>\n",
       "      <td>2</td>\n",
       "      <td>0.000667</td>\n",
       "    </tr>\n",
       "    <tr>\n",
       "      <th>3</th>\n",
       "      <td>5</td>\n",
       "      <td>0</td>\n",
       "      <td>3</td>\n",
       "      <td>-0.003333</td>\n",
       "    </tr>\n",
       "    <tr>\n",
       "      <th>4</th>\n",
       "      <td>5</td>\n",
       "      <td>0</td>\n",
       "      <td>4</td>\n",
       "      <td>-0.003333</td>\n",
       "    </tr>\n",
       "    <tr>\n",
       "      <th>...</th>\n",
       "      <td>...</td>\n",
       "      <td>...</td>\n",
       "      <td>...</td>\n",
       "      <td>...</td>\n",
       "    </tr>\n",
       "    <tr>\n",
       "      <th>8695</th>\n",
       "      <td>5</td>\n",
       "      <td>28</td>\n",
       "      <td>295</td>\n",
       "      <td>0.000000</td>\n",
       "    </tr>\n",
       "    <tr>\n",
       "      <th>8696</th>\n",
       "      <td>5</td>\n",
       "      <td>28</td>\n",
       "      <td>296</td>\n",
       "      <td>0.000000</td>\n",
       "    </tr>\n",
       "    <tr>\n",
       "      <th>8697</th>\n",
       "      <td>5</td>\n",
       "      <td>28</td>\n",
       "      <td>297</td>\n",
       "      <td>0.000000</td>\n",
       "    </tr>\n",
       "    <tr>\n",
       "      <th>8698</th>\n",
       "      <td>5</td>\n",
       "      <td>28</td>\n",
       "      <td>298</td>\n",
       "      <td>0.000000</td>\n",
       "    </tr>\n",
       "    <tr>\n",
       "      <th>8699</th>\n",
       "      <td>5</td>\n",
       "      <td>28</td>\n",
       "      <td>299</td>\n",
       "      <td>0.000000</td>\n",
       "    </tr>\n",
       "  </tbody>\n",
       "</table>\n",
       "<p>8700 rows × 4 columns</p>\n",
       "</div>"
      ],
      "text/plain": [
       "      Numero_agentes  Identificador  Ronda   Puntaje\n",
       "0                  5              0      0  0.000000\n",
       "1                  5              0      1  0.001333\n",
       "2                  5              0      2  0.000667\n",
       "3                  5              0      3 -0.003333\n",
       "4                  5              0      4 -0.003333\n",
       "...              ...            ...    ...       ...\n",
       "8695               5             28    295  0.000000\n",
       "8696               5             28    296  0.000000\n",
       "8697               5             28    297  0.000000\n",
       "8698               5             28    298  0.000000\n",
       "8699               5             28    299  0.000000\n",
       "\n",
       "[8700 rows x 4 columns]"
      ]
     },
     "execution_count": 14,
>>>>>>> 385e2055146315286c62664b780881aa3ccdee3d
     "metadata": {},
     "output_type": "execute_result"
    }
   ],
   "source": [
<<<<<<< HEAD
    "data_recomp = data.groupby(['Numero_agentes', 'Identificador'])[\"Puntaje\"].sum().reset_index()\n",
    "data_recomp[\"Puntaje promedio\"]=data_recomp[\"Puntaje\"]/(num_rondas*data_recomp[\"Numero_agentes\"])\n",
    "data_recomp['Puntaje promedio'].describe()\n"
=======
    "data_recomp = data.groupby(['Numero_agentes', 'Identificador','Ronda'])[\"Puntaje\"].sum().reset_index()\n",
    "data_recomp[\"Puntaje\"]=data_recomp[\"Puntaje\"]/(num_rondas*data_recomp[\"Numero_agentes\"])\n",
    "data_recomp"
>>>>>>> 385e2055146315286c62664b780881aa3ccdee3d
   ]
  },
  {
   "cell_type": "code",
<<<<<<< HEAD
   "execution_count": 25,
=======
   "execution_count": 15,
>>>>>>> 385e2055146315286c62664b780881aa3ccdee3d
   "metadata": {},
   "outputs": [
    {
     "data": {
      "text/plain": [
       "Text(0, 0.5, 'Promedio puntaje \\nsobre 100 simulaciones')"
      ]
     },
<<<<<<< HEAD
     "execution_count": 25,
=======
     "execution_count": 15,
>>>>>>> 385e2055146315286c62664b780881aa3ccdee3d
     "metadata": {},
     "output_type": "execute_result"
    },
    {
     "data": {
<<<<<<< HEAD
      "image/png": "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\n",
=======
      "image/png": "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\n",
>>>>>>> 385e2055146315286c62664b780881aa3ccdee3d
      "text/plain": [
       "<Figure size 720x360 with 1 Axes>"
      ]
     },
     "metadata": {
      "needs_background": "light"
     },
     "output_type": "display_data"
    }
   ],
   "source": [
    "fig = plt.subplots(figsize=(10,5))\n",
    "sns.lineplot(x=data_recomp['Numero_agentes'], y=data_recomp['Puntaje promedio'])\n",
    "plt.xlabel('Número de agentes')\n",
    "plt.ylabel('Promedio puntaje \\nsobre 100 simulaciones')"
   ]
  },
  {
   "cell_type": "markdown",
   "metadata": {},
   "source": [
    "Medida de equidad en al distribución de recursos:\n",
    "\n",
    "Índice de Gini:\n",
<<<<<<< HEAD
    "$X_{j}$ : Puntaje acumulado del agente $j$  \n",
    "$$N+1-2\\frac{\\sum_{i=1}^N\\sum_{j=1}^i X_{j}}{\\sum_{k=1}^N X_{k}}$$"
   ]
  },
  {
   "cell_type": "code",
   "execution_count": 26,
   "metadata": {},
   "outputs": [],
   "source": [
    "def gini(x):\n",
    "        # The rest of the code requires numpy arrays.\n",
    "        x = np.asarray(x) #convierte x en un vector\n",
    "        sorted_x = np.sort(x) #los organiza de menor a mayor\n",
    "        n = len(x) #tamaño del vector x\n",
    "        cumx = np.cumsum(sorted_x, dtype=float)# va haciendo la suma acumulativa\n",
    "        gini = (n + 1 - 2 * np.sum(cumx) / cumx[-1]) / n #esta es una formula muy rara, esta en alternate expression de Wikipedia\n",
    "        pe_line = np.linspace(start=0.0, stop=1.0, num=len(cumx))\n",
    "        area_under_lorenz = np.trapz(y=cumx, dx=1/len(cumx)) #area de la suma acumulada, zona azul\n",
    "        area_under_pe = np.trapz(y=pe_line, dx=1/len(cumx)) #area de la linea perfecta, caso perfecto\n",
    "        cumx=cumx/cumx[-1] #normalizando para que se vea en la grafica bien\n",
    "        # The above formula, with all weights equal to 1 simplifies to:\n",
    "        return gini, pe_line,area_under_lorenz,area_under_pe,cumx"
   ]
  },
  {
   "cell_type": "code",
   "execution_count": 27,
   "metadata": {
    "tags": []
   },
   "outputs": [
    {
     "data": {
      "image/png": "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\n",
      "text/plain": [
       "<Figure size 432x288 with 1 Axes>"
      ]
     },
     "metadata": {
      "needs_background": "light"
     },
     "output_type": "display_data"
    }
   ],
   "source": [
    "gini, pe_line,area_under_lorenz,area_under_pe,cumx = gini([1,1,0,0])\n",
    "from matplotlib import pyplot as plt\n",
=======
>>>>>>> 385e2055146315286c62664b780881aa3ccdee3d
    "\n",
    "$$\\frac{\\sum_i\\sum_j |recompensa(i) - recompensa(j)|}{2\\sum_i\\sum_j recompensa(j)}$$"
   ]
  },
  {
   "cell_type": "code",
<<<<<<< HEAD
   "execution_count": 28,
   "metadata": {},
   "outputs": [],
   "source": [
    "def gini1(x):\n",
    "    x = np.asarray(x) \n",
    "    sorted_x = np.sort(x) \n",
    "    n = len(x) \n",
    "    cumx = np.cumsum(sorted_x, dtype=float)\n",
    "    try:\n",
    "        gini = (n + 1 - 2 * np.sum(cumx) / cumx[-1]) / n\n",
    "    except:\n",
    "        gini = 1\n",
    "    return np.round(gini,3)"
=======
   "execution_count": 21,
   "metadata": {},
   "outputs": [],
   "source": [
    "def gini (df, NumAgentes):\n",
    "    numerador = 0 \n",
    "    denominador = 0\n",
    "    for i in range(NumAgentes):\n",
    "        for j in range(NumAgentes):\n",
    "            recompensa_i = df[df['Agente'] == i]['Puntaje'].sum()\n",
    "            recompensa_j = df[df['Agente'] == j]['Puntaje'].sum()\n",
    "            numerador += np.abs(recompensa_i - recompensa_j)\n",
    "            denominador += recompensa_j\n",
    "    denominador *= 2\n",
    "    return numerador/denominador\n",
    "\n"
>>>>>>> 385e2055146315286c62664b780881aa3ccdee3d
   ]
  },
  {
   "cell_type": "code",
<<<<<<< HEAD
   "execution_count": 36,
   "metadata": {},
   "outputs": [
    {
     "data": {
      "text/plain": [
       "0.75"
      ]
     },
     "execution_count": 36,
     "metadata": {},
     "output_type": "execute_result"
    }
   ],
   "source": [
    "gini1([0,0,0,100])"
   ]
  },
  {
   "cell_type": "code",
   "execution_count": 86,
=======
   "execution_count": 59,
>>>>>>> 385e2055146315286c62664b780881aa3ccdee3d
   "metadata": {},
   "outputs": [
    {
     "data": {
      "text/html": [
       "<div>\n",
       "<style scoped>\n",
       "    .dataframe tbody tr th:only-of-type {\n",
       "        vertical-align: middle;\n",
       "    }\n",
       "\n",
       "    .dataframe tbody tr th {\n",
       "        vertical-align: top;\n",
       "    }\n",
       "\n",
       "    .dataframe thead th {\n",
       "        text-align: right;\n",
       "    }\n",
       "</style>\n",
       "<table border=\"1\" class=\"dataframe\">\n",
       "  <thead>\n",
       "    <tr style=\"text-align: right;\">\n",
       "      <th></th>\n",
       "      <th>Agente</th>\n",
       "      <th>Puntaje</th>\n",
       "    </tr>\n",
       "  </thead>\n",
       "  <tbody>\n",
       "    <tr>\n",
       "      <th>0</th>\n",
       "      <td>0</td>\n",
<<<<<<< HEAD
       "      <td>1</td>\n",
=======
       "      <td>541</td>\n",
>>>>>>> 385e2055146315286c62664b780881aa3ccdee3d
       "    </tr>\n",
       "    <tr>\n",
       "      <th>1</th>\n",
       "      <td>1</td>\n",
<<<<<<< HEAD
       "      <td>1</td>\n",
=======
       "      <td>1463</td>\n",
>>>>>>> 385e2055146315286c62664b780881aa3ccdee3d
       "    </tr>\n",
       "    <tr>\n",
       "      <th>2</th>\n",
       "      <td>2</td>\n",
<<<<<<< HEAD
       "      <td>2</td>\n",
=======
       "      <td>2445</td>\n",
>>>>>>> 385e2055146315286c62664b780881aa3ccdee3d
       "    </tr>\n",
       "    <tr>\n",
       "      <th>3</th>\n",
       "      <td>3</td>\n",
<<<<<<< HEAD
       "      <td>1</td>\n",
=======
       "      <td>3438</td>\n",
>>>>>>> 385e2055146315286c62664b780881aa3ccdee3d
       "    </tr>\n",
       "    <tr>\n",
       "      <th>4</th>\n",
       "      <td>4</td>\n",
<<<<<<< HEAD
       "      <td>1</td>\n",
=======
       "      <td>4437</td>\n",
>>>>>>> 385e2055146315286c62664b780881aa3ccdee3d
       "    </tr>\n",
       "  </tbody>\n",
       "</table>\n",
       "</div>"
      ],
      "text/plain": [
<<<<<<< HEAD
       "   Numero_agentes  Identificador  Agente  Puntaje normalizado\n",
       "0               5              0       0                    1\n",
       "1               5              0       1                    1\n",
       "2               5              0       2                    2\n",
       "3               5              0       3                    1\n",
       "4               5              0       4                    1"
      ]
     },
     "execution_count": 86,
=======
       "   Agente  Puntaje\n",
       "0       0      541\n",
       "1       1     1463\n",
       "2       2     2445\n",
       "3       3     3438\n",
       "4       4     4437"
      ]
     },
     "execution_count": 59,
>>>>>>> 385e2055146315286c62664b780881aa3ccdee3d
     "metadata": {},
     "output_type": "execute_result"
    }
   ],
   "source": [
    "#prueba = pd.dataframe['']\n",
    "Puntaje = [541, 1463, 2445, 3438, 4437, 5401, 6392, 8304, 11904, 22261]\n",
    "prueba = pd.DataFrame({'Agente':range(len(Puntaje)), 'Puntaje':Puntaje})\n",
    "prueba.head()\n",
    "\n",
    "#gini(prueba,5)"
   ]
  },
  {
   "cell_type": "code",
<<<<<<< HEAD
   "execution_count": 87,
   "metadata": {},
   "outputs": [
    {
     "data": {
      "text/html": [
       "<div>\n",
       "<style scoped>\n",
       "    .dataframe tbody tr th:only-of-type {\n",
       "        vertical-align: middle;\n",
       "    }\n",
       "\n",
       "    .dataframe tbody tr th {\n",
       "        vertical-align: top;\n",
       "    }\n",
       "\n",
       "    .dataframe thead th {\n",
       "        text-align: right;\n",
       "    }\n",
       "</style>\n",
       "<table border=\"1\" class=\"dataframe\">\n",
       "  <thead>\n",
       "    <tr style=\"text-align: right;\">\n",
       "      <th></th>\n",
       "      <th>Numero_agentes</th>\n",
       "      <th>Identificador</th>\n",
       "      <th>Agente</th>\n",
       "      <th>Puntaje normalizado</th>\n",
       "      <th>Gini</th>\n",
       "    </tr>\n",
       "  </thead>\n",
       "  <tbody>\n",
       "    <tr>\n",
       "      <th>0</th>\n",
       "      <td>5</td>\n",
       "      <td>0</td>\n",
       "      <td>0</td>\n",
       "      <td>1</td>\n",
       "      <td>0.133</td>\n",
       "    </tr>\n",
       "    <tr>\n",
       "      <th>1</th>\n",
       "      <td>5</td>\n",
       "      <td>0</td>\n",
       "      <td>1</td>\n",
       "      <td>1</td>\n",
       "      <td>0.133</td>\n",
       "    </tr>\n",
       "    <tr>\n",
       "      <th>2</th>\n",
       "      <td>5</td>\n",
       "      <td>0</td>\n",
       "      <td>2</td>\n",
       "      <td>2</td>\n",
       "      <td>0.133</td>\n",
       "    </tr>\n",
       "    <tr>\n",
       "      <th>3</th>\n",
       "      <td>5</td>\n",
       "      <td>0</td>\n",
       "      <td>3</td>\n",
       "      <td>1</td>\n",
       "      <td>0.133</td>\n",
       "    </tr>\n",
       "    <tr>\n",
       "      <th>4</th>\n",
       "      <td>5</td>\n",
       "      <td>0</td>\n",
       "      <td>4</td>\n",
       "      <td>1</td>\n",
       "      <td>0.133</td>\n",
       "    </tr>\n",
       "    <tr>\n",
       "      <th>...</th>\n",
       "      <td>...</td>\n",
       "      <td>...</td>\n",
       "      <td>...</td>\n",
       "      <td>...</td>\n",
       "      <td>...</td>\n",
       "    </tr>\n",
       "    <tr>\n",
       "      <th>113295</th>\n",
       "      <td>1000</td>\n",
       "      <td>599</td>\n",
       "      <td>995</td>\n",
       "      <td>10</td>\n",
       "      <td>0.161</td>\n",
       "    </tr>\n",
       "    <tr>\n",
       "      <th>113296</th>\n",
       "      <td>1000</td>\n",
       "      <td>599</td>\n",
       "      <td>996</td>\n",
       "      <td>10</td>\n",
       "      <td>0.161</td>\n",
       "    </tr>\n",
       "    <tr>\n",
       "      <th>113297</th>\n",
       "      <td>1000</td>\n",
       "      <td>599</td>\n",
       "      <td>997</td>\n",
       "      <td>18</td>\n",
       "      <td>0.161</td>\n",
       "    </tr>\n",
       "    <tr>\n",
       "      <th>113298</th>\n",
       "      <td>1000</td>\n",
       "      <td>599</td>\n",
       "      <td>998</td>\n",
       "      <td>10</td>\n",
       "      <td>0.161</td>\n",
       "    </tr>\n",
       "    <tr>\n",
       "      <th>113299</th>\n",
       "      <td>1000</td>\n",
       "      <td>599</td>\n",
       "      <td>999</td>\n",
       "      <td>10</td>\n",
       "      <td>0.161</td>\n",
       "    </tr>\n",
       "  </tbody>\n",
       "</table>\n",
       "<p>113300 rows × 5 columns</p>\n",
       "</div>"
      ],
      "text/plain": [
       "        Numero_agentes  Identificador  Agente  Puntaje normalizado   Gini\n",
       "0                    5              0       0                    1  0.133\n",
       "1                    5              0       1                    1  0.133\n",
       "2                    5              0       2                    2  0.133\n",
       "3                    5              0       3                    1  0.133\n",
       "4                    5              0       4                    1  0.133\n",
       "...                ...            ...     ...                  ...    ...\n",
       "113295            1000            599     995                   10  0.161\n",
       "113296            1000            599     996                   10  0.161\n",
       "113297            1000            599     997                   18  0.161\n",
       "113298            1000            599     998                   10  0.161\n",
       "113299            1000            599     999                   10  0.161\n",
       "\n",
       "[113300 rows x 5 columns]"
      ]
     },
     "execution_count": 87,
     "metadata": {},
     "output_type": "execute_result"
    }
   ],
=======
   "execution_count": null,
   "metadata": {},
   "outputs": [],
   "source": [
    "ginis = {}\n",
    "for ind,grp in data_full.groupby('Indicador'):\n",
    "    ginis[ind] = gini(grp,grp['Numero_agentes'])\n",
    "\n",
    "print(ginis)"
   ]
  },
  {
   "cell_type": "markdown",
   "metadata": {},
>>>>>>> 385e2055146315286c62664b780881aa3ccdee3d
   "source": [
    "$$G=|1-\\sum_{k=1}^{n-1}(X_{k+1} - X_{k})(Y_{k+1} + Y_{k})|$$\n"
   ]
  },
  {
   "cell_type": "code",
<<<<<<< HEAD
   "execution_count": 106,
=======
   "execution_count": 74,
>>>>>>> 385e2055146315286c62664b780881aa3ccdee3d
   "metadata": {},
   "outputs": [
    {
     "name": "stdout",
     "output_type": "stream",
     "text": [
      "[0.   0.25 0.5  0.75 1.  ] [1. 1. 1. 1. 1.]\n"
     ]
    },
    {
     "data": {
<<<<<<< HEAD
      "text/html": [
       "<div>\n",
       "<style scoped>\n",
       "    .dataframe tbody tr th:only-of-type {\n",
       "        vertical-align: middle;\n",
       "    }\n",
       "\n",
       "    .dataframe tbody tr th {\n",
       "        vertical-align: top;\n",
       "    }\n",
       "\n",
       "    .dataframe thead th {\n",
       "        text-align: right;\n",
       "    }\n",
       "</style>\n",
       "<table border=\"1\" class=\"dataframe\">\n",
       "  <thead>\n",
       "    <tr style=\"text-align: right;\">\n",
       "      <th></th>\n",
       "      <th>Numero_agentes</th>\n",
       "      <th>Identificador</th>\n",
       "      <th>Gini</th>\n",
       "    </tr>\n",
       "  </thead>\n",
       "  <tbody>\n",
       "    <tr>\n",
       "      <th>0</th>\n",
       "      <td>5</td>\n",
       "      <td>0</td>\n",
       "      <td>0.133</td>\n",
       "    </tr>\n",
       "    <tr>\n",
       "      <th>1</th>\n",
       "      <td>5</td>\n",
       "      <td>1</td>\n",
       "      <td>0.600</td>\n",
       "    </tr>\n",
       "    <tr>\n",
       "      <th>2</th>\n",
       "      <td>5</td>\n",
       "      <td>2</td>\n",
       "      <td>0.016</td>\n",
       "    </tr>\n",
       "    <tr>\n",
       "      <th>3</th>\n",
       "      <td>5</td>\n",
       "      <td>3</td>\n",
       "      <td>0.160</td>\n",
       "    </tr>\n",
       "    <tr>\n",
       "      <th>4</th>\n",
       "      <td>5</td>\n",
       "      <td>4</td>\n",
       "      <td>0.133</td>\n",
       "    </tr>\n",
       "  </tbody>\n",
       "</table>\n",
       "</div>"
      ],
      "text/plain": [
       "   Numero_agentes  Identificador   Gini\n",
       "0               5              0  0.133\n",
       "1               5              1  0.600\n",
       "2               5              2  0.016\n",
       "3               5              3  0.160\n",
       "4               5              4  0.133"
      ]
     },
     "execution_count": 106,
     "metadata": {},
     "output_type": "execute_result"
    }
   ],
   "source": [
    "data_gini = data_aux.groupby(['Numero_agentes', 'Identificador']).agg({'Gini':'first'}).reset_index()\n",
    "data_gini.head()"
   ]
  },
  {
   "cell_type": "code",
   "execution_count": 89,
   "metadata": {},
   "outputs": [
    {
     "data": {
      "text/plain": [
       "False    600\n",
       "Name: Gini, dtype: int64"
      ]
     },
     "execution_count": 89,
=======
      "text/plain": [
       "1.0"
      ]
     },
     "execution_count": 74,
>>>>>>> 385e2055146315286c62664b780881aa3ccdee3d
     "metadata": {},
     "output_type": "execute_result"
    }
   ],
   "source": [
<<<<<<< HEAD
    "data_gini['Gini'].isna().value_counts()"
=======
    "def gini(puntaje, step = 20):\n",
    "    X = np.arange(0,100+step,step)\n",
    "    Y = np.percentile(puntaje,X)\n",
    "    Y /= np.max(Y)\n",
    "    X = np.arange(0,1+step/100,step/100)\n",
    "    G = 0\n",
    "    for k in range(len(X)-1):\n",
    "        G += (X[k+1] - X[k])*(Y[k+1] + Y[k])\n",
    "        \n",
    "    print(X,Y)\n",
    "    return np.abs(1-G)\n",
    "gini([1,1,1,1],25)"
>>>>>>> 385e2055146315286c62664b780881aa3ccdee3d
   ]
  },
  {
   "cell_type": "code",
   "execution_count": null,
   "metadata": {},
   "outputs": [],
   "source": []
  },
  {
<<<<<<< HEAD
   "cell_type": "code",
   "execution_count": 98,
   "metadata": {},
   "outputs": [
    {
     "name": "stderr",
     "output_type": "stream",
     "text": [
      "C:\\Users\\juanl\\Anaconda3\\lib\\site-packages\\seaborn\\distributions.py:283: UserWarning: Data must have variance to compute a kernel density estimate.\n",
      "  warnings.warn(msg, UserWarning)\n",
      "C:\\Users\\juanl\\Anaconda3\\lib\\site-packages\\seaborn\\distributions.py:283: UserWarning: Data must have variance to compute a kernel density estimate.\n",
      "  warnings.warn(msg, UserWarning)\n",
      "C:\\Users\\juanl\\Anaconda3\\lib\\site-packages\\seaborn\\distributions.py:283: UserWarning: Data must have variance to compute a kernel density estimate.\n",
      "  warnings.warn(msg, UserWarning)\n",
      "C:\\Users\\juanl\\Anaconda3\\lib\\site-packages\\seaborn\\distributions.py:283: UserWarning: Data must have variance to compute a kernel density estimate.\n",
      "  warnings.warn(msg, UserWarning)\n",
      "C:\\Users\\juanl\\Anaconda3\\lib\\site-packages\\seaborn\\distributions.py:369: UserWarning: Default bandwidth for data is 0; skipping density estimation.\n",
      "  warnings.warn(msg, UserWarning)\n",
      "C:\\Users\\juanl\\Anaconda3\\lib\\site-packages\\seaborn\\distributions.py:283: UserWarning: Data must have variance to compute a kernel density estimate.\n",
      "  warnings.warn(msg, UserWarning)\n",
      "C:\\Users\\juanl\\Anaconda3\\lib\\site-packages\\seaborn\\distributions.py:283: UserWarning: Data must have variance to compute a kernel density estimate.\n",
      "  warnings.warn(msg, UserWarning)\n",
      "C:\\Users\\juanl\\Anaconda3\\lib\\site-packages\\seaborn\\distributions.py:283: UserWarning: Data must have variance to compute a kernel density estimate.\n",
      "  warnings.warn(msg, UserWarning)\n",
      "C:\\Users\\juanl\\Anaconda3\\lib\\site-packages\\seaborn\\distributions.py:283: UserWarning: Data must have variance to compute a kernel density estimate.\n",
      "  warnings.warn(msg, UserWarning)\n",
      "C:\\Users\\juanl\\Anaconda3\\lib\\site-packages\\seaborn\\distributions.py:283: UserWarning: Data must have variance to compute a kernel density estimate.\n",
      "  warnings.warn(msg, UserWarning)\n",
      "C:\\Users\\juanl\\Anaconda3\\lib\\site-packages\\seaborn\\distributions.py:283: UserWarning: Data must have variance to compute a kernel density estimate.\n",
      "  warnings.warn(msg, UserWarning)\n",
      "C:\\Users\\juanl\\Anaconda3\\lib\\site-packages\\seaborn\\distributions.py:283: UserWarning: Data must have variance to compute a kernel density estimate.\n",
      "  warnings.warn(msg, UserWarning)\n",
      "C:\\Users\\juanl\\Anaconda3\\lib\\site-packages\\seaborn\\distributions.py:283: UserWarning: Data must have variance to compute a kernel density estimate.\n",
      "  warnings.warn(msg, UserWarning)\n",
      "C:\\Users\\juanl\\Anaconda3\\lib\\site-packages\\seaborn\\distributions.py:283: UserWarning: Data must have variance to compute a kernel density estimate.\n",
      "  warnings.warn(msg, UserWarning)\n",
      "C:\\Users\\juanl\\Anaconda3\\lib\\site-packages\\seaborn\\distributions.py:283: UserWarning: Data must have variance to compute a kernel density estimate.\n",
      "  warnings.warn(msg, UserWarning)\n",
      "C:\\Users\\juanl\\Anaconda3\\lib\\site-packages\\seaborn\\distributions.py:283: UserWarning: Data must have variance to compute a kernel density estimate.\n",
      "  warnings.warn(msg, UserWarning)\n",
      "C:\\Users\\juanl\\Anaconda3\\lib\\site-packages\\seaborn\\distributions.py:283: UserWarning: Data must have variance to compute a kernel density estimate.\n",
      "  warnings.warn(msg, UserWarning)\n",
      "C:\\Users\\juanl\\Anaconda3\\lib\\site-packages\\seaborn\\distributions.py:283: UserWarning: Data must have variance to compute a kernel density estimate.\n",
      "  warnings.warn(msg, UserWarning)\n",
      "C:\\Users\\juanl\\Anaconda3\\lib\\site-packages\\seaborn\\distributions.py:283: UserWarning: Data must have variance to compute a kernel density estimate.\n",
      "  warnings.warn(msg, UserWarning)\n",
      "C:\\Users\\juanl\\Anaconda3\\lib\\site-packages\\seaborn\\distributions.py:283: UserWarning: Data must have variance to compute a kernel density estimate.\n",
      "  warnings.warn(msg, UserWarning)\n",
      "C:\\Users\\juanl\\Anaconda3\\lib\\site-packages\\seaborn\\distributions.py:283: UserWarning: Data must have variance to compute a kernel density estimate.\n",
      "  warnings.warn(msg, UserWarning)\n",
      "C:\\Users\\juanl\\Anaconda3\\lib\\site-packages\\seaborn\\distributions.py:283: UserWarning: Data must have variance to compute a kernel density estimate.\n",
      "  warnings.warn(msg, UserWarning)\n",
      "C:\\Users\\juanl\\Anaconda3\\lib\\site-packages\\seaborn\\distributions.py:283: UserWarning: Data must have variance to compute a kernel density estimate.\n",
      "  warnings.warn(msg, UserWarning)\n",
      "C:\\Users\\juanl\\Anaconda3\\lib\\site-packages\\seaborn\\distributions.py:283: UserWarning: Data must have variance to compute a kernel density estimate.\n",
      "  warnings.warn(msg, UserWarning)\n",
      "C:\\Users\\juanl\\Anaconda3\\lib\\site-packages\\seaborn\\distributions.py:283: UserWarning: Data must have variance to compute a kernel density estimate.\n",
      "  warnings.warn(msg, UserWarning)\n",
      "C:\\Users\\juanl\\Anaconda3\\lib\\site-packages\\seaborn\\distributions.py:283: UserWarning: Data must have variance to compute a kernel density estimate.\n",
      "  warnings.warn(msg, UserWarning)\n",
      "C:\\Users\\juanl\\Anaconda3\\lib\\site-packages\\seaborn\\distributions.py:283: UserWarning: Data must have variance to compute a kernel density estimate.\n",
      "  warnings.warn(msg, UserWarning)\n",
      "C:\\Users\\juanl\\Anaconda3\\lib\\site-packages\\seaborn\\distributions.py:283: UserWarning: Data must have variance to compute a kernel density estimate.\n",
      "  warnings.warn(msg, UserWarning)\n",
      "C:\\Users\\juanl\\Anaconda3\\lib\\site-packages\\seaborn\\distributions.py:283: UserWarning: Data must have variance to compute a kernel density estimate.\n",
      "  warnings.warn(msg, UserWarning)\n",
      "C:\\Users\\juanl\\Anaconda3\\lib\\site-packages\\seaborn\\distributions.py:283: UserWarning: Data must have variance to compute a kernel density estimate.\n",
      "  warnings.warn(msg, UserWarning)\n",
      "C:\\Users\\juanl\\Anaconda3\\lib\\site-packages\\seaborn\\distributions.py:283: UserWarning: Data must have variance to compute a kernel density estimate.\n",
      "  warnings.warn(msg, UserWarning)\n",
      "C:\\Users\\juanl\\Anaconda3\\lib\\site-packages\\seaborn\\distributions.py:283: UserWarning: Data must have variance to compute a kernel density estimate.\n",
      "  warnings.warn(msg, UserWarning)\n",
      "C:\\Users\\juanl\\Anaconda3\\lib\\site-packages\\seaborn\\distributions.py:283: UserWarning: Data must have variance to compute a kernel density estimate.\n",
      "  warnings.warn(msg, UserWarning)\n",
      "C:\\Users\\juanl\\Anaconda3\\lib\\site-packages\\seaborn\\distributions.py:283: UserWarning: Data must have variance to compute a kernel density estimate.\n",
      "  warnings.warn(msg, UserWarning)\n",
      "C:\\Users\\juanl\\Anaconda3\\lib\\site-packages\\seaborn\\distributions.py:369: UserWarning: Default bandwidth for data is 0; skipping density estimation.\n",
      "  warnings.warn(msg, UserWarning)\n",
      "C:\\Users\\juanl\\Anaconda3\\lib\\site-packages\\seaborn\\distributions.py:283: UserWarning: Data must have variance to compute a kernel density estimate.\n",
      "  warnings.warn(msg, UserWarning)\n",
      "C:\\Users\\juanl\\Anaconda3\\lib\\site-packages\\seaborn\\distributions.py:283: UserWarning: Data must have variance to compute a kernel density estimate.\n",
      "  warnings.warn(msg, UserWarning)\n",
      "C:\\Users\\juanl\\Anaconda3\\lib\\site-packages\\seaborn\\distributions.py:283: UserWarning: Data must have variance to compute a kernel density estimate.\n",
      "  warnings.warn(msg, UserWarning)\n",
      "C:\\Users\\juanl\\Anaconda3\\lib\\site-packages\\seaborn\\distributions.py:283: UserWarning: Data must have variance to compute a kernel density estimate.\n",
      "  warnings.warn(msg, UserWarning)\n",
      "C:\\Users\\juanl\\Anaconda3\\lib\\site-packages\\seaborn\\distributions.py:283: UserWarning: Data must have variance to compute a kernel density estimate.\n",
      "  warnings.warn(msg, UserWarning)\n",
      "C:\\Users\\juanl\\Anaconda3\\lib\\site-packages\\seaborn\\distributions.py:283: UserWarning: Data must have variance to compute a kernel density estimate.\n",
      "  warnings.warn(msg, UserWarning)\n",
      "C:\\Users\\juanl\\Anaconda3\\lib\\site-packages\\seaborn\\distributions.py:369: UserWarning: Default bandwidth for data is 0; skipping density estimation.\n",
      "  warnings.warn(msg, UserWarning)\n",
      "C:\\Users\\juanl\\Anaconda3\\lib\\site-packages\\seaborn\\distributions.py:283: UserWarning: Data must have variance to compute a kernel density estimate.\n",
      "  warnings.warn(msg, UserWarning)\n",
      "C:\\Users\\juanl\\Anaconda3\\lib\\site-packages\\seaborn\\distributions.py:283: UserWarning: Data must have variance to compute a kernel density estimate.\n",
      "  warnings.warn(msg, UserWarning)\n",
      "C:\\Users\\juanl\\Anaconda3\\lib\\site-packages\\seaborn\\distributions.py:283: UserWarning: Data must have variance to compute a kernel density estimate.\n",
      "  warnings.warn(msg, UserWarning)\n",
      "C:\\Users\\juanl\\Anaconda3\\lib\\site-packages\\seaborn\\distributions.py:283: UserWarning: Data must have variance to compute a kernel density estimate.\n",
      "  warnings.warn(msg, UserWarning)\n"
     ]
    },
    {
     "name": "stderr",
     "output_type": "stream",
     "text": [
      "C:\\Users\\juanl\\Anaconda3\\lib\\site-packages\\seaborn\\distributions.py:283: UserWarning: Data must have variance to compute a kernel density estimate.\n",
      "  warnings.warn(msg, UserWarning)\n",
      "C:\\Users\\juanl\\Anaconda3\\lib\\site-packages\\seaborn\\distributions.py:369: UserWarning: Default bandwidth for data is 0; skipping density estimation.\n",
      "  warnings.warn(msg, UserWarning)\n",
      "C:\\Users\\juanl\\Anaconda3\\lib\\site-packages\\seaborn\\distributions.py:283: UserWarning: Data must have variance to compute a kernel density estimate.\n",
      "  warnings.warn(msg, UserWarning)\n",
      "C:\\Users\\juanl\\Anaconda3\\lib\\site-packages\\seaborn\\distributions.py:283: UserWarning: Data must have variance to compute a kernel density estimate.\n",
      "  warnings.warn(msg, UserWarning)\n",
      "C:\\Users\\juanl\\Anaconda3\\lib\\site-packages\\seaborn\\distributions.py:283: UserWarning: Data must have variance to compute a kernel density estimate.\n",
      "  warnings.warn(msg, UserWarning)\n",
      "C:\\Users\\juanl\\Anaconda3\\lib\\site-packages\\seaborn\\distributions.py:283: UserWarning: Data must have variance to compute a kernel density estimate.\n",
      "  warnings.warn(msg, UserWarning)\n",
      "C:\\Users\\juanl\\Anaconda3\\lib\\site-packages\\seaborn\\distributions.py:283: UserWarning: Data must have variance to compute a kernel density estimate.\n",
      "  warnings.warn(msg, UserWarning)\n",
      "C:\\Users\\juanl\\Anaconda3\\lib\\site-packages\\seaborn\\distributions.py:283: UserWarning: Data must have variance to compute a kernel density estimate.\n",
      "  warnings.warn(msg, UserWarning)\n",
      "C:\\Users\\juanl\\Anaconda3\\lib\\site-packages\\seaborn\\distributions.py:283: UserWarning: Data must have variance to compute a kernel density estimate.\n",
      "  warnings.warn(msg, UserWarning)\n",
      "C:\\Users\\juanl\\Anaconda3\\lib\\site-packages\\seaborn\\distributions.py:283: UserWarning: Data must have variance to compute a kernel density estimate.\n",
      "  warnings.warn(msg, UserWarning)\n",
      "C:\\Users\\juanl\\Anaconda3\\lib\\site-packages\\seaborn\\distributions.py:283: UserWarning: Data must have variance to compute a kernel density estimate.\n",
      "  warnings.warn(msg, UserWarning)\n",
      "C:\\Users\\juanl\\Anaconda3\\lib\\site-packages\\seaborn\\distributions.py:283: UserWarning: Data must have variance to compute a kernel density estimate.\n",
      "  warnings.warn(msg, UserWarning)\n",
      "C:\\Users\\juanl\\Anaconda3\\lib\\site-packages\\seaborn\\distributions.py:283: UserWarning: Data must have variance to compute a kernel density estimate.\n",
      "  warnings.warn(msg, UserWarning)\n",
      "C:\\Users\\juanl\\Anaconda3\\lib\\site-packages\\seaborn\\distributions.py:283: UserWarning: Data must have variance to compute a kernel density estimate.\n",
      "  warnings.warn(msg, UserWarning)\n",
      "C:\\Users\\juanl\\Anaconda3\\lib\\site-packages\\seaborn\\distributions.py:283: UserWarning: Data must have variance to compute a kernel density estimate.\n",
      "  warnings.warn(msg, UserWarning)\n",
      "C:\\Users\\juanl\\Anaconda3\\lib\\site-packages\\seaborn\\distributions.py:283: UserWarning: Data must have variance to compute a kernel density estimate.\n",
      "  warnings.warn(msg, UserWarning)\n",
      "C:\\Users\\juanl\\Anaconda3\\lib\\site-packages\\seaborn\\distributions.py:283: UserWarning: Data must have variance to compute a kernel density estimate.\n",
      "  warnings.warn(msg, UserWarning)\n",
      "C:\\Users\\juanl\\Anaconda3\\lib\\site-packages\\seaborn\\distributions.py:283: UserWarning: Data must have variance to compute a kernel density estimate.\n",
      "  warnings.warn(msg, UserWarning)\n",
      "C:\\Users\\juanl\\Anaconda3\\lib\\site-packages\\seaborn\\distributions.py:369: UserWarning: Default bandwidth for data is 0; skipping density estimation.\n",
      "  warnings.warn(msg, UserWarning)\n",
      "C:\\Users\\juanl\\Anaconda3\\lib\\site-packages\\seaborn\\distributions.py:283: UserWarning: Data must have variance to compute a kernel density estimate.\n",
      "  warnings.warn(msg, UserWarning)\n",
      "C:\\Users\\juanl\\Anaconda3\\lib\\site-packages\\seaborn\\distributions.py:283: UserWarning: Data must have variance to compute a kernel density estimate.\n",
      "  warnings.warn(msg, UserWarning)\n",
      "C:\\Users\\juanl\\Anaconda3\\lib\\site-packages\\seaborn\\distributions.py:283: UserWarning: Data must have variance to compute a kernel density estimate.\n",
      "  warnings.warn(msg, UserWarning)\n",
      "C:\\Users\\juanl\\Anaconda3\\lib\\site-packages\\seaborn\\distributions.py:283: UserWarning: Data must have variance to compute a kernel density estimate.\n",
      "  warnings.warn(msg, UserWarning)\n",
      "C:\\Users\\juanl\\Anaconda3\\lib\\site-packages\\seaborn\\distributions.py:283: UserWarning: Data must have variance to compute a kernel density estimate.\n",
      "  warnings.warn(msg, UserWarning)\n",
      "C:\\Users\\juanl\\Anaconda3\\lib\\site-packages\\seaborn\\distributions.py:283: UserWarning: Data must have variance to compute a kernel density estimate.\n",
      "  warnings.warn(msg, UserWarning)\n",
      "C:\\Users\\juanl\\Anaconda3\\lib\\site-packages\\seaborn\\distributions.py:283: UserWarning: Data must have variance to compute a kernel density estimate.\n",
      "  warnings.warn(msg, UserWarning)\n",
      "C:\\Users\\juanl\\Anaconda3\\lib\\site-packages\\seaborn\\distributions.py:283: UserWarning: Data must have variance to compute a kernel density estimate.\n",
      "  warnings.warn(msg, UserWarning)\n",
      "C:\\Users\\juanl\\Anaconda3\\lib\\site-packages\\seaborn\\distributions.py:283: UserWarning: Data must have variance to compute a kernel density estimate.\n",
      "  warnings.warn(msg, UserWarning)\n",
      "C:\\Users\\juanl\\Anaconda3\\lib\\site-packages\\seaborn\\distributions.py:283: UserWarning: Data must have variance to compute a kernel density estimate.\n",
      "  warnings.warn(msg, UserWarning)\n",
      "C:\\Users\\juanl\\Anaconda3\\lib\\site-packages\\seaborn\\distributions.py:283: UserWarning: Data must have variance to compute a kernel density estimate.\n",
      "  warnings.warn(msg, UserWarning)\n",
      "C:\\Users\\juanl\\Anaconda3\\lib\\site-packages\\seaborn\\distributions.py:283: UserWarning: Data must have variance to compute a kernel density estimate.\n",
      "  warnings.warn(msg, UserWarning)\n",
      "C:\\Users\\juanl\\Anaconda3\\lib\\site-packages\\seaborn\\distributions.py:283: UserWarning: Data must have variance to compute a kernel density estimate.\n",
      "  warnings.warn(msg, UserWarning)\n",
      "C:\\Users\\juanl\\Anaconda3\\lib\\site-packages\\seaborn\\distributions.py:283: UserWarning: Data must have variance to compute a kernel density estimate.\n",
      "  warnings.warn(msg, UserWarning)\n",
      "C:\\Users\\juanl\\Anaconda3\\lib\\site-packages\\seaborn\\distributions.py:283: UserWarning: Data must have variance to compute a kernel density estimate.\n",
      "  warnings.warn(msg, UserWarning)\n",
      "C:\\Users\\juanl\\Anaconda3\\lib\\site-packages\\seaborn\\distributions.py:369: UserWarning: Default bandwidth for data is 0; skipping density estimation.\n",
      "  warnings.warn(msg, UserWarning)\n",
      "C:\\Users\\juanl\\Anaconda3\\lib\\site-packages\\seaborn\\distributions.py:283: UserWarning: Data must have variance to compute a kernel density estimate.\n",
      "  warnings.warn(msg, UserWarning)\n",
      "C:\\Users\\juanl\\Anaconda3\\lib\\site-packages\\seaborn\\distributions.py:283: UserWarning: Data must have variance to compute a kernel density estimate.\n",
      "  warnings.warn(msg, UserWarning)\n",
      "C:\\Users\\juanl\\Anaconda3\\lib\\site-packages\\seaborn\\distributions.py:283: UserWarning: Data must have variance to compute a kernel density estimate.\n",
      "  warnings.warn(msg, UserWarning)\n",
      "C:\\Users\\juanl\\Anaconda3\\lib\\site-packages\\seaborn\\distributions.py:283: UserWarning: Data must have variance to compute a kernel density estimate.\n",
      "  warnings.warn(msg, UserWarning)\n",
      "C:\\Users\\juanl\\Anaconda3\\lib\\site-packages\\seaborn\\distributions.py:283: UserWarning: Data must have variance to compute a kernel density estimate.\n",
      "  warnings.warn(msg, UserWarning)\n",
      "C:\\Users\\juanl\\Anaconda3\\lib\\site-packages\\seaborn\\distributions.py:283: UserWarning: Data must have variance to compute a kernel density estimate.\n",
      "  warnings.warn(msg, UserWarning)\n",
      "C:\\Users\\juanl\\Anaconda3\\lib\\site-packages\\seaborn\\distributions.py:283: UserWarning: Data must have variance to compute a kernel density estimate.\n",
      "  warnings.warn(msg, UserWarning)\n",
      "C:\\Users\\juanl\\Anaconda3\\lib\\site-packages\\seaborn\\distributions.py:369: UserWarning: Default bandwidth for data is 0; skipping density estimation.\n",
      "  warnings.warn(msg, UserWarning)\n",
      "C:\\Users\\juanl\\Anaconda3\\lib\\site-packages\\seaborn\\distributions.py:283: UserWarning: Data must have variance to compute a kernel density estimate.\n",
      "  warnings.warn(msg, UserWarning)\n",
      "C:\\Users\\juanl\\Anaconda3\\lib\\site-packages\\seaborn\\distributions.py:283: UserWarning: Data must have variance to compute a kernel density estimate.\n",
      "  warnings.warn(msg, UserWarning)\n",
      "C:\\Users\\juanl\\Anaconda3\\lib\\site-packages\\seaborn\\distributions.py:283: UserWarning: Data must have variance to compute a kernel density estimate.\n",
      "  warnings.warn(msg, UserWarning)\n"
     ]
    },
    {
     "name": "stderr",
     "output_type": "stream",
     "text": [
      "C:\\Users\\juanl\\Anaconda3\\lib\\site-packages\\seaborn\\distributions.py:283: UserWarning: Data must have variance to compute a kernel density estimate.\n",
      "  warnings.warn(msg, UserWarning)\n",
      "C:\\Users\\juanl\\Anaconda3\\lib\\site-packages\\seaborn\\distributions.py:283: UserWarning: Data must have variance to compute a kernel density estimate.\n",
      "  warnings.warn(msg, UserWarning)\n",
      "C:\\Users\\juanl\\Anaconda3\\lib\\site-packages\\seaborn\\distributions.py:283: UserWarning: Data must have variance to compute a kernel density estimate.\n",
      "  warnings.warn(msg, UserWarning)\n",
      "C:\\Users\\juanl\\Anaconda3\\lib\\site-packages\\seaborn\\distributions.py:283: UserWarning: Data must have variance to compute a kernel density estimate.\n",
      "  warnings.warn(msg, UserWarning)\n",
      "C:\\Users\\juanl\\Anaconda3\\lib\\site-packages\\seaborn\\distributions.py:283: UserWarning: Data must have variance to compute a kernel density estimate.\n",
      "  warnings.warn(msg, UserWarning)\n",
      "C:\\Users\\juanl\\Anaconda3\\lib\\site-packages\\seaborn\\distributions.py:283: UserWarning: Data must have variance to compute a kernel density estimate.\n",
      "  warnings.warn(msg, UserWarning)\n",
      "C:\\Users\\juanl\\Anaconda3\\lib\\site-packages\\seaborn\\distributions.py:283: UserWarning: Data must have variance to compute a kernel density estimate.\n",
      "  warnings.warn(msg, UserWarning)\n",
      "C:\\Users\\juanl\\Anaconda3\\lib\\site-packages\\seaborn\\distributions.py:283: UserWarning: Data must have variance to compute a kernel density estimate.\n",
      "  warnings.warn(msg, UserWarning)\n",
      "C:\\Users\\juanl\\Anaconda3\\lib\\site-packages\\seaborn\\distributions.py:283: UserWarning: Data must have variance to compute a kernel density estimate.\n",
      "  warnings.warn(msg, UserWarning)\n",
      "C:\\Users\\juanl\\Anaconda3\\lib\\site-packages\\seaborn\\distributions.py:283: UserWarning: Data must have variance to compute a kernel density estimate.\n",
      "  warnings.warn(msg, UserWarning)\n",
      "C:\\Users\\juanl\\Anaconda3\\lib\\site-packages\\seaborn\\distributions.py:283: UserWarning: Data must have variance to compute a kernel density estimate.\n",
      "  warnings.warn(msg, UserWarning)\n",
      "C:\\Users\\juanl\\Anaconda3\\lib\\site-packages\\seaborn\\distributions.py:283: UserWarning: Data must have variance to compute a kernel density estimate.\n",
      "  warnings.warn(msg, UserWarning)\n",
      "C:\\Users\\juanl\\Anaconda3\\lib\\site-packages\\seaborn\\distributions.py:283: UserWarning: Data must have variance to compute a kernel density estimate.\n",
      "  warnings.warn(msg, UserWarning)\n",
      "C:\\Users\\juanl\\Anaconda3\\lib\\site-packages\\seaborn\\distributions.py:283: UserWarning: Data must have variance to compute a kernel density estimate.\n",
      "  warnings.warn(msg, UserWarning)\n",
      "C:\\Users\\juanl\\Anaconda3\\lib\\site-packages\\seaborn\\distributions.py:369: UserWarning: Default bandwidth for data is 0; skipping density estimation.\n",
      "  warnings.warn(msg, UserWarning)\n",
      "C:\\Users\\juanl\\Anaconda3\\lib\\site-packages\\seaborn\\distributions.py:283: UserWarning: Data must have variance to compute a kernel density estimate.\n",
      "  warnings.warn(msg, UserWarning)\n",
      "C:\\Users\\juanl\\Anaconda3\\lib\\site-packages\\seaborn\\distributions.py:283: UserWarning: Data must have variance to compute a kernel density estimate.\n",
      "  warnings.warn(msg, UserWarning)\n",
      "C:\\Users\\juanl\\Anaconda3\\lib\\site-packages\\seaborn\\distributions.py:283: UserWarning: Data must have variance to compute a kernel density estimate.\n",
      "  warnings.warn(msg, UserWarning)\n",
      "C:\\Users\\juanl\\Anaconda3\\lib\\site-packages\\seaborn\\distributions.py:283: UserWarning: Data must have variance to compute a kernel density estimate.\n",
      "  warnings.warn(msg, UserWarning)\n",
      "C:\\Users\\juanl\\Anaconda3\\lib\\site-packages\\seaborn\\distributions.py:283: UserWarning: Data must have variance to compute a kernel density estimate.\n",
      "  warnings.warn(msg, UserWarning)\n",
      "C:\\Users\\juanl\\Anaconda3\\lib\\site-packages\\seaborn\\distributions.py:283: UserWarning: Data must have variance to compute a kernel density estimate.\n",
      "  warnings.warn(msg, UserWarning)\n",
      "C:\\Users\\juanl\\Anaconda3\\lib\\site-packages\\seaborn\\distributions.py:283: UserWarning: Data must have variance to compute a kernel density estimate.\n",
      "  warnings.warn(msg, UserWarning)\n",
      "C:\\Users\\juanl\\Anaconda3\\lib\\site-packages\\seaborn\\distributions.py:283: UserWarning: Data must have variance to compute a kernel density estimate.\n",
      "  warnings.warn(msg, UserWarning)\n",
      "C:\\Users\\juanl\\Anaconda3\\lib\\site-packages\\seaborn\\distributions.py:283: UserWarning: Data must have variance to compute a kernel density estimate.\n",
      "  warnings.warn(msg, UserWarning)\n",
      "C:\\Users\\juanl\\Anaconda3\\lib\\site-packages\\seaborn\\distributions.py:283: UserWarning: Data must have variance to compute a kernel density estimate.\n",
      "  warnings.warn(msg, UserWarning)\n",
      "C:\\Users\\juanl\\Anaconda3\\lib\\site-packages\\seaborn\\distributions.py:283: UserWarning: Data must have variance to compute a kernel density estimate.\n",
      "  warnings.warn(msg, UserWarning)\n",
      "C:\\Users\\juanl\\Anaconda3\\lib\\site-packages\\seaborn\\distributions.py:283: UserWarning: Data must have variance to compute a kernel density estimate.\n",
      "  warnings.warn(msg, UserWarning)\n",
      "C:\\Users\\juanl\\Anaconda3\\lib\\site-packages\\seaborn\\distributions.py:283: UserWarning: Data must have variance to compute a kernel density estimate.\n",
      "  warnings.warn(msg, UserWarning)\n",
      "C:\\Users\\juanl\\Anaconda3\\lib\\site-packages\\seaborn\\distributions.py:283: UserWarning: Data must have variance to compute a kernel density estimate.\n",
      "  warnings.warn(msg, UserWarning)\n",
      "C:\\Users\\juanl\\Anaconda3\\lib\\site-packages\\seaborn\\distributions.py:283: UserWarning: Data must have variance to compute a kernel density estimate.\n",
      "  warnings.warn(msg, UserWarning)\n",
      "C:\\Users\\juanl\\Anaconda3\\lib\\site-packages\\seaborn\\distributions.py:283: UserWarning: Data must have variance to compute a kernel density estimate.\n",
      "  warnings.warn(msg, UserWarning)\n",
      "C:\\Users\\juanl\\Anaconda3\\lib\\site-packages\\seaborn\\distributions.py:283: UserWarning: Data must have variance to compute a kernel density estimate.\n",
      "  warnings.warn(msg, UserWarning)\n",
      "C:\\Users\\juanl\\Anaconda3\\lib\\site-packages\\seaborn\\distributions.py:369: UserWarning: Default bandwidth for data is 0; skipping density estimation.\n",
      "  warnings.warn(msg, UserWarning)\n",
      "C:\\Users\\juanl\\Anaconda3\\lib\\site-packages\\seaborn\\distributions.py:283: UserWarning: Data must have variance to compute a kernel density estimate.\n",
      "  warnings.warn(msg, UserWarning)\n",
      "C:\\Users\\juanl\\Anaconda3\\lib\\site-packages\\seaborn\\distributions.py:369: UserWarning: Default bandwidth for data is 0; skipping density estimation.\n",
      "  warnings.warn(msg, UserWarning)\n",
      "C:\\Users\\juanl\\Anaconda3\\lib\\site-packages\\seaborn\\distributions.py:283: UserWarning: Data must have variance to compute a kernel density estimate.\n",
      "  warnings.warn(msg, UserWarning)\n",
      "C:\\Users\\juanl\\Anaconda3\\lib\\site-packages\\seaborn\\distributions.py:283: UserWarning: Data must have variance to compute a kernel density estimate.\n",
      "  warnings.warn(msg, UserWarning)\n",
      "C:\\Users\\juanl\\Anaconda3\\lib\\site-packages\\seaborn\\distributions.py:283: UserWarning: Data must have variance to compute a kernel density estimate.\n",
      "  warnings.warn(msg, UserWarning)\n",
      "C:\\Users\\juanl\\Anaconda3\\lib\\site-packages\\seaborn\\distributions.py:283: UserWarning: Data must have variance to compute a kernel density estimate.\n",
      "  warnings.warn(msg, UserWarning)\n",
      "C:\\Users\\juanl\\Anaconda3\\lib\\site-packages\\seaborn\\distributions.py:283: UserWarning: Data must have variance to compute a kernel density estimate.\n",
      "  warnings.warn(msg, UserWarning)\n",
      "C:\\Users\\juanl\\Anaconda3\\lib\\site-packages\\seaborn\\distributions.py:283: UserWarning: Data must have variance to compute a kernel density estimate.\n",
      "  warnings.warn(msg, UserWarning)\n",
      "C:\\Users\\juanl\\Anaconda3\\lib\\site-packages\\seaborn\\distributions.py:283: UserWarning: Data must have variance to compute a kernel density estimate.\n",
      "  warnings.warn(msg, UserWarning)\n",
      "C:\\Users\\juanl\\Anaconda3\\lib\\site-packages\\seaborn\\distributions.py:283: UserWarning: Data must have variance to compute a kernel density estimate.\n",
      "  warnings.warn(msg, UserWarning)\n",
      "C:\\Users\\juanl\\Anaconda3\\lib\\site-packages\\seaborn\\distributions.py:283: UserWarning: Data must have variance to compute a kernel density estimate.\n",
      "  warnings.warn(msg, UserWarning)\n",
      "C:\\Users\\juanl\\Anaconda3\\lib\\site-packages\\seaborn\\distributions.py:283: UserWarning: Data must have variance to compute a kernel density estimate.\n",
      "  warnings.warn(msg, UserWarning)\n",
      "C:\\Users\\juanl\\Anaconda3\\lib\\site-packages\\seaborn\\distributions.py:283: UserWarning: Data must have variance to compute a kernel density estimate.\n",
      "  warnings.warn(msg, UserWarning)\n"
     ]
    },
    {
     "name": "stderr",
     "output_type": "stream",
     "text": [
      "C:\\Users\\juanl\\Anaconda3\\lib\\site-packages\\seaborn\\distributions.py:283: UserWarning: Data must have variance to compute a kernel density estimate.\n",
      "  warnings.warn(msg, UserWarning)\n",
      "C:\\Users\\juanl\\Anaconda3\\lib\\site-packages\\seaborn\\distributions.py:283: UserWarning: Data must have variance to compute a kernel density estimate.\n",
      "  warnings.warn(msg, UserWarning)\n",
      "C:\\Users\\juanl\\Anaconda3\\lib\\site-packages\\seaborn\\distributions.py:283: UserWarning: Data must have variance to compute a kernel density estimate.\n",
      "  warnings.warn(msg, UserWarning)\n",
      "C:\\Users\\juanl\\Anaconda3\\lib\\site-packages\\seaborn\\distributions.py:283: UserWarning: Data must have variance to compute a kernel density estimate.\n",
      "  warnings.warn(msg, UserWarning)\n",
      "C:\\Users\\juanl\\Anaconda3\\lib\\site-packages\\seaborn\\distributions.py:283: UserWarning: Data must have variance to compute a kernel density estimate.\n",
      "  warnings.warn(msg, UserWarning)\n",
      "C:\\Users\\juanl\\Anaconda3\\lib\\site-packages\\seaborn\\distributions.py:283: UserWarning: Data must have variance to compute a kernel density estimate.\n",
      "  warnings.warn(msg, UserWarning)\n",
      "C:\\Users\\juanl\\Anaconda3\\lib\\site-packages\\seaborn\\distributions.py:283: UserWarning: Data must have variance to compute a kernel density estimate.\n",
      "  warnings.warn(msg, UserWarning)\n",
      "C:\\Users\\juanl\\Anaconda3\\lib\\site-packages\\seaborn\\distributions.py:283: UserWarning: Data must have variance to compute a kernel density estimate.\n",
      "  warnings.warn(msg, UserWarning)\n",
      "C:\\Users\\juanl\\Anaconda3\\lib\\site-packages\\seaborn\\distributions.py:283: UserWarning: Data must have variance to compute a kernel density estimate.\n",
      "  warnings.warn(msg, UserWarning)\n",
      "C:\\Users\\juanl\\Anaconda3\\lib\\site-packages\\seaborn\\distributions.py:283: UserWarning: Data must have variance to compute a kernel density estimate.\n",
      "  warnings.warn(msg, UserWarning)\n",
      "C:\\Users\\juanl\\Anaconda3\\lib\\site-packages\\seaborn\\distributions.py:283: UserWarning: Data must have variance to compute a kernel density estimate.\n",
      "  warnings.warn(msg, UserWarning)\n",
      "C:\\Users\\juanl\\Anaconda3\\lib\\site-packages\\seaborn\\distributions.py:283: UserWarning: Data must have variance to compute a kernel density estimate.\n",
      "  warnings.warn(msg, UserWarning)\n",
      "C:\\Users\\juanl\\Anaconda3\\lib\\site-packages\\seaborn\\distributions.py:283: UserWarning: Data must have variance to compute a kernel density estimate.\n",
      "  warnings.warn(msg, UserWarning)\n",
      "C:\\Users\\juanl\\Anaconda3\\lib\\site-packages\\seaborn\\distributions.py:283: UserWarning: Data must have variance to compute a kernel density estimate.\n",
      "  warnings.warn(msg, UserWarning)\n",
      "C:\\Users\\juanl\\Anaconda3\\lib\\site-packages\\seaborn\\distributions.py:283: UserWarning: Data must have variance to compute a kernel density estimate.\n",
      "  warnings.warn(msg, UserWarning)\n",
      "C:\\Users\\juanl\\Anaconda3\\lib\\site-packages\\seaborn\\distributions.py:283: UserWarning: Data must have variance to compute a kernel density estimate.\n",
      "  warnings.warn(msg, UserWarning)\n",
      "C:\\Users\\juanl\\Anaconda3\\lib\\site-packages\\seaborn\\distributions.py:283: UserWarning: Data must have variance to compute a kernel density estimate.\n",
      "  warnings.warn(msg, UserWarning)\n",
      "C:\\Users\\juanl\\Anaconda3\\lib\\site-packages\\seaborn\\distributions.py:283: UserWarning: Data must have variance to compute a kernel density estimate.\n",
      "  warnings.warn(msg, UserWarning)\n",
      "C:\\Users\\juanl\\Anaconda3\\lib\\site-packages\\seaborn\\distributions.py:283: UserWarning: Data must have variance to compute a kernel density estimate.\n",
      "  warnings.warn(msg, UserWarning)\n",
      "C:\\Users\\juanl\\Anaconda3\\lib\\site-packages\\seaborn\\distributions.py:283: UserWarning: Data must have variance to compute a kernel density estimate.\n",
      "  warnings.warn(msg, UserWarning)\n",
      "C:\\Users\\juanl\\Anaconda3\\lib\\site-packages\\seaborn\\distributions.py:283: UserWarning: Data must have variance to compute a kernel density estimate.\n",
      "  warnings.warn(msg, UserWarning)\n",
      "C:\\Users\\juanl\\Anaconda3\\lib\\site-packages\\seaborn\\distributions.py:283: UserWarning: Data must have variance to compute a kernel density estimate.\n",
      "  warnings.warn(msg, UserWarning)\n",
      "C:\\Users\\juanl\\Anaconda3\\lib\\site-packages\\seaborn\\distributions.py:283: UserWarning: Data must have variance to compute a kernel density estimate.\n",
      "  warnings.warn(msg, UserWarning)\n",
      "C:\\Users\\juanl\\Anaconda3\\lib\\site-packages\\seaborn\\distributions.py:283: UserWarning: Data must have variance to compute a kernel density estimate.\n",
      "  warnings.warn(msg, UserWarning)\n",
      "C:\\Users\\juanl\\Anaconda3\\lib\\site-packages\\seaborn\\distributions.py:283: UserWarning: Data must have variance to compute a kernel density estimate.\n",
      "  warnings.warn(msg, UserWarning)\n",
      "C:\\Users\\juanl\\Anaconda3\\lib\\site-packages\\seaborn\\distributions.py:283: UserWarning: Data must have variance to compute a kernel density estimate.\n",
      "  warnings.warn(msg, UserWarning)\n",
      "C:\\Users\\juanl\\Anaconda3\\lib\\site-packages\\seaborn\\distributions.py:283: UserWarning: Data must have variance to compute a kernel density estimate.\n",
      "  warnings.warn(msg, UserWarning)\n",
      "C:\\Users\\juanl\\Anaconda3\\lib\\site-packages\\seaborn\\distributions.py:283: UserWarning: Data must have variance to compute a kernel density estimate.\n",
      "  warnings.warn(msg, UserWarning)\n",
      "C:\\Users\\juanl\\Anaconda3\\lib\\site-packages\\seaborn\\distributions.py:283: UserWarning: Data must have variance to compute a kernel density estimate.\n",
      "  warnings.warn(msg, UserWarning)\n",
      "C:\\Users\\juanl\\Anaconda3\\lib\\site-packages\\seaborn\\distributions.py:283: UserWarning: Data must have variance to compute a kernel density estimate.\n",
      "  warnings.warn(msg, UserWarning)\n",
      "C:\\Users\\juanl\\Anaconda3\\lib\\site-packages\\seaborn\\distributions.py:283: UserWarning: Data must have variance to compute a kernel density estimate.\n",
      "  warnings.warn(msg, UserWarning)\n",
      "C:\\Users\\juanl\\Anaconda3\\lib\\site-packages\\seaborn\\distributions.py:283: UserWarning: Data must have variance to compute a kernel density estimate.\n",
      "  warnings.warn(msg, UserWarning)\n",
      "C:\\Users\\juanl\\Anaconda3\\lib\\site-packages\\seaborn\\distributions.py:369: UserWarning: Default bandwidth for data is 0; skipping density estimation.\n",
      "  warnings.warn(msg, UserWarning)\n",
      "C:\\Users\\juanl\\Anaconda3\\lib\\site-packages\\seaborn\\distributions.py:283: UserWarning: Data must have variance to compute a kernel density estimate.\n",
      "  warnings.warn(msg, UserWarning)\n",
      "C:\\Users\\juanl\\Anaconda3\\lib\\site-packages\\seaborn\\distributions.py:283: UserWarning: Data must have variance to compute a kernel density estimate.\n",
      "  warnings.warn(msg, UserWarning)\n",
      "C:\\Users\\juanl\\Anaconda3\\lib\\site-packages\\seaborn\\distributions.py:283: UserWarning: Data must have variance to compute a kernel density estimate.\n",
      "  warnings.warn(msg, UserWarning)\n",
      "C:\\Users\\juanl\\Anaconda3\\lib\\site-packages\\seaborn\\distributions.py:283: UserWarning: Data must have variance to compute a kernel density estimate.\n",
      "  warnings.warn(msg, UserWarning)\n",
      "C:\\Users\\juanl\\Anaconda3\\lib\\site-packages\\seaborn\\distributions.py:283: UserWarning: Data must have variance to compute a kernel density estimate.\n",
      "  warnings.warn(msg, UserWarning)\n",
      "C:\\Users\\juanl\\Anaconda3\\lib\\site-packages\\seaborn\\distributions.py:283: UserWarning: Data must have variance to compute a kernel density estimate.\n",
      "  warnings.warn(msg, UserWarning)\n",
      "C:\\Users\\juanl\\Anaconda3\\lib\\site-packages\\seaborn\\distributions.py:283: UserWarning: Data must have variance to compute a kernel density estimate.\n",
      "  warnings.warn(msg, UserWarning)\n",
      "C:\\Users\\juanl\\Anaconda3\\lib\\site-packages\\seaborn\\distributions.py:283: UserWarning: Data must have variance to compute a kernel density estimate.\n",
      "  warnings.warn(msg, UserWarning)\n",
      "C:\\Users\\juanl\\Anaconda3\\lib\\site-packages\\seaborn\\distributions.py:283: UserWarning: Data must have variance to compute a kernel density estimate.\n",
      "  warnings.warn(msg, UserWarning)\n",
      "C:\\Users\\juanl\\Anaconda3\\lib\\site-packages\\seaborn\\distributions.py:283: UserWarning: Data must have variance to compute a kernel density estimate.\n",
      "  warnings.warn(msg, UserWarning)\n",
      "C:\\Users\\juanl\\Anaconda3\\lib\\site-packages\\seaborn\\distributions.py:283: UserWarning: Data must have variance to compute a kernel density estimate.\n",
      "  warnings.warn(msg, UserWarning)\n",
      "C:\\Users\\juanl\\Anaconda3\\lib\\site-packages\\seaborn\\distributions.py:283: UserWarning: Data must have variance to compute a kernel density estimate.\n",
      "  warnings.warn(msg, UserWarning)\n",
      "C:\\Users\\juanl\\Anaconda3\\lib\\site-packages\\seaborn\\distributions.py:283: UserWarning: Data must have variance to compute a kernel density estimate.\n",
      "  warnings.warn(msg, UserWarning)\n"
     ]
    },
    {
     "name": "stderr",
     "output_type": "stream",
     "text": [
      "C:\\Users\\juanl\\Anaconda3\\lib\\site-packages\\seaborn\\distributions.py:283: UserWarning: Data must have variance to compute a kernel density estimate.\n",
      "  warnings.warn(msg, UserWarning)\n",
      "C:\\Users\\juanl\\Anaconda3\\lib\\site-packages\\seaborn\\distributions.py:283: UserWarning: Data must have variance to compute a kernel density estimate.\n",
      "  warnings.warn(msg, UserWarning)\n",
      "C:\\Users\\juanl\\Anaconda3\\lib\\site-packages\\seaborn\\distributions.py:283: UserWarning: Data must have variance to compute a kernel density estimate.\n",
      "  warnings.warn(msg, UserWarning)\n",
      "C:\\Users\\juanl\\Anaconda3\\lib\\site-packages\\seaborn\\distributions.py:283: UserWarning: Data must have variance to compute a kernel density estimate.\n",
      "  warnings.warn(msg, UserWarning)\n",
      "C:\\Users\\juanl\\Anaconda3\\lib\\site-packages\\seaborn\\distributions.py:283: UserWarning: Data must have variance to compute a kernel density estimate.\n",
      "  warnings.warn(msg, UserWarning)\n",
      "C:\\Users\\juanl\\Anaconda3\\lib\\site-packages\\seaborn\\distributions.py:283: UserWarning: Data must have variance to compute a kernel density estimate.\n",
      "  warnings.warn(msg, UserWarning)\n",
      "C:\\Users\\juanl\\Anaconda3\\lib\\site-packages\\seaborn\\distributions.py:283: UserWarning: Data must have variance to compute a kernel density estimate.\n",
      "  warnings.warn(msg, UserWarning)\n",
      "C:\\Users\\juanl\\Anaconda3\\lib\\site-packages\\seaborn\\distributions.py:283: UserWarning: Data must have variance to compute a kernel density estimate.\n",
      "  warnings.warn(msg, UserWarning)\n",
      "C:\\Users\\juanl\\Anaconda3\\lib\\site-packages\\seaborn\\distributions.py:283: UserWarning: Data must have variance to compute a kernel density estimate.\n",
      "  warnings.warn(msg, UserWarning)\n",
      "C:\\Users\\juanl\\Anaconda3\\lib\\site-packages\\seaborn\\distributions.py:283: UserWarning: Data must have variance to compute a kernel density estimate.\n",
      "  warnings.warn(msg, UserWarning)\n",
      "C:\\Users\\juanl\\Anaconda3\\lib\\site-packages\\seaborn\\distributions.py:283: UserWarning: Data must have variance to compute a kernel density estimate.\n",
      "  warnings.warn(msg, UserWarning)\n",
      "C:\\Users\\juanl\\Anaconda3\\lib\\site-packages\\seaborn\\distributions.py:283: UserWarning: Data must have variance to compute a kernel density estimate.\n",
      "  warnings.warn(msg, UserWarning)\n",
      "C:\\Users\\juanl\\Anaconda3\\lib\\site-packages\\seaborn\\distributions.py:283: UserWarning: Data must have variance to compute a kernel density estimate.\n",
      "  warnings.warn(msg, UserWarning)\n",
      "C:\\Users\\juanl\\Anaconda3\\lib\\site-packages\\seaborn\\distributions.py:283: UserWarning: Data must have variance to compute a kernel density estimate.\n",
      "  warnings.warn(msg, UserWarning)\n",
      "C:\\Users\\juanl\\Anaconda3\\lib\\site-packages\\seaborn\\distributions.py:283: UserWarning: Data must have variance to compute a kernel density estimate.\n",
      "  warnings.warn(msg, UserWarning)\n",
      "C:\\Users\\juanl\\Anaconda3\\lib\\site-packages\\seaborn\\distributions.py:283: UserWarning: Data must have variance to compute a kernel density estimate.\n",
      "  warnings.warn(msg, UserWarning)\n",
      "C:\\Users\\juanl\\Anaconda3\\lib\\site-packages\\seaborn\\distributions.py:283: UserWarning: Data must have variance to compute a kernel density estimate.\n",
      "  warnings.warn(msg, UserWarning)\n",
      "C:\\Users\\juanl\\Anaconda3\\lib\\site-packages\\seaborn\\distributions.py:283: UserWarning: Data must have variance to compute a kernel density estimate.\n",
      "  warnings.warn(msg, UserWarning)\n",
      "C:\\Users\\juanl\\Anaconda3\\lib\\site-packages\\seaborn\\distributions.py:283: UserWarning: Data must have variance to compute a kernel density estimate.\n",
      "  warnings.warn(msg, UserWarning)\n",
      "C:\\Users\\juanl\\Anaconda3\\lib\\site-packages\\seaborn\\distributions.py:283: UserWarning: Data must have variance to compute a kernel density estimate.\n",
      "  warnings.warn(msg, UserWarning)\n",
      "C:\\Users\\juanl\\Anaconda3\\lib\\site-packages\\seaborn\\distributions.py:283: UserWarning: Data must have variance to compute a kernel density estimate.\n",
      "  warnings.warn(msg, UserWarning)\n",
      "C:\\Users\\juanl\\Anaconda3\\lib\\site-packages\\seaborn\\distributions.py:283: UserWarning: Data must have variance to compute a kernel density estimate.\n",
      "  warnings.warn(msg, UserWarning)\n",
      "C:\\Users\\juanl\\Anaconda3\\lib\\site-packages\\seaborn\\distributions.py:283: UserWarning: Data must have variance to compute a kernel density estimate.\n",
      "  warnings.warn(msg, UserWarning)\n",
      "C:\\Users\\juanl\\Anaconda3\\lib\\site-packages\\seaborn\\distributions.py:283: UserWarning: Data must have variance to compute a kernel density estimate.\n",
      "  warnings.warn(msg, UserWarning)\n",
      "C:\\Users\\juanl\\Anaconda3\\lib\\site-packages\\seaborn\\distributions.py:283: UserWarning: Data must have variance to compute a kernel density estimate.\n",
      "  warnings.warn(msg, UserWarning)\n",
      "C:\\Users\\juanl\\Anaconda3\\lib\\site-packages\\seaborn\\distributions.py:283: UserWarning: Data must have variance to compute a kernel density estimate.\n",
      "  warnings.warn(msg, UserWarning)\n",
      "C:\\Users\\juanl\\Anaconda3\\lib\\site-packages\\seaborn\\distributions.py:283: UserWarning: Data must have variance to compute a kernel density estimate.\n",
      "  warnings.warn(msg, UserWarning)\n",
      "C:\\Users\\juanl\\Anaconda3\\lib\\site-packages\\seaborn\\distributions.py:283: UserWarning: Data must have variance to compute a kernel density estimate.\n",
      "  warnings.warn(msg, UserWarning)\n",
      "C:\\Users\\juanl\\Anaconda3\\lib\\site-packages\\seaborn\\distributions.py:283: UserWarning: Data must have variance to compute a kernel density estimate.\n",
      "  warnings.warn(msg, UserWarning)\n"
     ]
    },
    {
     "ename": "KeyboardInterrupt",
     "evalue": "",
     "output_type": "error",
     "traceback": [
      "\u001b[1;31m---------------------------------------------------------------------------\u001b[0m",
      "\u001b[1;31mKeyboardInterrupt\u001b[0m                         Traceback (most recent call last)",
      "\u001b[1;32m<ipython-input-98-6f2f1581ab57>\u001b[0m in \u001b[0;36m<module>\u001b[1;34m\u001b[0m\n\u001b[0;32m      4\u001b[0m \u001b[1;31m#plt.xlim([0, 1])\u001b[0m\u001b[1;33m\u001b[0m\u001b[1;33m\u001b[0m\u001b[1;33m\u001b[0m\u001b[0m\n\u001b[0;32m      5\u001b[0m \u001b[0mg\u001b[0m \u001b[1;33m=\u001b[0m \u001b[0msns\u001b[0m\u001b[1;33m.\u001b[0m\u001b[0mFacetGrid\u001b[0m\u001b[1;33m(\u001b[0m\u001b[0mdata_gini\u001b[0m\u001b[1;33m,\u001b[0m \u001b[0mcol\u001b[0m\u001b[1;33m=\u001b[0m\u001b[1;34m'Gini'\u001b[0m\u001b[1;33m,\u001b[0m  \u001b[0mrow\u001b[0m\u001b[1;33m=\u001b[0m\u001b[1;34m'Numero_agentes'\u001b[0m\u001b[1;33m)\u001b[0m\u001b[1;33m\u001b[0m\u001b[1;33m\u001b[0m\u001b[0m\n\u001b[1;32m----> 6\u001b[1;33m \u001b[0mg\u001b[0m \u001b[1;33m=\u001b[0m \u001b[0mg\u001b[0m\u001b[1;33m.\u001b[0m\u001b[0mmap\u001b[0m\u001b[1;33m(\u001b[0m\u001b[0msns\u001b[0m\u001b[1;33m.\u001b[0m\u001b[0mdistplot\u001b[0m\u001b[1;33m,\u001b[0m \u001b[1;34m'Gini'\u001b[0m\u001b[1;33m)\u001b[0m\u001b[1;33m\u001b[0m\u001b[1;33m\u001b[0m\u001b[0m\n\u001b[0m",
      "\u001b[1;32m~\\Anaconda3\\lib\\site-packages\\seaborn\\axisgrid.py\u001b[0m in \u001b[0;36mmap\u001b[1;34m(self, func, *args, **kwargs)\u001b[0m\n\u001b[0;32m    763\u001b[0m \u001b[1;33m\u001b[0m\u001b[0m\n\u001b[0;32m    764\u001b[0m         \u001b[1;31m# Finalize the annotations and layout\u001b[0m\u001b[1;33m\u001b[0m\u001b[1;33m\u001b[0m\u001b[1;33m\u001b[0m\u001b[0m\n\u001b[1;32m--> 765\u001b[1;33m         \u001b[0mself\u001b[0m\u001b[1;33m.\u001b[0m\u001b[0m_finalize_grid\u001b[0m\u001b[1;33m(\u001b[0m\u001b[0margs\u001b[0m\u001b[1;33m[\u001b[0m\u001b[1;33m:\u001b[0m\u001b[1;36m2\u001b[0m\u001b[1;33m]\u001b[0m\u001b[1;33m)\u001b[0m\u001b[1;33m\u001b[0m\u001b[1;33m\u001b[0m\u001b[0m\n\u001b[0m\u001b[0;32m    766\u001b[0m \u001b[1;33m\u001b[0m\u001b[0m\n\u001b[0;32m    767\u001b[0m         \u001b[1;32mreturn\u001b[0m \u001b[0mself\u001b[0m\u001b[1;33m\u001b[0m\u001b[1;33m\u001b[0m\u001b[0m\n",
      "\u001b[1;32m~\\Anaconda3\\lib\\site-packages\\seaborn\\axisgrid.py\u001b[0m in \u001b[0;36m_finalize_grid\u001b[1;34m(self, axlabels)\u001b[0m\n\u001b[0;32m    854\u001b[0m         \u001b[0mself\u001b[0m\u001b[1;33m.\u001b[0m\u001b[0mset_axis_labels\u001b[0m\u001b[1;33m(\u001b[0m\u001b[1;33m*\u001b[0m\u001b[0maxlabels\u001b[0m\u001b[1;33m)\u001b[0m\u001b[1;33m\u001b[0m\u001b[1;33m\u001b[0m\u001b[0m\n\u001b[0;32m    855\u001b[0m         \u001b[0mself\u001b[0m\u001b[1;33m.\u001b[0m\u001b[0mset_titles\u001b[0m\u001b[1;33m(\u001b[0m\u001b[1;33m)\u001b[0m\u001b[1;33m\u001b[0m\u001b[1;33m\u001b[0m\u001b[0m\n\u001b[1;32m--> 856\u001b[1;33m         \u001b[0mself\u001b[0m\u001b[1;33m.\u001b[0m\u001b[0mfig\u001b[0m\u001b[1;33m.\u001b[0m\u001b[0mtight_layout\u001b[0m\u001b[1;33m(\u001b[0m\u001b[1;33m)\u001b[0m\u001b[1;33m\u001b[0m\u001b[1;33m\u001b[0m\u001b[0m\n\u001b[0m\u001b[0;32m    857\u001b[0m \u001b[1;33m\u001b[0m\u001b[0m\n\u001b[0;32m    858\u001b[0m     \u001b[1;32mdef\u001b[0m \u001b[0mfacet_axis\u001b[0m\u001b[1;33m(\u001b[0m\u001b[0mself\u001b[0m\u001b[1;33m,\u001b[0m \u001b[0mrow_i\u001b[0m\u001b[1;33m,\u001b[0m \u001b[0mcol_j\u001b[0m\u001b[1;33m)\u001b[0m\u001b[1;33m:\u001b[0m\u001b[1;33m\u001b[0m\u001b[1;33m\u001b[0m\u001b[0m\n",
      "\u001b[1;32m~\\Anaconda3\\lib\\site-packages\\matplotlib\\figure.py\u001b[0m in \u001b[0;36mtight_layout\u001b[1;34m(self, renderer, pad, h_pad, w_pad, rect)\u001b[0m\n\u001b[0;32m   2474\u001b[0m         kwargs = get_tight_layout_figure(\n\u001b[0;32m   2475\u001b[0m             \u001b[0mself\u001b[0m\u001b[1;33m,\u001b[0m \u001b[0mself\u001b[0m\u001b[1;33m.\u001b[0m\u001b[0maxes\u001b[0m\u001b[1;33m,\u001b[0m \u001b[0msubplotspec_list\u001b[0m\u001b[1;33m,\u001b[0m \u001b[0mrenderer\u001b[0m\u001b[1;33m,\u001b[0m\u001b[1;33m\u001b[0m\u001b[1;33m\u001b[0m\u001b[0m\n\u001b[1;32m-> 2476\u001b[1;33m             pad=pad, h_pad=h_pad, w_pad=w_pad, rect=rect)\n\u001b[0m\u001b[0;32m   2477\u001b[0m         \u001b[1;32mif\u001b[0m \u001b[0mkwargs\u001b[0m\u001b[1;33m:\u001b[0m\u001b[1;33m\u001b[0m\u001b[1;33m\u001b[0m\u001b[0m\n\u001b[0;32m   2478\u001b[0m             \u001b[0mself\u001b[0m\u001b[1;33m.\u001b[0m\u001b[0msubplots_adjust\u001b[0m\u001b[1;33m(\u001b[0m\u001b[1;33m**\u001b[0m\u001b[0mkwargs\u001b[0m\u001b[1;33m)\u001b[0m\u001b[1;33m\u001b[0m\u001b[1;33m\u001b[0m\u001b[0m\n",
      "\u001b[1;32m~\\Anaconda3\\lib\\site-packages\\matplotlib\\tight_layout.py\u001b[0m in \u001b[0;36mget_tight_layout_figure\u001b[1;34m(fig, axes_list, subplotspec_list, renderer, pad, h_pad, w_pad, rect)\u001b[0m\n\u001b[0;32m    360\u001b[0m                                      \u001b[0msubplot_list\u001b[0m\u001b[1;33m=\u001b[0m\u001b[0msubplot_list\u001b[0m\u001b[1;33m,\u001b[0m\u001b[1;33m\u001b[0m\u001b[1;33m\u001b[0m\u001b[0m\n\u001b[0;32m    361\u001b[0m                                      \u001b[0max_bbox_list\u001b[0m\u001b[1;33m=\u001b[0m\u001b[0max_bbox_list\u001b[0m\u001b[1;33m,\u001b[0m\u001b[1;33m\u001b[0m\u001b[1;33m\u001b[0m\u001b[0m\n\u001b[1;32m--> 362\u001b[1;33m                                      pad=pad, h_pad=h_pad, w_pad=w_pad)\n\u001b[0m\u001b[0;32m    363\u001b[0m \u001b[1;33m\u001b[0m\u001b[0m\n\u001b[0;32m    364\u001b[0m     \u001b[1;31m# kwargs can be none if tight_layout fails...\u001b[0m\u001b[1;33m\u001b[0m\u001b[1;33m\u001b[0m\u001b[1;33m\u001b[0m\u001b[0m\n",
      "\u001b[1;32m~\\Anaconda3\\lib\\site-packages\\matplotlib\\tight_layout.py\u001b[0m in \u001b[0;36mauto_adjust_subplotpars\u001b[1;34m(fig, renderer, nrows_ncols, num1num2_list, subplot_list, ax_bbox_list, pad, h_pad, w_pad, rect)\u001b[0m\n\u001b[0;32m    109\u001b[0m             \u001b[1;32mcontinue\u001b[0m\u001b[1;33m\u001b[0m\u001b[1;33m\u001b[0m\u001b[0m\n\u001b[0;32m    110\u001b[0m \u001b[1;33m\u001b[0m\u001b[0m\n\u001b[1;32m--> 111\u001b[1;33m         tight_bbox_raw = union([ax.get_tightbbox(renderer) for ax in subplots\n\u001b[0m\u001b[0;32m    112\u001b[0m                                 if ax.get_visible()])\n\u001b[0;32m    113\u001b[0m         tight_bbox = TransformedBbox(tight_bbox_raw,\n",
      "\u001b[1;32m~\\Anaconda3\\lib\\site-packages\\matplotlib\\tight_layout.py\u001b[0m in \u001b[0;36m<listcomp>\u001b[1;34m(.0)\u001b[0m\n\u001b[0;32m    110\u001b[0m \u001b[1;33m\u001b[0m\u001b[0m\n\u001b[0;32m    111\u001b[0m         tight_bbox_raw = union([ax.get_tightbbox(renderer) for ax in subplots\n\u001b[1;32m--> 112\u001b[1;33m                                 if ax.get_visible()])\n\u001b[0m\u001b[0;32m    113\u001b[0m         tight_bbox = TransformedBbox(tight_bbox_raw,\n\u001b[0;32m    114\u001b[0m                                      fig.transFigure.inverted())\n",
      "\u001b[1;32m~\\Anaconda3\\lib\\site-packages\\matplotlib\\axes\\_base.py\u001b[0m in \u001b[0;36mget_tightbbox\u001b[1;34m(self, renderer, call_axes_locator, bbox_extra_artists)\u001b[0m\n\u001b[0;32m   4367\u001b[0m         \u001b[0mbb\u001b[0m\u001b[1;33m.\u001b[0m\u001b[0mappend\u001b[0m\u001b[1;33m(\u001b[0m\u001b[0maxbbox\u001b[0m\u001b[1;33m)\u001b[0m\u001b[1;33m\u001b[0m\u001b[1;33m\u001b[0m\u001b[0m\n\u001b[0;32m   4368\u001b[0m \u001b[1;33m\u001b[0m\u001b[0m\n\u001b[1;32m-> 4369\u001b[1;33m         \u001b[0mself\u001b[0m\u001b[1;33m.\u001b[0m\u001b[0m_update_title_position\u001b[0m\u001b[1;33m(\u001b[0m\u001b[0mrenderer\u001b[0m\u001b[1;33m)\u001b[0m\u001b[1;33m\u001b[0m\u001b[1;33m\u001b[0m\u001b[0m\n\u001b[0m\u001b[0;32m   4370\u001b[0m         \u001b[1;32mif\u001b[0m \u001b[0mself\u001b[0m\u001b[1;33m.\u001b[0m\u001b[0mtitle\u001b[0m\u001b[1;33m.\u001b[0m\u001b[0mget_visible\u001b[0m\u001b[1;33m(\u001b[0m\u001b[1;33m)\u001b[0m\u001b[1;33m:\u001b[0m\u001b[1;33m\u001b[0m\u001b[1;33m\u001b[0m\u001b[0m\n\u001b[0;32m   4371\u001b[0m             \u001b[0mbb\u001b[0m\u001b[1;33m.\u001b[0m\u001b[0mappend\u001b[0m\u001b[1;33m(\u001b[0m\u001b[0mself\u001b[0m\u001b[1;33m.\u001b[0m\u001b[0mtitle\u001b[0m\u001b[1;33m.\u001b[0m\u001b[0mget_window_extent\u001b[0m\u001b[1;33m(\u001b[0m\u001b[0mrenderer\u001b[0m\u001b[1;33m)\u001b[0m\u001b[1;33m)\u001b[0m\u001b[1;33m\u001b[0m\u001b[1;33m\u001b[0m\u001b[0m\n",
      "\u001b[1;32m~\\Anaconda3\\lib\\site-packages\\matplotlib\\axes\\_base.py\u001b[0m in \u001b[0;36m_update_title_position\u001b[1;34m(self, renderer)\u001b[0m\n\u001b[0;32m   2547\u001b[0m                     if (ax.xaxis.get_label_position() == 'top' or\n\u001b[0;32m   2548\u001b[0m                             ax.xaxis.get_ticks_position() in choices):\n\u001b[1;32m-> 2549\u001b[1;33m                         \u001b[0mbb\u001b[0m \u001b[1;33m=\u001b[0m \u001b[0max\u001b[0m\u001b[1;33m.\u001b[0m\u001b[0mxaxis\u001b[0m\u001b[1;33m.\u001b[0m\u001b[0mget_tightbbox\u001b[0m\u001b[1;33m(\u001b[0m\u001b[0mrenderer\u001b[0m\u001b[1;33m)\u001b[0m\u001b[1;33m\u001b[0m\u001b[1;33m\u001b[0m\u001b[0m\n\u001b[0m\u001b[0;32m   2550\u001b[0m                     \u001b[1;32melse\u001b[0m\u001b[1;33m:\u001b[0m\u001b[1;33m\u001b[0m\u001b[1;33m\u001b[0m\u001b[0m\n\u001b[0;32m   2551\u001b[0m                         \u001b[0mbb\u001b[0m \u001b[1;33m=\u001b[0m \u001b[0max\u001b[0m\u001b[1;33m.\u001b[0m\u001b[0mget_window_extent\u001b[0m\u001b[1;33m(\u001b[0m\u001b[0mrenderer\u001b[0m\u001b[1;33m)\u001b[0m\u001b[1;33m\u001b[0m\u001b[1;33m\u001b[0m\u001b[0m\n",
      "\u001b[1;32m~\\Anaconda3\\lib\\site-packages\\matplotlib\\axis.py\u001b[0m in \u001b[0;36mget_tightbbox\u001b[1;34m(self, renderer)\u001b[0m\n\u001b[0;32m   1160\u001b[0m             \u001b[1;32mreturn\u001b[0m\u001b[1;33m\u001b[0m\u001b[1;33m\u001b[0m\u001b[0m\n\u001b[0;32m   1161\u001b[0m \u001b[1;33m\u001b[0m\u001b[0m\n\u001b[1;32m-> 1162\u001b[1;33m         \u001b[0mticks_to_draw\u001b[0m \u001b[1;33m=\u001b[0m \u001b[0mself\u001b[0m\u001b[1;33m.\u001b[0m\u001b[0m_update_ticks\u001b[0m\u001b[1;33m(\u001b[0m\u001b[1;33m)\u001b[0m\u001b[1;33m\u001b[0m\u001b[1;33m\u001b[0m\u001b[0m\n\u001b[0m\u001b[0;32m   1163\u001b[0m \u001b[1;33m\u001b[0m\u001b[0m\n\u001b[0;32m   1164\u001b[0m         \u001b[0mself\u001b[0m\u001b[1;33m.\u001b[0m\u001b[0m_update_label_position\u001b[0m\u001b[1;33m(\u001b[0m\u001b[0mrenderer\u001b[0m\u001b[1;33m)\u001b[0m\u001b[1;33m\u001b[0m\u001b[1;33m\u001b[0m\u001b[0m\n",
      "\u001b[1;32m~\\Anaconda3\\lib\\site-packages\\matplotlib\\axis.py\u001b[0m in \u001b[0;36m_update_ticks\u001b[1;34m(self)\u001b[0m\n\u001b[0;32m   1078\u001b[0m         \"\"\"\n\u001b[0;32m   1079\u001b[0m         \u001b[0mmajor_locs\u001b[0m \u001b[1;33m=\u001b[0m \u001b[0mself\u001b[0m\u001b[1;33m.\u001b[0m\u001b[0mget_majorticklocs\u001b[0m\u001b[1;33m(\u001b[0m\u001b[1;33m)\u001b[0m\u001b[1;33m\u001b[0m\u001b[1;33m\u001b[0m\u001b[0m\n\u001b[1;32m-> 1080\u001b[1;33m         \u001b[0mmajor_labels\u001b[0m \u001b[1;33m=\u001b[0m \u001b[0mself\u001b[0m\u001b[1;33m.\u001b[0m\u001b[0mmajor\u001b[0m\u001b[1;33m.\u001b[0m\u001b[0mformatter\u001b[0m\u001b[1;33m.\u001b[0m\u001b[0mformat_ticks\u001b[0m\u001b[1;33m(\u001b[0m\u001b[0mmajor_locs\u001b[0m\u001b[1;33m)\u001b[0m\u001b[1;33m\u001b[0m\u001b[1;33m\u001b[0m\u001b[0m\n\u001b[0m\u001b[0;32m   1081\u001b[0m         \u001b[0mmajor_ticks\u001b[0m \u001b[1;33m=\u001b[0m \u001b[0mself\u001b[0m\u001b[1;33m.\u001b[0m\u001b[0mget_major_ticks\u001b[0m\u001b[1;33m(\u001b[0m\u001b[0mlen\u001b[0m\u001b[1;33m(\u001b[0m\u001b[0mmajor_locs\u001b[0m\u001b[1;33m)\u001b[0m\u001b[1;33m)\u001b[0m\u001b[1;33m\u001b[0m\u001b[1;33m\u001b[0m\u001b[0m\n\u001b[0;32m   1082\u001b[0m         \u001b[0mself\u001b[0m\u001b[1;33m.\u001b[0m\u001b[0mmajor\u001b[0m\u001b[1;33m.\u001b[0m\u001b[0mformatter\u001b[0m\u001b[1;33m.\u001b[0m\u001b[0mset_locs\u001b[0m\u001b[1;33m(\u001b[0m\u001b[0mmajor_locs\u001b[0m\u001b[1;33m)\u001b[0m\u001b[1;33m\u001b[0m\u001b[1;33m\u001b[0m\u001b[0m\n",
      "\u001b[1;32m~\\Anaconda3\\lib\\site-packages\\matplotlib\\ticker.py\u001b[0m in \u001b[0;36mformat_ticks\u001b[1;34m(self, values)\u001b[0m\n\u001b[0;32m    257\u001b[0m     \u001b[1;32mdef\u001b[0m \u001b[0mformat_ticks\u001b[0m\u001b[1;33m(\u001b[0m\u001b[0mself\u001b[0m\u001b[1;33m,\u001b[0m \u001b[0mvalues\u001b[0m\u001b[1;33m)\u001b[0m\u001b[1;33m:\u001b[0m\u001b[1;33m\u001b[0m\u001b[1;33m\u001b[0m\u001b[0m\n\u001b[0;32m    258\u001b[0m         \u001b[1;34m\"\"\"Return the tick labels for all the ticks at once.\"\"\"\u001b[0m\u001b[1;33m\u001b[0m\u001b[1;33m\u001b[0m\u001b[0m\n\u001b[1;32m--> 259\u001b[1;33m         \u001b[0mself\u001b[0m\u001b[1;33m.\u001b[0m\u001b[0mset_locs\u001b[0m\u001b[1;33m(\u001b[0m\u001b[0mvalues\u001b[0m\u001b[1;33m)\u001b[0m\u001b[1;33m\u001b[0m\u001b[1;33m\u001b[0m\u001b[0m\n\u001b[0m\u001b[0;32m    260\u001b[0m         \u001b[1;32mreturn\u001b[0m \u001b[1;33m[\u001b[0m\u001b[0mself\u001b[0m\u001b[1;33m(\u001b[0m\u001b[0mvalue\u001b[0m\u001b[1;33m,\u001b[0m \u001b[0mi\u001b[0m\u001b[1;33m)\u001b[0m \u001b[1;32mfor\u001b[0m \u001b[0mi\u001b[0m\u001b[1;33m,\u001b[0m \u001b[0mvalue\u001b[0m \u001b[1;32min\u001b[0m \u001b[0menumerate\u001b[0m\u001b[1;33m(\u001b[0m\u001b[0mvalues\u001b[0m\u001b[1;33m)\u001b[0m\u001b[1;33m]\u001b[0m\u001b[1;33m\u001b[0m\u001b[1;33m\u001b[0m\u001b[0m\n\u001b[0;32m    261\u001b[0m \u001b[1;33m\u001b[0m\u001b[0m\n",
      "\u001b[1;32m~\\Anaconda3\\lib\\site-packages\\matplotlib\\ticker.py\u001b[0m in \u001b[0;36mset_locs\u001b[1;34m(self, locs)\u001b[0m\n\u001b[0;32m    687\u001b[0m                 \u001b[0mself\u001b[0m\u001b[1;33m.\u001b[0m\u001b[0m_compute_offset\u001b[0m\u001b[1;33m(\u001b[0m\u001b[1;33m)\u001b[0m\u001b[1;33m\u001b[0m\u001b[1;33m\u001b[0m\u001b[0m\n\u001b[0;32m    688\u001b[0m             \u001b[0mself\u001b[0m\u001b[1;33m.\u001b[0m\u001b[0m_set_order_of_magnitude\u001b[0m\u001b[1;33m(\u001b[0m\u001b[1;33m)\u001b[0m\u001b[1;33m\u001b[0m\u001b[1;33m\u001b[0m\u001b[0m\n\u001b[1;32m--> 689\u001b[1;33m             \u001b[0mself\u001b[0m\u001b[1;33m.\u001b[0m\u001b[0m_set_format\u001b[0m\u001b[1;33m(\u001b[0m\u001b[1;33m)\u001b[0m\u001b[1;33m\u001b[0m\u001b[1;33m\u001b[0m\u001b[0m\n\u001b[0m\u001b[0;32m    690\u001b[0m \u001b[1;33m\u001b[0m\u001b[0m\n\u001b[0;32m    691\u001b[0m     \u001b[1;32mdef\u001b[0m \u001b[0m_compute_offset\u001b[0m\u001b[1;33m(\u001b[0m\u001b[0mself\u001b[0m\u001b[1;33m)\u001b[0m\u001b[1;33m:\u001b[0m\u001b[1;33m\u001b[0m\u001b[1;33m\u001b[0m\u001b[0m\n",
      "\u001b[1;32m~\\Anaconda3\\lib\\site-packages\\matplotlib\\ticker.py\u001b[0m in \u001b[0;36m_set_format\u001b[1;34m(self)\u001b[0m\n\u001b[0;32m    789\u001b[0m         \u001b[0mthresh\u001b[0m \u001b[1;33m=\u001b[0m \u001b[1;36m1e-3\u001b[0m \u001b[1;33m*\u001b[0m \u001b[1;36m10\u001b[0m \u001b[1;33m**\u001b[0m \u001b[0mloc_range_oom\u001b[0m\u001b[1;33m\u001b[0m\u001b[1;33m\u001b[0m\u001b[0m\n\u001b[0;32m    790\u001b[0m         \u001b[1;32mwhile\u001b[0m \u001b[0msigfigs\u001b[0m \u001b[1;33m>=\u001b[0m \u001b[1;36m0\u001b[0m\u001b[1;33m:\u001b[0m\u001b[1;33m\u001b[0m\u001b[1;33m\u001b[0m\u001b[0m\n\u001b[1;32m--> 791\u001b[1;33m             \u001b[1;32mif\u001b[0m \u001b[0mnp\u001b[0m\u001b[1;33m.\u001b[0m\u001b[0mabs\u001b[0m\u001b[1;33m(\u001b[0m\u001b[0mlocs\u001b[0m \u001b[1;33m-\u001b[0m \u001b[0mnp\u001b[0m\u001b[1;33m.\u001b[0m\u001b[0mround\u001b[0m\u001b[1;33m(\u001b[0m\u001b[0mlocs\u001b[0m\u001b[1;33m,\u001b[0m \u001b[0mdecimals\u001b[0m\u001b[1;33m=\u001b[0m\u001b[0msigfigs\u001b[0m\u001b[1;33m)\u001b[0m\u001b[1;33m)\u001b[0m\u001b[1;33m.\u001b[0m\u001b[0mmax\u001b[0m\u001b[1;33m(\u001b[0m\u001b[1;33m)\u001b[0m \u001b[1;33m<\u001b[0m \u001b[0mthresh\u001b[0m\u001b[1;33m:\u001b[0m\u001b[1;33m\u001b[0m\u001b[1;33m\u001b[0m\u001b[0m\n\u001b[0m\u001b[0;32m    792\u001b[0m                 \u001b[0msigfigs\u001b[0m \u001b[1;33m-=\u001b[0m \u001b[1;36m1\u001b[0m\u001b[1;33m\u001b[0m\u001b[1;33m\u001b[0m\u001b[0m\n\u001b[0;32m    793\u001b[0m             \u001b[1;32melse\u001b[0m\u001b[1;33m:\u001b[0m\u001b[1;33m\u001b[0m\u001b[1;33m\u001b[0m\u001b[0m\n",
      "\u001b[1;32m~\\Anaconda3\\lib\\site-packages\\numpy\\core\\_methods.py\u001b[0m in \u001b[0;36m_amax\u001b[1;34m(a, axis, out, keepdims, initial, where)\u001b[0m\n\u001b[0;32m     28\u001b[0m def _amax(a, axis=None, out=None, keepdims=False,\n\u001b[0;32m     29\u001b[0m           initial=_NoValue, where=True):\n\u001b[1;32m---> 30\u001b[1;33m     \u001b[1;32mreturn\u001b[0m \u001b[0mumr_maximum\u001b[0m\u001b[1;33m(\u001b[0m\u001b[0ma\u001b[0m\u001b[1;33m,\u001b[0m \u001b[0maxis\u001b[0m\u001b[1;33m,\u001b[0m \u001b[1;32mNone\u001b[0m\u001b[1;33m,\u001b[0m \u001b[0mout\u001b[0m\u001b[1;33m,\u001b[0m \u001b[0mkeepdims\u001b[0m\u001b[1;33m,\u001b[0m \u001b[0minitial\u001b[0m\u001b[1;33m,\u001b[0m \u001b[0mwhere\u001b[0m\u001b[1;33m)\u001b[0m\u001b[1;33m\u001b[0m\u001b[1;33m\u001b[0m\u001b[0m\n\u001b[0m\u001b[0;32m     31\u001b[0m \u001b[1;33m\u001b[0m\u001b[0m\n\u001b[0;32m     32\u001b[0m def _amin(a, axis=None, out=None, keepdims=False,\n",
      "\u001b[1;31mKeyboardInterrupt\u001b[0m: "
     ]
    },
    {
     "name": "stdout",
     "output_type": "stream",
     "text": [
      "Error in callback <function flush_figures at 0x000001C73A0CF620> (for post_execute):\n"
     ]
    },
    {
     "ename": "KeyboardInterrupt",
     "evalue": "",
     "output_type": "error",
     "traceback": [
      "\u001b[1;31m---------------------------------------------------------------------------\u001b[0m",
      "\u001b[1;31mKeyboardInterrupt\u001b[0m                         Traceback (most recent call last)",
      "\u001b[1;32m~\\Anaconda3\\lib\\site-packages\\ipykernel\\pylab\\backend_inline.py\u001b[0m in \u001b[0;36mflush_figures\u001b[1;34m()\u001b[0m\n\u001b[0;32m    119\u001b[0m         \u001b[1;31m# ignore the tracking, just draw and close all figures\u001b[0m\u001b[1;33m\u001b[0m\u001b[1;33m\u001b[0m\u001b[1;33m\u001b[0m\u001b[0m\n\u001b[0;32m    120\u001b[0m         \u001b[1;32mtry\u001b[0m\u001b[1;33m:\u001b[0m\u001b[1;33m\u001b[0m\u001b[1;33m\u001b[0m\u001b[0m\n\u001b[1;32m--> 121\u001b[1;33m             \u001b[1;32mreturn\u001b[0m \u001b[0mshow\u001b[0m\u001b[1;33m(\u001b[0m\u001b[1;32mTrue\u001b[0m\u001b[1;33m)\u001b[0m\u001b[1;33m\u001b[0m\u001b[1;33m\u001b[0m\u001b[0m\n\u001b[0m\u001b[0;32m    122\u001b[0m         \u001b[1;32mexcept\u001b[0m \u001b[0mException\u001b[0m \u001b[1;32mas\u001b[0m \u001b[0me\u001b[0m\u001b[1;33m:\u001b[0m\u001b[1;33m\u001b[0m\u001b[1;33m\u001b[0m\u001b[0m\n\u001b[0;32m    123\u001b[0m             \u001b[1;31m# safely show traceback if in IPython, else raise\u001b[0m\u001b[1;33m\u001b[0m\u001b[1;33m\u001b[0m\u001b[1;33m\u001b[0m\u001b[0m\n",
      "\u001b[1;32m~\\Anaconda3\\lib\\site-packages\\ipykernel\\pylab\\backend_inline.py\u001b[0m in \u001b[0;36mshow\u001b[1;34m(close, block)\u001b[0m\n\u001b[0;32m     41\u001b[0m             display(\n\u001b[0;32m     42\u001b[0m                 \u001b[0mfigure_manager\u001b[0m\u001b[1;33m.\u001b[0m\u001b[0mcanvas\u001b[0m\u001b[1;33m.\u001b[0m\u001b[0mfigure\u001b[0m\u001b[1;33m,\u001b[0m\u001b[1;33m\u001b[0m\u001b[1;33m\u001b[0m\u001b[0m\n\u001b[1;32m---> 43\u001b[1;33m                 \u001b[0mmetadata\u001b[0m\u001b[1;33m=\u001b[0m\u001b[0m_fetch_figure_metadata\u001b[0m\u001b[1;33m(\u001b[0m\u001b[0mfigure_manager\u001b[0m\u001b[1;33m.\u001b[0m\u001b[0mcanvas\u001b[0m\u001b[1;33m.\u001b[0m\u001b[0mfigure\u001b[0m\u001b[1;33m)\u001b[0m\u001b[1;33m\u001b[0m\u001b[1;33m\u001b[0m\u001b[0m\n\u001b[0m\u001b[0;32m     44\u001b[0m             )\n\u001b[0;32m     45\u001b[0m     \u001b[1;32mfinally\u001b[0m\u001b[1;33m:\u001b[0m\u001b[1;33m\u001b[0m\u001b[1;33m\u001b[0m\u001b[0m\n",
      "\u001b[1;32m~\\Anaconda3\\lib\\site-packages\\IPython\\core\\display.py\u001b[0m in \u001b[0;36mdisplay\u001b[1;34m(include, exclude, metadata, transient, display_id, *objs, **kwargs)\u001b[0m\n\u001b[0;32m    311\u001b[0m             \u001b[0mpublish_display_data\u001b[0m\u001b[1;33m(\u001b[0m\u001b[0mdata\u001b[0m\u001b[1;33m=\u001b[0m\u001b[0mobj\u001b[0m\u001b[1;33m,\u001b[0m \u001b[0mmetadata\u001b[0m\u001b[1;33m=\u001b[0m\u001b[0mmetadata\u001b[0m\u001b[1;33m,\u001b[0m \u001b[1;33m**\u001b[0m\u001b[0mkwargs\u001b[0m\u001b[1;33m)\u001b[0m\u001b[1;33m\u001b[0m\u001b[1;33m\u001b[0m\u001b[0m\n\u001b[0;32m    312\u001b[0m         \u001b[1;32melse\u001b[0m\u001b[1;33m:\u001b[0m\u001b[1;33m\u001b[0m\u001b[1;33m\u001b[0m\u001b[0m\n\u001b[1;32m--> 313\u001b[1;33m             \u001b[0mformat_dict\u001b[0m\u001b[1;33m,\u001b[0m \u001b[0mmd_dict\u001b[0m \u001b[1;33m=\u001b[0m \u001b[0mformat\u001b[0m\u001b[1;33m(\u001b[0m\u001b[0mobj\u001b[0m\u001b[1;33m,\u001b[0m \u001b[0minclude\u001b[0m\u001b[1;33m=\u001b[0m\u001b[0minclude\u001b[0m\u001b[1;33m,\u001b[0m \u001b[0mexclude\u001b[0m\u001b[1;33m=\u001b[0m\u001b[0mexclude\u001b[0m\u001b[1;33m)\u001b[0m\u001b[1;33m\u001b[0m\u001b[1;33m\u001b[0m\u001b[0m\n\u001b[0m\u001b[0;32m    314\u001b[0m             \u001b[1;32mif\u001b[0m \u001b[1;32mnot\u001b[0m \u001b[0mformat_dict\u001b[0m\u001b[1;33m:\u001b[0m\u001b[1;33m\u001b[0m\u001b[1;33m\u001b[0m\u001b[0m\n\u001b[0;32m    315\u001b[0m                 \u001b[1;31m# nothing to display (e.g. _ipython_display_ took over)\u001b[0m\u001b[1;33m\u001b[0m\u001b[1;33m\u001b[0m\u001b[1;33m\u001b[0m\u001b[0m\n",
      "\u001b[1;32m~\\Anaconda3\\lib\\site-packages\\IPython\\core\\formatters.py\u001b[0m in \u001b[0;36mformat\u001b[1;34m(self, obj, include, exclude)\u001b[0m\n\u001b[0;32m    178\u001b[0m             \u001b[0mmd\u001b[0m \u001b[1;33m=\u001b[0m \u001b[1;32mNone\u001b[0m\u001b[1;33m\u001b[0m\u001b[1;33m\u001b[0m\u001b[0m\n\u001b[0;32m    179\u001b[0m             \u001b[1;32mtry\u001b[0m\u001b[1;33m:\u001b[0m\u001b[1;33m\u001b[0m\u001b[1;33m\u001b[0m\u001b[0m\n\u001b[1;32m--> 180\u001b[1;33m                 \u001b[0mdata\u001b[0m \u001b[1;33m=\u001b[0m \u001b[0mformatter\u001b[0m\u001b[1;33m(\u001b[0m\u001b[0mobj\u001b[0m\u001b[1;33m)\u001b[0m\u001b[1;33m\u001b[0m\u001b[1;33m\u001b[0m\u001b[0m\n\u001b[0m\u001b[0;32m    181\u001b[0m             \u001b[1;32mexcept\u001b[0m\u001b[1;33m:\u001b[0m\u001b[1;33m\u001b[0m\u001b[1;33m\u001b[0m\u001b[0m\n\u001b[0;32m    182\u001b[0m                 \u001b[1;31m# FIXME: log the exception\u001b[0m\u001b[1;33m\u001b[0m\u001b[1;33m\u001b[0m\u001b[1;33m\u001b[0m\u001b[0m\n",
      "\u001b[1;32m<decorator-gen-9>\u001b[0m in \u001b[0;36m__call__\u001b[1;34m(self, obj)\u001b[0m\n",
      "\u001b[1;32m~\\Anaconda3\\lib\\site-packages\\IPython\\core\\formatters.py\u001b[0m in \u001b[0;36mcatch_format_error\u001b[1;34m(method, self, *args, **kwargs)\u001b[0m\n\u001b[0;32m    222\u001b[0m     \u001b[1;34m\"\"\"show traceback on failed format call\"\"\"\u001b[0m\u001b[1;33m\u001b[0m\u001b[1;33m\u001b[0m\u001b[0m\n\u001b[0;32m    223\u001b[0m     \u001b[1;32mtry\u001b[0m\u001b[1;33m:\u001b[0m\u001b[1;33m\u001b[0m\u001b[1;33m\u001b[0m\u001b[0m\n\u001b[1;32m--> 224\u001b[1;33m         \u001b[0mr\u001b[0m \u001b[1;33m=\u001b[0m \u001b[0mmethod\u001b[0m\u001b[1;33m(\u001b[0m\u001b[0mself\u001b[0m\u001b[1;33m,\u001b[0m \u001b[1;33m*\u001b[0m\u001b[0margs\u001b[0m\u001b[1;33m,\u001b[0m \u001b[1;33m**\u001b[0m\u001b[0mkwargs\u001b[0m\u001b[1;33m)\u001b[0m\u001b[1;33m\u001b[0m\u001b[1;33m\u001b[0m\u001b[0m\n\u001b[0m\u001b[0;32m    225\u001b[0m     \u001b[1;32mexcept\u001b[0m \u001b[0mNotImplementedError\u001b[0m\u001b[1;33m:\u001b[0m\u001b[1;33m\u001b[0m\u001b[1;33m\u001b[0m\u001b[0m\n\u001b[0;32m    226\u001b[0m         \u001b[1;31m# don't warn on NotImplementedErrors\u001b[0m\u001b[1;33m\u001b[0m\u001b[1;33m\u001b[0m\u001b[1;33m\u001b[0m\u001b[0m\n",
      "\u001b[1;32m~\\Anaconda3\\lib\\site-packages\\IPython\\core\\formatters.py\u001b[0m in \u001b[0;36m__call__\u001b[1;34m(self, obj)\u001b[0m\n\u001b[0;32m    339\u001b[0m                 \u001b[1;32mpass\u001b[0m\u001b[1;33m\u001b[0m\u001b[1;33m\u001b[0m\u001b[0m\n\u001b[0;32m    340\u001b[0m             \u001b[1;32melse\u001b[0m\u001b[1;33m:\u001b[0m\u001b[1;33m\u001b[0m\u001b[1;33m\u001b[0m\u001b[0m\n\u001b[1;32m--> 341\u001b[1;33m                 \u001b[1;32mreturn\u001b[0m \u001b[0mprinter\u001b[0m\u001b[1;33m(\u001b[0m\u001b[0mobj\u001b[0m\u001b[1;33m)\u001b[0m\u001b[1;33m\u001b[0m\u001b[1;33m\u001b[0m\u001b[0m\n\u001b[0m\u001b[0;32m    342\u001b[0m             \u001b[1;31m# Finally look for special method names\u001b[0m\u001b[1;33m\u001b[0m\u001b[1;33m\u001b[0m\u001b[1;33m\u001b[0m\u001b[0m\n\u001b[0;32m    343\u001b[0m             \u001b[0mmethod\u001b[0m \u001b[1;33m=\u001b[0m \u001b[0mget_real_method\u001b[0m\u001b[1;33m(\u001b[0m\u001b[0mobj\u001b[0m\u001b[1;33m,\u001b[0m \u001b[0mself\u001b[0m\u001b[1;33m.\u001b[0m\u001b[0mprint_method\u001b[0m\u001b[1;33m)\u001b[0m\u001b[1;33m\u001b[0m\u001b[1;33m\u001b[0m\u001b[0m\n",
      "\u001b[1;32m~\\Anaconda3\\lib\\site-packages\\IPython\\core\\pylabtools.py\u001b[0m in \u001b[0;36m<lambda>\u001b[1;34m(fig)\u001b[0m\n\u001b[0;32m    246\u001b[0m \u001b[1;33m\u001b[0m\u001b[0m\n\u001b[0;32m    247\u001b[0m     \u001b[1;32mif\u001b[0m \u001b[1;34m'png'\u001b[0m \u001b[1;32min\u001b[0m \u001b[0mformats\u001b[0m\u001b[1;33m:\u001b[0m\u001b[1;33m\u001b[0m\u001b[1;33m\u001b[0m\u001b[0m\n\u001b[1;32m--> 248\u001b[1;33m         \u001b[0mpng_formatter\u001b[0m\u001b[1;33m.\u001b[0m\u001b[0mfor_type\u001b[0m\u001b[1;33m(\u001b[0m\u001b[0mFigure\u001b[0m\u001b[1;33m,\u001b[0m \u001b[1;32mlambda\u001b[0m \u001b[0mfig\u001b[0m\u001b[1;33m:\u001b[0m \u001b[0mprint_figure\u001b[0m\u001b[1;33m(\u001b[0m\u001b[0mfig\u001b[0m\u001b[1;33m,\u001b[0m \u001b[1;34m'png'\u001b[0m\u001b[1;33m,\u001b[0m \u001b[1;33m**\u001b[0m\u001b[0mkwargs\u001b[0m\u001b[1;33m)\u001b[0m\u001b[1;33m)\u001b[0m\u001b[1;33m\u001b[0m\u001b[1;33m\u001b[0m\u001b[0m\n\u001b[0m\u001b[0;32m    249\u001b[0m     \u001b[1;32mif\u001b[0m \u001b[1;34m'retina'\u001b[0m \u001b[1;32min\u001b[0m \u001b[0mformats\u001b[0m \u001b[1;32mor\u001b[0m \u001b[1;34m'png2x'\u001b[0m \u001b[1;32min\u001b[0m \u001b[0mformats\u001b[0m\u001b[1;33m:\u001b[0m\u001b[1;33m\u001b[0m\u001b[1;33m\u001b[0m\u001b[0m\n\u001b[0;32m    250\u001b[0m         \u001b[0mpng_formatter\u001b[0m\u001b[1;33m.\u001b[0m\u001b[0mfor_type\u001b[0m\u001b[1;33m(\u001b[0m\u001b[0mFigure\u001b[0m\u001b[1;33m,\u001b[0m \u001b[1;32mlambda\u001b[0m \u001b[0mfig\u001b[0m\u001b[1;33m:\u001b[0m \u001b[0mretina_figure\u001b[0m\u001b[1;33m(\u001b[0m\u001b[0mfig\u001b[0m\u001b[1;33m,\u001b[0m \u001b[1;33m**\u001b[0m\u001b[0mkwargs\u001b[0m\u001b[1;33m)\u001b[0m\u001b[1;33m)\u001b[0m\u001b[1;33m\u001b[0m\u001b[1;33m\u001b[0m\u001b[0m\n",
      "\u001b[1;32m~\\Anaconda3\\lib\\site-packages\\IPython\\core\\pylabtools.py\u001b[0m in \u001b[0;36mprint_figure\u001b[1;34m(fig, fmt, bbox_inches, **kwargs)\u001b[0m\n\u001b[0;32m    130\u001b[0m         \u001b[0mFigureCanvasBase\u001b[0m\u001b[1;33m(\u001b[0m\u001b[0mfig\u001b[0m\u001b[1;33m)\u001b[0m\u001b[1;33m\u001b[0m\u001b[1;33m\u001b[0m\u001b[0m\n\u001b[0;32m    131\u001b[0m \u001b[1;33m\u001b[0m\u001b[0m\n\u001b[1;32m--> 132\u001b[1;33m     \u001b[0mfig\u001b[0m\u001b[1;33m.\u001b[0m\u001b[0mcanvas\u001b[0m\u001b[1;33m.\u001b[0m\u001b[0mprint_figure\u001b[0m\u001b[1;33m(\u001b[0m\u001b[0mbytes_io\u001b[0m\u001b[1;33m,\u001b[0m \u001b[1;33m**\u001b[0m\u001b[0mkw\u001b[0m\u001b[1;33m)\u001b[0m\u001b[1;33m\u001b[0m\u001b[1;33m\u001b[0m\u001b[0m\n\u001b[0m\u001b[0;32m    133\u001b[0m     \u001b[0mdata\u001b[0m \u001b[1;33m=\u001b[0m \u001b[0mbytes_io\u001b[0m\u001b[1;33m.\u001b[0m\u001b[0mgetvalue\u001b[0m\u001b[1;33m(\u001b[0m\u001b[1;33m)\u001b[0m\u001b[1;33m\u001b[0m\u001b[1;33m\u001b[0m\u001b[0m\n\u001b[0;32m    134\u001b[0m     \u001b[1;32mif\u001b[0m \u001b[0mfmt\u001b[0m \u001b[1;33m==\u001b[0m \u001b[1;34m'svg'\u001b[0m\u001b[1;33m:\u001b[0m\u001b[1;33m\u001b[0m\u001b[1;33m\u001b[0m\u001b[0m\n",
      "\u001b[1;32m~\\Anaconda3\\lib\\site-packages\\matplotlib\\backend_bases.py\u001b[0m in \u001b[0;36mprint_figure\u001b[1;34m(self, filename, dpi, facecolor, edgecolor, orientation, format, bbox_inches, **kwargs)\u001b[0m\n\u001b[0;32m   2063\u001b[0m                         \u001b[0morientation\u001b[0m\u001b[1;33m=\u001b[0m\u001b[0morientation\u001b[0m\u001b[1;33m,\u001b[0m\u001b[1;33m\u001b[0m\u001b[1;33m\u001b[0m\u001b[0m\n\u001b[0;32m   2064\u001b[0m                         \u001b[0mdryrun\u001b[0m\u001b[1;33m=\u001b[0m\u001b[1;32mTrue\u001b[0m\u001b[1;33m,\u001b[0m\u001b[1;33m\u001b[0m\u001b[1;33m\u001b[0m\u001b[0m\n\u001b[1;32m-> 2065\u001b[1;33m                         **kwargs)\n\u001b[0m\u001b[0;32m   2066\u001b[0m                     \u001b[0mrenderer\u001b[0m \u001b[1;33m=\u001b[0m \u001b[0mself\u001b[0m\u001b[1;33m.\u001b[0m\u001b[0mfigure\u001b[0m\u001b[1;33m.\u001b[0m\u001b[0m_cachedRenderer\u001b[0m\u001b[1;33m\u001b[0m\u001b[1;33m\u001b[0m\u001b[0m\n\u001b[0;32m   2067\u001b[0m                     \u001b[0mbbox_artists\u001b[0m \u001b[1;33m=\u001b[0m \u001b[0mkwargs\u001b[0m\u001b[1;33m.\u001b[0m\u001b[0mpop\u001b[0m\u001b[1;33m(\u001b[0m\u001b[1;34m\"bbox_extra_artists\"\u001b[0m\u001b[1;33m,\u001b[0m \u001b[1;32mNone\u001b[0m\u001b[1;33m)\u001b[0m\u001b[1;33m\u001b[0m\u001b[1;33m\u001b[0m\u001b[0m\n",
      "\u001b[1;32m~\\Anaconda3\\lib\\site-packages\\matplotlib\\backends\\backend_agg.py\u001b[0m in \u001b[0;36mprint_png\u001b[1;34m(self, filename_or_obj, metadata, pil_kwargs, *args, **kwargs)\u001b[0m\n\u001b[0;32m    525\u001b[0m \u001b[1;33m\u001b[0m\u001b[0m\n\u001b[0;32m    526\u001b[0m         \u001b[1;32melse\u001b[0m\u001b[1;33m:\u001b[0m\u001b[1;33m\u001b[0m\u001b[1;33m\u001b[0m\u001b[0m\n\u001b[1;32m--> 527\u001b[1;33m             \u001b[0mFigureCanvasAgg\u001b[0m\u001b[1;33m.\u001b[0m\u001b[0mdraw\u001b[0m\u001b[1;33m(\u001b[0m\u001b[0mself\u001b[0m\u001b[1;33m)\u001b[0m\u001b[1;33m\u001b[0m\u001b[1;33m\u001b[0m\u001b[0m\n\u001b[0m\u001b[0;32m    528\u001b[0m             \u001b[0mrenderer\u001b[0m \u001b[1;33m=\u001b[0m \u001b[0mself\u001b[0m\u001b[1;33m.\u001b[0m\u001b[0mget_renderer\u001b[0m\u001b[1;33m(\u001b[0m\u001b[1;33m)\u001b[0m\u001b[1;33m\u001b[0m\u001b[1;33m\u001b[0m\u001b[0m\n\u001b[0;32m    529\u001b[0m             \u001b[1;32mwith\u001b[0m \u001b[0mcbook\u001b[0m\u001b[1;33m.\u001b[0m\u001b[0m_setattr_cm\u001b[0m\u001b[1;33m(\u001b[0m\u001b[0mrenderer\u001b[0m\u001b[1;33m,\u001b[0m \u001b[0mdpi\u001b[0m\u001b[1;33m=\u001b[0m\u001b[0mself\u001b[0m\u001b[1;33m.\u001b[0m\u001b[0mfigure\u001b[0m\u001b[1;33m.\u001b[0m\u001b[0mdpi\u001b[0m\u001b[1;33m)\u001b[0m\u001b[1;33m,\u001b[0m\u001b[0;31m \u001b[0m\u001b[0;31m\\\u001b[0m\u001b[1;33m\u001b[0m\u001b[1;33m\u001b[0m\u001b[0m\n",
      "\u001b[1;32m~\\Anaconda3\\lib\\site-packages\\matplotlib\\backends\\backend_agg.py\u001b[0m in \u001b[0;36mdraw\u001b[1;34m(self)\u001b[0m\n\u001b[0;32m    386\u001b[0m         \u001b[0mself\u001b[0m\u001b[1;33m.\u001b[0m\u001b[0mrenderer\u001b[0m \u001b[1;33m=\u001b[0m \u001b[0mself\u001b[0m\u001b[1;33m.\u001b[0m\u001b[0mget_renderer\u001b[0m\u001b[1;33m(\u001b[0m\u001b[0mcleared\u001b[0m\u001b[1;33m=\u001b[0m\u001b[1;32mTrue\u001b[0m\u001b[1;33m)\u001b[0m\u001b[1;33m\u001b[0m\u001b[1;33m\u001b[0m\u001b[0m\n\u001b[0;32m    387\u001b[0m         \u001b[1;32mwith\u001b[0m \u001b[0mRendererAgg\u001b[0m\u001b[1;33m.\u001b[0m\u001b[0mlock\u001b[0m\u001b[1;33m:\u001b[0m\u001b[1;33m\u001b[0m\u001b[1;33m\u001b[0m\u001b[0m\n\u001b[1;32m--> 388\u001b[1;33m             \u001b[0mself\u001b[0m\u001b[1;33m.\u001b[0m\u001b[0mfigure\u001b[0m\u001b[1;33m.\u001b[0m\u001b[0mdraw\u001b[0m\u001b[1;33m(\u001b[0m\u001b[0mself\u001b[0m\u001b[1;33m.\u001b[0m\u001b[0mrenderer\u001b[0m\u001b[1;33m)\u001b[0m\u001b[1;33m\u001b[0m\u001b[1;33m\u001b[0m\u001b[0m\n\u001b[0m\u001b[0;32m    389\u001b[0m             \u001b[1;31m# A GUI class may be need to update a window using this draw, so\u001b[0m\u001b[1;33m\u001b[0m\u001b[1;33m\u001b[0m\u001b[1;33m\u001b[0m\u001b[0m\n\u001b[0;32m    390\u001b[0m             \u001b[1;31m# don't forget to call the superclass.\u001b[0m\u001b[1;33m\u001b[0m\u001b[1;33m\u001b[0m\u001b[1;33m\u001b[0m\u001b[0m\n",
      "\u001b[1;32m~\\Anaconda3\\lib\\site-packages\\matplotlib\\artist.py\u001b[0m in \u001b[0;36mdraw_wrapper\u001b[1;34m(artist, renderer, *args, **kwargs)\u001b[0m\n\u001b[0;32m     36\u001b[0m                 \u001b[0mrenderer\u001b[0m\u001b[1;33m.\u001b[0m\u001b[0mstart_filter\u001b[0m\u001b[1;33m(\u001b[0m\u001b[1;33m)\u001b[0m\u001b[1;33m\u001b[0m\u001b[1;33m\u001b[0m\u001b[0m\n\u001b[0;32m     37\u001b[0m \u001b[1;33m\u001b[0m\u001b[0m\n\u001b[1;32m---> 38\u001b[1;33m             \u001b[1;32mreturn\u001b[0m \u001b[0mdraw\u001b[0m\u001b[1;33m(\u001b[0m\u001b[0martist\u001b[0m\u001b[1;33m,\u001b[0m \u001b[0mrenderer\u001b[0m\u001b[1;33m,\u001b[0m \u001b[1;33m*\u001b[0m\u001b[0margs\u001b[0m\u001b[1;33m,\u001b[0m \u001b[1;33m**\u001b[0m\u001b[0mkwargs\u001b[0m\u001b[1;33m)\u001b[0m\u001b[1;33m\u001b[0m\u001b[1;33m\u001b[0m\u001b[0m\n\u001b[0m\u001b[0;32m     39\u001b[0m         \u001b[1;32mfinally\u001b[0m\u001b[1;33m:\u001b[0m\u001b[1;33m\u001b[0m\u001b[1;33m\u001b[0m\u001b[0m\n\u001b[0;32m     40\u001b[0m             \u001b[1;32mif\u001b[0m \u001b[0martist\u001b[0m\u001b[1;33m.\u001b[0m\u001b[0mget_agg_filter\u001b[0m\u001b[1;33m(\u001b[0m\u001b[1;33m)\u001b[0m \u001b[1;32mis\u001b[0m \u001b[1;32mnot\u001b[0m \u001b[1;32mNone\u001b[0m\u001b[1;33m:\u001b[0m\u001b[1;33m\u001b[0m\u001b[1;33m\u001b[0m\u001b[0m\n",
      "\u001b[1;32m~\\Anaconda3\\lib\\site-packages\\matplotlib\\figure.py\u001b[0m in \u001b[0;36mdraw\u001b[1;34m(self, renderer)\u001b[0m\n\u001b[0;32m   1707\u001b[0m             \u001b[0mself\u001b[0m\u001b[1;33m.\u001b[0m\u001b[0mpatch\u001b[0m\u001b[1;33m.\u001b[0m\u001b[0mdraw\u001b[0m\u001b[1;33m(\u001b[0m\u001b[0mrenderer\u001b[0m\u001b[1;33m)\u001b[0m\u001b[1;33m\u001b[0m\u001b[1;33m\u001b[0m\u001b[0m\n\u001b[0;32m   1708\u001b[0m             mimage._draw_list_compositing_images(\n\u001b[1;32m-> 1709\u001b[1;33m                 renderer, self, artists, self.suppressComposite)\n\u001b[0m\u001b[0;32m   1710\u001b[0m \u001b[1;33m\u001b[0m\u001b[0m\n\u001b[0;32m   1711\u001b[0m             \u001b[0mrenderer\u001b[0m\u001b[1;33m.\u001b[0m\u001b[0mclose_group\u001b[0m\u001b[1;33m(\u001b[0m\u001b[1;34m'figure'\u001b[0m\u001b[1;33m)\u001b[0m\u001b[1;33m\u001b[0m\u001b[1;33m\u001b[0m\u001b[0m\n",
      "\u001b[1;32m~\\Anaconda3\\lib\\site-packages\\matplotlib\\image.py\u001b[0m in \u001b[0;36m_draw_list_compositing_images\u001b[1;34m(renderer, parent, artists, suppress_composite)\u001b[0m\n\u001b[0;32m    133\u001b[0m     \u001b[1;32mif\u001b[0m \u001b[0mnot_composite\u001b[0m \u001b[1;32mor\u001b[0m \u001b[1;32mnot\u001b[0m \u001b[0mhas_images\u001b[0m\u001b[1;33m:\u001b[0m\u001b[1;33m\u001b[0m\u001b[1;33m\u001b[0m\u001b[0m\n\u001b[0;32m    134\u001b[0m         \u001b[1;32mfor\u001b[0m \u001b[0ma\u001b[0m \u001b[1;32min\u001b[0m \u001b[0martists\u001b[0m\u001b[1;33m:\u001b[0m\u001b[1;33m\u001b[0m\u001b[1;33m\u001b[0m\u001b[0m\n\u001b[1;32m--> 135\u001b[1;33m             \u001b[0ma\u001b[0m\u001b[1;33m.\u001b[0m\u001b[0mdraw\u001b[0m\u001b[1;33m(\u001b[0m\u001b[0mrenderer\u001b[0m\u001b[1;33m)\u001b[0m\u001b[1;33m\u001b[0m\u001b[1;33m\u001b[0m\u001b[0m\n\u001b[0m\u001b[0;32m    136\u001b[0m     \u001b[1;32melse\u001b[0m\u001b[1;33m:\u001b[0m\u001b[1;33m\u001b[0m\u001b[1;33m\u001b[0m\u001b[0m\n\u001b[0;32m    137\u001b[0m         \u001b[1;31m# Composite any adjacent images together\u001b[0m\u001b[1;33m\u001b[0m\u001b[1;33m\u001b[0m\u001b[1;33m\u001b[0m\u001b[0m\n",
      "\u001b[1;32m~\\Anaconda3\\lib\\site-packages\\matplotlib\\artist.py\u001b[0m in \u001b[0;36mdraw_wrapper\u001b[1;34m(artist, renderer, *args, **kwargs)\u001b[0m\n\u001b[0;32m     36\u001b[0m                 \u001b[0mrenderer\u001b[0m\u001b[1;33m.\u001b[0m\u001b[0mstart_filter\u001b[0m\u001b[1;33m(\u001b[0m\u001b[1;33m)\u001b[0m\u001b[1;33m\u001b[0m\u001b[1;33m\u001b[0m\u001b[0m\n\u001b[0;32m     37\u001b[0m \u001b[1;33m\u001b[0m\u001b[0m\n\u001b[1;32m---> 38\u001b[1;33m             \u001b[1;32mreturn\u001b[0m \u001b[0mdraw\u001b[0m\u001b[1;33m(\u001b[0m\u001b[0martist\u001b[0m\u001b[1;33m,\u001b[0m \u001b[0mrenderer\u001b[0m\u001b[1;33m,\u001b[0m \u001b[1;33m*\u001b[0m\u001b[0margs\u001b[0m\u001b[1;33m,\u001b[0m \u001b[1;33m**\u001b[0m\u001b[0mkwargs\u001b[0m\u001b[1;33m)\u001b[0m\u001b[1;33m\u001b[0m\u001b[1;33m\u001b[0m\u001b[0m\n\u001b[0m\u001b[0;32m     39\u001b[0m         \u001b[1;32mfinally\u001b[0m\u001b[1;33m:\u001b[0m\u001b[1;33m\u001b[0m\u001b[1;33m\u001b[0m\u001b[0m\n\u001b[0;32m     40\u001b[0m             \u001b[1;32mif\u001b[0m \u001b[0martist\u001b[0m\u001b[1;33m.\u001b[0m\u001b[0mget_agg_filter\u001b[0m\u001b[1;33m(\u001b[0m\u001b[1;33m)\u001b[0m \u001b[1;32mis\u001b[0m \u001b[1;32mnot\u001b[0m \u001b[1;32mNone\u001b[0m\u001b[1;33m:\u001b[0m\u001b[1;33m\u001b[0m\u001b[1;33m\u001b[0m\u001b[0m\n",
      "\u001b[1;32m~\\Anaconda3\\lib\\site-packages\\matplotlib\\axes\\_base.py\u001b[0m in \u001b[0;36mdraw\u001b[1;34m(self, renderer, inframe)\u001b[0m\n\u001b[0;32m   2645\u001b[0m             \u001b[0mrenderer\u001b[0m\u001b[1;33m.\u001b[0m\u001b[0mstop_rasterizing\u001b[0m\u001b[1;33m(\u001b[0m\u001b[1;33m)\u001b[0m\u001b[1;33m\u001b[0m\u001b[1;33m\u001b[0m\u001b[0m\n\u001b[0;32m   2646\u001b[0m \u001b[1;33m\u001b[0m\u001b[0m\n\u001b[1;32m-> 2647\u001b[1;33m         \u001b[0mmimage\u001b[0m\u001b[1;33m.\u001b[0m\u001b[0m_draw_list_compositing_images\u001b[0m\u001b[1;33m(\u001b[0m\u001b[0mrenderer\u001b[0m\u001b[1;33m,\u001b[0m \u001b[0mself\u001b[0m\u001b[1;33m,\u001b[0m \u001b[0martists\u001b[0m\u001b[1;33m)\u001b[0m\u001b[1;33m\u001b[0m\u001b[1;33m\u001b[0m\u001b[0m\n\u001b[0m\u001b[0;32m   2648\u001b[0m \u001b[1;33m\u001b[0m\u001b[0m\n\u001b[0;32m   2649\u001b[0m         \u001b[0mrenderer\u001b[0m\u001b[1;33m.\u001b[0m\u001b[0mclose_group\u001b[0m\u001b[1;33m(\u001b[0m\u001b[1;34m'axes'\u001b[0m\u001b[1;33m)\u001b[0m\u001b[1;33m\u001b[0m\u001b[1;33m\u001b[0m\u001b[0m\n",
      "\u001b[1;32m~\\Anaconda3\\lib\\site-packages\\matplotlib\\image.py\u001b[0m in \u001b[0;36m_draw_list_compositing_images\u001b[1;34m(renderer, parent, artists, suppress_composite)\u001b[0m\n\u001b[0;32m    133\u001b[0m     \u001b[1;32mif\u001b[0m \u001b[0mnot_composite\u001b[0m \u001b[1;32mor\u001b[0m \u001b[1;32mnot\u001b[0m \u001b[0mhas_images\u001b[0m\u001b[1;33m:\u001b[0m\u001b[1;33m\u001b[0m\u001b[1;33m\u001b[0m\u001b[0m\n\u001b[0;32m    134\u001b[0m         \u001b[1;32mfor\u001b[0m \u001b[0ma\u001b[0m \u001b[1;32min\u001b[0m \u001b[0martists\u001b[0m\u001b[1;33m:\u001b[0m\u001b[1;33m\u001b[0m\u001b[1;33m\u001b[0m\u001b[0m\n\u001b[1;32m--> 135\u001b[1;33m             \u001b[0ma\u001b[0m\u001b[1;33m.\u001b[0m\u001b[0mdraw\u001b[0m\u001b[1;33m(\u001b[0m\u001b[0mrenderer\u001b[0m\u001b[1;33m)\u001b[0m\u001b[1;33m\u001b[0m\u001b[1;33m\u001b[0m\u001b[0m\n\u001b[0m\u001b[0;32m    136\u001b[0m     \u001b[1;32melse\u001b[0m\u001b[1;33m:\u001b[0m\u001b[1;33m\u001b[0m\u001b[1;33m\u001b[0m\u001b[0m\n\u001b[0;32m    137\u001b[0m         \u001b[1;31m# Composite any adjacent images together\u001b[0m\u001b[1;33m\u001b[0m\u001b[1;33m\u001b[0m\u001b[1;33m\u001b[0m\u001b[0m\n",
      "\u001b[1;32m~\\Anaconda3\\lib\\site-packages\\matplotlib\\artist.py\u001b[0m in \u001b[0;36mdraw_wrapper\u001b[1;34m(artist, renderer, *args, **kwargs)\u001b[0m\n\u001b[0;32m     36\u001b[0m                 \u001b[0mrenderer\u001b[0m\u001b[1;33m.\u001b[0m\u001b[0mstart_filter\u001b[0m\u001b[1;33m(\u001b[0m\u001b[1;33m)\u001b[0m\u001b[1;33m\u001b[0m\u001b[1;33m\u001b[0m\u001b[0m\n\u001b[0;32m     37\u001b[0m \u001b[1;33m\u001b[0m\u001b[0m\n\u001b[1;32m---> 38\u001b[1;33m             \u001b[1;32mreturn\u001b[0m \u001b[0mdraw\u001b[0m\u001b[1;33m(\u001b[0m\u001b[0martist\u001b[0m\u001b[1;33m,\u001b[0m \u001b[0mrenderer\u001b[0m\u001b[1;33m,\u001b[0m \u001b[1;33m*\u001b[0m\u001b[0margs\u001b[0m\u001b[1;33m,\u001b[0m \u001b[1;33m**\u001b[0m\u001b[0mkwargs\u001b[0m\u001b[1;33m)\u001b[0m\u001b[1;33m\u001b[0m\u001b[1;33m\u001b[0m\u001b[0m\n\u001b[0m\u001b[0;32m     39\u001b[0m         \u001b[1;32mfinally\u001b[0m\u001b[1;33m:\u001b[0m\u001b[1;33m\u001b[0m\u001b[1;33m\u001b[0m\u001b[0m\n\u001b[0;32m     40\u001b[0m             \u001b[1;32mif\u001b[0m \u001b[0martist\u001b[0m\u001b[1;33m.\u001b[0m\u001b[0mget_agg_filter\u001b[0m\u001b[1;33m(\u001b[0m\u001b[1;33m)\u001b[0m \u001b[1;32mis\u001b[0m \u001b[1;32mnot\u001b[0m \u001b[1;32mNone\u001b[0m\u001b[1;33m:\u001b[0m\u001b[1;33m\u001b[0m\u001b[1;33m\u001b[0m\u001b[0m\n",
      "\u001b[1;32m~\\Anaconda3\\lib\\site-packages\\matplotlib\\axis.py\u001b[0m in \u001b[0;36mdraw\u001b[1;34m(self, renderer, *args, **kwargs)\u001b[0m\n\u001b[0;32m   1213\u001b[0m         \u001b[1;31m# the actual bbox\u001b[0m\u001b[1;33m\u001b[0m\u001b[1;33m\u001b[0m\u001b[1;33m\u001b[0m\u001b[0m\n\u001b[0;32m   1214\u001b[0m \u001b[1;33m\u001b[0m\u001b[0m\n\u001b[1;32m-> 1215\u001b[1;33m         \u001b[0mself\u001b[0m\u001b[1;33m.\u001b[0m\u001b[0m_update_label_position\u001b[0m\u001b[1;33m(\u001b[0m\u001b[0mrenderer\u001b[0m\u001b[1;33m)\u001b[0m\u001b[1;33m\u001b[0m\u001b[1;33m\u001b[0m\u001b[0m\n\u001b[0m\u001b[0;32m   1216\u001b[0m \u001b[1;33m\u001b[0m\u001b[0m\n\u001b[0;32m   1217\u001b[0m         \u001b[0mself\u001b[0m\u001b[1;33m.\u001b[0m\u001b[0mlabel\u001b[0m\u001b[1;33m.\u001b[0m\u001b[0mdraw\u001b[0m\u001b[1;33m(\u001b[0m\u001b[0mrenderer\u001b[0m\u001b[1;33m)\u001b[0m\u001b[1;33m\u001b[0m\u001b[1;33m\u001b[0m\u001b[0m\n",
      "\u001b[1;32m~\\Anaconda3\\lib\\site-packages\\matplotlib\\axis.py\u001b[0m in \u001b[0;36m_update_label_position\u001b[1;34m(self, renderer)\u001b[0m\n\u001b[0;32m   2012\u001b[0m         \u001b[1;31m# get bounding boxes for this axis and any siblings\u001b[0m\u001b[1;33m\u001b[0m\u001b[1;33m\u001b[0m\u001b[1;33m\u001b[0m\u001b[0m\n\u001b[0;32m   2013\u001b[0m         \u001b[1;31m# that have been set by `fig.align_xlabels()`\u001b[0m\u001b[1;33m\u001b[0m\u001b[1;33m\u001b[0m\u001b[1;33m\u001b[0m\u001b[0m\n\u001b[1;32m-> 2014\u001b[1;33m         \u001b[0mbboxes\u001b[0m\u001b[1;33m,\u001b[0m \u001b[0mbboxes2\u001b[0m \u001b[1;33m=\u001b[0m \u001b[0mself\u001b[0m\u001b[1;33m.\u001b[0m\u001b[0m_get_tick_boxes_siblings\u001b[0m\u001b[1;33m(\u001b[0m\u001b[0mrenderer\u001b[0m\u001b[1;33m=\u001b[0m\u001b[0mrenderer\u001b[0m\u001b[1;33m)\u001b[0m\u001b[1;33m\u001b[0m\u001b[1;33m\u001b[0m\u001b[0m\n\u001b[0m\u001b[0;32m   2015\u001b[0m \u001b[1;33m\u001b[0m\u001b[0m\n\u001b[0;32m   2016\u001b[0m         \u001b[0mx\u001b[0m\u001b[1;33m,\u001b[0m \u001b[0my\u001b[0m \u001b[1;33m=\u001b[0m \u001b[0mself\u001b[0m\u001b[1;33m.\u001b[0m\u001b[0mlabel\u001b[0m\u001b[1;33m.\u001b[0m\u001b[0mget_position\u001b[0m\u001b[1;33m(\u001b[0m\u001b[1;33m)\u001b[0m\u001b[1;33m\u001b[0m\u001b[1;33m\u001b[0m\u001b[0m\n",
      "\u001b[1;32m~\\Anaconda3\\lib\\site-packages\\matplotlib\\axis.py\u001b[0m in \u001b[0;36m_get_tick_boxes_siblings\u001b[1;34m(self, renderer)\u001b[0m\n\u001b[0;32m   1996\u001b[0m         \u001b[1;31m# if we want to align labels from other axes:\u001b[0m\u001b[1;33m\u001b[0m\u001b[1;33m\u001b[0m\u001b[1;33m\u001b[0m\u001b[0m\n\u001b[0;32m   1997\u001b[0m         \u001b[1;32mfor\u001b[0m \u001b[0mnn\u001b[0m\u001b[1;33m,\u001b[0m \u001b[0maxx\u001b[0m \u001b[1;32min\u001b[0m \u001b[0menumerate\u001b[0m\u001b[1;33m(\u001b[0m\u001b[0mgrp\u001b[0m\u001b[1;33m.\u001b[0m\u001b[0mget_siblings\u001b[0m\u001b[1;33m(\u001b[0m\u001b[0mself\u001b[0m\u001b[1;33m.\u001b[0m\u001b[0maxes\u001b[0m\u001b[1;33m)\u001b[0m\u001b[1;33m)\u001b[0m\u001b[1;33m:\u001b[0m\u001b[1;33m\u001b[0m\u001b[1;33m\u001b[0m\u001b[0m\n\u001b[1;32m-> 1998\u001b[1;33m             \u001b[0mticks_to_draw\u001b[0m \u001b[1;33m=\u001b[0m \u001b[0maxx\u001b[0m\u001b[1;33m.\u001b[0m\u001b[0mxaxis\u001b[0m\u001b[1;33m.\u001b[0m\u001b[0m_update_ticks\u001b[0m\u001b[1;33m(\u001b[0m\u001b[1;33m)\u001b[0m\u001b[1;33m\u001b[0m\u001b[1;33m\u001b[0m\u001b[0m\n\u001b[0m\u001b[0;32m   1999\u001b[0m             \u001b[0mtlb\u001b[0m\u001b[1;33m,\u001b[0m \u001b[0mtlb2\u001b[0m \u001b[1;33m=\u001b[0m \u001b[0maxx\u001b[0m\u001b[1;33m.\u001b[0m\u001b[0mxaxis\u001b[0m\u001b[1;33m.\u001b[0m\u001b[0m_get_tick_bboxes\u001b[0m\u001b[1;33m(\u001b[0m\u001b[0mticks_to_draw\u001b[0m\u001b[1;33m,\u001b[0m \u001b[0mrenderer\u001b[0m\u001b[1;33m)\u001b[0m\u001b[1;33m\u001b[0m\u001b[1;33m\u001b[0m\u001b[0m\n\u001b[0;32m   2000\u001b[0m             \u001b[0mbboxes\u001b[0m\u001b[1;33m.\u001b[0m\u001b[0mextend\u001b[0m\u001b[1;33m(\u001b[0m\u001b[0mtlb\u001b[0m\u001b[1;33m)\u001b[0m\u001b[1;33m\u001b[0m\u001b[1;33m\u001b[0m\u001b[0m\n",
      "\u001b[1;32m~\\Anaconda3\\lib\\site-packages\\matplotlib\\axis.py\u001b[0m in \u001b[0;36m_update_ticks\u001b[1;34m(self)\u001b[0m\n\u001b[0;32m   1077\u001b[0m         \u001b[0mthe\u001b[0m \u001b[0maxes\u001b[0m\u001b[1;33m.\u001b[0m  \u001b[0mReturn\u001b[0m \u001b[0mthe\u001b[0m \u001b[0mlist\u001b[0m \u001b[0mof\u001b[0m \u001b[0mticks\u001b[0m \u001b[0mthat\u001b[0m \u001b[0mwill\u001b[0m \u001b[0mbe\u001b[0m \u001b[0mdrawn\u001b[0m\u001b[1;33m.\u001b[0m\u001b[1;33m\u001b[0m\u001b[1;33m\u001b[0m\u001b[0m\n\u001b[0;32m   1078\u001b[0m         \"\"\"\n\u001b[1;32m-> 1079\u001b[1;33m         \u001b[0mmajor_locs\u001b[0m \u001b[1;33m=\u001b[0m \u001b[0mself\u001b[0m\u001b[1;33m.\u001b[0m\u001b[0mget_majorticklocs\u001b[0m\u001b[1;33m(\u001b[0m\u001b[1;33m)\u001b[0m\u001b[1;33m\u001b[0m\u001b[1;33m\u001b[0m\u001b[0m\n\u001b[0m\u001b[0;32m   1080\u001b[0m         \u001b[0mmajor_labels\u001b[0m \u001b[1;33m=\u001b[0m \u001b[0mself\u001b[0m\u001b[1;33m.\u001b[0m\u001b[0mmajor\u001b[0m\u001b[1;33m.\u001b[0m\u001b[0mformatter\u001b[0m\u001b[1;33m.\u001b[0m\u001b[0mformat_ticks\u001b[0m\u001b[1;33m(\u001b[0m\u001b[0mmajor_locs\u001b[0m\u001b[1;33m)\u001b[0m\u001b[1;33m\u001b[0m\u001b[1;33m\u001b[0m\u001b[0m\n\u001b[0;32m   1081\u001b[0m         \u001b[0mmajor_ticks\u001b[0m \u001b[1;33m=\u001b[0m \u001b[0mself\u001b[0m\u001b[1;33m.\u001b[0m\u001b[0mget_major_ticks\u001b[0m\u001b[1;33m(\u001b[0m\u001b[0mlen\u001b[0m\u001b[1;33m(\u001b[0m\u001b[0mmajor_locs\u001b[0m\u001b[1;33m)\u001b[0m\u001b[1;33m)\u001b[0m\u001b[1;33m\u001b[0m\u001b[1;33m\u001b[0m\u001b[0m\n",
      "\u001b[1;32m~\\Anaconda3\\lib\\site-packages\\matplotlib\\axis.py\u001b[0m in \u001b[0;36mget_majorticklocs\u001b[1;34m(self)\u001b[0m\n\u001b[0;32m   1322\u001b[0m     \u001b[1;32mdef\u001b[0m \u001b[0mget_majorticklocs\u001b[0m\u001b[1;33m(\u001b[0m\u001b[0mself\u001b[0m\u001b[1;33m)\u001b[0m\u001b[1;33m:\u001b[0m\u001b[1;33m\u001b[0m\u001b[1;33m\u001b[0m\u001b[0m\n\u001b[0;32m   1323\u001b[0m         \u001b[1;34m\"\"\"Get the array of major tick locations in data coordinates.\"\"\"\u001b[0m\u001b[1;33m\u001b[0m\u001b[1;33m\u001b[0m\u001b[0m\n\u001b[1;32m-> 1324\u001b[1;33m         \u001b[1;32mreturn\u001b[0m \u001b[0mself\u001b[0m\u001b[1;33m.\u001b[0m\u001b[0mmajor\u001b[0m\u001b[1;33m.\u001b[0m\u001b[0mlocator\u001b[0m\u001b[1;33m(\u001b[0m\u001b[1;33m)\u001b[0m\u001b[1;33m\u001b[0m\u001b[1;33m\u001b[0m\u001b[0m\n\u001b[0m\u001b[0;32m   1325\u001b[0m \u001b[1;33m\u001b[0m\u001b[0m\n\u001b[0;32m   1326\u001b[0m     \u001b[1;32mdef\u001b[0m \u001b[0mget_minorticklocs\u001b[0m\u001b[1;33m(\u001b[0m\u001b[0mself\u001b[0m\u001b[1;33m)\u001b[0m\u001b[1;33m:\u001b[0m\u001b[1;33m\u001b[0m\u001b[1;33m\u001b[0m\u001b[0m\n",
      "\u001b[1;32m~\\Anaconda3\\lib\\site-packages\\matplotlib\\ticker.py\u001b[0m in \u001b[0;36m__call__\u001b[1;34m(self)\u001b[0m\n\u001b[0;32m   2079\u001b[0m     \u001b[1;32mdef\u001b[0m \u001b[0m__call__\u001b[0m\u001b[1;33m(\u001b[0m\u001b[0mself\u001b[0m\u001b[1;33m)\u001b[0m\u001b[1;33m:\u001b[0m\u001b[1;33m\u001b[0m\u001b[1;33m\u001b[0m\u001b[0m\n\u001b[0;32m   2080\u001b[0m         \u001b[0mvmin\u001b[0m\u001b[1;33m,\u001b[0m \u001b[0mvmax\u001b[0m \u001b[1;33m=\u001b[0m \u001b[0mself\u001b[0m\u001b[1;33m.\u001b[0m\u001b[0maxis\u001b[0m\u001b[1;33m.\u001b[0m\u001b[0mget_view_interval\u001b[0m\u001b[1;33m(\u001b[0m\u001b[1;33m)\u001b[0m\u001b[1;33m\u001b[0m\u001b[1;33m\u001b[0m\u001b[0m\n\u001b[1;32m-> 2081\u001b[1;33m         \u001b[1;32mreturn\u001b[0m \u001b[0mself\u001b[0m\u001b[1;33m.\u001b[0m\u001b[0mtick_values\u001b[0m\u001b[1;33m(\u001b[0m\u001b[0mvmin\u001b[0m\u001b[1;33m,\u001b[0m \u001b[0mvmax\u001b[0m\u001b[1;33m)\u001b[0m\u001b[1;33m\u001b[0m\u001b[1;33m\u001b[0m\u001b[0m\n\u001b[0m\u001b[0;32m   2082\u001b[0m \u001b[1;33m\u001b[0m\u001b[0m\n\u001b[0;32m   2083\u001b[0m     \u001b[1;32mdef\u001b[0m \u001b[0mtick_values\u001b[0m\u001b[1;33m(\u001b[0m\u001b[0mself\u001b[0m\u001b[1;33m,\u001b[0m \u001b[0mvmin\u001b[0m\u001b[1;33m,\u001b[0m \u001b[0mvmax\u001b[0m\u001b[1;33m)\u001b[0m\u001b[1;33m:\u001b[0m\u001b[1;33m\u001b[0m\u001b[1;33m\u001b[0m\u001b[0m\n",
      "\u001b[1;32m~\\Anaconda3\\lib\\site-packages\\matplotlib\\ticker.py\u001b[0m in \u001b[0;36mtick_values\u001b[1;34m(self, vmin, vmax)\u001b[0m\n\u001b[0;32m   2087\u001b[0m         vmin, vmax = mtransforms.nonsingular(\n\u001b[0;32m   2088\u001b[0m             vmin, vmax, expander=1e-13, tiny=1e-14)\n\u001b[1;32m-> 2089\u001b[1;33m         \u001b[0mlocs\u001b[0m \u001b[1;33m=\u001b[0m \u001b[0mself\u001b[0m\u001b[1;33m.\u001b[0m\u001b[0m_raw_ticks\u001b[0m\u001b[1;33m(\u001b[0m\u001b[0mvmin\u001b[0m\u001b[1;33m,\u001b[0m \u001b[0mvmax\u001b[0m\u001b[1;33m)\u001b[0m\u001b[1;33m\u001b[0m\u001b[1;33m\u001b[0m\u001b[0m\n\u001b[0m\u001b[0;32m   2090\u001b[0m \u001b[1;33m\u001b[0m\u001b[0m\n\u001b[0;32m   2091\u001b[0m         \u001b[0mprune\u001b[0m \u001b[1;33m=\u001b[0m \u001b[0mself\u001b[0m\u001b[1;33m.\u001b[0m\u001b[0m_prune\u001b[0m\u001b[1;33m\u001b[0m\u001b[1;33m\u001b[0m\u001b[0m\n",
      "\u001b[1;32m~\\Anaconda3\\lib\\site-packages\\matplotlib\\ticker.py\u001b[0m in \u001b[0;36m_raw_ticks\u001b[1;34m(self, vmin, vmax)\u001b[0m\n\u001b[0;32m   2026\u001b[0m         \u001b[1;32mif\u001b[0m \u001b[0mself\u001b[0m\u001b[1;33m.\u001b[0m\u001b[0m_nbins\u001b[0m \u001b[1;33m==\u001b[0m \u001b[1;34m'auto'\u001b[0m\u001b[1;33m:\u001b[0m\u001b[1;33m\u001b[0m\u001b[1;33m\u001b[0m\u001b[0m\n\u001b[0;32m   2027\u001b[0m             \u001b[1;32mif\u001b[0m \u001b[0mself\u001b[0m\u001b[1;33m.\u001b[0m\u001b[0maxis\u001b[0m \u001b[1;32mis\u001b[0m \u001b[1;32mnot\u001b[0m \u001b[1;32mNone\u001b[0m\u001b[1;33m:\u001b[0m\u001b[1;33m\u001b[0m\u001b[1;33m\u001b[0m\u001b[0m\n\u001b[1;32m-> 2028\u001b[1;33m                 nbins = np.clip(self.axis.get_tick_space(),\n\u001b[0m\u001b[0;32m   2029\u001b[0m                                 max(1, self._min_n_ticks - 1), 9)\n\u001b[0;32m   2030\u001b[0m             \u001b[1;32melse\u001b[0m\u001b[1;33m:\u001b[0m\u001b[1;33m\u001b[0m\u001b[1;33m\u001b[0m\u001b[0m\n",
      "\u001b[1;32m~\\Anaconda3\\lib\\site-packages\\matplotlib\\axis.py\u001b[0m in \u001b[0;36mget_tick_space\u001b[1;34m(self)\u001b[0m\n\u001b[0;32m   2181\u001b[0m         \u001b[0mends\u001b[0m \u001b[1;33m=\u001b[0m \u001b[0mself\u001b[0m\u001b[1;33m.\u001b[0m\u001b[0maxes\u001b[0m\u001b[1;33m.\u001b[0m\u001b[0mtransAxes\u001b[0m\u001b[1;33m.\u001b[0m\u001b[0mtransform\u001b[0m\u001b[1;33m(\u001b[0m\u001b[1;33m[\u001b[0m\u001b[1;33m[\u001b[0m\u001b[1;36m0\u001b[0m\u001b[1;33m,\u001b[0m \u001b[1;36m0\u001b[0m\u001b[1;33m]\u001b[0m\u001b[1;33m,\u001b[0m \u001b[1;33m[\u001b[0m\u001b[1;36m1\u001b[0m\u001b[1;33m,\u001b[0m \u001b[1;36m0\u001b[0m\u001b[1;33m]\u001b[0m\u001b[1;33m]\u001b[0m\u001b[1;33m)\u001b[0m\u001b[1;33m\u001b[0m\u001b[1;33m\u001b[0m\u001b[0m\n\u001b[0;32m   2182\u001b[0m         \u001b[0mlength\u001b[0m \u001b[1;33m=\u001b[0m \u001b[1;33m(\u001b[0m\u001b[1;33m(\u001b[0m\u001b[0mends\u001b[0m\u001b[1;33m[\u001b[0m\u001b[1;36m1\u001b[0m\u001b[1;33m]\u001b[0m\u001b[1;33m[\u001b[0m\u001b[1;36m0\u001b[0m\u001b[1;33m]\u001b[0m \u001b[1;33m-\u001b[0m \u001b[0mends\u001b[0m\u001b[1;33m[\u001b[0m\u001b[1;36m0\u001b[0m\u001b[1;33m]\u001b[0m\u001b[1;33m[\u001b[0m\u001b[1;36m0\u001b[0m\u001b[1;33m]\u001b[0m\u001b[1;33m)\u001b[0m \u001b[1;33m/\u001b[0m \u001b[0mself\u001b[0m\u001b[1;33m.\u001b[0m\u001b[0maxes\u001b[0m\u001b[1;33m.\u001b[0m\u001b[0mfigure\u001b[0m\u001b[1;33m.\u001b[0m\u001b[0mdpi\u001b[0m\u001b[1;33m)\u001b[0m \u001b[1;33m*\u001b[0m \u001b[1;36m72\u001b[0m\u001b[1;33m\u001b[0m\u001b[1;33m\u001b[0m\u001b[0m\n\u001b[1;32m-> 2183\u001b[1;33m         \u001b[0mtick\u001b[0m \u001b[1;33m=\u001b[0m \u001b[0mself\u001b[0m\u001b[1;33m.\u001b[0m\u001b[0m_get_tick\u001b[0m\u001b[1;33m(\u001b[0m\u001b[1;32mTrue\u001b[0m\u001b[1;33m)\u001b[0m\u001b[1;33m\u001b[0m\u001b[1;33m\u001b[0m\u001b[0m\n\u001b[0m\u001b[0;32m   2184\u001b[0m         \u001b[1;31m# There is a heuristic here that the aspect ratio of tick text\u001b[0m\u001b[1;33m\u001b[0m\u001b[1;33m\u001b[0m\u001b[1;33m\u001b[0m\u001b[0m\n\u001b[0;32m   2185\u001b[0m         \u001b[1;31m# is no more than 3:1\u001b[0m\u001b[1;33m\u001b[0m\u001b[1;33m\u001b[0m\u001b[1;33m\u001b[0m\u001b[0m\n",
      "\u001b[1;32m~\\Anaconda3\\lib\\site-packages\\matplotlib\\axis.py\u001b[0m in \u001b[0;36m_get_tick\u001b[1;34m(self, major)\u001b[0m\n\u001b[0;32m   1931\u001b[0m         \u001b[1;32melse\u001b[0m\u001b[1;33m:\u001b[0m\u001b[1;33m\u001b[0m\u001b[1;33m\u001b[0m\u001b[0m\n\u001b[0;32m   1932\u001b[0m             \u001b[0mtick_kw\u001b[0m \u001b[1;33m=\u001b[0m \u001b[0mself\u001b[0m\u001b[1;33m.\u001b[0m\u001b[0m_minor_tick_kw\u001b[0m\u001b[1;33m\u001b[0m\u001b[1;33m\u001b[0m\u001b[0m\n\u001b[1;32m-> 1933\u001b[1;33m         \u001b[1;32mreturn\u001b[0m \u001b[0mXTick\u001b[0m\u001b[1;33m(\u001b[0m\u001b[0mself\u001b[0m\u001b[1;33m.\u001b[0m\u001b[0maxes\u001b[0m\u001b[1;33m,\u001b[0m \u001b[1;36m0\u001b[0m\u001b[1;33m,\u001b[0m \u001b[1;34m''\u001b[0m\u001b[1;33m,\u001b[0m \u001b[0mmajor\u001b[0m\u001b[1;33m=\u001b[0m\u001b[0mmajor\u001b[0m\u001b[1;33m,\u001b[0m \u001b[1;33m**\u001b[0m\u001b[0mtick_kw\u001b[0m\u001b[1;33m)\u001b[0m\u001b[1;33m\u001b[0m\u001b[1;33m\u001b[0m\u001b[0m\n\u001b[0m\u001b[0;32m   1934\u001b[0m \u001b[1;33m\u001b[0m\u001b[0m\n\u001b[0;32m   1935\u001b[0m     \u001b[1;32mdef\u001b[0m \u001b[0m_get_label\u001b[0m\u001b[1;33m(\u001b[0m\u001b[0mself\u001b[0m\u001b[1;33m)\u001b[0m\u001b[1;33m:\u001b[0m\u001b[1;33m\u001b[0m\u001b[1;33m\u001b[0m\u001b[0m\n",
      "\u001b[1;32m~\\Anaconda3\\lib\\site-packages\\matplotlib\\axis.py\u001b[0m in \u001b[0;36m__init__\u001b[1;34m(self, axes, loc, label, size, width, color, tickdir, pad, labelsize, labelcolor, zorder, gridOn, tick1On, tick2On, label1On, label2On, major, labelrotation, grid_color, grid_linestyle, grid_linewidth, grid_alpha, **kw)\u001b[0m\n\u001b[0;32m    156\u001b[0m         \u001b[0mself\u001b[0m\u001b[1;33m.\u001b[0m\u001b[0mapply_tickdir\u001b[0m\u001b[1;33m(\u001b[0m\u001b[0mtickdir\u001b[0m\u001b[1;33m)\u001b[0m\u001b[1;33m\u001b[0m\u001b[1;33m\u001b[0m\u001b[0m\n\u001b[0;32m    157\u001b[0m \u001b[1;33m\u001b[0m\u001b[0m\n\u001b[1;32m--> 158\u001b[1;33m         \u001b[0mself\u001b[0m\u001b[1;33m.\u001b[0m\u001b[0mtick1line\u001b[0m \u001b[1;33m=\u001b[0m \u001b[0mself\u001b[0m\u001b[1;33m.\u001b[0m\u001b[0m_get_tick1line\u001b[0m\u001b[1;33m(\u001b[0m\u001b[1;33m)\u001b[0m\u001b[1;33m\u001b[0m\u001b[1;33m\u001b[0m\u001b[0m\n\u001b[0m\u001b[0;32m    159\u001b[0m         \u001b[0mself\u001b[0m\u001b[1;33m.\u001b[0m\u001b[0mtick2line\u001b[0m \u001b[1;33m=\u001b[0m \u001b[0mself\u001b[0m\u001b[1;33m.\u001b[0m\u001b[0m_get_tick2line\u001b[0m\u001b[1;33m(\u001b[0m\u001b[1;33m)\u001b[0m\u001b[1;33m\u001b[0m\u001b[1;33m\u001b[0m\u001b[0m\n\u001b[0;32m    160\u001b[0m         \u001b[0mself\u001b[0m\u001b[1;33m.\u001b[0m\u001b[0mgridline\u001b[0m \u001b[1;33m=\u001b[0m \u001b[0mself\u001b[0m\u001b[1;33m.\u001b[0m\u001b[0m_get_gridline\u001b[0m\u001b[1;33m(\u001b[0m\u001b[1;33m)\u001b[0m\u001b[1;33m\u001b[0m\u001b[1;33m\u001b[0m\u001b[0m\n",
      "\u001b[1;32m~\\Anaconda3\\lib\\site-packages\\matplotlib\\axis.py\u001b[0m in \u001b[0;36m_get_tick1line\u001b[1;34m(self)\u001b[0m\n\u001b[0;32m    462\u001b[0m                           \u001b[0mlinestyle\u001b[0m\u001b[1;33m=\u001b[0m\u001b[1;34m'None'\u001b[0m\u001b[1;33m,\u001b[0m \u001b[0mmarker\u001b[0m\u001b[1;33m=\u001b[0m\u001b[0mself\u001b[0m\u001b[1;33m.\u001b[0m\u001b[0m_tickmarkers\u001b[0m\u001b[1;33m[\u001b[0m\u001b[1;36m0\u001b[0m\u001b[1;33m]\u001b[0m\u001b[1;33m,\u001b[0m\u001b[1;33m\u001b[0m\u001b[1;33m\u001b[0m\u001b[0m\n\u001b[0;32m    463\u001b[0m                           \u001b[0mmarkersize\u001b[0m\u001b[1;33m=\u001b[0m\u001b[0mself\u001b[0m\u001b[1;33m.\u001b[0m\u001b[0m_size\u001b[0m\u001b[1;33m,\u001b[0m\u001b[1;33m\u001b[0m\u001b[1;33m\u001b[0m\u001b[0m\n\u001b[1;32m--> 464\u001b[1;33m                           markeredgewidth=self._width, zorder=self._zorder)\n\u001b[0m\u001b[0;32m    465\u001b[0m         \u001b[0ml\u001b[0m\u001b[1;33m.\u001b[0m\u001b[0mset_transform\u001b[0m\u001b[1;33m(\u001b[0m\u001b[0mself\u001b[0m\u001b[1;33m.\u001b[0m\u001b[0maxes\u001b[0m\u001b[1;33m.\u001b[0m\u001b[0mget_xaxis_transform\u001b[0m\u001b[1;33m(\u001b[0m\u001b[0mwhich\u001b[0m\u001b[1;33m=\u001b[0m\u001b[1;34m'tick1'\u001b[0m\u001b[1;33m)\u001b[0m\u001b[1;33m)\u001b[0m\u001b[1;33m\u001b[0m\u001b[1;33m\u001b[0m\u001b[0m\n\u001b[0;32m    466\u001b[0m         \u001b[0mself\u001b[0m\u001b[1;33m.\u001b[0m\u001b[0m_set_artist_props\u001b[0m\u001b[1;33m(\u001b[0m\u001b[0ml\u001b[0m\u001b[1;33m)\u001b[0m\u001b[1;33m\u001b[0m\u001b[1;33m\u001b[0m\u001b[0m\n",
      "\u001b[1;32m~\\Anaconda3\\lib\\site-packages\\matplotlib\\lines.py\u001b[0m in \u001b[0;36m__init__\u001b[1;34m(self, xdata, ydata, linewidth, linestyle, color, marker, markersize, markeredgewidth, markeredgecolor, markerfacecolor, markerfacecoloralt, fillstyle, antialiased, dash_capstyle, solid_capstyle, dash_joinstyle, solid_joinstyle, pickradius, drawstyle, markevery, **kwargs)\u001b[0m\n\u001b[0;32m    380\u001b[0m         \u001b[0mself\u001b[0m\u001b[1;33m.\u001b[0m\u001b[0m_color\u001b[0m \u001b[1;33m=\u001b[0m \u001b[1;32mNone\u001b[0m\u001b[1;33m\u001b[0m\u001b[1;33m\u001b[0m\u001b[0m\n\u001b[0;32m    381\u001b[0m         \u001b[0mself\u001b[0m\u001b[1;33m.\u001b[0m\u001b[0mset_color\u001b[0m\u001b[1;33m(\u001b[0m\u001b[0mcolor\u001b[0m\u001b[1;33m)\u001b[0m\u001b[1;33m\u001b[0m\u001b[1;33m\u001b[0m\u001b[0m\n\u001b[1;32m--> 382\u001b[1;33m         \u001b[0mself\u001b[0m\u001b[1;33m.\u001b[0m\u001b[0m_marker\u001b[0m \u001b[1;33m=\u001b[0m \u001b[0mMarkerStyle\u001b[0m\u001b[1;33m(\u001b[0m\u001b[0mmarker\u001b[0m\u001b[1;33m,\u001b[0m \u001b[0mfillstyle\u001b[0m\u001b[1;33m)\u001b[0m\u001b[1;33m\u001b[0m\u001b[1;33m\u001b[0m\u001b[0m\n\u001b[0m\u001b[0;32m    383\u001b[0m \u001b[1;33m\u001b[0m\u001b[0m\n\u001b[0;32m    384\u001b[0m         \u001b[0mself\u001b[0m\u001b[1;33m.\u001b[0m\u001b[0m_markevery\u001b[0m \u001b[1;33m=\u001b[0m \u001b[1;32mNone\u001b[0m\u001b[1;33m\u001b[0m\u001b[1;33m\u001b[0m\u001b[0m\n",
      "\u001b[1;32m~\\Anaconda3\\lib\\site-packages\\matplotlib\\markers.py\u001b[0m in \u001b[0;36m__init__\u001b[1;34m(self, marker, fillstyle)\u001b[0m\n\u001b[0;32m    241\u001b[0m         \u001b[0mself\u001b[0m\u001b[1;33m.\u001b[0m\u001b[0m_marker_function\u001b[0m \u001b[1;33m=\u001b[0m \u001b[1;32mNone\u001b[0m\u001b[1;33m\u001b[0m\u001b[1;33m\u001b[0m\u001b[0m\n\u001b[0;32m    242\u001b[0m         \u001b[0mself\u001b[0m\u001b[1;33m.\u001b[0m\u001b[0mset_fillstyle\u001b[0m\u001b[1;33m(\u001b[0m\u001b[0mfillstyle\u001b[0m\u001b[1;33m)\u001b[0m\u001b[1;33m\u001b[0m\u001b[1;33m\u001b[0m\u001b[0m\n\u001b[1;32m--> 243\u001b[1;33m         \u001b[0mself\u001b[0m\u001b[1;33m.\u001b[0m\u001b[0mset_marker\u001b[0m\u001b[1;33m(\u001b[0m\u001b[0mmarker\u001b[0m\u001b[1;33m)\u001b[0m\u001b[1;33m\u001b[0m\u001b[1;33m\u001b[0m\u001b[0m\n\u001b[0m\u001b[0;32m    244\u001b[0m \u001b[1;33m\u001b[0m\u001b[0m\n\u001b[0;32m    245\u001b[0m     \u001b[1;32mdef\u001b[0m \u001b[0m_recache\u001b[0m\u001b[1;33m(\u001b[0m\u001b[0mself\u001b[0m\u001b[1;33m)\u001b[0m\u001b[1;33m:\u001b[0m\u001b[1;33m\u001b[0m\u001b[1;33m\u001b[0m\u001b[0m\n",
      "\u001b[1;32m~\\Anaconda3\\lib\\site-packages\\matplotlib\\markers.py\u001b[0m in \u001b[0;36mset_marker\u001b[1;34m(self, marker)\u001b[0m\n\u001b[0;32m    314\u001b[0m \u001b[1;33m\u001b[0m\u001b[0m\n\u001b[0;32m    315\u001b[0m         \u001b[0mself\u001b[0m\u001b[1;33m.\u001b[0m\u001b[0m_marker\u001b[0m \u001b[1;33m=\u001b[0m \u001b[0mmarker\u001b[0m\u001b[1;33m\u001b[0m\u001b[1;33m\u001b[0m\u001b[0m\n\u001b[1;32m--> 316\u001b[1;33m         \u001b[0mself\u001b[0m\u001b[1;33m.\u001b[0m\u001b[0m_recache\u001b[0m\u001b[1;33m(\u001b[0m\u001b[1;33m)\u001b[0m\u001b[1;33m\u001b[0m\u001b[1;33m\u001b[0m\u001b[0m\n\u001b[0m\u001b[0;32m    317\u001b[0m \u001b[1;33m\u001b[0m\u001b[0m\n\u001b[0;32m    318\u001b[0m     \u001b[1;32mdef\u001b[0m \u001b[0mget_path\u001b[0m\u001b[1;33m(\u001b[0m\u001b[0mself\u001b[0m\u001b[1;33m)\u001b[0m\u001b[1;33m:\u001b[0m\u001b[1;33m\u001b[0m\u001b[1;33m\u001b[0m\u001b[0m\n",
      "\u001b[1;32m~\\Anaconda3\\lib\\site-packages\\matplotlib\\markers.py\u001b[0m in \u001b[0;36m_recache\u001b[1;34m(self)\u001b[0m\n\u001b[0;32m    254\u001b[0m         \u001b[0mself\u001b[0m\u001b[1;33m.\u001b[0m\u001b[0m_capstyle\u001b[0m \u001b[1;33m=\u001b[0m \u001b[1;34m'butt'\u001b[0m\u001b[1;33m\u001b[0m\u001b[1;33m\u001b[0m\u001b[0m\n\u001b[0;32m    255\u001b[0m         \u001b[0mself\u001b[0m\u001b[1;33m.\u001b[0m\u001b[0m_filled\u001b[0m \u001b[1;33m=\u001b[0m \u001b[1;32mTrue\u001b[0m\u001b[1;33m\u001b[0m\u001b[1;33m\u001b[0m\u001b[0m\n\u001b[1;32m--> 256\u001b[1;33m         \u001b[0mself\u001b[0m\u001b[1;33m.\u001b[0m\u001b[0m_marker_function\u001b[0m\u001b[1;33m(\u001b[0m\u001b[1;33m)\u001b[0m\u001b[1;33m\u001b[0m\u001b[1;33m\u001b[0m\u001b[0m\n\u001b[0m\u001b[0;32m    257\u001b[0m \u001b[1;33m\u001b[0m\u001b[0m\n\u001b[0;32m    258\u001b[0m     \u001b[1;32mdef\u001b[0m \u001b[0m__bool__\u001b[0m\u001b[1;33m(\u001b[0m\u001b[0mself\u001b[0m\u001b[1;33m)\u001b[0m\u001b[1;33m:\u001b[0m\u001b[1;33m\u001b[0m\u001b[1;33m\u001b[0m\u001b[0m\n",
      "\u001b[1;32m~\\Anaconda3\\lib\\site-packages\\matplotlib\\markers.py\u001b[0m in \u001b[0;36m_set_tickdown\u001b[1;34m(self)\u001b[0m\n\u001b[0;32m    767\u001b[0m \u001b[1;33m\u001b[0m\u001b[0m\n\u001b[0;32m    768\u001b[0m     \u001b[1;32mdef\u001b[0m \u001b[0m_set_tickdown\u001b[0m\u001b[1;33m(\u001b[0m\u001b[0mself\u001b[0m\u001b[1;33m)\u001b[0m\u001b[1;33m:\u001b[0m\u001b[1;33m\u001b[0m\u001b[1;33m\u001b[0m\u001b[0m\n\u001b[1;32m--> 769\u001b[1;33m         \u001b[0mself\u001b[0m\u001b[1;33m.\u001b[0m\u001b[0m_transform\u001b[0m \u001b[1;33m=\u001b[0m \u001b[0mAffine2D\u001b[0m\u001b[1;33m(\u001b[0m\u001b[1;33m)\u001b[0m\u001b[1;33m.\u001b[0m\u001b[0mscale\u001b[0m\u001b[1;33m(\u001b[0m\u001b[1;36m1.0\u001b[0m\u001b[1;33m,\u001b[0m \u001b[1;33m-\u001b[0m\u001b[1;36m1.0\u001b[0m\u001b[1;33m)\u001b[0m\u001b[1;33m\u001b[0m\u001b[1;33m\u001b[0m\u001b[0m\n\u001b[0m\u001b[0;32m    770\u001b[0m         \u001b[0mself\u001b[0m\u001b[1;33m.\u001b[0m\u001b[0m_snap_threshold\u001b[0m \u001b[1;33m=\u001b[0m \u001b[1;36m1.0\u001b[0m\u001b[1;33m\u001b[0m\u001b[1;33m\u001b[0m\u001b[0m\n\u001b[0;32m    771\u001b[0m         \u001b[0mself\u001b[0m\u001b[1;33m.\u001b[0m\u001b[0m_filled\u001b[0m \u001b[1;33m=\u001b[0m \u001b[1;32mFalse\u001b[0m\u001b[1;33m\u001b[0m\u001b[1;33m\u001b[0m\u001b[0m\n",
      "\u001b[1;32m~\\Anaconda3\\lib\\site-packages\\matplotlib\\transforms.py\u001b[0m in \u001b[0;36mscale\u001b[1;34m(self, sx, sy)\u001b[0m\n\u001b[0;32m   1989\u001b[0m         scale_mtx = np.array(\n\u001b[0;32m   1990\u001b[0m             [[sx, 0.0, 0.0], [0.0, sy, 0.0], [0.0, 0.0, 1.0]], float)\n\u001b[1;32m-> 1991\u001b[1;33m         \u001b[0mself\u001b[0m\u001b[1;33m.\u001b[0m\u001b[0m_mtx\u001b[0m \u001b[1;33m=\u001b[0m \u001b[0mnp\u001b[0m\u001b[1;33m.\u001b[0m\u001b[0mdot\u001b[0m\u001b[1;33m(\u001b[0m\u001b[0mscale_mtx\u001b[0m\u001b[1;33m,\u001b[0m \u001b[0mself\u001b[0m\u001b[1;33m.\u001b[0m\u001b[0m_mtx\u001b[0m\u001b[1;33m)\u001b[0m\u001b[1;33m\u001b[0m\u001b[1;33m\u001b[0m\u001b[0m\n\u001b[0m\u001b[0;32m   1992\u001b[0m         \u001b[0mself\u001b[0m\u001b[1;33m.\u001b[0m\u001b[0minvalidate\u001b[0m\u001b[1;33m(\u001b[0m\u001b[1;33m)\u001b[0m\u001b[1;33m\u001b[0m\u001b[1;33m\u001b[0m\u001b[0m\n\u001b[0;32m   1993\u001b[0m         \u001b[1;32mreturn\u001b[0m \u001b[0mself\u001b[0m\u001b[1;33m\u001b[0m\u001b[1;33m\u001b[0m\u001b[0m\n",
      "\u001b[1;32m<__array_function__ internals>\u001b[0m in \u001b[0;36mdot\u001b[1;34m(*args, **kwargs)\u001b[0m\n",
      "\u001b[1;31mKeyboardInterrupt\u001b[0m: "
     ]
    }
   ],
   "source": [
    "#fig = plt.subplots(figsize = (10,4))\n",
    "#sns.countplot(x = 'Gini', hue = 'Numero_agentes', data = data_gini)\n",
    "#plt.xticks(np.arange(0, 0.25, 1))\n",
    "#plt.xlim([0, 1])\n",
    "g = sns.FacetGrid(data_gini, col='Gini',  row='Numero_agentes')\n",
    "g = g.map(sns.distplot, 'Gini')\n"
   ]
  },
  {
   "cell_type": "markdown",
   "metadata": {},
   "source": [
    "Links:\n",
    "\n",
    "* https://stackoverflow.com/questions/31416664/python-gini-coefficient-calculation-using-numpy?noredirect=1&lq=1\n",
    "* https://stackoverflow.com/questions/48999542/more-efficient-weighted-gini-coefficient-in-python?noredirect=1&lq=1"
   ]
  },
  {
=======
>>>>>>> 385e2055146315286c62664b780881aa3ccdee3d
   "cell_type": "code",
   "execution_count": null,
   "metadata": {},
   "outputs": [],
   "source": []
  }
 ],
 "metadata": {
  "kernelspec": {
   "display_name": "Python 3",
   "language": "python",
   "name": "python3"
  },
  "language_info": {
   "codemirror_mode": {
    "name": "ipython",
    "version": 3
   },
   "file_extension": ".py",
   "mimetype": "text/x-python",
   "name": "python",
   "nbconvert_exporter": "python",
   "pygments_lexer": "ipython3",
   "version": "3.7.7"
  }
 },
 "nbformat": 4,
 "nbformat_minor": 4
}
