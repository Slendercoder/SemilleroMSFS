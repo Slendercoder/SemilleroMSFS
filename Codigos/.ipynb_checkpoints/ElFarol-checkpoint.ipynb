{
 "cells": [
  {
   "cell_type": "markdown",
   "metadata": {
    "colab_type": "text",
    "id": "rhcWf_uIbAsK"
   },
   "source": [
    "Simulación Modelo El Farol"
   ]
  },
  {
   "cell_type": "code",
   "execution_count": 1,
   "metadata": {},
   "outputs": [
    {
     "name": "stderr",
     "output_type": "stream",
     "text": [
      "/usr/local/lib/python3.7/site-packages/pandas/compat/__init__.py:117: UserWarning: Could not import the lzma module. Your installed Python is incomplete. Attempting to use lzma compression will result in a RuntimeError.\n",
      "  warnings.warn(msg)\n"
     ]
    }
   ],
   "source": [
    "import pandas as pd\n",
    "import random as rd\n",
    "import numpy as np\n",
    "import matplotlib.pyplot as plt\n",
    "import redes\n",
    "import ElFarolFunciones as F"
   ]
  },
  {
   "cell_type": "markdown",
   "metadata": {
    "colab_type": "text",
    "id": "n4MuybMsbEZj"
   },
   "source": [
    "En el presente modelo, se tiene una población de N individuos.\n",
    "\n",
    "EPLICACIÓN POR NICOLÁS"
   ]
  },
  {
   "cell_type": "markdown",
   "metadata": {},
   "source": [
    "#### AGENTES \n",
    "Los agentes que se simularán tendrán 4 atributos:\n",
    "\n",
    "**Estado**: Es la acción tomada por el agente y que puede ser ir al bar (1) o abstenerse de ir (0).\n",
    "\n",
    "**Puntaje (Score):** Puntaje obtenido. Hay tres posibilidades:\n",
    "\n",
    "- **1** Si fue y la proporción de agentes que fueron fue menor que el $\\alpha $ determinado ($\\alpha=0.5$).\n",
    "- **0**, si decidió no ir.\n",
    "- **-1**, si fue y la proporción de agentes que fueron fue mayor que el $\\alpha $ determinado ($\\alpha=0.5$).\n",
    "\n",
    "**Politica**: Es la forma en que los agentes toman la decisión de actuar en la siguiente ronda dada la situación actual, en términos de su estado y puntaje.\n",
    "\n",
    "**Vecinos:** Los vecinos son aquellos a lo que los agentes pueden ver que decisión tomaron, y si en el caso poseen una mejor politica que los ha llevado a obtener mejors puntajes, van a decidir copiar a este.\n",
    "\n",
    "La impementación en Python de estos atributos tiene la característica siguiente. Cada atributo se almacena como una lista, la cual guarda la información correspondiente por cada ronda. Esto es, por ejemplo, agente.estado[0] es el estado del agente en la primera ronda."
   ]
  },
  {
   "cell_type": "code",
   "execution_count": 2,
   "metadata": {
    "colab": {},
    "colab_type": "code",
    "id": "I2YA5E0BbIBZ"
   },
   "outputs": [],
   "source": [
    "class agente:\n",
    "    def __init__(self, estados, scores, politicas, vecinos):\n",
    "        self.estado = estados # lista\n",
    "        self.score = scores # lista\n",
    "        self.politica = politicas # lista\n",
    "        self.vecinos = vecinos\n",
    "\n",
    "    def __str__(self):\n",
    "        return \"E:{0}, S:{1}, P:{2}, V{3}\".format(self.estado, self.score,self.politica,self.vecinos)"
   ]
  },
  {
   "cell_type": "markdown",
   "metadata": {
    "colab_type": "text",
    "id": "wJ39jjcYbI1V"
   },
   "source": [
    "Utilizando la clase **agente** podemos generar agentes aleatorios creando objetos de esta clase a los que se les asigna un estado y una política al azar. Una vez conocido el estado inicial de todos los agentes, se procede a calcular la proporción de agentes que fueron al bar, mediante la funciòn `calculamedio()`. Dependiendo de este resultado, se le asigna un puntaje a cada agente. Así pues, esta función recibe como parámetro el número de agentes que se quieren crear y retorna una lista con los agentes nuevos."
   ]
  },
  {
   "cell_type": "code",
   "execution_count": 3,
   "metadata": {
    "colab": {},
    "colab_type": "code",
    "id": "-3uUM9QUbK3-"
   },
   "outputs": [],
   "source": [
    "def crear_agentes_aleatorios(Num_agentes):\n",
    "    Agentes = []\n",
    "    for i in range(Num_agentes):\n",
    "        Agentes.append(agente([rd.randint(0,1)], [], [rd.randint(0,7)], []))\n",
    "\n",
    "    X = F.calcula_medio(Agentes)\n",
    "    \n",
    "    for a in Agentes:\n",
    "        if a.estado[-1] == 1:\n",
    "            if X > 0.5:\n",
    "                a.score.append(-1)\n",
    "            else:\n",
    "                a.score.append(1)\n",
    "        else:\n",
    "            a.score.append(0)\n",
    "\n",
    "    return Agentes"
   ]
  },
  {
   "cell_type": "markdown",
   "metadata": {
    "colab_type": "text",
    "id": "1YlaeeLDbLkM"
   },
   "source": [
    "Recordemos que las políticas se han definido como la forma en que los agentes toman la decisión de actuar en la siguiente ronda dada la situación actual. Consideraremos un proceso de toma de decisiones muy sencillo, el cual solo usa el estado y el puntaje obtenido.\n",
    "\n",
    "Las políticas representan la toma de decisiones de los agentes de la ronda n a la ronda n+1. En este caso, una decisión consiste en qué estrategia seguir en la ronda n+1. Para ello, cada agente consulta tanto la estrategia de la ronda n, como la recompensa obtenida.\n",
    "\n",
    "En nuestro modelo, sólo hay tres posibles combinaciones de estrategias y recompensas, a saber:\n",
    "\n",
    "(no ir a El Farol, recompensa 0) (ir a El Farol, recompensa 1) (ir a El Farol, recompensa -1)\n"
   ]
  },
  {
   "cell_type": "code",
   "execution_count": 4,
   "metadata": {
    "colab": {},
    "colab_type": "code",
    "id": "73I5YcbubMeJ"
   },
   "outputs": [],
   "source": [
    "def crear_politicas():\n",
    "    politicas = [\n",
    "    {(0,0): 0, (1,1): 0, (1, -1): 0}, #0\n",
    "    {(0,0): 0, (1,1): 0, (1, -1): 1}, #1\n",
    "    {(0,0): 0, (1,1): 1, (1, -1): 0}, #2\n",
    "    {(0,0): 0, (1,1): 1, (1, -1): 1}, #3\n",
    "    {(0,0): 1, (1,1): 0, (1, -1): 0}, #4\n",
    "    {(0,0): 1, (1,1): 0, (1, -1): 1}, #5\n",
    "    {(0,0): 1, (1,1): 1, (1, -1): 0}, #6\n",
    "    {(0,0): 1, (1,1): 1, (1, -1): 1}, #7\n",
    "    ]\n",
    "    return politicas\n"
   ]
  },
  {
   "cell_type": "code",
   "execution_count": 5,
   "metadata": {},
   "outputs": [],
   "source": [
    "def agentes_aprenden(Agentes):\n",
    "    #Los agentes copian la politica del ganador de la Ronda\n",
    "    for agente in Agentes:\n",
    "        print(Agentes.index(agente))\n",
    "        maximo=agente.score[-1]\n",
    "        maximo_vecino=Agentes.index(agente)\n",
    "        print(agente.vecinos)\n",
    "        for index_vecino in agente.vecinos:\n",
    "            if((Agentes[index_vecino].score[-1])>(maximo)):\n",
    "                print('Hay cambio')\n",
    "                print('Puntaje anterior',maximo)\n",
    "                maximo=Agentes[index_vecino].score[-1]\n",
    "                print('Puntaje anterior vecino',maximo)\n",
    "                maximo_vecino=index_vecino\n",
    "            else: print('No hay cambio')\n",
    "        agente.politica.append(Agentes[maximo_vecino].politica[-1])\n",
    "    return Agentes"
   ]
  },
  {
   "cell_type": "code",
   "execution_count": 67,
   "metadata": {},
   "outputs": [],
   "source": [
    "def simulacion(Num_agentes, Num_iteraciones, UMBRAL, inicial, N, PARS):\n",
    "\n",
    "    agentes = crear_agentes_aleatorios(Num_agentes)\n",
    "\n",
    "    politicas = crear_politicas()\n",
    "\n",
    "\n",
    "    # Leyendo red de archivo\n",
    "    F.leer_red(agentes)\n",
    "\n",
    "    for i in range(Num_iteraciones):\n",
    "        agentes = F.juega_ronda(agentes, politicas, UMBRAL)\n",
    "        agentes = agentes_aprenden(agentes)\n",
    "\n",
    "    data = F.crea_dataframe_agentes(agentes, Num_iteraciones, PARS, N)\n",
    "    print(data[1:3])\n",
    "    data['Politica_lag'] = data.groupby('Agente')['Politica'].transform('shift', 1)\n",
    "    data['Consistencia'] = data.apply(lambda x : F.encontrar_consistencia (x['Politica'], x['Politica_lag']), axis=1)\n",
    "\n",
    "    # print(data.head())\n",
    "\n",
    "    F.guardar(data, 'agentes.csv', inicial)\n"
   ]
  },
  {
   "cell_type": "code",
   "execution_count": 68,
   "metadata": {},
   "outputs": [
    {
     "name": "stdout",
     "output_type": "stream",
     "text": [
      "0\n",
      "[]\n",
      "1\n",
      "[]\n",
      "2\n",
      "[]\n",
      "0\n",
      "[]\n",
      "1\n",
      "[]\n",
      "2\n",
      "[]\n",
      "   Identificador  Agente  Ronda  Estado  Puntaje  Politica  Parametro-0  \\\n",
      "1              0       0      1       0        0         2            3   \n",
      "2              0       1      0       1       -1         3            3   \n",
      "\n",
      "   Parametro-1  \n",
      "1            1  \n",
      "2            1  \n",
      "nan <class 'numpy.float64'>\n",
      "2.0 <class 'numpy.float64'>\n",
      "nan <class 'numpy.float64'>\n",
      "3.0 <class 'numpy.float64'>\n",
      "nan <class 'numpy.float64'>\n",
      "7.0 <class 'numpy.float64'>\n"
     ]
    }
   ],
   "source": [
    "simulacion(3, 2, 0.5, 1, 0, [3, 1])"
   ]
  },
  {
   "cell_type": "code",
   "execution_count": 69,
   "metadata": {},
   "outputs": [
    {
     "data": {
      "text/html": [
       "<div>\n",
       "<style scoped>\n",
       "    .dataframe tbody tr th:only-of-type {\n",
       "        vertical-align: middle;\n",
       "    }\n",
       "\n",
       "    .dataframe tbody tr th {\n",
       "        vertical-align: top;\n",
       "    }\n",
       "\n",
       "    .dataframe thead th {\n",
       "        text-align: right;\n",
       "    }\n",
       "</style>\n",
       "<table border=\"1\" class=\"dataframe\">\n",
       "  <thead>\n",
       "    <tr style=\"text-align: right;\">\n",
       "      <th></th>\n",
       "      <th>Identificador</th>\n",
       "      <th>Agente</th>\n",
       "      <th>Ronda</th>\n",
       "      <th>Estado</th>\n",
       "      <th>Puntaje</th>\n",
       "      <th>Politica</th>\n",
       "      <th>Parametro-0</th>\n",
       "      <th>Parametro-1</th>\n",
       "      <th>Politica_lag</th>\n",
       "      <th>Consistencia</th>\n",
       "    </tr>\n",
       "  </thead>\n",
       "  <tbody>\n",
       "    <tr>\n",
       "      <th>0</th>\n",
       "      <td>0</td>\n",
       "      <td>0</td>\n",
       "      <td>0</td>\n",
       "      <td>1</td>\n",
       "      <td>-1</td>\n",
       "      <td>2</td>\n",
       "      <td>3</td>\n",
       "      <td>1</td>\n",
       "      <td>NaN</td>\n",
       "      <td>NaN</td>\n",
       "    </tr>\n",
       "    <tr>\n",
       "      <th>1</th>\n",
       "      <td>0</td>\n",
       "      <td>0</td>\n",
       "      <td>1</td>\n",
       "      <td>0</td>\n",
       "      <td>0</td>\n",
       "      <td>2</td>\n",
       "      <td>3</td>\n",
       "      <td>1</td>\n",
       "      <td>2.0</td>\n",
       "      <td>1.0</td>\n",
       "    </tr>\n",
       "    <tr>\n",
       "      <th>2</th>\n",
       "      <td>0</td>\n",
       "      <td>1</td>\n",
       "      <td>0</td>\n",
       "      <td>1</td>\n",
       "      <td>-1</td>\n",
       "      <td>3</td>\n",
       "      <td>3</td>\n",
       "      <td>1</td>\n",
       "      <td>NaN</td>\n",
       "      <td>NaN</td>\n",
       "    </tr>\n",
       "    <tr>\n",
       "      <th>3</th>\n",
       "      <td>0</td>\n",
       "      <td>1</td>\n",
       "      <td>1</td>\n",
       "      <td>1</td>\n",
       "      <td>-1</td>\n",
       "      <td>3</td>\n",
       "      <td>3</td>\n",
       "      <td>1</td>\n",
       "      <td>3.0</td>\n",
       "      <td>1.0</td>\n",
       "    </tr>\n",
       "    <tr>\n",
       "      <th>4</th>\n",
       "      <td>0</td>\n",
       "      <td>2</td>\n",
       "      <td>0</td>\n",
       "      <td>1</td>\n",
       "      <td>-1</td>\n",
       "      <td>7</td>\n",
       "      <td>3</td>\n",
       "      <td>1</td>\n",
       "      <td>NaN</td>\n",
       "      <td>NaN</td>\n",
       "    </tr>\n",
       "    <tr>\n",
       "      <th>5</th>\n",
       "      <td>0</td>\n",
       "      <td>2</td>\n",
       "      <td>1</td>\n",
       "      <td>1</td>\n",
       "      <td>-1</td>\n",
       "      <td>7</td>\n",
       "      <td>3</td>\n",
       "      <td>1</td>\n",
       "      <td>7.0</td>\n",
       "      <td>1.0</td>\n",
       "    </tr>\n",
       "  </tbody>\n",
       "</table>\n",
       "</div>"
      ],
      "text/plain": [
       "   Identificador  Agente  Ronda  Estado  Puntaje  Politica  Parametro-0  \\\n",
       "0              0       0      0       1       -1         2            3   \n",
       "1              0       0      1       0        0         2            3   \n",
       "2              0       1      0       1       -1         3            3   \n",
       "3              0       1      1       1       -1         3            3   \n",
       "4              0       2      0       1       -1         7            3   \n",
       "5              0       2      1       1       -1         7            3   \n",
       "\n",
       "   Parametro-1  Politica_lag  Consistencia  \n",
       "0            1           NaN           NaN  \n",
       "1            1           2.0           1.0  \n",
       "2            1           NaN           NaN  \n",
       "3            1           3.0           1.0  \n",
       "4            1           NaN           NaN  \n",
       "5            1           7.0           1.0  "
      ]
     },
     "execution_count": 69,
     "metadata": {},
     "output_type": "execute_result"
    }
   ],
   "source": [
    "import copy\n",
    "\n",
    "# Comando para mostrar gráficos en notebook\n",
    "%matplotlib inline\n",
    "\n",
    "# Comando para leer a partir de datos\n",
    "data = pd.read_csv('agentes.csv')\n",
    "data.head(10)"
   ]
  },
  {
   "cell_type": "code",
   "execution_count": null,
   "metadata": {},
   "outputs": [],
   "source": []
  },
  {
   "cell_type": "markdown",
   "metadata": {},
   "source": [
    "Asistencia por ronda"
   ]
  },
  {
   "cell_type": "code",
   "execution_count": 70,
   "metadata": {},
   "outputs": [
    {
     "data": {
      "text/html": [
       "<div>\n",
       "<style scoped>\n",
       "    .dataframe tbody tr th:only-of-type {\n",
       "        vertical-align: middle;\n",
       "    }\n",
       "\n",
       "    .dataframe tbody tr th {\n",
       "        vertical-align: top;\n",
       "    }\n",
       "\n",
       "    .dataframe thead th {\n",
       "        text-align: right;\n",
       "    }\n",
       "</style>\n",
       "<table border=\"1\" class=\"dataframe\">\n",
       "  <thead>\n",
       "    <tr style=\"text-align: right;\">\n",
       "      <th></th>\n",
       "      <th>Asistencia</th>\n",
       "    </tr>\n",
       "    <tr>\n",
       "      <th>Ronda</th>\n",
       "      <th></th>\n",
       "    </tr>\n",
       "  </thead>\n",
       "  <tbody>\n",
       "    <tr>\n",
       "      <th>0</th>\n",
       "      <td>1.000000</td>\n",
       "    </tr>\n",
       "    <tr>\n",
       "      <th>1</th>\n",
       "      <td>0.666667</td>\n",
       "    </tr>\n",
       "  </tbody>\n",
       "</table>\n",
       "</div>"
      ],
      "text/plain": [
       "       Asistencia\n",
       "Ronda            \n",
       "0        1.000000\n",
       "1        0.666667"
      ]
     },
     "execution_count": 70,
     "metadata": {},
     "output_type": "execute_result"
    }
   ],
   "source": [
    "df1 = pd.DataFrame(data.groupby('Ronda')['Estado'].mean())\n",
    "df1.columns = ['Asistencia']\n",
    "df1.head(10)"
   ]
  },
  {
   "cell_type": "code",
   "execution_count": 71,
   "metadata": {},
   "outputs": [
    {
     "data": {
      "text/plain": [
       "<matplotlib.axes._subplots.AxesSubplot at 0x11e78d6d0>"
      ]
     },
     "execution_count": 71,
     "metadata": {},
     "output_type": "execute_result"
    },
    {
     "data": {
      "image/png": "[encoded data removed]",
      "text/plain": [
       "<Figure size 432x288 with 1 Axes>"
      ]
     },
     "metadata": {
      "needs_background": "light"
     },
     "output_type": "display_data"
    }
   ],
   "source": [
    "df1['Asistencia'].plot()"
   ]
  },
  {
   "cell_type": "markdown",
   "metadata": {},
   "source": [
    "Puntaje promedio que obtuvo cada política vs. ronda"
   ]
  },
  {
   "cell_type": "code",
   "execution_count": 72,
   "metadata": {},
   "outputs": [
    {
     "data": {
      "text/html": [
       "<div>\n",
       "<style scoped>\n",
       "    .dataframe tbody tr th:only-of-type {\n",
       "        vertical-align: middle;\n",
       "    }\n",
       "\n",
       "    .dataframe tbody tr th {\n",
       "        vertical-align: top;\n",
       "    }\n",
       "\n",
       "    .dataframe thead th {\n",
       "        text-align: right;\n",
       "    }\n",
       "</style>\n",
       "<table border=\"1\" class=\"dataframe\">\n",
       "  <thead>\n",
       "    <tr style=\"text-align: right;\">\n",
       "      <th></th>\n",
       "      <th>Ronda</th>\n",
       "      <th>Politica</th>\n",
       "      <th>Puntaje</th>\n",
       "    </tr>\n",
       "  </thead>\n",
       "  <tbody>\n",
       "    <tr>\n",
       "      <th>0</th>\n",
       "      <td>0</td>\n",
       "      <td>2</td>\n",
       "      <td>-1</td>\n",
       "    </tr>\n",
       "    <tr>\n",
       "      <th>1</th>\n",
       "      <td>0</td>\n",
       "      <td>3</td>\n",
       "      <td>-1</td>\n",
       "    </tr>\n",
       "    <tr>\n",
       "      <th>2</th>\n",
       "      <td>0</td>\n",
       "      <td>7</td>\n",
       "      <td>-1</td>\n",
       "    </tr>\n",
       "    <tr>\n",
       "      <th>3</th>\n",
       "      <td>1</td>\n",
       "      <td>2</td>\n",
       "      <td>0</td>\n",
       "    </tr>\n",
       "    <tr>\n",
       "      <th>4</th>\n",
       "      <td>1</td>\n",
       "      <td>3</td>\n",
       "      <td>-1</td>\n",
       "    </tr>\n",
       "    <tr>\n",
       "      <th>5</th>\n",
       "      <td>1</td>\n",
       "      <td>7</td>\n",
       "      <td>-1</td>\n",
       "    </tr>\n",
       "  </tbody>\n",
       "</table>\n",
       "</div>"
      ],
      "text/plain": [
       "   Ronda  Politica  Puntaje\n",
       "0      0         2       -1\n",
       "1      0         3       -1\n",
       "2      0         7       -1\n",
       "3      1         2        0\n",
       "4      1         3       -1\n",
       "5      1         7       -1"
      ]
     },
     "execution_count": 72,
     "metadata": {},
     "output_type": "execute_result"
    }
   ],
   "source": [
    "df = pd.DataFrame(data.groupby(['Ronda','Politica'])['Puntaje'].mean())\\\n",
    "                .reset_index()\n",
    "df.head(10)"
   ]
  },
  {
   "cell_type": "code",
   "execution_count": 75,
   "metadata": {},
   "outputs": [
    {
     "data": {
      "text/plain": [
       "Politica\n",
       "2    AxesSubplot(0.125,0.125;0.775x0.755)\n",
       "3    AxesSubplot(0.125,0.125;0.775x0.755)\n",
       "7    AxesSubplot(0.125,0.125;0.775x0.755)\n",
       "dtype: object"
      ]
     },
     "execution_count": 75,
     "metadata": {},
     "output_type": "execute_result"
    },
    {
     "data": {
      "image/png": "[encoded data removed]",
      "text/plain": [
       "<Figure size 432x288 with 1 Axes>"
      ]
     },
     "metadata": {
      "needs_background": "light"
     },
     "output_type": "display_data"
    }
   ],
   "source": [
    "fig, ax = plt.subplots()\n",
    "df.groupby('Politica').plot(x='Ronda', y='Puntaje', ax=ax)"
   ]
  },
  {
   "cell_type": "code",
   "execution_count": null,
   "metadata": {},
   "outputs": [],
   "source": []
  }
 ],
 "metadata": {
  "colab": {
   "name": "Untitled0.ipynb",
   "provenance": []
  },
  "kernelspec": {
   "display_name": "Python 3",
   "language": "python",
   "name": "python3"
  },
  "language_info": {
   "codemirror_mode": {
    "name": "ipython",
    "version": 3
   },
   "file_extension": ".py",
   "mimetype": "text/x-python",
   "name": "python",
   "nbconvert_exporter": "python",
   "pygments_lexer": "ipython3",
   "version": "3.7.7"
  }
 },
 "nbformat": 4,
 "nbformat_minor": 1
}
