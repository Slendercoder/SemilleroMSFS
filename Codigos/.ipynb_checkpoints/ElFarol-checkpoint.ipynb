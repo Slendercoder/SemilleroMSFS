{
 "cells": [
  {
   "cell_type": "markdown",
   "metadata": {
    "colab_type": "text",
    "id": "rhcWf_uIbAsK"
   },
   "source": [
    "# Simulación Modelo El Farol"
   ]
  },
  {
   "cell_type": "markdown",
   "metadata": {},
   "source": [
    "## Descripción del modelo"
   ]
  },
  {
   "cell_type": "markdown",
   "metadata": {
    "colab_type": "text",
    "id": "n4MuybMsbEZj"
   },
   "source": [
    "En el presente modelo se tiene una población de $N$ individuos, los cuales toman decisiones a lo largo de $k$ iteraciones. Cada individuo puede decidir si acudirá o no al bar llamado El Farol, tomando esta decisión de manera independiente a los demás agentes. \n",
    "\n",
    "![title](ElFarol1.jpeg)![title](ElFarol2.jpeg)\n",
    "\n",
    "Las decisiones en conjunto de todos los individuos de la población afectará la ganancia de cada uno de ellos. Si el total de acudientes supera un umbral $\\mu$, entonces El Farol se congestionará y los individuos que hayan ido al bar no tendrán una buena experiencia. Por otro lado, si el total de los acudientes no supera este umbral $\\mu$, entonces los individuos que hayan asistido podrán disfrutar su estadía en el bar. Adicionalmente, si el individuo no asiste al bar en una iteración dada será indiferente al estado de El Farol.\n",
    "\n",
    "En consecuencia, cada agente intentará tomar la mejor decisión posible en cada iteración, con respecto a asistir o no al bar. Para lograr esto, tendrá memoria de 1 iteración. Es decir, el agente recordará la decisión que tomó en la iteración inmediatamente anterior, y la ganancia que obtuvo de la misma. Así, cada individuo empleará de manera diferente esta información, siguiendo diferentes estrategias que pueden variar dependiendo del éxito o fracaso que experiencie el agente en un momento dado."
   ]
  },
  {
   "cell_type": "markdown",
   "metadata": {},
   "source": [
    "## Implementación en Python"
   ]
  },
  {
   "cell_type": "code",
   "execution_count": 1,
   "metadata": {},
   "outputs": [],
   "source": [
    "import pandas as pd\n",
    "import random as rd\n",
    "import numpy as np\n",
    "import matplotlib.pyplot as plt\n",
    "import redes\n",
    "import ElFarolFunciones as F\n",
    "import seaborn as sns"
   ]
  },
  {
   "cell_type": "markdown",
   "metadata": {},
   "source": [
    "#### AGENTES \n",
    "Los agentes que se simularán tendrán 4 atributos:\n",
    "\n",
    "**Estado**: Es la estrategia tomada por el agente y que puede ser ir al bar (1) o abstenerse de ir (0).\n",
    "\n",
    "**Puntaje:** Puntaje obtenido. Hay tres posibilidades:\n",
    "\n",
    "- **1** Si fue y la proporción de agentes que fueron fue menor que el $\\mu $ determinado ($\\mu=0.5$).\n",
    "- **0**, si decidió no ir.\n",
    "- **-1**, si fue y la proporción de agentes que fueron fue mayor que el $\\mu$ determinado ($\\mu=0.5$).\n",
    "\n",
    "**Politica**: Es la forma en que los agentes toman la decisión de actuar en la siguiente ronda dada la situación actual, en términos de su estado y puntaje.\n",
    "\n",
    "**Vecinos:** Los vecinos son los agentes conectados mediante la red. Son los únicos sobre los que un agente puede tener información, en términos de puntaje y política.\n",
    "\n",
    "La impementación en Python de estos atributos tiene la característica siguiente. Cada atributo se almacena como una lista, la cual guarda la información correspondiente por cada ronda. Esto es, por ejemplo, `agente.estado[0]` es el estado del agente en la primera ronda."
   ]
  },
  {
   "cell_type": "code",
   "execution_count": 2,
   "metadata": {
    "colab": {},
    "colab_type": "code",
    "id": "I2YA5E0BbIBZ"
   },
   "outputs": [],
   "source": [
    "class agente:\n",
    "    def __init__(self, estados, scores, politicas, vecinos):\n",
    "        self.estado = estados # lista\n",
    "        self.score = scores # lista\n",
    "        self.politica = politicas # lista\n",
    "        self.vecinos = vecinos\n",
    "\n",
    "    def __str__(self):\n",
    "        return \"E:{0}, S:{1}, P:{2}, V{3}\".format(self.estado, self.score,self.politica,self.vecinos)"
   ]
  },
  {
   "cell_type": "markdown",
   "metadata": {
    "colab_type": "text",
    "id": "wJ39jjcYbI1V"
   },
   "source": [
    "Utilizando la clase **agente** podemos generar agentes aleatorios creando objetos de esta clase a los que se les asigna un estado y una política al azar. Una vez conocido el estado inicial de todos los agentes, se procede a calcular la proporción de agentes que fueron al bar, mediante la función `calculamedio()`. Dependiendo de este resultado, se le asigna un puntaje a cada agente. Así pues, esta función recibe como parámetro el número de agentes que se quieren crear y retorna una lista con los agentes nuevos."
   ]
  },
  {
   "cell_type": "code",
   "execution_count": 3,
   "metadata": {
    "colab": {},
    "colab_type": "code",
    "id": "-3uUM9QUbK3-"
   },
   "outputs": [],
   "source": [
    "def crear_agentes_aleatorios(Num_agentes):\n",
    "    Agentes = []\n",
    "    for i in range(Num_agentes):\n",
    "        Agentes.append(agente([rd.randint(0,1)], [], [rd.randint(0,7)], []))\n",
    "\n",
    "    X = F.calcula_medio(Agentes)\n",
    "    \n",
    "    for a in Agentes:\n",
    "        if a.estado[-1] == 1:\n",
    "            if X > 0.5:\n",
    "                a.score.append(-1)\n",
    "            else:\n",
    "                a.score.append(1)\n",
    "        else:\n",
    "            a.score.append(0)\n",
    "\n",
    "    return Agentes"
   ]
  },
  {
   "cell_type": "markdown",
   "metadata": {
    "colab_type": "text",
    "id": "1YlaeeLDbLkM"
   },
   "source": [
    "Recordemos que las políticas representan la toma de decisiones de los agentes de la ronda $n$ a la ronda $n+1$. Para ello, cada agente consulta tanto la estrategia de la ronda $n$, como la recompensa obtenida. En nuestro modelo sólo hay tres posibles combinaciones de estrategias y recompensas, a saber:\n",
    "\n",
    "(no ir a El Farol, recompensa 0) \n",
    "(ir a El Farol, recompensa 1) \n",
    "(ir a El Farol, recompensa -1)\n",
    "\n",
    "Estas combinaciones se codifican de la siguiente manera, teniendo en cuenta que no ir al bar es 0 e ir es 1:\n",
    "\n",
    "(0, 0)  \n",
    "(1, 1)   \n",
    "(1, -1)\n",
    "\n",
    "Para cada combinación, el agente tiene dos opciones en la ronda $n+1$: ir o no ir. Esto nos da nueve políticas posibles."
   ]
  },
  {
   "cell_type": "code",
   "execution_count": 4,
   "metadata": {
    "colab": {},
    "colab_type": "code",
    "id": "73I5YcbubMeJ"
   },
   "outputs": [],
   "source": [
    "def crear_politicas():\n",
    "    politicas = [\n",
    "    {(0,0): 0, (1,1): 0, (1, -1): 0}, #0\n",
    "    {(0,0): 0, (1,1): 0, (1, -1): 1}, #1\n",
    "    {(0,0): 0, (1,1): 1, (1, -1): 0}, #2\n",
    "    {(0,0): 0, (1,1): 1, (1, -1): 1}, #3\n",
    "    {(0,0): 1, (1,1): 0, (1, -1): 0}, #4\n",
    "    {(0,0): 1, (1,1): 0, (1, -1): 1}, #5\n",
    "    {(0,0): 1, (1,1): 1, (1, -1): 0}, #6\n",
    "    {(0,0): 1, (1,1): 1, (1, -1): 1}, #7\n",
    "    ]\n",
    "    return politicas\n"
   ]
  },
  {
   "cell_type": "markdown",
   "metadata": {},
   "source": [
    "Si queremos que haya más interacción entre los agentes, se utiliza la \n",
    "función `agentes_aprenden` la cual recibe como parámetro la lista de\n",
    "agentes y compara el resultado de la última ronda con el de sus vecinos.\n",
    "Cada agente se acoge a la política del vecino con mayor puntaje, si nadie tiene\n",
    "un mejor puntaje continúa con la política que tenía."
   ]
  },
  {
   "cell_type": "code",
   "execution_count": 5,
   "metadata": {},
   "outputs": [],
   "source": [
    "def agentes_aprenden(Agentes, ronda):   \n",
    "    #Los agentes copian la politica del ganador de la Ronda\n",
    "    for agente in Agentes:\n",
    "        #print(Agentes.index(agente))\n",
    "        maximo=agente.score[ronda]\n",
    "        maximo_vecino=Agentes.index(agente)\n",
    "        #print(agente.vecinos)\n",
    "        for index_vecino in agente.vecinos:\n",
    "            if((Agentes[index_vecino].score[ronda])>(maximo)):\n",
    "                #print('Hay cambio')\n",
    "                #print('Puntaje anterior',maximo)\n",
    "                maximo=Agentes[index_vecino].score[ronda]\n",
    "                #print('Puntaje anterior vecino',maximo)\n",
    "                maximo_vecino=index_vecino\n",
    "            else: print('')\n",
    "                #print('No hay cambio')\n",
    "        agente.politica.append(Agentes[maximo_vecino].politica[ronda])\n",
    "    return Agentes"
   ]
  },
  {
   "cell_type": "code",
   "execution_count": 40,
   "metadata": {},
   "outputs": [],
   "source": [
    "Num_agentes = 4\n",
    "Num_iteraciones = 50\n",
    "TIPO_RED = 0 # COMPLETA\n",
    "PARS = [Num_agentes, 1]\n",
    "\n",
    "# Generando red a archivo\n",
    "if TIPO_RED == 0:\n",
    "    # print('---------')\n",
    "    # print('Parametros red:', PARS)\n",
    "    # print('---------')\n",
    "    redes.random_graph(*PARS)\n",
    "elif TIPO_RED == 1:\n",
    "    redes.small_world(*PARS)\n",
    "elif TIPO_RED == 2:\n",
    "    redes.scale_free(PARS[0], PARS[0]/4, PARS[0]/8, PARS[1]*0.6, PARS[1])"
   ]
  },
  {
   "cell_type": "markdown",
   "metadata": {},
   "source": [
    "DIBUJAR LA RED (igraph)"
   ]
  },
  {
   "cell_type": "code",
<<<<<<< HEAD
   "execution_count": 41,
=======
   "execution_count": 22,
>>>>>>> cc002e983dc268c8c615bca48ee13a6f8503980c
   "metadata": {},
   "outputs": [],
   "source": [
    "def simulacion(Num_agentes, Num_iteraciones, UMBRAL, inicial, N, PARS):\n",
    "\n",
    "    agentes = crear_agentes_aleatorios(Num_agentes)\n",
    "\n",
    "    politicas = crear_politicas()\n",
    "\n",
    "\n",
    "    # Leyendo red de archivo\n",
    "    F.leer_red(agentes)\n",
    "\n",
    "    for i in range(Num_iteraciones):\n",
    "        agentes = F.juega_ronda(agentes, politicas, UMBRAL)\n",
    "        agentes = agentes_aprenden(agentes, i)\n",
    "\n",
    "    data = F.crea_dataframe_agentes(agentes, Num_iteraciones, PARS, N)\n",
    "    data['Politica_lag'] = data.groupby('Agente')['Politica'].transform('shift', 1)\n",
    "    data['Consistencia'] = data.apply(lambda x : F.encontrar_consistencia (x['Politica'], x['Politica_lag']), axis=1)\n",
    "    F.guardar(data, 'agentes.csv', inicial)\n"
   ]
  },
  {
   "cell_type": "markdown",
   "metadata": {},
   "source": [
    "## Correr simulación"
   ]
  },
  {
   "cell_type": "code",
<<<<<<< HEAD
   "execution_count": 42,
=======
   "execution_count": 23,
>>>>>>> cc002e983dc268c8c615bca48ee13a6f8503980c
   "metadata": {},
   "outputs": [
    {
     "name": "stdout",
     "output_type": "stream",
     "text": [
      "\n",
      "\n",
      "\n",
      "\n",
      "\n",
      "\n",
      "\n",
      "\n",
      "\n",
      "\n",
      "\n",
      "\n",
      "\n",
      "\n",
      "\n",
      "\n",
      "\n",
      "\n",
      "\n",
      "\n",
      "\n",
      "\n",
      "\n",
      "\n",
      "\n",
      "\n",
      "\n",
      "\n",
      "\n",
      "\n",
      "\n",
      "\n",
      "\n",
      "\n",
      "\n",
      "\n",
      "\n",
      "\n",
      "\n",
      "\n",
      "\n",
      "\n",
      "\n",
      "\n",
      "\n",
      "\n",
      "\n",
      "\n",
      "\n",
      "\n",
      "\n",
      "\n",
      "\n",
      "\n",
      "\n",
      "\n",
      "\n",
      "\n",
      "\n",
      "\n",
      "\n",
      "\n",
      "\n",
      "\n",
      "\n",
      "\n",
      "\n",
      "\n",
      "\n",
      "\n",
      "\n",
      "\n",
      "\n",
      "\n",
      "\n",
      "\n",
      "\n",
      "\n",
      "\n",
      "\n",
      "\n",
      "\n",
      "\n",
      "\n",
      "\n",
      "\n",
      "\n",
      "\n",
      "\n",
      "\n",
      "\n",
      "\n",
      "\n",
      "\n",
      "\n",
      "\n",
      "\n",
      "\n",
      "\n",
      "\n",
      "\n",
      "\n",
      "\n",
      "\n",
      "\n",
      "\n",
      "\n",
      "\n",
      "\n",
      "\n",
      "\n",
      "\n",
      "\n",
      "\n",
      "\n",
      "\n",
      "\n",
      "\n",
      "\n",
      "\n",
      "\n",
      "\n",
      "\n",
      "\n",
      "\n",
      "\n",
      "\n",
      "\n",
      "\n",
      "\n",
      "\n",
      "\n",
      "\n",
      "\n",
      "\n",
      "\n",
      "\n",
      "\n",
      "\n",
      "\n",
      "\n",
      "\n",
      "\n",
      "\n",
      "\n",
      "\n",
      "\n",
      "\n",
      "\n",
      "\n",
      "\n",
      "\n",
      "\n",
      "\n",
      "\n",
      "\n",
      "\n",
      "\n",
      "\n",
      "\n",
      "\n",
      "\n",
      "\n",
      "\n",
      "\n",
      "\n",
      "\n",
      "\n",
      "\n",
      "\n",
      "\n",
      "\n",
      "\n",
      "\n",
      "\n",
      "\n",
      "\n",
      "\n",
      "\n",
      "\n",
      "\n",
      "\n",
      "\n",
      "\n",
      "\n",
      "\n",
      "\n",
      "\n",
      "\n",
      "\n",
      "\n",
      "\n",
      "\n",
      "\n",
      "\n",
      "\n",
      "\n",
      "\n",
      "\n",
      "\n",
      "\n",
      "\n",
      "\n",
      "\n",
      "\n",
      "\n",
      "\n",
      "\n",
      "\n",
      "\n",
      "\n",
      "\n",
      "\n",
      "\n",
      "\n",
      "\n",
      "\n",
      "\n",
      "\n",
      "\n",
      "\n",
      "\n",
      "\n",
      "\n",
      "\n",
      "\n",
      "\n",
      "\n",
      "\n",
      "\n",
      "\n",
      "\n",
      "\n",
      "\n",
      "\n",
      "\n",
      "\n",
      "\n",
      "\n",
      "\n",
      "\n",
      "\n",
      "\n",
      "\n",
      "\n",
      "\n",
      "\n",
      "\n",
      "\n",
      "\n",
      "\n",
      "\n",
      "\n",
      "\n",
      "\n",
      "\n",
      "\n",
      "\n",
      "\n",
      "\n",
      "\n",
      "\n",
      "\n",
      "\n",
      "\n",
      "\n",
      "\n",
      "\n",
      "\n",
      "\n",
      "\n",
      "\n",
      "\n",
      "\n",
      "\n",
      "\n",
      "\n",
      "\n",
      "\n",
      "\n",
      "\n",
      "\n",
      "\n",
      "\n",
      "\n",
      "\n",
      "\n",
      "\n",
      "\n",
      "\n",
      "\n",
      "\n",
      "\n",
      "\n",
      "\n",
      "\n",
      "\n",
      "\n",
      "\n",
      "\n",
      "\n",
      "\n",
      "\n",
      "\n",
      "\n",
      "\n",
      "\n",
      "\n",
      "\n",
      "\n",
      "\n",
      "\n",
      "\n",
      "\n",
      "\n",
      "\n",
      "\n",
      "\n",
      "\n",
      "\n",
      "\n",
      "\n",
      "\n",
      "\n",
      "\n",
      "\n",
      "\n",
      "\n",
      "\n",
      "\n",
      "\n",
      "\n",
      "\n",
      "\n",
      "\n",
      "\n",
      "\n",
      "\n",
      "\n",
      "\n",
      "\n",
      "\n",
      "\n",
      "\n",
      "\n",
      "\n",
      "\n",
      "\n",
      "\n",
      "\n",
      "\n",
      "\n",
      "\n",
      "\n",
      "\n",
      "\n",
      "\n",
      "\n",
      "\n",
      "\n",
      "\n",
      "\n",
      "\n",
      "\n",
      "\n",
      "\n",
      "\n",
      "\n",
      "\n",
      "\n",
      "\n",
      "\n",
      "\n",
      "\n",
      "\n",
      "\n",
      "\n",
      "\n",
      "\n",
      "\n",
      "\n",
      "\n",
      "\n",
      "\n",
      "\n",
      "\n",
      "\n",
      "\n",
      "\n",
      "\n",
      "\n",
      "\n",
      "\n",
      "\n",
      "\n",
      "\n",
      "\n",
      "\n",
      "\n",
      "\n",
      "\n",
      "\n",
      "\n",
      "\n",
      "\n",
      "\n",
      "\n",
      "\n",
      "\n",
      "\n",
      "\n",
      "\n",
      "\n",
      "\n",
      "\n",
      "\n",
      "\n",
      "\n",
      "\n",
      "\n",
      "\n",
      "\n",
      "\n",
      "\n",
      "\n",
      "\n",
      "\n",
      "\n",
      "\n",
      "\n",
      "\n",
      "\n",
      "\n",
      "\n",
      "\n",
      "\n",
      "\n",
      "\n",
      "\n",
      "\n",
      "\n",
      "\n",
      "\n",
      "\n",
      "\n",
      "\n",
      "\n",
      "\n",
      "\n",
      "\n",
      "\n",
      "\n",
      "\n",
      "\n",
      "\n",
      "\n",
      "\n",
      "\n",
      "\n",
      "\n",
      "\n",
      "\n",
      "\n",
      "\n",
      "\n",
      "\n",
      "\n",
      "\n",
      "\n",
      "\n",
      "\n",
      "\n",
      "\n",
      "\n",
      "\n",
      "\n",
      "\n",
      "\n",
      "\n",
      "\n",
      "\n",
      "\n",
      "\n",
      "\n",
      "\n",
      "\n",
      "\n",
      "\n",
      "\n",
      "\n",
      "\n",
      "\n",
      "\n",
      "\n",
      "\n",
      "\n",
      "\n",
      "\n",
      "\n",
      "\n",
      "\n",
      "\n",
      "\n",
      "\n",
      "\n",
      "\n",
      "\n",
      "\n",
      "\n",
      "\n",
      "\n",
      "\n",
      "\n",
      "\n",
      "\n",
      "\n",
      "\n",
      "\n",
      "\n",
      "\n",
      "\n",
      "\n",
      "\n",
      "\n",
      "\n",
      "\n",
      "\n",
      "\n",
      "\n",
      "\n",
      "\n",
      "\n",
      "\n",
      "\n",
      "\n",
      "\n",
      "\n",
      "\n",
      "\n",
      "\n",
      "\n",
      "\n",
      "\n",
      "\n",
      "\n",
      "\n",
      "\n",
      "\n",
      "\n",
      "\n",
      "\n",
      "\n",
      "\n",
      "\n",
      "\n",
      "\n",
      "\n",
      "\n",
      "\n",
      "\n",
      "\n",
      "\n",
      "\n",
      "\n",
      "\n",
      "\n",
      "\n",
      "\n",
      "\n",
      "\n",
      "\n",
      "\n",
      "\n",
      "\n",
      "\n",
      "\n",
      "\n",
      "\n",
      "\n",
      "\n",
      "\n",
      "\n",
      "\n",
      "\n",
      "\n",
      "\n",
      "\n",
      "\n",
      "\n",
      "\n",
      "\n",
      "\n",
      "\n",
<<<<<<< HEAD
      "\n",
      "\n",
      "\n",
=======
>>>>>>> cc002e983dc268c8c615bca48ee13a6f8503980c
      "\n"
     ]
    }
   ],
   "source": [
    "identificador = 0\n",
    "UMBRAL = 0.5\n",
    "inicial = True\n",
    "\n",
    "simulacion(\n",
    "        Num_agentes, \n",
    "        Num_iteraciones, \n",
    "        UMBRAL, \n",
    "        inicial, \n",
    "        identificador, \n",
    "        PARS\n",
    "    )\n",
    "\n"
   ]
  },
  {
   "cell_type": "code",
<<<<<<< HEAD
   "execution_count": 14,
=======
   "execution_count": 24,
>>>>>>> cc002e983dc268c8c615bca48ee13a6f8503980c
   "metadata": {},
   "outputs": [
    {
     "data": {
      "text/html": [
       "<div>\n",
       "<style scoped>\n",
       "    .dataframe tbody tr th:only-of-type {\n",
       "        vertical-align: middle;\n",
       "    }\n",
       "\n",
       "    .dataframe tbody tr th {\n",
       "        vertical-align: top;\n",
       "    }\n",
       "\n",
       "    .dataframe thead th {\n",
       "        text-align: right;\n",
       "    }\n",
       "</style>\n",
       "<table border=\"1\" class=\"dataframe\">\n",
       "  <thead>\n",
       "    <tr style=\"text-align: right;\">\n",
       "      <th></th>\n",
       "      <th>Identificador</th>\n",
       "      <th>Agente</th>\n",
       "      <th>Ronda</th>\n",
       "      <th>Estado</th>\n",
       "      <th>Puntaje</th>\n",
       "      <th>Politica</th>\n",
       "      <th>Parametro-0</th>\n",
       "      <th>Parametro-1</th>\n",
       "      <th>Politica_lag</th>\n",
       "      <th>Consistencia</th>\n",
       "    </tr>\n",
       "  </thead>\n",
       "  <tbody>\n",
       "    <tr>\n",
       "      <th>0</th>\n",
       "      <td>0</td>\n",
       "      <td>0</td>\n",
       "      <td>0</td>\n",
       "      <td>1</td>\n",
       "      <td>-1</td>\n",
<<<<<<< HEAD
       "      <td>3</td>\n",
=======
       "      <td>4</td>\n",
>>>>>>> cc002e983dc268c8c615bca48ee13a6f8503980c
       "      <td>4</td>\n",
       "      <td>1</td>\n",
       "      <td>NaN</td>\n",
       "      <td>NaN</td>\n",
       "    </tr>\n",
       "    <tr>\n",
       "      <th>1</th>\n",
       "      <td>0</td>\n",
       "      <td>0</td>\n",
       "      <td>1</td>\n",
       "      <td>1</td>\n",
       "      <td>-1</td>\n",
       "      <td>3</td>\n",
       "      <td>4</td>\n",
       "      <td>1</td>\n",
<<<<<<< HEAD
       "      <td>3.0</td>\n",
       "      <td>1.0</td>\n",
=======
       "      <td>4.0</td>\n",
       "      <td>0.0</td>\n",
>>>>>>> cc002e983dc268c8c615bca48ee13a6f8503980c
       "    </tr>\n",
       "    <tr>\n",
       "      <th>2</th>\n",
       "      <td>0</td>\n",
       "      <td>0</td>\n",
       "      <td>2</td>\n",
       "      <td>1</td>\n",
       "      <td>-1</td>\n",
<<<<<<< HEAD
       "      <td>3</td>\n",
       "      <td>4</td>\n",
       "      <td>1</td>\n",
       "      <td>3.0</td>\n",
=======
       "      <td>7</td>\n",
       "      <td>4</td>\n",
       "      <td>1</td>\n",
       "      <td>7.0</td>\n",
>>>>>>> cc002e983dc268c8c615bca48ee13a6f8503980c
       "      <td>1.0</td>\n",
       "    </tr>\n",
       "    <tr>\n",
       "      <th>3</th>\n",
       "      <td>0</td>\n",
       "      <td>0</td>\n",
       "      <td>3</td>\n",
       "      <td>1</td>\n",
       "      <td>-1</td>\n",
<<<<<<< HEAD
       "      <td>3</td>\n",
       "      <td>4</td>\n",
       "      <td>1</td>\n",
       "      <td>3.0</td>\n",
=======
       "      <td>7</td>\n",
       "      <td>4</td>\n",
       "      <td>1</td>\n",
       "      <td>7.0</td>\n",
>>>>>>> cc002e983dc268c8c615bca48ee13a6f8503980c
       "      <td>1.0</td>\n",
       "    </tr>\n",
       "    <tr>\n",
       "      <th>4</th>\n",
       "      <td>0</td>\n",
       "      <td>0</td>\n",
       "      <td>4</td>\n",
       "      <td>1</td>\n",
       "      <td>-1</td>\n",
<<<<<<< HEAD
       "      <td>3</td>\n",
       "      <td>4</td>\n",
       "      <td>1</td>\n",
       "      <td>3.0</td>\n",
=======
       "      <td>7</td>\n",
       "      <td>4</td>\n",
       "      <td>1</td>\n",
       "      <td>7.0</td>\n",
>>>>>>> cc002e983dc268c8c615bca48ee13a6f8503980c
       "      <td>1.0</td>\n",
       "    </tr>\n",
       "  </tbody>\n",
       "</table>\n",
       "</div>"
      ],
      "text/plain": [
       "   Identificador  Agente  Ronda  Estado  Puntaje  Politica  Parametro-0  \\\n",
<<<<<<< HEAD
       "0              0       0      0       1       -1         3            4   \n",
       "1              0       0      1       1       -1         3            4   \n",
       "2              0       0      2       1       -1         3            4   \n",
       "3              0       0      3       1       -1         3            4   \n",
       "4              0       0      4       1       -1         3            4   \n",
       "\n",
       "   Parametro-1  Politica_lag  Consistencia  \n",
       "0            1           NaN           NaN  \n",
       "1            1           3.0           1.0  \n",
       "2            1           3.0           1.0  \n",
       "3            1           3.0           1.0  \n",
       "4            1           3.0           1.0  "
      ]
     },
     "execution_count": 14,
=======
       "0              0       0      0       1       -1         4            4   \n",
       "1              0       0      1       0        0         7            4   \n",
       "2              0       0      2       1       -1         7            4   \n",
       "3              0       0      3       1       -1         7            4   \n",
       "4              0       0      4       1       -1         7            4   \n",
       "\n",
       "   Parametro-1  Politica_lag  Consistencia  \n",
       "0            1           NaN           NaN  \n",
       "1            1           4.0           0.0  \n",
       "2            1           7.0           1.0  \n",
       "3            1           7.0           1.0  \n",
       "4            1           7.0           1.0  "
      ]
     },
     "execution_count": 24,
>>>>>>> cc002e983dc268c8c615bca48ee13a6f8503980c
     "metadata": {},
     "output_type": "execute_result"
    }
   ],
   "source": [
    "import copy\n",
    "\n",
    "# Comando para mostrar gráficos en notebook\n",
    "%matplotlib inline\n",
    "\n",
    "# Comando para leer a partir de datos\n",
    "data = pd.read_csv('agentes.csv')\n",
    "data.head()"
   ]
  },
  {
   "cell_type": "markdown",
   "metadata": {},
   "source": [
    "####  Asistencia por ronda"
   ]
  },
  {
   "cell_type": "code",
<<<<<<< HEAD
   "execution_count": 15,
=======
   "execution_count": 25,
>>>>>>> cc002e983dc268c8c615bca48ee13a6f8503980c
   "metadata": {},
   "outputs": [
    {
     "data": {
      "text/html": [
       "<div>\n",
       "<style scoped>\n",
       "    .dataframe tbody tr th:only-of-type {\n",
       "        vertical-align: middle;\n",
       "    }\n",
       "\n",
       "    .dataframe tbody tr th {\n",
       "        vertical-align: top;\n",
       "    }\n",
       "\n",
       "    .dataframe thead th {\n",
       "        text-align: right;\n",
       "    }\n",
       "</style>\n",
       "<table border=\"1\" class=\"dataframe\">\n",
       "  <thead>\n",
       "    <tr style=\"text-align: right;\">\n",
       "      <th></th>\n",
       "      <th>Asistencia</th>\n",
       "    </tr>\n",
       "    <tr>\n",
       "      <th>Ronda</th>\n",
       "      <th></th>\n",
       "    </tr>\n",
       "  </thead>\n",
       "  <tbody>\n",
       "    <tr>\n",
       "      <th>0</th>\n",
       "      <td>75.0</td>\n",
       "    </tr>\n",
       "    <tr>\n",
       "      <th>1</th>\n",
<<<<<<< HEAD
       "      <td>100.0</td>\n",
=======
       "      <td>25.0</td>\n",
>>>>>>> cc002e983dc268c8c615bca48ee13a6f8503980c
       "    </tr>\n",
       "    <tr>\n",
       "      <th>2</th>\n",
       "      <td>100.0</td>\n",
       "    </tr>\n",
       "    <tr>\n",
       "      <th>3</th>\n",
       "      <td>100.0</td>\n",
       "    </tr>\n",
       "    <tr>\n",
       "      <th>4</th>\n",
       "      <td>100.0</td>\n",
       "    </tr>\n",
       "  </tbody>\n",
       "</table>\n",
       "</div>"
      ],
      "text/plain": [
       "       Asistencia\n",
       "Ronda            \n",
       "0            75.0\n",
<<<<<<< HEAD
       "1           100.0\n",
=======
       "1            25.0\n",
>>>>>>> cc002e983dc268c8c615bca48ee13a6f8503980c
       "2           100.0\n",
       "3           100.0\n",
       "4           100.0"
      ]
     },
<<<<<<< HEAD
     "execution_count": 15,
=======
     "execution_count": 25,
>>>>>>> cc002e983dc268c8c615bca48ee13a6f8503980c
     "metadata": {},
     "output_type": "execute_result"
    }
   ],
   "source": [
    "df1 = pd.DataFrame(data.groupby('Ronda')['Estado'].mean())\n",
    "df1.columns = ['Asistencia']\n",
    "df1['Asistencia'] = df1['Asistencia'] * 100\n",
    "df1.head()"
   ]
  },
  {
   "cell_type": "code",
<<<<<<< HEAD
   "execution_count": 16,
=======
   "execution_count": 26,
>>>>>>> cc002e983dc268c8c615bca48ee13a6f8503980c
   "metadata": {},
   "outputs": [
    {
     "data": {
      "text/plain": [
<<<<<<< HEAD
       "<matplotlib.axes._subplots.AxesSubplot at 0x23313784e48>"
      ]
     },
     "execution_count": 16,
=======
       "<matplotlib.axes._subplots.AxesSubplot at 0x1a84a3370b8>"
      ]
     },
     "execution_count": 26,
>>>>>>> cc002e983dc268c8c615bca48ee13a6f8503980c
     "metadata": {},
     "output_type": "execute_result"
    },
    {
     "data": {
<<<<<<< HEAD
      "image/png": "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\n",
=======
      "image/png": "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\n",
>>>>>>> cc002e983dc268c8c615bca48ee13a6f8503980c
      "text/plain": [
       "<Figure size 432x288 with 1 Axes>"
      ]
     },
     "metadata": {
      "needs_background": "light"
     },
     "output_type": "display_data"
    }
   ],
   "source": [
    "plt.ylabel('Asistencia (%)')\n",
    "plt.ylim(0,100)\n",
    "plt.title('Asistencia a El Farol por ronda')\n",
    "df1['Asistencia'].plot()"
   ]
  },
  {
   "cell_type": "markdown",
   "metadata": {},
   "source": [
    "####  Puntaje promedio que obtuvo cada política vs. ronda"
   ]
  },
  {
   "cell_type": "code",
<<<<<<< HEAD
   "execution_count": 17,
=======
   "execution_count": 27,
>>>>>>> cc002e983dc268c8c615bca48ee13a6f8503980c
   "metadata": {},
   "outputs": [
    {
     "data": {
      "text/html": [
       "<div>\n",
       "<style scoped>\n",
       "    .dataframe tbody tr th:only-of-type {\n",
       "        vertical-align: middle;\n",
       "    }\n",
       "\n",
       "    .dataframe tbody tr th {\n",
       "        vertical-align: top;\n",
       "    }\n",
       "\n",
       "    .dataframe thead th {\n",
       "        text-align: right;\n",
       "    }\n",
       "</style>\n",
       "<table border=\"1\" class=\"dataframe\">\n",
       "  <thead>\n",
       "    <tr style=\"text-align: right;\">\n",
       "      <th></th>\n",
       "      <th>Ronda</th>\n",
       "      <th>Politica</th>\n",
       "      <th>Puntaje</th>\n",
       "    </tr>\n",
       "  </thead>\n",
       "  <tbody>\n",
       "    <tr>\n",
       "      <th>0</th>\n",
       "      <td>0</td>\n",
<<<<<<< HEAD
       "      <td>1</td>\n",
       "      <td>-1</td>\n",
=======
       "      <td>4</td>\n",
       "      <td>-1.00</td>\n",
>>>>>>> cc002e983dc268c8c615bca48ee13a6f8503980c
       "    </tr>\n",
       "    <tr>\n",
       "      <th>1</th>\n",
       "      <td>0</td>\n",
<<<<<<< HEAD
       "      <td>3</td>\n",
       "      <td>-1</td>\n",
=======
       "      <td>6</td>\n",
       "      <td>-1.00</td>\n",
>>>>>>> cc002e983dc268c8c615bca48ee13a6f8503980c
       "    </tr>\n",
       "    <tr>\n",
       "      <th>2</th>\n",
       "      <td>0</td>\n",
<<<<<<< HEAD
       "      <td>5</td>\n",
       "      <td>0</td>\n",
=======
       "      <td>7</td>\n",
       "      <td>0.00</td>\n",
>>>>>>> cc002e983dc268c8c615bca48ee13a6f8503980c
       "    </tr>\n",
       "    <tr>\n",
       "      <th>3</th>\n",
       "      <td>1</td>\n",
<<<<<<< HEAD
       "      <td>1</td>\n",
       "      <td>-1</td>\n",
       "    </tr>\n",
       "    <tr>\n",
       "      <th>4</th>\n",
       "      <td>1</td>\n",
       "      <td>3</td>\n",
       "      <td>-1</td>\n",
=======
       "      <td>7</td>\n",
       "      <td>0.25</td>\n",
       "    </tr>\n",
       "    <tr>\n",
       "      <th>4</th>\n",
       "      <td>2</td>\n",
       "      <td>7</td>\n",
       "      <td>-1.00</td>\n",
>>>>>>> cc002e983dc268c8c615bca48ee13a6f8503980c
       "    </tr>\n",
       "  </tbody>\n",
       "</table>\n",
       "</div>"
      ],
      "text/plain": [
       "   Ronda  Politica  Puntaje\n",
<<<<<<< HEAD
       "0      0         1       -1\n",
       "1      0         3       -1\n",
       "2      0         5        0\n",
       "3      1         1       -1\n",
       "4      1         3       -1"
      ]
     },
     "execution_count": 17,
=======
       "0      0         4    -1.00\n",
       "1      0         6    -1.00\n",
       "2      0         7     0.00\n",
       "3      1         7     0.25\n",
       "4      2         7    -1.00"
      ]
     },
     "execution_count": 27,
>>>>>>> cc002e983dc268c8c615bca48ee13a6f8503980c
     "metadata": {},
     "output_type": "execute_result"
    }
   ],
   "source": [
    "df = pd.DataFrame(data.groupby(['Ronda','Politica'])['Puntaje'].mean())\\\n",
    "                .reset_index()\n",
    "df.head()"
   ]
  },
  {
   "cell_type": "code",
<<<<<<< HEAD
   "execution_count": 18,
=======
   "execution_count": 28,
>>>>>>> cc002e983dc268c8c615bca48ee13a6f8503980c
   "metadata": {},
   "outputs": [
    {
     "data": {
      "text/plain": [
       "Text(0, 0.5, 'Puntaje Promedio')"
      ]
     },
<<<<<<< HEAD
     "execution_count": 18,
=======
     "execution_count": 28,
>>>>>>> cc002e983dc268c8c615bca48ee13a6f8503980c
     "metadata": {},
     "output_type": "execute_result"
    },
    {
     "data": {
<<<<<<< HEAD
      "image/png": "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\n",
=======
      "image/png": "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\n",
>>>>>>> cc002e983dc268c8c615bca48ee13a6f8503980c
      "text/plain": [
       "<Figure size 432x288 with 1 Axes>"
      ]
     },
     "metadata": {
      "needs_background": "light"
     },
     "output_type": "display_data"
    }
   ],
   "source": [
    "fig, ax = plt.subplots()\n",
    "for label,group in df.groupby('Politica'):\n",
    "    group.plot(x='Ronda', y='Puntaje', ax=ax,label=label)\n",
    "plt.ylabel(\"Puntaje Promedio\")"
   ]
  },
  {
   "cell_type": "markdown",
   "metadata": {},
   "source": [
    "#### Uso Politicas"
   ]
  },
  {
   "cell_type": "code",
<<<<<<< HEAD
   "execution_count": 55,
=======
   "execution_count": 29,
>>>>>>> cc002e983dc268c8c615bca48ee13a6f8503980c
   "metadata": {},
   "outputs": [
    {
     "data": {
      "text/html": [
       "<div>\n",
       "<style scoped>\n",
       "    .dataframe tbody tr th:only-of-type {\n",
       "        vertical-align: middle;\n",
       "    }\n",
       "\n",
       "    .dataframe tbody tr th {\n",
       "        vertical-align: top;\n",
       "    }\n",
       "\n",
       "    .dataframe thead th {\n",
       "        text-align: right;\n",
       "    }\n",
       "</style>\n",
       "<table border=\"1\" class=\"dataframe\">\n",
       "  <thead>\n",
       "    <tr style=\"text-align: right;\">\n",
       "      <th></th>\n",
       "      <th>Ronda</th>\n",
       "      <th>Politica</th>\n",
       "      <th>num_agentes</th>\n",
       "    </tr>\n",
       "  </thead>\n",
       "  <tbody>\n",
       "    <tr>\n",
       "      <th>0</th>\n",
       "      <td>0</td>\n",
<<<<<<< HEAD
       "      <td>1</td>\n",
       "      <td>1</td>\n",
=======
       "      <td>4</td>\n",
       "      <td>2</td>\n",
>>>>>>> cc002e983dc268c8c615bca48ee13a6f8503980c
       "    </tr>\n",
       "    <tr>\n",
       "      <th>1</th>\n",
       "      <td>0</td>\n",
<<<<<<< HEAD
       "      <td>3</td>\n",
       "      <td>2</td>\n",
=======
       "      <td>6</td>\n",
       "      <td>1</td>\n",
>>>>>>> cc002e983dc268c8c615bca48ee13a6f8503980c
       "    </tr>\n",
       "    <tr>\n",
       "      <th>2</th>\n",
       "      <td>0</td>\n",
<<<<<<< HEAD
       "      <td>5</td>\n",
=======
       "      <td>7</td>\n",
>>>>>>> cc002e983dc268c8c615bca48ee13a6f8503980c
       "      <td>1</td>\n",
       "    </tr>\n",
       "    <tr>\n",
       "      <th>3</th>\n",
       "      <td>1</td>\n",
<<<<<<< HEAD
       "      <td>1</td>\n",
       "      <td>1</td>\n",
       "    </tr>\n",
       "    <tr>\n",
       "      <th>4</th>\n",
       "      <td>1</td>\n",
       "      <td>3</td>\n",
       "      <td>2</td>\n",
=======
       "      <td>7</td>\n",
       "      <td>4</td>\n",
       "    </tr>\n",
       "    <tr>\n",
       "      <th>4</th>\n",
       "      <td>2</td>\n",
       "      <td>7</td>\n",
       "      <td>4</td>\n",
>>>>>>> cc002e983dc268c8c615bca48ee13a6f8503980c
       "    </tr>\n",
       "  </tbody>\n",
       "</table>\n",
       "</div>"
      ],
      "text/plain": [
       "   Ronda  Politica  num_agentes\n",
<<<<<<< HEAD
       "0      0         1            1\n",
       "1      0         3            2\n",
       "2      0         5            1\n",
       "3      1         1            1\n",
       "4      1         3            2"
      ]
     },
     "execution_count": 55,
=======
       "0      0         4            2\n",
       "1      0         6            1\n",
       "2      0         7            1\n",
       "3      1         7            4\n",
       "4      2         7            4"
      ]
     },
     "execution_count": 29,
>>>>>>> cc002e983dc268c8c615bca48ee13a6f8503980c
     "metadata": {},
     "output_type": "execute_result"
    }
   ],
   "source": [
    "df = pd.DataFrame(data.groupby(['Ronda','Politica'])['Agente'].count()).reset_index()\n",
    "df.columns = ['Ronda', 'Politica', 'num_agentes']\n",
    "df.head()"
   ]
  },
  {
   "cell_type": "code",
<<<<<<< HEAD
   "execution_count": 45,
=======
   "execution_count": 30,
>>>>>>> cc002e983dc268c8c615bca48ee13a6f8503980c
   "metadata": {},
   "outputs": [
    {
     "data": {
      "text/html": [
       "<div>\n",
       "<style scoped>\n",
       "    .dataframe tbody tr th:only-of-type {\n",
       "        vertical-align: middle;\n",
       "    }\n",
       "\n",
       "    .dataframe tbody tr th {\n",
       "        vertical-align: top;\n",
       "    }\n",
       "\n",
       "    .dataframe thead th {\n",
       "        text-align: right;\n",
       "    }\n",
       "</style>\n",
       "<table border=\"1\" class=\"dataframe\">\n",
       "  <thead>\n",
       "    <tr style=\"text-align: right;\">\n",
       "      <th>Politica</th>\n",
       "      <th>Ronda</th>\n",
<<<<<<< HEAD
       "      <th>1</th>\n",
       "      <th>3</th>\n",
       "      <th>5</th>\n",
=======
       "      <th>4</th>\n",
       "      <th>6</th>\n",
       "      <th>7</th>\n",
>>>>>>> cc002e983dc268c8c615bca48ee13a6f8503980c
       "    </tr>\n",
       "  </thead>\n",
       "  <tbody>\n",
       "    <tr>\n",
       "      <th>49</th>\n",
       "      <td>49</td>\n",
<<<<<<< HEAD
       "      <td>1</td>\n",
       "      <td>2</td>\n",
       "      <td>1</td>\n",
=======
       "      <td>NaN</td>\n",
       "      <td>NaN</td>\n",
       "      <td>4.0</td>\n",
>>>>>>> cc002e983dc268c8c615bca48ee13a6f8503980c
       "    </tr>\n",
       "    <tr>\n",
       "      <th>48</th>\n",
       "      <td>48</td>\n",
<<<<<<< HEAD
       "      <td>1</td>\n",
       "      <td>2</td>\n",
       "      <td>1</td>\n",
=======
       "      <td>NaN</td>\n",
       "      <td>NaN</td>\n",
       "      <td>4.0</td>\n",
>>>>>>> cc002e983dc268c8c615bca48ee13a6f8503980c
       "    </tr>\n",
       "    <tr>\n",
       "      <th>47</th>\n",
       "      <td>47</td>\n",
<<<<<<< HEAD
       "      <td>1</td>\n",
       "      <td>2</td>\n",
       "      <td>1</td>\n",
=======
       "      <td>NaN</td>\n",
       "      <td>NaN</td>\n",
       "      <td>4.0</td>\n",
>>>>>>> cc002e983dc268c8c615bca48ee13a6f8503980c
       "    </tr>\n",
       "    <tr>\n",
       "      <th>46</th>\n",
       "      <td>46</td>\n",
<<<<<<< HEAD
       "      <td>1</td>\n",
       "      <td>2</td>\n",
       "      <td>1</td>\n",
=======
       "      <td>NaN</td>\n",
       "      <td>NaN</td>\n",
       "      <td>4.0</td>\n",
>>>>>>> cc002e983dc268c8c615bca48ee13a6f8503980c
       "    </tr>\n",
       "    <tr>\n",
       "      <th>45</th>\n",
       "      <td>45</td>\n",
<<<<<<< HEAD
       "      <td>1</td>\n",
       "      <td>2</td>\n",
       "      <td>1</td>\n",
=======
       "      <td>NaN</td>\n",
       "      <td>NaN</td>\n",
       "      <td>4.0</td>\n",
>>>>>>> cc002e983dc268c8c615bca48ee13a6f8503980c
       "    </tr>\n",
       "  </tbody>\n",
       "</table>\n",
       "</div>"
      ],
      "text/plain": [
<<<<<<< HEAD
       "Politica  Ronda  1  3  5\n",
       "49           49  1  2  1\n",
       "48           48  1  2  1\n",
       "47           47  1  2  1\n",
       "46           46  1  2  1\n",
       "45           45  1  2  1"
      ]
     },
     "execution_count": 45,
=======
       "Politica  Ronda   4   6    7\n",
       "49           49 NaN NaN  4.0\n",
       "48           48 NaN NaN  4.0\n",
       "47           47 NaN NaN  4.0\n",
       "46           46 NaN NaN  4.0\n",
       "45           45 NaN NaN  4.0"
      ]
     },
     "execution_count": 30,
>>>>>>> cc002e983dc268c8c615bca48ee13a6f8503980c
     "metadata": {},
     "output_type": "execute_result"
    }
   ],
   "source": [
    "uso_politica = pd.pivot_table(\n",
    "    data=df,\n",
    "    index='Ronda',\n",
    "    values='num_agentes',\n",
    "    columns='Politica',\n",
    "    aggfunc='sum'\n",
    ").reset_index()\n",
    "\n",
    "#uso_politica.index.names=['index']\n",
    "#del uso_politica['Politica']\n",
    "#uso_politica.columns = ['Ronda', '0', '1', '2', '3', '4', '5', '6', '7']\n",
    "#uso_politica = uso_politica.iloc[:-1]\n",
    "#uso_politica['Ronda'] = uso_politica['Ronda'].apply(lambda x: int(x))\n",
    "uso_politica = uso_politica.sort_values(by='Ronda',ascending=False)\n",
    "uso_politica.head()"
   ]
  },
  {
   "cell_type": "code",
<<<<<<< HEAD
   "execution_count": 23,
=======
   "execution_count": 31,
>>>>>>> cc002e983dc268c8c615bca48ee13a6f8503980c
   "metadata": {},
   "outputs": [
    {
     "data": {
      "text/html": [
       "<div>\n",
       "<style scoped>\n",
       "    .dataframe tbody tr th:only-of-type {\n",
       "        vertical-align: middle;\n",
       "    }\n",
       "\n",
       "    .dataframe tbody tr th {\n",
       "        vertical-align: top;\n",
       "    }\n",
       "\n",
       "    .dataframe thead th {\n",
       "        text-align: right;\n",
       "    }\n",
       "</style>\n",
       "<table border=\"1\" class=\"dataframe\">\n",
       "  <thead>\n",
       "    <tr style=\"text-align: right;\">\n",
       "      <th>Politica</th>\n",
<<<<<<< HEAD
       "      <th>1</th>\n",
       "      <th>3</th>\n",
       "      <th>5</th>\n",
=======
       "      <th>4</th>\n",
       "      <th>6</th>\n",
       "      <th>7</th>\n",
>>>>>>> cc002e983dc268c8c615bca48ee13a6f8503980c
       "    </tr>\n",
       "    <tr>\n",
       "      <th>Ronda</th>\n",
       "      <th></th>\n",
       "      <th></th>\n",
       "      <th></th>\n",
       "    </tr>\n",
       "  </thead>\n",
       "  <tbody>\n",
       "    <tr>\n",
       "      <th>49</th>\n",
<<<<<<< HEAD
       "      <td>1</td>\n",
       "      <td>2</td>\n",
       "      <td>1</td>\n",
       "    </tr>\n",
       "    <tr>\n",
       "      <th>48</th>\n",
       "      <td>1</td>\n",
       "      <td>2</td>\n",
       "      <td>1</td>\n",
       "    </tr>\n",
       "    <tr>\n",
       "      <th>47</th>\n",
       "      <td>1</td>\n",
       "      <td>2</td>\n",
       "      <td>1</td>\n",
       "    </tr>\n",
       "    <tr>\n",
       "      <th>46</th>\n",
       "      <td>1</td>\n",
       "      <td>2</td>\n",
       "      <td>1</td>\n",
       "    </tr>\n",
       "    <tr>\n",
       "      <th>45</th>\n",
       "      <td>1</td>\n",
       "      <td>2</td>\n",
       "      <td>1</td>\n",
=======
       "      <td>NaN</td>\n",
       "      <td>NaN</td>\n",
       "      <td>4.0</td>\n",
       "    </tr>\n",
       "    <tr>\n",
       "      <th>48</th>\n",
       "      <td>NaN</td>\n",
       "      <td>NaN</td>\n",
       "      <td>4.0</td>\n",
       "    </tr>\n",
       "    <tr>\n",
       "      <th>47</th>\n",
       "      <td>NaN</td>\n",
       "      <td>NaN</td>\n",
       "      <td>4.0</td>\n",
       "    </tr>\n",
       "    <tr>\n",
       "      <th>46</th>\n",
       "      <td>NaN</td>\n",
       "      <td>NaN</td>\n",
       "      <td>4.0</td>\n",
       "    </tr>\n",
       "    <tr>\n",
       "      <th>45</th>\n",
       "      <td>NaN</td>\n",
       "      <td>NaN</td>\n",
       "      <td>4.0</td>\n",
>>>>>>> cc002e983dc268c8c615bca48ee13a6f8503980c
       "    </tr>\n",
       "  </tbody>\n",
       "</table>\n",
       "</div>"
      ],
      "text/plain": [
<<<<<<< HEAD
       "Politica  1  3  5\n",
       "Ronda            \n",
       "49        1  2  1\n",
       "48        1  2  1\n",
       "47        1  2  1\n",
       "46        1  2  1\n",
       "45        1  2  1"
      ]
     },
     "execution_count": 23,
=======
       "Politica   4   6    7\n",
       "Ronda                \n",
       "49       NaN NaN  4.0\n",
       "48       NaN NaN  4.0\n",
       "47       NaN NaN  4.0\n",
       "46       NaN NaN  4.0\n",
       "45       NaN NaN  4.0"
      ]
     },
     "execution_count": 31,
>>>>>>> cc002e983dc268c8c615bca48ee13a6f8503980c
     "metadata": {},
     "output_type": "execute_result"
    }
   ],
   "source": [
    "uso_politica = uso_politica.set_index('Ronda')\n",
    "uso_politica.head()"
   ]
  },
  {
   "cell_type": "code",
<<<<<<< HEAD
   "execution_count": 24,
=======
   "execution_count": 32,
>>>>>>> cc002e983dc268c8c615bca48ee13a6f8503980c
   "metadata": {},
   "outputs": [
    {
     "data": {
<<<<<<< HEAD
      "image/png": "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\n",
=======
      "image/png": "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\n",
>>>>>>> cc002e983dc268c8c615bca48ee13a6f8503980c
      "text/plain": [
       "<Figure size 432x288 with 2 Axes>"
      ]
     },
     "metadata": {
      "needs_background": "light"
     },
     "output_type": "display_data"
    }
   ],
   "source": [
    "ax = sns.heatmap(uso_politica)"
   ]
  },
  {
   "cell_type": "code",
<<<<<<< HEAD
   "execution_count": 57,
=======
   "execution_count": 33,
>>>>>>> cc002e983dc268c8c615bca48ee13a6f8503980c
   "metadata": {},
   "outputs": [
    {
     "data": {
      "text/plain": [
<<<<<<< HEAD
       "<matplotlib.axes._subplots.AxesSubplot at 0x23314c2fc18>"
      ]
     },
     "execution_count": 57,
=======
       "<matplotlib.axes._subplots.AxesSubplot at 0x1a84a529400>"
      ]
     },
     "execution_count": 33,
>>>>>>> cc002e983dc268c8c615bca48ee13a6f8503980c
     "metadata": {},
     "output_type": "execute_result"
    },
    {
     "data": {
<<<<<<< HEAD
      "image/png": "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\n",
=======
      "image/png": "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\n",
>>>>>>> cc002e983dc268c8c615bca48ee13a6f8503980c
      "text/plain": [
       "<Figure size 864x360 with 2 Axes>"
      ]
     },
     "metadata": {
      "needs_background": "light"
     },
     "output_type": "display_data"
    }
   ],
   "source": [
    "fig, ax = plt.subplots(1,2,figsize = (12,5))\n",
    "for label,group in df.groupby('Politica'):\n",
    "    group.plot(x='Ronda', y='num_agentes', ax=ax[0],label=label)\n",
    "ax[0].set_ylim([0,Num_agentes+1])\n",
    "ax[0].set_title('Uso de política por ronda')\n",
    "df1 = pd.DataFrame(data.groupby('Politica')['Agente'].count())\n",
    "df1.columns = ['Agentes']\n",
    "#ax[1].plot(df.index, df['Agentes'])\n",
    "df1.plot(kind=\"bar\", ax = ax[1])"
   ]
  },
  {
   "cell_type": "markdown",
   "metadata": {},
   "source": [
    "#### Consistencia Individual"
   ]
  },
  {
   "cell_type": "code",
   "execution_count": 61,
   "metadata": {},
   "outputs": [
    {
     "data": {
      "text/html": [
       "<div>\n",
       "<style scoped>\n",
       "    .dataframe tbody tr th:only-of-type {\n",
       "        vertical-align: middle;\n",
       "    }\n",
       "\n",
       "    .dataframe tbody tr th {\n",
       "        vertical-align: top;\n",
       "    }\n",
       "\n",
       "    .dataframe thead th {\n",
       "        text-align: right;\n",
       "    }\n",
       "</style>\n",
       "<table border=\"1\" class=\"dataframe\">\n",
       "  <thead>\n",
       "    <tr style=\"text-align: right;\">\n",
       "      <th></th>\n",
       "      <th>Identificador</th>\n",
       "      <th>Agente</th>\n",
       "      <th>Ronda</th>\n",
       "      <th>Estado</th>\n",
       "      <th>Puntaje</th>\n",
       "      <th>Politica</th>\n",
       "      <th>Parametro-0</th>\n",
       "      <th>Parametro-1</th>\n",
       "      <th>Politica_lag</th>\n",
       "      <th>Consistencia</th>\n",
       "    </tr>\n",
       "  </thead>\n",
       "  <tbody>\n",
       "    <tr>\n",
       "      <th>0</th>\n",
       "      <td>0</td>\n",
       "      <td>0</td>\n",
       "      <td>0</td>\n",
       "      <td>1</td>\n",
       "      <td>-1</td>\n",
       "      <td>3</td>\n",
       "      <td>4</td>\n",
       "      <td>1</td>\n",
       "      <td>NaN</td>\n",
       "      <td>NaN</td>\n",
       "    </tr>\n",
       "    <tr>\n",
       "      <th>1</th>\n",
       "      <td>0</td>\n",
       "      <td>0</td>\n",
       "      <td>1</td>\n",
       "      <td>1</td>\n",
       "      <td>-1</td>\n",
       "      <td>3</td>\n",
       "      <td>4</td>\n",
       "      <td>1</td>\n",
       "      <td>3.0</td>\n",
       "      <td>1.0</td>\n",
       "    </tr>\n",
       "    <tr>\n",
       "      <th>2</th>\n",
       "      <td>0</td>\n",
       "      <td>0</td>\n",
       "      <td>2</td>\n",
       "      <td>1</td>\n",
       "      <td>-1</td>\n",
       "      <td>3</td>\n",
       "      <td>4</td>\n",
       "      <td>1</td>\n",
       "      <td>3.0</td>\n",
       "      <td>1.0</td>\n",
       "    </tr>\n",
       "    <tr>\n",
       "      <th>3</th>\n",
       "      <td>0</td>\n",
       "      <td>0</td>\n",
       "      <td>3</td>\n",
       "      <td>1</td>\n",
       "      <td>-1</td>\n",
       "      <td>3</td>\n",
       "      <td>4</td>\n",
       "      <td>1</td>\n",
       "      <td>3.0</td>\n",
       "      <td>1.0</td>\n",
       "    </tr>\n",
       "    <tr>\n",
       "      <th>4</th>\n",
       "      <td>0</td>\n",
       "      <td>0</td>\n",
       "      <td>4</td>\n",
       "      <td>1</td>\n",
       "      <td>-1</td>\n",
       "      <td>3</td>\n",
       "      <td>4</td>\n",
       "      <td>1</td>\n",
       "      <td>3.0</td>\n",
       "      <td>1.0</td>\n",
       "    </tr>\n",
       "    <tr>\n",
       "      <th>...</th>\n",
       "      <td>...</td>\n",
       "      <td>...</td>\n",
       "      <td>...</td>\n",
       "      <td>...</td>\n",
       "      <td>...</td>\n",
       "      <td>...</td>\n",
       "      <td>...</td>\n",
       "      <td>...</td>\n",
       "      <td>...</td>\n",
       "      <td>...</td>\n",
       "    </tr>\n",
       "    <tr>\n",
       "      <th>195</th>\n",
       "      <td>0</td>\n",
       "      <td>3</td>\n",
       "      <td>45</td>\n",
       "      <td>1</td>\n",
       "      <td>-1</td>\n",
       "      <td>3</td>\n",
       "      <td>4</td>\n",
       "      <td>1</td>\n",
       "      <td>3.0</td>\n",
       "      <td>1.0</td>\n",
       "    </tr>\n",
       "    <tr>\n",
       "      <th>196</th>\n",
       "      <td>0</td>\n",
       "      <td>3</td>\n",
       "      <td>46</td>\n",
       "      <td>1</td>\n",
       "      <td>-1</td>\n",
       "      <td>3</td>\n",
       "      <td>4</td>\n",
       "      <td>1</td>\n",
       "      <td>3.0</td>\n",
       "      <td>1.0</td>\n",
       "    </tr>\n",
       "    <tr>\n",
       "      <th>197</th>\n",
       "      <td>0</td>\n",
       "      <td>3</td>\n",
       "      <td>47</td>\n",
       "      <td>1</td>\n",
       "      <td>-1</td>\n",
       "      <td>3</td>\n",
       "      <td>4</td>\n",
       "      <td>1</td>\n",
       "      <td>3.0</td>\n",
       "      <td>1.0</td>\n",
       "    </tr>\n",
       "    <tr>\n",
       "      <th>198</th>\n",
       "      <td>0</td>\n",
       "      <td>3</td>\n",
       "      <td>48</td>\n",
       "      <td>1</td>\n",
       "      <td>-1</td>\n",
       "      <td>3</td>\n",
       "      <td>4</td>\n",
       "      <td>1</td>\n",
       "      <td>3.0</td>\n",
       "      <td>1.0</td>\n",
       "    </tr>\n",
       "    <tr>\n",
       "      <th>199</th>\n",
       "      <td>0</td>\n",
       "      <td>3</td>\n",
       "      <td>49</td>\n",
       "      <td>1</td>\n",
       "      <td>-1</td>\n",
       "      <td>3</td>\n",
       "      <td>4</td>\n",
       "      <td>1</td>\n",
       "      <td>3.0</td>\n",
       "      <td>1.0</td>\n",
       "    </tr>\n",
       "  </tbody>\n",
       "</table>\n",
       "<p>200 rows × 10 columns</p>\n",
       "</div>"
      ],
      "text/plain": [
       "     Identificador  Agente  Ronda  Estado  Puntaje  Politica  Parametro-0  \\\n",
       "0                0       0      0       1       -1         3            4   \n",
       "1                0       0      1       1       -1         3            4   \n",
       "2                0       0      2       1       -1         3            4   \n",
       "3                0       0      3       1       -1         3            4   \n",
       "4                0       0      4       1       -1         3            4   \n",
       "..             ...     ...    ...     ...      ...       ...          ...   \n",
       "195              0       3     45       1       -1         3            4   \n",
       "196              0       3     46       1       -1         3            4   \n",
       "197              0       3     47       1       -1         3            4   \n",
       "198              0       3     48       1       -1         3            4   \n",
       "199              0       3     49       1       -1         3            4   \n",
       "\n",
       "     Parametro-1  Politica_lag  Consistencia  \n",
       "0              1           NaN           NaN  \n",
       "1              1           3.0           1.0  \n",
       "2              1           3.0           1.0  \n",
       "3              1           3.0           1.0  \n",
       "4              1           3.0           1.0  \n",
       "..           ...           ...           ...  \n",
       "195            1           3.0           1.0  \n",
       "196            1           3.0           1.0  \n",
       "197            1           3.0           1.0  \n",
       "198            1           3.0           1.0  \n",
       "199            1           3.0           1.0  \n",
       "\n",
       "[200 rows x 10 columns]"
      ]
     },
     "execution_count": 61,
     "metadata": {},
     "output_type": "execute_result"
    }
   ],
   "source": [
    "df= data\n",
    "df"
   ]
  },
  {
   "cell_type": "code",
<<<<<<< HEAD
   "execution_count": 58,
   "metadata": {},
   "outputs": [
    {
     "ename": "KeyError",
     "evalue": "'Puntaje'",
     "output_type": "error",
     "traceback": [
      "\u001b[1;31m---------------------------------------------------------------------------\u001b[0m",
      "\u001b[1;31mKeyError\u001b[0m                                  Traceback (most recent call last)",
      "\u001b[1;32m~\\Anaconda3\\lib\\site-packages\\pandas\\core\\indexes\\base.py\u001b[0m in \u001b[0;36mget_loc\u001b[1;34m(self, key, method, tolerance)\u001b[0m\n\u001b[0;32m   2645\u001b[0m             \u001b[1;32mtry\u001b[0m\u001b[1;33m:\u001b[0m\u001b[1;33m\u001b[0m\u001b[1;33m\u001b[0m\u001b[0m\n\u001b[1;32m-> 2646\u001b[1;33m                 \u001b[1;32mreturn\u001b[0m \u001b[0mself\u001b[0m\u001b[1;33m.\u001b[0m\u001b[0m_engine\u001b[0m\u001b[1;33m.\u001b[0m\u001b[0mget_loc\u001b[0m\u001b[1;33m(\u001b[0m\u001b[0mkey\u001b[0m\u001b[1;33m)\u001b[0m\u001b[1;33m\u001b[0m\u001b[1;33m\u001b[0m\u001b[0m\n\u001b[0m\u001b[0;32m   2647\u001b[0m             \u001b[1;32mexcept\u001b[0m \u001b[0mKeyError\u001b[0m\u001b[1;33m:\u001b[0m\u001b[1;33m\u001b[0m\u001b[1;33m\u001b[0m\u001b[0m\n",
      "\u001b[1;32mpandas\\_libs\\index.pyx\u001b[0m in \u001b[0;36mpandas._libs.index.IndexEngine.get_loc\u001b[1;34m()\u001b[0m\n",
      "\u001b[1;32mpandas\\_libs\\index.pyx\u001b[0m in \u001b[0;36mpandas._libs.index.IndexEngine.get_loc\u001b[1;34m()\u001b[0m\n",
      "\u001b[1;32mpandas\\_libs\\hashtable_class_helper.pxi\u001b[0m in \u001b[0;36mpandas._libs.hashtable.PyObjectHashTable.get_item\u001b[1;34m()\u001b[0m\n",
      "\u001b[1;32mpandas\\_libs\\hashtable_class_helper.pxi\u001b[0m in \u001b[0;36mpandas._libs.hashtable.PyObjectHashTable.get_item\u001b[1;34m()\u001b[0m\n",
      "\u001b[1;31mKeyError\u001b[0m: 'Puntaje'",
      "\nDuring handling of the above exception, another exception occurred:\n",
      "\u001b[1;31mKeyError\u001b[0m                                  Traceback (most recent call last)",
      "\u001b[1;32m<ipython-input-58-ddd2fb8249c9>\u001b[0m in \u001b[0;36m<module>\u001b[1;34m\u001b[0m\n\u001b[1;32m----> 1\u001b[1;33m \u001b[0mdf\u001b[0m\u001b[1;33m.\u001b[0m\u001b[0mplot\u001b[0m\u001b[1;33m.\u001b[0m\u001b[0mscatter\u001b[0m\u001b[1;33m(\u001b[0m\u001b[0mx\u001b[0m\u001b[1;33m=\u001b[0m\u001b[1;34m'Puntaje'\u001b[0m\u001b[1;33m,\u001b[0m\u001b[0my\u001b[0m\u001b[1;33m=\u001b[0m\u001b[1;34m'Consistencia'\u001b[0m\u001b[1;33m)\u001b[0m\u001b[1;33m\u001b[0m\u001b[1;33m\u001b[0m\u001b[0m\n\u001b[0m\u001b[0;32m      2\u001b[0m \u001b[0mplt\u001b[0m\u001b[1;33m.\u001b[0m\u001b[0mxlim\u001b[0m\u001b[1;33m(\u001b[0m\u001b[1;33m-\u001b[0m\u001b[1;36m1.1\u001b[0m\u001b[1;33m,\u001b[0m\u001b[1;36m1.1\u001b[0m\u001b[1;33m)\u001b[0m\u001b[1;33m\u001b[0m\u001b[1;33m\u001b[0m\u001b[0m\n",
      "\u001b[1;32m~\\Anaconda3\\lib\\site-packages\\pandas\\plotting\\_core.py\u001b[0m in \u001b[0;36mscatter\u001b[1;34m(self, x, y, s, c, **kwargs)\u001b[0m\n\u001b[0;32m   1497\u001b[0m             ...                       colormap='viridis')\n\u001b[0;32m   1498\u001b[0m         \"\"\"\n\u001b[1;32m-> 1499\u001b[1;33m         \u001b[1;32mreturn\u001b[0m \u001b[0mself\u001b[0m\u001b[1;33m(\u001b[0m\u001b[0mkind\u001b[0m\u001b[1;33m=\u001b[0m\u001b[1;34m\"scatter\"\u001b[0m\u001b[1;33m,\u001b[0m \u001b[0mx\u001b[0m\u001b[1;33m=\u001b[0m\u001b[0mx\u001b[0m\u001b[1;33m,\u001b[0m \u001b[0my\u001b[0m\u001b[1;33m=\u001b[0m\u001b[0my\u001b[0m\u001b[1;33m,\u001b[0m \u001b[0ms\u001b[0m\u001b[1;33m=\u001b[0m\u001b[0ms\u001b[0m\u001b[1;33m,\u001b[0m \u001b[0mc\u001b[0m\u001b[1;33m=\u001b[0m\u001b[0mc\u001b[0m\u001b[1;33m,\u001b[0m \u001b[1;33m**\u001b[0m\u001b[0mkwargs\u001b[0m\u001b[1;33m)\u001b[0m\u001b[1;33m\u001b[0m\u001b[1;33m\u001b[0m\u001b[0m\n\u001b[0m\u001b[0;32m   1500\u001b[0m \u001b[1;33m\u001b[0m\u001b[0m\n\u001b[0;32m   1501\u001b[0m     \u001b[1;32mdef\u001b[0m \u001b[0mhexbin\u001b[0m\u001b[1;33m(\u001b[0m\u001b[0mself\u001b[0m\u001b[1;33m,\u001b[0m \u001b[0mx\u001b[0m\u001b[1;33m,\u001b[0m \u001b[0my\u001b[0m\u001b[1;33m,\u001b[0m \u001b[0mC\u001b[0m\u001b[1;33m=\u001b[0m\u001b[1;32mNone\u001b[0m\u001b[1;33m,\u001b[0m \u001b[0mreduce_C_function\u001b[0m\u001b[1;33m=\u001b[0m\u001b[1;32mNone\u001b[0m\u001b[1;33m,\u001b[0m \u001b[0mgridsize\u001b[0m\u001b[1;33m=\u001b[0m\u001b[1;32mNone\u001b[0m\u001b[1;33m,\u001b[0m \u001b[1;33m**\u001b[0m\u001b[0mkwargs\u001b[0m\u001b[1;33m)\u001b[0m\u001b[1;33m:\u001b[0m\u001b[1;33m\u001b[0m\u001b[1;33m\u001b[0m\u001b[0m\n",
      "\u001b[1;32m~\\Anaconda3\\lib\\site-packages\\pandas\\plotting\\_core.py\u001b[0m in \u001b[0;36m__call__\u001b[1;34m(self, *args, **kwargs)\u001b[0m\n\u001b[0;32m    790\u001b[0m         \u001b[1;32mif\u001b[0m \u001b[0mkind\u001b[0m \u001b[1;32min\u001b[0m \u001b[0mself\u001b[0m\u001b[1;33m.\u001b[0m\u001b[0m_dataframe_kinds\u001b[0m\u001b[1;33m:\u001b[0m\u001b[1;33m\u001b[0m\u001b[1;33m\u001b[0m\u001b[0m\n\u001b[0;32m    791\u001b[0m             \u001b[1;32mif\u001b[0m \u001b[0misinstance\u001b[0m\u001b[1;33m(\u001b[0m\u001b[0mdata\u001b[0m\u001b[1;33m,\u001b[0m \u001b[0mABCDataFrame\u001b[0m\u001b[1;33m)\u001b[0m\u001b[1;33m:\u001b[0m\u001b[1;33m\u001b[0m\u001b[1;33m\u001b[0m\u001b[0m\n\u001b[1;32m--> 792\u001b[1;33m                 \u001b[1;32mreturn\u001b[0m \u001b[0mplot_backend\u001b[0m\u001b[1;33m.\u001b[0m\u001b[0mplot\u001b[0m\u001b[1;33m(\u001b[0m\u001b[0mdata\u001b[0m\u001b[1;33m,\u001b[0m \u001b[0mx\u001b[0m\u001b[1;33m=\u001b[0m\u001b[0mx\u001b[0m\u001b[1;33m,\u001b[0m \u001b[0my\u001b[0m\u001b[1;33m=\u001b[0m\u001b[0my\u001b[0m\u001b[1;33m,\u001b[0m \u001b[0mkind\u001b[0m\u001b[1;33m=\u001b[0m\u001b[0mkind\u001b[0m\u001b[1;33m,\u001b[0m \u001b[1;33m**\u001b[0m\u001b[0mkwargs\u001b[0m\u001b[1;33m)\u001b[0m\u001b[1;33m\u001b[0m\u001b[1;33m\u001b[0m\u001b[0m\n\u001b[0m\u001b[0;32m    793\u001b[0m             \u001b[1;32melse\u001b[0m\u001b[1;33m:\u001b[0m\u001b[1;33m\u001b[0m\u001b[1;33m\u001b[0m\u001b[0m\n\u001b[0;32m    794\u001b[0m                 \u001b[1;32mraise\u001b[0m \u001b[0mValueError\u001b[0m\u001b[1;33m(\u001b[0m\u001b[1;34mf\"plot kind {kind} can only be used for data frames\"\u001b[0m\u001b[1;33m)\u001b[0m\u001b[1;33m\u001b[0m\u001b[1;33m\u001b[0m\u001b[0m\n",
      "\u001b[1;32m~\\Anaconda3\\lib\\site-packages\\pandas\\plotting\\_matplotlib\\__init__.py\u001b[0m in \u001b[0;36mplot\u001b[1;34m(data, kind, **kwargs)\u001b[0m\n\u001b[0;32m     59\u001b[0m             \u001b[0mkwargs\u001b[0m\u001b[1;33m[\u001b[0m\u001b[1;34m\"ax\"\u001b[0m\u001b[1;33m]\u001b[0m \u001b[1;33m=\u001b[0m \u001b[0mgetattr\u001b[0m\u001b[1;33m(\u001b[0m\u001b[0max\u001b[0m\u001b[1;33m,\u001b[0m \u001b[1;34m\"left_ax\"\u001b[0m\u001b[1;33m,\u001b[0m \u001b[0max\u001b[0m\u001b[1;33m)\u001b[0m\u001b[1;33m\u001b[0m\u001b[1;33m\u001b[0m\u001b[0m\n\u001b[0;32m     60\u001b[0m     \u001b[0mplot_obj\u001b[0m \u001b[1;33m=\u001b[0m \u001b[0mPLOT_CLASSES\u001b[0m\u001b[1;33m[\u001b[0m\u001b[0mkind\u001b[0m\u001b[1;33m]\u001b[0m\u001b[1;33m(\u001b[0m\u001b[0mdata\u001b[0m\u001b[1;33m,\u001b[0m \u001b[1;33m**\u001b[0m\u001b[0mkwargs\u001b[0m\u001b[1;33m)\u001b[0m\u001b[1;33m\u001b[0m\u001b[1;33m\u001b[0m\u001b[0m\n\u001b[1;32m---> 61\u001b[1;33m     \u001b[0mplot_obj\u001b[0m\u001b[1;33m.\u001b[0m\u001b[0mgenerate\u001b[0m\u001b[1;33m(\u001b[0m\u001b[1;33m)\u001b[0m\u001b[1;33m\u001b[0m\u001b[1;33m\u001b[0m\u001b[0m\n\u001b[0m\u001b[0;32m     62\u001b[0m     \u001b[0mplot_obj\u001b[0m\u001b[1;33m.\u001b[0m\u001b[0mdraw\u001b[0m\u001b[1;33m(\u001b[0m\u001b[1;33m)\u001b[0m\u001b[1;33m\u001b[0m\u001b[1;33m\u001b[0m\u001b[0m\n\u001b[0;32m     63\u001b[0m     \u001b[1;32mreturn\u001b[0m \u001b[0mplot_obj\u001b[0m\u001b[1;33m.\u001b[0m\u001b[0mresult\u001b[0m\u001b[1;33m\u001b[0m\u001b[1;33m\u001b[0m\u001b[0m\n",
      "\u001b[1;32m~\\Anaconda3\\lib\\site-packages\\pandas\\plotting\\_matplotlib\\core.py\u001b[0m in \u001b[0;36mgenerate\u001b[1;34m(self)\u001b[0m\n\u001b[0;32m    261\u001b[0m         \u001b[0mself\u001b[0m\u001b[1;33m.\u001b[0m\u001b[0m_compute_plot_data\u001b[0m\u001b[1;33m(\u001b[0m\u001b[1;33m)\u001b[0m\u001b[1;33m\u001b[0m\u001b[1;33m\u001b[0m\u001b[0m\n\u001b[0;32m    262\u001b[0m         \u001b[0mself\u001b[0m\u001b[1;33m.\u001b[0m\u001b[0m_setup_subplots\u001b[0m\u001b[1;33m(\u001b[0m\u001b[1;33m)\u001b[0m\u001b[1;33m\u001b[0m\u001b[1;33m\u001b[0m\u001b[0m\n\u001b[1;32m--> 263\u001b[1;33m         \u001b[0mself\u001b[0m\u001b[1;33m.\u001b[0m\u001b[0m_make_plot\u001b[0m\u001b[1;33m(\u001b[0m\u001b[1;33m)\u001b[0m\u001b[1;33m\u001b[0m\u001b[1;33m\u001b[0m\u001b[0m\n\u001b[0m\u001b[0;32m    264\u001b[0m         \u001b[0mself\u001b[0m\u001b[1;33m.\u001b[0m\u001b[0m_add_table\u001b[0m\u001b[1;33m(\u001b[0m\u001b[1;33m)\u001b[0m\u001b[1;33m\u001b[0m\u001b[1;33m\u001b[0m\u001b[0m\n\u001b[0;32m    265\u001b[0m         \u001b[0mself\u001b[0m\u001b[1;33m.\u001b[0m\u001b[0m_make_legend\u001b[0m\u001b[1;33m(\u001b[0m\u001b[1;33m)\u001b[0m\u001b[1;33m\u001b[0m\u001b[1;33m\u001b[0m\u001b[0m\n",
      "\u001b[1;32m~\\Anaconda3\\lib\\site-packages\\pandas\\plotting\\_matplotlib\\core.py\u001b[0m in \u001b[0;36m_make_plot\u001b[1;34m(self)\u001b[0m\n\u001b[0;32m    968\u001b[0m             \u001b[0mlabel\u001b[0m \u001b[1;33m=\u001b[0m \u001b[1;32mNone\u001b[0m\u001b[1;33m\u001b[0m\u001b[1;33m\u001b[0m\u001b[0m\n\u001b[0;32m    969\u001b[0m         scatter = ax.scatter(\n\u001b[1;32m--> 970\u001b[1;33m             \u001b[0mdata\u001b[0m\u001b[1;33m[\u001b[0m\u001b[0mx\u001b[0m\u001b[1;33m]\u001b[0m\u001b[1;33m.\u001b[0m\u001b[0mvalues\u001b[0m\u001b[1;33m,\u001b[0m\u001b[1;33m\u001b[0m\u001b[1;33m\u001b[0m\u001b[0m\n\u001b[0m\u001b[0;32m    971\u001b[0m             \u001b[0mdata\u001b[0m\u001b[1;33m[\u001b[0m\u001b[0my\u001b[0m\u001b[1;33m]\u001b[0m\u001b[1;33m.\u001b[0m\u001b[0mvalues\u001b[0m\u001b[1;33m,\u001b[0m\u001b[1;33m\u001b[0m\u001b[1;33m\u001b[0m\u001b[0m\n\u001b[0;32m    972\u001b[0m             \u001b[0mc\u001b[0m\u001b[1;33m=\u001b[0m\u001b[0mc_values\u001b[0m\u001b[1;33m,\u001b[0m\u001b[1;33m\u001b[0m\u001b[1;33m\u001b[0m\u001b[0m\n",
      "\u001b[1;32m~\\Anaconda3\\lib\\site-packages\\pandas\\core\\frame.py\u001b[0m in \u001b[0;36m__getitem__\u001b[1;34m(self, key)\u001b[0m\n\u001b[0;32m   2798\u001b[0m             \u001b[1;32mif\u001b[0m \u001b[0mself\u001b[0m\u001b[1;33m.\u001b[0m\u001b[0mcolumns\u001b[0m\u001b[1;33m.\u001b[0m\u001b[0mnlevels\u001b[0m \u001b[1;33m>\u001b[0m \u001b[1;36m1\u001b[0m\u001b[1;33m:\u001b[0m\u001b[1;33m\u001b[0m\u001b[1;33m\u001b[0m\u001b[0m\n\u001b[0;32m   2799\u001b[0m                 \u001b[1;32mreturn\u001b[0m \u001b[0mself\u001b[0m\u001b[1;33m.\u001b[0m\u001b[0m_getitem_multilevel\u001b[0m\u001b[1;33m(\u001b[0m\u001b[0mkey\u001b[0m\u001b[1;33m)\u001b[0m\u001b[1;33m\u001b[0m\u001b[1;33m\u001b[0m\u001b[0m\n\u001b[1;32m-> 2800\u001b[1;33m             \u001b[0mindexer\u001b[0m \u001b[1;33m=\u001b[0m \u001b[0mself\u001b[0m\u001b[1;33m.\u001b[0m\u001b[0mcolumns\u001b[0m\u001b[1;33m.\u001b[0m\u001b[0mget_loc\u001b[0m\u001b[1;33m(\u001b[0m\u001b[0mkey\u001b[0m\u001b[1;33m)\u001b[0m\u001b[1;33m\u001b[0m\u001b[1;33m\u001b[0m\u001b[0m\n\u001b[0m\u001b[0;32m   2801\u001b[0m             \u001b[1;32mif\u001b[0m \u001b[0mis_integer\u001b[0m\u001b[1;33m(\u001b[0m\u001b[0mindexer\u001b[0m\u001b[1;33m)\u001b[0m\u001b[1;33m:\u001b[0m\u001b[1;33m\u001b[0m\u001b[1;33m\u001b[0m\u001b[0m\n\u001b[0;32m   2802\u001b[0m                 \u001b[0mindexer\u001b[0m \u001b[1;33m=\u001b[0m \u001b[1;33m[\u001b[0m\u001b[0mindexer\u001b[0m\u001b[1;33m]\u001b[0m\u001b[1;33m\u001b[0m\u001b[1;33m\u001b[0m\u001b[0m\n",
      "\u001b[1;32m~\\Anaconda3\\lib\\site-packages\\pandas\\core\\indexes\\base.py\u001b[0m in \u001b[0;36mget_loc\u001b[1;34m(self, key, method, tolerance)\u001b[0m\n\u001b[0;32m   2646\u001b[0m                 \u001b[1;32mreturn\u001b[0m \u001b[0mself\u001b[0m\u001b[1;33m.\u001b[0m\u001b[0m_engine\u001b[0m\u001b[1;33m.\u001b[0m\u001b[0mget_loc\u001b[0m\u001b[1;33m(\u001b[0m\u001b[0mkey\u001b[0m\u001b[1;33m)\u001b[0m\u001b[1;33m\u001b[0m\u001b[1;33m\u001b[0m\u001b[0m\n\u001b[0;32m   2647\u001b[0m             \u001b[1;32mexcept\u001b[0m \u001b[0mKeyError\u001b[0m\u001b[1;33m:\u001b[0m\u001b[1;33m\u001b[0m\u001b[1;33m\u001b[0m\u001b[0m\n\u001b[1;32m-> 2648\u001b[1;33m                 \u001b[1;32mreturn\u001b[0m \u001b[0mself\u001b[0m\u001b[1;33m.\u001b[0m\u001b[0m_engine\u001b[0m\u001b[1;33m.\u001b[0m\u001b[0mget_loc\u001b[0m\u001b[1;33m(\u001b[0m\u001b[0mself\u001b[0m\u001b[1;33m.\u001b[0m\u001b[0m_maybe_cast_indexer\u001b[0m\u001b[1;33m(\u001b[0m\u001b[0mkey\u001b[0m\u001b[1;33m)\u001b[0m\u001b[1;33m)\u001b[0m\u001b[1;33m\u001b[0m\u001b[1;33m\u001b[0m\u001b[0m\n\u001b[0m\u001b[0;32m   2649\u001b[0m         \u001b[0mindexer\u001b[0m \u001b[1;33m=\u001b[0m \u001b[0mself\u001b[0m\u001b[1;33m.\u001b[0m\u001b[0mget_indexer\u001b[0m\u001b[1;33m(\u001b[0m\u001b[1;33m[\u001b[0m\u001b[0mkey\u001b[0m\u001b[1;33m]\u001b[0m\u001b[1;33m,\u001b[0m \u001b[0mmethod\u001b[0m\u001b[1;33m=\u001b[0m\u001b[0mmethod\u001b[0m\u001b[1;33m,\u001b[0m \u001b[0mtolerance\u001b[0m\u001b[1;33m=\u001b[0m\u001b[0mtolerance\u001b[0m\u001b[1;33m)\u001b[0m\u001b[1;33m\u001b[0m\u001b[1;33m\u001b[0m\u001b[0m\n\u001b[0;32m   2650\u001b[0m         \u001b[1;32mif\u001b[0m \u001b[0mindexer\u001b[0m\u001b[1;33m.\u001b[0m\u001b[0mndim\u001b[0m \u001b[1;33m>\u001b[0m \u001b[1;36m1\u001b[0m \u001b[1;32mor\u001b[0m \u001b[0mindexer\u001b[0m\u001b[1;33m.\u001b[0m\u001b[0msize\u001b[0m \u001b[1;33m>\u001b[0m \u001b[1;36m1\u001b[0m\u001b[1;33m:\u001b[0m\u001b[1;33m\u001b[0m\u001b[1;33m\u001b[0m\u001b[0m\n",
      "\u001b[1;32mpandas\\_libs\\index.pyx\u001b[0m in \u001b[0;36mpandas._libs.index.IndexEngine.get_loc\u001b[1;34m()\u001b[0m\n",
      "\u001b[1;32mpandas\\_libs\\index.pyx\u001b[0m in \u001b[0;36mpandas._libs.index.IndexEngine.get_loc\u001b[1;34m()\u001b[0m\n",
      "\u001b[1;32mpandas\\_libs\\hashtable_class_helper.pxi\u001b[0m in \u001b[0;36mpandas._libs.hashtable.PyObjectHashTable.get_item\u001b[1;34m()\u001b[0m\n",
      "\u001b[1;32mpandas\\_libs\\hashtable_class_helper.pxi\u001b[0m in \u001b[0;36mpandas._libs.hashtable.PyObjectHashTable.get_item\u001b[1;34m()\u001b[0m\n",
      "\u001b[1;31mKeyError\u001b[0m: 'Puntaje'"
     ]
    },
    {
     "data": {
      "image/png": "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\n",
=======
   "execution_count": 62,
   "metadata": {},
   "outputs": [
    {
     "data": {
      "text/plain": [
       "(-1.1, 1.1)"
      ]
     },
     "execution_count": 62,
     "metadata": {},
     "output_type": "execute_result"
    },
    {
     "data": {
      "image/png": "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\n",
>>>>>>> cc002e983dc268c8c615bca48ee13a6f8503980c
      "text/plain": [
       "<Figure size 432x288 with 1 Axes>"
      ]
     },
     "metadata": {
      "needs_background": "light"
     },
     "output_type": "display_data"
    }
   ],
   "source": [
    "df.plot.scatter(x='Puntaje',y='Consistencia')\n",
    "plt.xlim(-1.1,1.1)"
   ]
  },
  {
   "cell_type": "code",
   "execution_count": null,
   "metadata": {},
   "outputs": [],
   "source": []
  }
 ],
 "metadata": {
  "colab": {
   "name": "Untitled0.ipynb",
   "provenance": []
  },
  "kernelspec": {
   "display_name": "Python 3",
   "language": "python",
   "name": "python3"
  },
  "language_info": {
   "codemirror_mode": {
    "name": "ipython",
    "version": 3
   },
   "file_extension": ".py",
   "mimetype": "text/x-python",
   "name": "python",
   "nbconvert_exporter": "python",
   "pygments_lexer": "ipython3",
<<<<<<< HEAD
   "version": "3.7.7"
=======
   "version": "3.7.3"
>>>>>>> cc002e983dc268c8c615bca48ee13a6f8503980c
  }
 },
 "nbformat": 4,
 "nbformat_minor": 1
}
