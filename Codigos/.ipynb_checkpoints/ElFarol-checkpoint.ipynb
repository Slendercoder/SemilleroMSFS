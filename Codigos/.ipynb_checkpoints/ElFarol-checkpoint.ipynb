{
 "cells": [
  {
   "cell_type": "markdown",
   "metadata": {
    "colab_type": "text",
    "id": "a28_AL_INm7I"
   },
   "source": [
    "Simulación modelo El Farol"
   ]
  },
  {
   "cell_type": "markdown",
   "metadata": {
    "colab_type": "text",
    "id": "uatLw0I7SEBi"
   },
   "source": [
    "Nicolás"
   ]
  },
  {
   "cell_type": "code",
   "execution_count": 0,
   "metadata": {
    "colab": {},
    "colab_type": "code",
    "id": "gvuskJjuSFdx"
   },
   "outputs": [],
   "source": []
  },
  {
   "cell_type": "markdown",
   "metadata": {
    "colab_type": "text",
    "id": "8sMgHmhOSK1e"
   },
   "source": [
    "Miguel\n"
   ]
  },
  {
   "cell_type": "code",
   "execution_count": 0,
   "metadata": {
    "colab": {},
    "colab_type": "code",
    "id": "QYJkdXhMSLho"
   },
   "outputs": [],
   "source": []
  },
  {
   "cell_type": "markdown",
   "metadata": {
    "colab_type": "text",
    "id": "-2BYosouSOm0"
   },
   "source": [
    "Juan Luis"
   ]
  },
  {
   "cell_type": "code",
   "execution_count": 0,
   "metadata": {
    "colab": {},
    "colab_type": "code",
    "id": "PgD_yUPrSPh3"
   },
   "outputs": [],
   "source": []
  },
  {
   "cell_type": "markdown",
   "metadata": {
    "colab_type": "text",
    "id": "LNnwXGmbSRSG"
   },
   "source": [
    "Las políticas representan la toma de decisiones de los agentes de la ronda n a la ronda n+1. En este caso, una decisión consiste en qué estrategia seguir en la ronda n+1. Para ello, cada agente consulta tanto la estrategia de la ronda n, como la recompensa obtenida.\n",
    "\n",
    "En nuestro modelo, sólo hay tres posibles combinaciones de estrategias y recompensas, a saber:\n",
    "\n",
    "Combinación 1: (no ir a El Farol, recompensa 0) \n",
    "Combinación 2: (ir a El Farol, recompensa 1) \n",
    "Combinación 3: (ir a El Farol, recompensa -1)\n",
    "\n",
    "Para cada combinación, hay dos posibles estrategias: ir o no ir. De esta manera, tenemos ocho posibles políticas, las cuales se crean mediante la siguiente función.\n"
   ]
  },
  {
   "cell_type": "code",
   "execution_count": 0,
   "metadata": {
    "colab": {},
    "colab_type": "code",
    "id": "EKld6PCvSRpF"
   },
   "outputs": [],
   "source": [
    "def crear_politicas():\n",
    "    politicas = [\n",
    "    {(0,0): 0, (1,1): 0, (1, -1): 0},\n",
    "    {(0,0): 0, (1,1): 0, (1, -1): 1},\n",
    "    {(0,0): 0, (1,1): 1, (1, -1): 0},\n",
    "    {(0,0): 0, (1,1): 1, (1, -1): 1},\n",
    "    {(0,0): 1, (1,1): 0, (1, -1): 0},\n",
    "    {(0,0): 1, (1,1): 0, (1, -1): 1},\n",
    "    {(0,0): 1, (1,1): 1, (1, -1): 0},\n",
    "    {(0,0): 1, (1,1): 1, (1, -1): 1},\n",
    "    ]\n",
    "    return politicas\n"
   ]
  }
 ],
 "metadata": {
  "colab": {
   "collapsed_sections": [],
   "name": "ElFarol.ipynb",
   "provenance": []
  },
  "kernelspec": {
   "display_name": "Python 3",
   "language": "python",
   "name": "python3"
  },
  "language_info": {
   "codemirror_mode": {
    "name": "ipython",
    "version": 3
   },
   "file_extension": ".py",
   "mimetype": "text/x-python",
   "name": "python",
   "nbconvert_exporter": "python",
   "pygments_lexer": "ipython3",
   "version": "3.7.7"
  }
 },
 "nbformat": 4,
 "nbformat_minor": 1
}
