{
 "cells": [
  {
   "cell_type": "code",
   "execution_count": 1,
   "metadata": {},
   "outputs": [],
   "source": [
    "import pandas as pd\n",
    "import random as rd\n",
    "import numpy as np\n",
    "import matplotlib.pyplot as plt\n",
    "import redes1\n",
    "import ElFarolFunciones as F\n",
    "import seaborn as sns"
   ]
  },
  {
   "cell_type": "markdown",
   "metadata": {},
   "source": [
    "### 100 simulaciones, 100 iteraciones, 100 individuos\n",
    "Red Anillo, umbral  $\\mu=\\frac{1}{2}$"
   ]
  },
  {
   "cell_type": "code",
   "execution_count": 2,
   "metadata": {},
   "outputs": [
    {
     "name": "stdout",
     "output_type": "stream",
     "text": [
      "yes\n"
     ]
    }
   ],
   "source": [
    "Num_agentes = 100\n",
    "Num_iteraciones = 100\n",
    "PARS = [Num_agentes, 1]\n",
    "redes1.create_graph(Num_agentes, 'CloseRing', 0, True)\n",
    "identificador = 0\n",
    "UMBRAL = 0.5\n",
    "inicial = True\n",
    "No_exper = 100\n",
    "F.simulacion(Num_agentes,Num_iteraciones,UMBRAL,inicial,identificador,PARS)\n",
    "inicial = False\n",
    "for N in range(No_exper - 1):\n",
    "    identificador += 1\n",
    "    F.simulacion(Num_agentes,Num_iteraciones,UMBRAL,inicial,identificador,PARS)#Num_agentes = 100"
   ]
  },
  {
   "cell_type": "code",
   "execution_count": null,
   "metadata": {},
   "outputs": [],
   "source": [
    "data = pd.read_csv('agentes_anillo.csv')\n",
    "data = data[data['Identificador'] != 'Identificador']\n",
    "data['Identificador'] = data['Identificador'].astype(int)\n",
    "data['Estado'] = data['Estado'].astype(int)\n",
    "data['Ronda'] = data['Ronda'].astype(int)\n",
    "data['Agente'] = data['Agente'].astype(int)\n",
    "data['Politica'] = data['Politica'].astype(int)\n",
    "data['Puntaje'] = data['Puntaje'].astype(int)\n",
    "#data['Estado'].unique()\n",
    "df = pd.DataFrame(data.groupby(['Identificador','Ronda'])['Estado'].mean()).reset_index()\n",
    "df.columns = ['Identificador','Ronda','Asistencia']\n",
    "df['Asistencia'] = df['Asistencia'] * 100\n",
    "df.head()"
   ]
  },
  {
   "cell_type": "code",
   "execution_count": null,
   "metadata": {},
   "outputs": [],
   "source": [
    "fig,ax = plt.subplots(figsize=(12,8))\n",
    "ax = sns.boxplot(x='Ronda',y='Asistencia',data=df)\n",
    "plt.ylabel('Asistencia (%)')\n",
    "plt.ylim(0,100)\n",
    "plt.title('Asistencia a El Farol por ronda')"
   ]
  },
  {
   "cell_type": "code",
   "execution_count": null,
   "metadata": {},
   "outputs": [],
   "source": [
    "identificadores = list(df['Identificador'].unique())[50:54]\n",
    "df2 = df[df['Identificador'].isin(identificadores)]\n",
    "g = sns.FacetGrid(df2,col='Identificador')\n",
    "g.map(plt.plot,'Ronda','Asistencia')"
   ]
  },
  {
   "cell_type": "code",
   "execution_count": null,
   "metadata": {},
   "outputs": [],
   "source": [
    "df = pd.DataFrame(data.groupby(['Ronda','Politica'])['Agente'].count()).reset_index()\n",
    "df.columns = ['Ronda', 'Politica', 'num_agentes']\n",
    "uso_politica = pd.pivot_table(\n",
    "    data=df,\n",
    "    index='Ronda',\n",
    "    values='num_agentes',\n",
    "    columns='Politica',\n",
    "    aggfunc='sum'\n",
    ").reset_index()\n",
    "uso_politica = uso_politica.sort_values(by='Ronda',ascending=False)\n",
    "uso_politica = uso_politica.set_index('Ronda')\n",
    "uso_politica.head()"
   ]
  },
  {
   "cell_type": "code",
   "execution_count": null,
   "metadata": {},
   "outputs": [],
   "source": [
    "ax = sns.heatmap(uso_politica)"
   ]
  },
  {
   "cell_type": "code",
   "execution_count": 5,
   "metadata": {},
   "outputs": [
    {
     "name": "stderr",
     "output_type": "stream",
     "text": [
      "/usr/local/lib/python3.7/site-packages/IPython/core/interactiveshell.py:3063: DtypeWarning: Columns (0,1,2,3,4,5,6,7,8,9) have mixed types.Specify dtype option on import or set low_memory=False.\n",
      "  interactivity=interactivity, compiler=compiler, result=result)\n"
     ]
    },
    {
     "data": {
      "text/html": [
       "<div>\n",
       "<style scoped>\n",
       "    .dataframe tbody tr th:only-of-type {\n",
       "        vertical-align: middle;\n",
       "    }\n",
       "\n",
       "    .dataframe tbody tr th {\n",
       "        vertical-align: top;\n",
       "    }\n",
       "\n",
       "    .dataframe thead th {\n",
       "        text-align: right;\n",
       "    }\n",
       "</style>\n",
       "<table border=\"1\" class=\"dataframe\">\n",
       "  <thead>\n",
       "    <tr style=\"text-align: right;\">\n",
       "      <th></th>\n",
       "      <th>Identificador</th>\n",
       "      <th>Ronda</th>\n",
       "      <th>Asistencia</th>\n",
       "      <th>Solucion</th>\n",
       "    </tr>\n",
       "  </thead>\n",
       "  <tbody>\n",
       "    <tr>\n",
       "      <th>0</th>\n",
       "      <td>0</td>\n",
       "      <td>0</td>\n",
       "      <td>0.432692</td>\n",
       "      <td>0.932692</td>\n",
       "    </tr>\n",
       "    <tr>\n",
       "      <th>1</th>\n",
       "      <td>0</td>\n",
       "      <td>1</td>\n",
       "      <td>0.500000</td>\n",
       "      <td>1.000000</td>\n",
       "    </tr>\n",
       "    <tr>\n",
       "      <th>2</th>\n",
       "      <td>0</td>\n",
       "      <td>2</td>\n",
       "      <td>0.711538</td>\n",
       "      <td>0.788462</td>\n",
       "    </tr>\n",
       "    <tr>\n",
       "      <th>3</th>\n",
       "      <td>0</td>\n",
       "      <td>3</td>\n",
       "      <td>0.500000</td>\n",
       "      <td>1.000000</td>\n",
       "    </tr>\n",
       "    <tr>\n",
       "      <th>4</th>\n",
       "      <td>0</td>\n",
       "      <td>4</td>\n",
       "      <td>0.442308</td>\n",
       "      <td>0.942308</td>\n",
       "    </tr>\n",
       "  </tbody>\n",
       "</table>\n",
       "</div>"
      ],
      "text/plain": [
       "   Identificador  Ronda  Asistencia  Solucion\n",
       "0              0      0    0.432692  0.932692\n",
       "1              0      1    0.500000  1.000000\n",
       "2              0      2    0.711538  0.788462\n",
       "3              0      3    0.500000  1.000000\n",
       "4              0      4    0.442308  0.942308"
      ]
     },
     "execution_count": 5,
     "metadata": {},
     "output_type": "execute_result"
    }
   ],
   "source": [
    "data = pd.read_csv('agentes_anillo.csv')\n",
    "data = data[data['Identificador'] != 'Identificador']\n",
    "data['Identificador'] = data['Identificador'].astype(int)\n",
    "data['Estado'] = data['Estado'].astype(int)\n",
    "data['Ronda'] = data['Ronda'].astype(int)\n",
    "data['Agente'] = data['Agente'].astype(int)\n",
    "data['Politica'] = data['Politica'].astype(int)\n",
    "data['Puntaje'] = data['Puntaje'].astype(int)\n",
    "\n",
    "df = pd.DataFrame(data.groupby(['Identificador','Ronda'])['Estado'].mean()).reset_index()\n",
    "df.columns = ['Identificador','Ronda','Asistencia']\n",
    "df['Solucion'] = 1 - np.abs(df['Asistencia']-0.5) \n",
    "\n",
    "df.head()"
   ]
  },
  {
   "cell_type": "code",
   "execution_count": 6,
   "metadata": {},
   "outputs": [
    {
     "data": {
      "text/plain": [
       "0.9655914615384615"
      ]
     },
     "execution_count": 6,
     "metadata": {},
     "output_type": "execute_result"
    }
   ],
   "source": [
    "indice = df['Solucion'].sum() / (Num_iteraciones*No_exper)\n",
    "indice"
   ]
  },
  {
   "cell_type": "code",
   "execution_count": null,
   "metadata": {},
   "outputs": [],
   "source": []
  }
 ],
 "metadata": {
  "kernelspec": {
   "display_name": "Python 3",
   "language": "python",
   "name": "python3"
  },
  "language_info": {
   "codemirror_mode": {
    "name": "ipython",
    "version": 3
   },
   "file_extension": ".py",
   "mimetype": "text/x-python",
   "name": "python",
   "nbconvert_exporter": "python",
   "pygments_lexer": "ipython3",
   "version": "3.7.7"
  }
 },
 "nbformat": 4,
 "nbformat_minor": 2
}
